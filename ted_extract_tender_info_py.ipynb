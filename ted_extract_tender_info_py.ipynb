{
  "cells": [
    {
      "cell_type": "code",
      "source": [
        "!pip install beautifulsoup4 deep-translator tqdm pandas"
      ],
      "metadata": {
        "id": "PayuQAR0QD08"
      },
      "execution_count": null,
      "outputs": []
    },
    {
      "cell_type": "code",
      "source": [
        "import time\n",
        "import os\n",
        "import re\n",
        "import logging\n",
        "from pathlib import Path\n",
        "\n",
        "from selenium import webdriver\n",
        "from selenium.webdriver.common.by import By\n",
        "from selenium.webdriver.chrome.options import Options\n",
        "from selenium.webdriver.chrome.service import Service\n",
        "from selenium.webdriver.support.ui import WebDriverWait\n",
        "from selenium.webdriver.support import expected_conditions as EC\n",
        "from selenium.common.exceptions import TimeoutException, NoSuchElementException\n",
        "\n",
        "# --- Configuration ---\n",
        "\n",
        "# !IMPORTANT! Set this to the path of your chromedriver.exe\n",
        "# e.g., \"chromedriver.exe\" if it's in the same folder\n",
        "CHROME_DRIVER_PATH = None\n",
        "\n",
        "# The search results page you provided\n",
        "START_URL = \"https://ted.europa.eu/en/search/result?FT=adalimumab&notice-type=can-standard%2Ccan-social%2Ccan-desg%2Ccan-tran&search-scope=ALL\"\n",
        "\n",
        "# Folder where all the HTML detail pages will be saved\n",
        "OUTPUT_DIR = \"ted_html_pages\"\n",
        "\n",
        "# Safety limit for pagination (961 results / 50 per page ≈ 20 pages)\n",
        "MAX_PAGES_TO_SCRAPE = 30\n",
        "HEADLESS = True # Set to False to watch the browser work\n",
        "PAGE_LOAD_TIMEOUT = 20 # seconds\n",
        "DOWNLOAD_DELAY = 1.0 # seconds to pause between downloads\n",
        "\n",
        "# Setup logging\n",
        "logging.basicConfig(level=logging.INFO, format=\"%(asctime)s [%(levelname)s] %(message)s\")\n",
        "logger = logging.getLogger(__name__)\n",
        "\n",
        "# --- Selenium Driver Helper ---\n",
        "\n",
        "def make_driver(headless=HEADLESS):\n",
        "    \"\"\"\n",
        "    Create Chrome webdriver with Selenium 4 syntax.\n",
        "    \"\"\"\n",
        "    opts = Options()\n",
        "    if headless:\n",
        "        opts.add_argument(\"--headless=new\")\n",
        "    opts.add_argument(\"--window-size=1600,900\")\n",
        "    opts.add_argument(\"--disable-gpu\")\n",
        "    opts.add_argument(\"--log-level=3\") # Suppress console noise\n",
        "\n",
        "    try:\n",
        "        if CHROME_DRIVER_PATH:\n",
        "            service = Service(executable_path=CHROME_DRIVER_PATH)\n",
        "            driver = webdriver.Chrome(service=service, options=opts)\n",
        "        else:\n",
        "            logger.warning(\"CHROME_DRIVER_PATH is not set. Trying automatic driver.\")\n",
        "            driver = webdriver.Chrome(options=opts)\n",
        "    except Exception as e:\n",
        "        logger.error(f\"Failed to initialize WebDriver: {e}\")\n",
        "        logger.error(\"Please ensure 'CHROME_DRIVER_PATH' is set correctly.\")\n",
        "        logger.error(\"And your 'chromedriver.exe' version matches your Chrome browser version.\")\n",
        "        return None\n",
        "\n",
        "    driver.implicitly_wait(5)\n",
        "    return driver\n",
        "\n",
        "# --- File Saving Helper ---\n",
        "\n",
        "def save_html_content(content: str, filepath: Path):\n",
        "    \"\"\"Saves string content to a file.\"\"\"\n",
        "    try:\n",
        "        with open(filepath, \"w\", encoding=\"utf-8\") as f:\n",
        "            f.write(content)\n",
        "        logger.info(f\"Saved HTML: {filepath.name}\")\n",
        "    except Exception as e:\n",
        "        logger.error(f\"Failed to save file {filepath.name}: {e}\")\n",
        "\n",
        "# --- Main Scraper Function ---\n",
        "\n",
        "def scrape_ted_website():\n",
        "    \"\"\"\n",
        "    Main function to scrape the TED website.\n",
        "    - Handles cookie banner\n",
        "    - Paginates through results\n",
        "    - Opens each detail link in a new tab\n",
        "    - Saves the HTML of the detail page\n",
        "    \"\"\"\n",
        "\n",
        "    # 1. Initialize Driver and Output Dir\n",
        "    driver = make_driver(headless=HEADLESS)\n",
        "    if not driver:\n",
        "        return\n",
        "\n",
        "    wait = WebDriverWait(driver, PAGE_LOAD_TIMEOUT)\n",
        "    output_path = Path(OUTPUT_DIR)\n",
        "    output_path.mkdir(exist_ok=True)\n",
        "\n",
        "    logger.info(f\"WebDriver initialized. Output folder: {OUTPUT_DIR}\")\n",
        "\n",
        "    # 2. Go to Start URL and Handle Cookie Banner\n",
        "    try:\n",
        "        driver.get(START_URL)\n",
        "        # Wait for the cookie banner and accept\n",
        "        cookie_button = wait.until(\n",
        "            EC.element_to_be_clickable((By.XPATH, \"//button[contains(., 'Accept all')]\"))\n",
        "        )\n",
        "        cookie_button.click()\n",
        "        logger.info(\"Cookie banner accepted.\")\n",
        "    except TimeoutException:\n",
        "        logger.warning(\"Cookie banner not found or timed out. Continuing...\")\n",
        "    except Exception as e:\n",
        "        logger.error(f\"Error loading start page or handling cookies: {e}\")\n",
        "        driver.quit()\n",
        "        return\n",
        "\n",
        "    # 3. Pagination and Scraping Loop\n",
        "    page_count = 1\n",
        "    all_notice_ids = set()\n",
        "\n",
        "    while page_count <= MAX_PAGES_TO_SCRAPE:\n",
        "        logger.info(f\"--- Processing Results Page {page_count} ---\")\n",
        "\n",
        "        try:\n",
        "            # Wait for the result links to be present\n",
        "            wait.until(\n",
        "                EC.presence_of_element_located((By.CSS_SELECTOR, \"a[href*='/notice/-/detail/']\"))\n",
        "            )\n",
        "            time.sleep(1.0) # Give JS a moment to settle\n",
        "\n",
        "            # Find all unique detail links on the current page\n",
        "            links_on_page = driver.find_elements(By.CSS_SELECTOR, \"a[href*='/notice/-/detail/']\")\n",
        "            hrefs = list(set([link.get_attribute(\"href\") for link in links_on_page if link.get_attribute(\"href\")]))\n",
        "\n",
        "            if not hrefs:\n",
        "                logger.warning(\"No detail links found on this page. Waiting...\")\n",
        "                time.sleep(5) # Wait longer, maybe page is slow\n",
        "                links_on_page = driver.find_elements(By.CSS_SELECTOR, \"a[href*='/notice/-/detail/']\")\n",
        "                hrefs = list(set([link.get_attribute(\"href\") for link in links_on_page if link.get_attribute(\"href\")]))\n",
        "                if not hrefs:\n",
        "                    logger.error(\"Still no links found. Breaking loop.\")\n",
        "                    break\n",
        "\n",
        "            logger.info(f\"Found {len(hrefs)} unique detail links on page {page_count}.\")\n",
        "\n",
        "            # 4. Loop through links and download HTML\n",
        "            for href in hrefs:\n",
        "                try:\n",
        "                    # Extract notice ID for filename, e.g., \"707393-2025\"\n",
        "                    match = re.search(r'/detail/([^/]+)', href)\n",
        "                    if not match:\n",
        "                        logger.warning(f\"Could not parse notice ID from link: {href}\")\n",
        "                        continue\n",
        "\n",
        "                    notice_id = match.group(1)\n",
        "\n",
        "                    # Check if file already exists on disk (from previous runs)\n",
        "                    filename = f\"{notice_id}.html\"\n",
        "                    filepath = output_path / filename\n",
        "                    if filepath.exists():\n",
        "                        logger.info(f\"File exists, skipping: {filename}\")\n",
        "                        all_notice_ids.add(notice_id) # Add to set to track for this run\n",
        "                        continue\n",
        "\n",
        "                    # Check if we've already seen this ID in *this* run (e.g., duplicate link on same page)\n",
        "                    if notice_id in all_notice_ids:\n",
        "                        logger.info(f\"Already processed {notice_id} in this session, skipping.\")\n",
        "                        continue\n",
        "\n",
        "                    # Open link in a new tab\n",
        "                    driver.execute_script(\"window.open(arguments[0], '_blank');\", href)\n",
        "                    driver.switch_to.window(driver.window_handles[1])\n",
        "\n",
        "                    # Wait for a key element on the detail page to load\n",
        "                    wait.until(EC.presence_of_element_located((By.ID, \"notice\")))\n",
        "\n",
        "                    # Get page source and save\n",
        "                    html_content = driver.page_source\n",
        "                    save_html_content(html_content, filepath)\n",
        "                    all_notice_ids.add(notice_id) # Add to set after successful save\n",
        "\n",
        "                    time.sleep(DOWNLOAD_DELAY) # Be polite\n",
        "\n",
        "                    # Close the new tab and switch back\n",
        "                    driver.close()\n",
        "                    driver.switch_to.window(driver.window_handles[0])\n",
        "\n",
        "                except Exception as e:\n",
        "                    logger.error(f\"Error processing detail page {href}: {e}\")\n",
        "                    # If something went wrong, close the extra tab if it's still open\n",
        "                    if len(driver.window_handles) > 1:\n",
        "                        driver.close()\n",
        "                        driver.switch_to.window(driver.window_handles[0])\n",
        "                    continue\n",
        "\n",
        "            # 5. Find and click the \"Next\" button\n",
        "            logger.info(\"Looking for 'Next Page' button...\")\n",
        "            # Updated selector based on user-provided HTML for the <button> element\n",
        "            next_button_selector = (By.CSS_SELECTOR, \"button[aria-label='Go to the next page']\")\n",
        "            next_button = wait.until(\n",
        "                EC.element_to_be_clickable(next_button_selector)\n",
        "            )\n",
        "\n",
        "            # Check if the button is disabled (it will have a 'disabled' attribute)\n",
        "            if next_button.get_attribute(\"disabled\") is not None:\n",
        "                logger.info(\"Next button is disabled. Reached the last page.\")\n",
        "                break\n",
        "\n",
        "            # --- FIX for ElementClickInterceptedException ---\n",
        "            # Scroll to the element and use JavaScript click to avoid interception\n",
        "            try:\n",
        "                driver.execute_script(\"arguments[0].scrollIntoView(true);\", next_button)\n",
        "                time.sleep(0.5) # Wait for scroll\n",
        "                driver.execute_script(\"arguments[0].click();\", next_button)\n",
        "                logger.info(\"Clicked 'Next Page' using JavaScript.\")\n",
        "            except Exception as click_err:\n",
        "                logger.error(f\"Failed to click 'Next Page' button even with JS: {click_err}\")\n",
        "                break\n",
        "            # --- END FIX ---\n",
        "\n",
        "            page_count += 1\n",
        "            time.sleep(2.0) # Wait for page transition\n",
        "\n",
        "        except (TimeoutException, NoSuchElementException):\n",
        "            logger.info(\"No 'Next Page' button found or timed out. Assuming end of results.\")\n",
        "            break\n",
        "        except Exception as e:\n",
        "            logger.error(f\"An unexpected error occurred on page {page_count}: {e}\")\n",
        "            break\n",
        "\n",
        "    # 6. Clean up\n",
        "    driver.quit()\n",
        "    logger.info(f\"Scraping complete. Total pages: {page_count-1}. Total unique notices: {len(all_notice_ids)}.\")\n",
        "\n",
        "if __name__ == \"__main__\":\n",
        "    scrape_ted_website()\n",
        "\n"
      ],
      "metadata": {
        "id": "AD7p3q5UQJ6z"
      },
      "execution_count": null,
      "outputs": []
    },
    {
      "cell_type": "code",
      "source": [
        "import csv\n",
        "import os\n",
        "from bs4 import BeautifulSoup\n",
        "try:\n",
        "    from deep_translator import GoogleTranslator\n",
        "except ImportError:\n",
        "    print(\"Error: 'deep_translator' library not found.\")\n",
        "    print(\"Please install it by running: pip install deep-translator\")\n",
        "    exit()\n",
        "\n",
        "try:\n",
        "    from tqdm import tqdm\n",
        "except ImportError:\n",
        "    print(\"Error: 'tqdm' library not found.\")\n",
        "    print(\"Please install it by running: pip install tqdm\")\n",
        "    print(\"Progress bar will not be shown.\")\n",
        "    # Create a dummy tqdm function if not installed\n",
        "    def tqdm(iterable, *args, **kwargs):\n",
        "        return iterable\n",
        "    # Create a dummy write function\n",
        "    tqdm.write = print\n",
        "\n",
        "def is_numeric_or_empty(text):\n",
        "    \"\"\"Checks if text is purely numeric, currency, or empty.\"\"\"\n",
        "    if not text:\n",
        "        return True\n",
        "    return all(c in '0123456789 ,.' for c in text.strip())\n",
        "\n",
        "def extract_key_value_from_div_no_translate(div):\n",
        "    \"\"\"\n",
        "    Extracts original key and value from a single div without translating.\n",
        "    Returns (key_original, value_original) or (None, None)\n",
        "    \"\"\"\n",
        "    key_span = div.find('span', class_='label')\n",
        "    key_orig = ''\n",
        "    val_orig = ''\n",
        "\n",
        "    # PATTERN 1: Standard key-value (span.label)\n",
        "    if key_span and key_span.parent == div:\n",
        "        key_orig = key_span.get_text(strip=True)\n",
        "\n",
        "        # PATTERN 1a: Value in 'data' span\n",
        "        data_spans = div.find_all('span', class_='data')\n",
        "        if data_spans:\n",
        "            val_orig = ' '.join(s.get_text(strip=True) for s in data_spans)\n",
        "            return key_orig, val_orig\n",
        "\n",
        "        # PATTERN 1b: Value in another 'label' span\n",
        "        all_label_spans = div.find_all('span', class_='label')\n",
        "        if len(all_label_spans) == 2:\n",
        "            val_orig = all_label_spans[1].get_text(strip=True)\n",
        "            return key_orig, val_orig\n",
        "\n",
        "        # PATTERN 1c: Value in 'line' span\n",
        "        line_span = div.find('span', class_='line')\n",
        "        if line_span:\n",
        "            val_orig = line_span.get_text(strip=True)\n",
        "            return key_orig, val_orig\n",
        "\n",
        "        return key_orig, \"\" # Key with no value\n",
        "\n",
        "    # PATTERN 2: Simple bold span (like \"Winner:\") or \"Tender:\"\n",
        "    # *** BUG FIX ***: Added 'and not data_span' to prevent this from\n",
        "    # capturing key-value pairs that PATTERN 3 should handle.\n",
        "    bold_span = div.find('span', class_='bold')\n",
        "    data_span = div.find('span', class_='data') # Check for data span\n",
        "    if bold_span and bold_span.parent == div and not key_span and not data_span: # and no label span AND NO DATA SPAN\n",
        "        # Check if there are other spans (like the \":&nbsp;\")\n",
        "        all_spans = div.find_all('span')\n",
        "        key_orig = ' '.join(s.get_text(strip=True) for s in all_spans)\n",
        "        return key_orig.strip(), \"\" # Return the combined text as key, no value\n",
        "\n",
        "    # PATTERN 3: Top-level section key-value (e.g., 6.1. Result lot identifier)\n",
        "    if 'sublevel__content' in div.get('class', []):\n",
        "        key_span = div.find('span', class_='bold')\n",
        "        data_span = div.find('span', class_='data')\n",
        "        if key_span and data_span:\n",
        "            key_orig = key_span.get_text(strip=True)\n",
        "            val_orig = data_span.get_text(strip=True)\n",
        "            return key_orig, val_orig\n",
        "\n",
        "    return None, None\n",
        "\n",
        "def extract_all_data_from_section(section_soup):\n",
        "    \"\"\"\n",
        "    Scans one 'section-content' block and extracts all key-value pairs.\n",
        "    Returns:\n",
        "        - list_of_key_values: [('key_orig', 'val_orig'), ...]\n",
        "        - set_of_texts: {'text_to_translate', ...}\n",
        "    \"\"\"\n",
        "    structured_data = [] # To store tuples: [('key_orig', 'val_orig'), ...]\n",
        "    texts_to_translate = set() # Use a set for unique strings\n",
        "\n",
        "    main_num_span = section_soup.find('div', class_='sublevel__number', recursive=False)\n",
        "    main_num = main_num_span.get_text(strip=True) if main_num_span else ''\n",
        "    main_title = \"Main Section\" # Default title\n",
        "\n",
        "    structured_data.append(('Section Number', main_num))\n",
        "    texts_to_translate.add('Section Number')\n",
        "\n",
        "    # Process top-level divs\n",
        "    top_level_divs = section_soup.find_all('div', recursive=False)\n",
        "    for div in top_level_divs:\n",
        "        key_orig, val_orig = extract_key_value_from_div_no_translate(div)\n",
        "        if key_orig is not None:\n",
        "            if 'sublevel__content' in div.get('class', []):\n",
        "                main_title = key_orig # Update title\n",
        "            structured_data.append((key_orig, val_orig))\n",
        "            if not is_numeric_or_empty(key_orig): texts_to_translate.add(key_orig)\n",
        "            if not is_numeric_or_empty(val_orig): texts_to_translate.add(val_orig)\n",
        "\n",
        "    structured_data.append(('Section Title', main_title))\n",
        "    texts_to_translate.add('Section Title')\n",
        "\n",
        "\n",
        "    # Process subsections\n",
        "    subsections = section_soup.find_all('div', class_='subsection-content')\n",
        "    for sub in subsections:\n",
        "        sub_num = sub.find('div', class_='sublevel__number').get_text(strip=True)\n",
        "        sub_title_orig = sub.find('div', class_='sublevel__content').get_text(strip=True)\n",
        "\n",
        "        structured_data.append((f\"{sub_num} Title\", sub_title_orig))\n",
        "        texts_to_translate.add(f\"{sub_num} Title\")\n",
        "        if not is_numeric_or_empty(sub_title_orig): texts_to_translate.add(sub_title_orig)\n",
        "\n",
        "        # --- MODIFIED LOGIC: Iterate direct children for spans OR divs ---\n",
        "        processed_children = set() # Keep track of divs processed by PATTERN B\n",
        "\n",
        "        all_children = sub.find_all(recursive=False)\n",
        "        for child in all_children:\n",
        "\n",
        "            if child in processed_children or child.name is None:\n",
        "                continue # Skip if already processed or not a tag\n",
        "\n",
        "            key_orig, val_orig = None, None\n",
        "\n",
        "            # Check for sublevel-section\n",
        "            if 'sublevel-section' in child.get('class', []):\n",
        "                # This div contains multiple items. Iterate its children.\n",
        "                sub_children = child.find_all(recursive=False)\n",
        "\n",
        "                for sub_child in sub_children:\n",
        "                    if sub_child.name is None: continue\n",
        "\n",
        "                    key_orig, val_orig = None, None # Reset\n",
        "\n",
        "                    # It might have a bold span first, which is a sub-sub-title\n",
        "                    if sub_child.name == 'span' and 'bold' in sub_child.get('class', []):\n",
        "                        key_orig = sub_child.get_text(strip=True) # Store the title\n",
        "                        val_orig = \"\" # This is a title, no value\n",
        "\n",
        "                    # It will contain divs with key-value pairs\n",
        "                    elif sub_child.name == 'div':\n",
        "                        key_orig, val_orig = extract_key_value_from_div_no_translate(sub_child)\n",
        "\n",
        "                    if key_orig is not None:\n",
        "                        structured_data.append((key_orig, val_orig))\n",
        "                        if not is_numeric_or_empty(key_orig): texts_to_translate.add(key_orig)\n",
        "                        if not is_numeric_or_empty(val_orig): texts_to_translate.add(val_orig)\n",
        "\n",
        "                processed_children.add(child) # Mark this whole sublevel as processed\n",
        "\n",
        "            # PATTERN B: Loose spans (like \"Non-winning tenderers\")\n",
        "            elif (child.name == 'span' and 'bold' in child.get('class', [])):\n",
        "\n",
        "                # Find the next sibling that is a 'div'\n",
        "                next_div = None\n",
        "                current_sibling = child.next_sibling\n",
        "                while current_sibling:\n",
        "                    if current_sibling.name == 'div':\n",
        "                        next_div = current_sibling\n",
        "                        break\n",
        "                    current_sibling = current_sibling.next_sibling\n",
        "\n",
        "                if next_div:\n",
        "                    key_orig = child.get_text(strip=True)\n",
        "                    # Find the value in the next div\n",
        "                    val_key, val_val = extract_key_value_from_div_no_translate(next_div)\n",
        "                    if val_key:\n",
        "                        val_orig = f\"{val_key}: {val_val}\"\n",
        "                    else:\n",
        "                        val_orig = next_div.get_text(strip=True)\n",
        "\n",
        "                    # Mark this div as processed so PATTERN A doesn't get it\n",
        "                    processed_children.add(next_div)\n",
        "\n",
        "            # PATTERN A: Standard div containers (checks for divs)\n",
        "            elif child.name == 'div':\n",
        "                key_orig, val_orig = extract_key_value_from_div_no_translate(child)\n",
        "\n",
        "            # If a key was found, add it\n",
        "            if key_orig is not None:\n",
        "                structured_data.append((key_orig, val_orig))\n",
        "                if not is_numeric_or_empty(key_orig): texts_to_translate.add(key_orig)\n",
        "                if not is_numeric_or_empty(val_orig): texts_to_translate.add(val_orig)\n",
        "\n",
        "    return structured_data, texts_to_translate\n",
        "\n",
        "\n",
        "# --- Main Execution ---\n",
        "\n",
        "# Initialize the translator\n",
        "try:\n",
        "    translator = GoogleTranslator(source='auto', target='en')\n",
        "except Exception as e:\n",
        "    print(f\"Failed to initialize translator: {e}\")\n",
        "    print(\"Proceeding without translation.\")\n",
        "    translator = None\n",
        "\n",
        "# --- Main logic ---\n",
        "\n",
        "# --- Configuration ---\n",
        "# Set the path to your HTML folder here\n",
        "# Use '.' for the current directory\n",
        "HTML_FOLDER_PATH = '/content/med_webscraper/ted_html_pages'\n",
        "# --- End Configuration ---\n",
        "\n",
        "all_headers = set(['file_name'])\n",
        "all_section_data = [] # List of dictionaries, one per *section*\n",
        "\n",
        "# Get folder path\n",
        "folder_path = HTML_FOLDER_PATH # Use the variable\n",
        "\n",
        "print(f\"Scanning folder: {folder_path} ...\")\n",
        "all_html_files = []\n",
        "for root, dirs, files in os.walk(folder_path):\n",
        "    for file in files:\n",
        "        if file.endswith('.html'):\n",
        "            all_html_files.append(os.path.join(root, file))\n",
        "\n",
        "file_count = len(all_html_files)\n",
        "relevant_section_count = 0\n",
        "\n",
        "if file_count == 0:\n",
        "    print(\"No HTML files found in that directory.\")\n",
        "    exit()\n",
        "\n",
        "print(f\"Found {file_count} HTML files. Starting processing...\")\n",
        "\n",
        "for file_path in tqdm(all_html_files, desc=\"Processing files\", unit=\"file\"):\n",
        "    file_name = os.path.basename(file_path)\n",
        "    # Use tqdm.write for logging inside the loop to avoid breaking the bar\n",
        "    tqdm.write(f\"\\nProcessing file: {file_path}\")\n",
        "\n",
        "    try:\n",
        "        with open(file_path, 'r', encoding='utf-8') as f:\n",
        "            html_doc = f.read()\n",
        "    except Exception as e:\n",
        "        tqdm.write(f\"  Error reading file: {e}\")\n",
        "        continue\n",
        "\n",
        "    soup = BeautifulSoup(html_doc, 'html.parser')\n",
        "\n",
        "    main_sections = soup.find_all('div', class_='section-content')\n",
        "    keyword_found_in_file = False\n",
        "\n",
        "    for section in main_sections:\n",
        "        # Check for keyword in the entire block text\n",
        "        section_text = section.get_text()\n",
        "        if \"adalimumab\" in section_text.lower() or section.find('mark', class_='highlight'):\n",
        "\n",
        "            tqdm.write(\"  Keyword found in section. Extracting data...\")\n",
        "            keyword_found_in_file = True\n",
        "            relevant_section_count += 1\n",
        "\n",
        "            section_kvs, section_texts = extract_all_data_from_section(section)\n",
        "\n",
        "            # --- Batch Translate for this section ---\n",
        "            translation_map = {}\n",
        "            if not translator or not section_texts:\n",
        "                tqdm.write(\"    No translator or no text to translate. Using original text.\")\n",
        "            else:\n",
        "                tqdm.write(f\"    Making batch translation request for {len(section_texts)} unique strings...\")\n",
        "                try:\n",
        "                    text_list = list(section_texts)\n",
        "                    translated_list = translator.translate_batch(text_list)\n",
        "                    translation_map = dict(zip(text_list, translated_list))\n",
        "                    tqdm.write(\"    Translation complete.\")\n",
        "                except Exception as e:\n",
        "                    tqdm.write(f\"    Warning: Batch translation failed. Using original text. Error: {e}\")\n",
        "\n",
        "            # --- Build the dictionary for this SECTION ---\n",
        "            section_data_dict = {'file_name': file_name}\n",
        "            for key_orig, val_orig in section_kvs:\n",
        "                key_en = translation_map.get(key_orig, key_orig)\n",
        "                val_en = translation_map.get(val_orig, val_orig)\n",
        "\n",
        "                # --- FIX: Check if the translated key is None or empty ---\n",
        "                if not key_en: # This checks for both None and ''\n",
        "                    continue # Skip this key-value pair entirely\n",
        "\n",
        "                # --- NEW LOGIC: Append to list instead of overwriting ---\n",
        "                if key_en not in section_data_dict:\n",
        "                    # First time seeing this key, create a list\n",
        "                    section_data_dict[key_en] = [val_en]\n",
        "                else:\n",
        "                    # Key already exists, append the new value if it's not already there\n",
        "                    if val_en not in section_data_dict[key_en]:\n",
        "                        section_data_dict[key_en].append(val_en)\n",
        "\n",
        "                all_headers.add(key_en) # Add to global set of headers\n",
        "\n",
        "            all_section_data.append(section_data_dict)\n",
        "\n",
        "    if not keyword_found_in_file:\n",
        "        tqdm.write(\"  Keyword not found in any section. Skipping file.\")\n",
        "        continue\n",
        "\n",
        "# This check is now outside the loop\n",
        "if not all_section_data:\n",
        "    print(\"No files containing the keyword were found.\")\n",
        "    exit()\n",
        "\n",
        "# --- Write final CSV ---\n",
        "print(\"\\nAll files processed. Writing to 'tender_output.csv'...\")\n",
        "\n",
        "sorted_headers = sorted(list(all_headers - {'file_name'}))\n",
        "final_headers = ['file_name'] + sorted_headers\n",
        "\n",
        "try:\n",
        "    with open('tender_output.csv', 'w', newline='', encoding='utf-8') as f:\n",
        "        writer = csv.DictWriter(f, fieldnames=final_headers)\n",
        "        writer.writeheader()\n",
        "\n",
        "        for section_data in all_section_data:\n",
        "            # --- NEW: Process lists into strings for CSV ---\n",
        "            row_to_write = {}\n",
        "            for header_key in final_headers:\n",
        "                # Get the value for this header from the section's data\n",
        "                value = section_data.get(header_key)\n",
        "\n",
        "                if isinstance(value, list):\n",
        "                    # Join list items with a \" | \" separator\n",
        "                    row_to_write[header_key] = \" | \".join(str(v) for v in value)\n",
        "                elif value:\n",
        "                    # This will be file_name\n",
        "                    row_to_write[header_key] = value\n",
        "                else:\n",
        "                    # Key doesn't exist for this row, or value is None/empty\n",
        "                    row_to_write[header_key] = \"\"\n",
        "\n",
        "            writer.writerow(row_to_write)\n",
        "\n",
        "    print(f\"Extraction complete. Processed {file_count} files.\")\n",
        "    print(f\"Found {relevant_section_count} relevant sections and saved data to 'tender_output.csv'.\")\n",
        "\n",
        "except PermissionError:\n",
        "    print(\"\\nError: Permission denied. Could not write to 'tender_output.csv'.\")\n",
        "    print(\"Please make sure the file is not open in another program (like Excel) and you have write permissions.\")\n",
        "except Exception as e:\n",
        "    print(f\"\\nAn unexpected error occurred while writing the CSV: {e}\")"
      ],
      "outputs": [
        {
          "output_type": "stream",
          "name": "stdout",
          "text": [
            "Scanning folder: /content/med_webscraper/ted_html_pages ...\n",
            "Found 961 HTML files. Starting processing...\n"
          ]
        },
        {
          "output_type": "stream",
          "name": "stderr",
          "text": [
            "Processing files:   0%|          | 0/961 [00:00<?, ?file/s]"
          ]
        },
        {
          "output_type": "stream",
          "name": "stdout",
          "text": [
            "\n",
            "Processing file: /content/med_webscraper/ted_html_pages/146433-2022.html\n"
          ]
        },
        {
          "output_type": "stream",
          "name": "stderr",
          "text": [
            "Processing files:   0%|          | 3/961 [00:00<02:14,  7.14file/s]"
          ]
        },
        {
          "output_type": "stream",
          "name": "stdout",
          "text": [
            "  Keyword not found in any section. Skipping file.\n",
            "\n",
            "Processing file: /content/med_webscraper/ted_html_pages/551557-2021.html\n",
            "  Keyword not found in any section. Skipping file.\n",
            "\n",
            "Processing file: /content/med_webscraper/ted_html_pages/473752-2018.html\n",
            "  Keyword not found in any section. Skipping file.\n",
            "\n",
            "Processing file: /content/med_webscraper/ted_html_pages/66455-2021.html\n"
          ]
        },
        {
          "output_type": "stream",
          "name": "stderr",
          "text": [
            "Processing files:   0%|          | 4/961 [00:00<02:01,  7.91file/s]"
          ]
        },
        {
          "output_type": "stream",
          "name": "stdout",
          "text": [
            "  Keyword not found in any section. Skipping file.\n",
            "\n",
            "Processing file: /content/med_webscraper/ted_html_pages/123588-2023.html\n"
          ]
        },
        {
          "output_type": "stream",
          "name": "stderr",
          "text": [
            "Processing files:   1%|          | 6/961 [00:01<04:46,  3.34file/s]"
          ]
        },
        {
          "output_type": "stream",
          "name": "stdout",
          "text": [
            "  Keyword not found in any section. Skipping file.\n",
            "\n",
            "Processing file: /content/med_webscraper/ted_html_pages/98037-2021.html\n",
            "  Keyword not found in any section. Skipping file.\n",
            "\n",
            "Processing file: /content/med_webscraper/ted_html_pages/323088-2021.html\n"
          ]
        },
        {
          "output_type": "stream",
          "name": "stderr",
          "text": [
            "Processing files:   1%|          | 7/961 [00:02<05:27,  2.91file/s]"
          ]
        },
        {
          "output_type": "stream",
          "name": "stdout",
          "text": [
            "  Keyword not found in any section. Skipping file.\n",
            "\n",
            "Processing file: /content/med_webscraper/ted_html_pages/446465-2020.html\n"
          ]
        },
        {
          "output_type": "stream",
          "name": "stderr",
          "text": [
            "Processing files:   1%|          | 8/961 [00:03<08:14,  1.93file/s]"
          ]
        },
        {
          "output_type": "stream",
          "name": "stdout",
          "text": [
            "  Keyword not found in any section. Skipping file.\n",
            "\n",
            "Processing file: /content/med_webscraper/ted_html_pages/560973-2024.html\n",
            "  Keyword found in section. Extracting data...\n",
            "    Making batch translation request for 32 unique strings...\n"
          ]
        },
        {
          "output_type": "stream",
          "name": "stderr",
          "text": [
            "Processing files:   1%|          | 9/961 [00:08<34:53,  2.20s/file]"
          ]
        },
        {
          "output_type": "stream",
          "name": "stdout",
          "text": [
            "    Translation complete.\n",
            "\n",
            "Processing file: /content/med_webscraper/ted_html_pages/168102-2023.html\n"
          ]
        },
        {
          "output_type": "stream",
          "name": "stderr",
          "text": [
            "Processing files:   1%|          | 10/961 [00:09<26:31,  1.67s/file]"
          ]
        },
        {
          "output_type": "stream",
          "name": "stdout",
          "text": [
            "  Keyword not found in any section. Skipping file.\n",
            "\n",
            "Processing file: /content/med_webscraper/ted_html_pages/409353-2015.html\n"
          ]
        },
        {
          "output_type": "stream",
          "name": "stderr",
          "text": [
            "Processing files:   1%|          | 11/961 [00:09<21:09,  1.34s/file]"
          ]
        },
        {
          "output_type": "stream",
          "name": "stdout",
          "text": [
            "  Keyword not found in any section. Skipping file.\n",
            "\n",
            "Processing file: /content/med_webscraper/ted_html_pages/360351-2021.html\n"
          ]
        },
        {
          "output_type": "stream",
          "name": "stderr",
          "text": [
            "Processing files:   1%|▏         | 13/961 [00:10<12:33,  1.26file/s]"
          ]
        },
        {
          "output_type": "stream",
          "name": "stdout",
          "text": [
            "  Keyword not found in any section. Skipping file.\n",
            "\n",
            "Processing file: /content/med_webscraper/ted_html_pages/93839-2018.html\n",
            "  Keyword not found in any section. Skipping file.\n",
            "\n",
            "Processing file: /content/med_webscraper/ted_html_pages/64383-2020.html\n"
          ]
        },
        {
          "output_type": "stream",
          "name": "stderr",
          "text": [
            "Processing files:   1%|▏         | 14/961 [00:11<11:04,  1.42file/s]"
          ]
        },
        {
          "output_type": "stream",
          "name": "stdout",
          "text": [
            "  Keyword not found in any section. Skipping file.\n",
            "\n",
            "Processing file: /content/med_webscraper/ted_html_pages/29497-2017.html\n",
            "  Keyword not found in any section. Skipping file.\n",
            "\n",
            "Processing file: /content/med_webscraper/ted_html_pages/610522-2022.html\n"
          ]
        },
        {
          "output_type": "stream",
          "name": "stderr",
          "text": [
            "Processing files:   2%|▏         | 16/961 [00:11<07:55,  1.99file/s]"
          ]
        },
        {
          "output_type": "stream",
          "name": "stdout",
          "text": [
            "  Keyword not found in any section. Skipping file.\n",
            "\n",
            "Processing file: /content/med_webscraper/ted_html_pages/587964-2023.html\n"
          ]
        },
        {
          "output_type": "stream",
          "name": "stderr",
          "text": [
            "Processing files:   2%|▏         | 18/961 [00:12<06:06,  2.57file/s]"
          ]
        },
        {
          "output_type": "stream",
          "name": "stdout",
          "text": [
            "  Keyword not found in any section. Skipping file.\n",
            "\n",
            "Processing file: /content/med_webscraper/ted_html_pages/165730-2020.html\n",
            "  Keyword not found in any section. Skipping file.\n",
            "\n",
            "Processing file: /content/med_webscraper/ted_html_pages/561861-2019.html\n"
          ]
        },
        {
          "output_type": "stream",
          "name": "stderr",
          "text": [
            "Processing files:   2%|▏         | 19/961 [00:12<05:28,  2.86file/s]"
          ]
        },
        {
          "output_type": "stream",
          "name": "stdout",
          "text": [
            "  Keyword not found in any section. Skipping file.\n",
            "\n",
            "Processing file: /content/med_webscraper/ted_html_pages/90200-2024.html\n"
          ]
        },
        {
          "output_type": "stream",
          "name": "stderr",
          "text": [
            "Processing files:   2%|▏         | 19/961 [00:12<05:28,  2.86file/s]"
          ]
        },
        {
          "output_type": "stream",
          "name": "stdout",
          "text": [
            "  Keyword found in section. Extracting data...\n",
            "    Making batch translation request for 63 unique strings...\n"
          ]
        },
        {
          "output_type": "stream",
          "name": "stderr",
          "text": [
            "Processing files:   2%|▏         | 21/961 [00:23<37:27,  2.39s/file]"
          ]
        },
        {
          "output_type": "stream",
          "name": "stdout",
          "text": [
            "    Translation complete.\n",
            "\n",
            "Processing file: /content/med_webscraper/ted_html_pages/191445-2021.html\n",
            "  Keyword not found in any section. Skipping file.\n",
            "\n",
            "Processing file: /content/med_webscraper/ted_html_pages/408997-2022.html\n"
          ]
        },
        {
          "output_type": "stream",
          "name": "stderr",
          "text": [
            "Processing files:   2%|▏         | 23/961 [00:23<20:14,  1.29s/file]"
          ]
        },
        {
          "output_type": "stream",
          "name": "stdout",
          "text": [
            "  Keyword not found in any section. Skipping file.\n",
            "\n",
            "Processing file: /content/med_webscraper/ted_html_pages/313692-2021.html\n",
            "  Keyword not found in any section. Skipping file.\n",
            "\n",
            "Processing file: /content/med_webscraper/ted_html_pages/489845-2017.html\n"
          ]
        },
        {
          "output_type": "stream",
          "name": "stderr",
          "text": [
            "Processing files:   3%|▎         | 25/961 [00:24<11:42,  1.33file/s]"
          ]
        },
        {
          "output_type": "stream",
          "name": "stdout",
          "text": [
            "  Keyword not found in any section. Skipping file.\n",
            "\n",
            "Processing file: /content/med_webscraper/ted_html_pages/296437-2019.html\n",
            "  Keyword not found in any section. Skipping file.\n",
            "\n",
            "Processing file: /content/med_webscraper/ted_html_pages/534618-2019.html\n"
          ]
        },
        {
          "output_type": "stream",
          "name": "stderr",
          "text": [
            "Processing files:   3%|▎         | 26/961 [00:24<08:51,  1.76file/s]"
          ]
        },
        {
          "output_type": "stream",
          "name": "stdout",
          "text": [
            "  Keyword not found in any section. Skipping file.\n",
            "\n",
            "Processing file: /content/med_webscraper/ted_html_pages/214939-2017.html\n"
          ]
        },
        {
          "output_type": "stream",
          "name": "stderr",
          "text": [
            "Processing files:   3%|▎         | 27/961 [00:25<10:33,  1.48file/s]"
          ]
        },
        {
          "output_type": "stream",
          "name": "stdout",
          "text": [
            "  Keyword not found in any section. Skipping file.\n",
            "\n",
            "Processing file: /content/med_webscraper/ted_html_pages/719423-2022.html\n"
          ]
        },
        {
          "output_type": "stream",
          "name": "stderr",
          "text": [
            "Processing files:   3%|▎         | 28/961 [00:25<09:05,  1.71file/s]"
          ]
        },
        {
          "output_type": "stream",
          "name": "stdout",
          "text": [
            "  Keyword not found in any section. Skipping file.\n",
            "\n",
            "Processing file: /content/med_webscraper/ted_html_pages/125707-2018.html\n"
          ]
        },
        {
          "output_type": "stream",
          "name": "stderr",
          "text": [
            "Processing files:   3%|▎         | 29/961 [00:26<07:43,  2.01file/s]"
          ]
        },
        {
          "output_type": "stream",
          "name": "stdout",
          "text": [
            "  Keyword not found in any section. Skipping file.\n",
            "\n",
            "Processing file: /content/med_webscraper/ted_html_pages/111063-2025.html\n",
            "  Keyword found in section. Extracting data...\n",
            "    Making batch translation request for 35 unique strings...\n"
          ]
        },
        {
          "output_type": "stream",
          "name": "stderr",
          "text": [
            "Processing files:   3%|▎         | 29/961 [00:32<07:43,  2.01file/s]"
          ]
        },
        {
          "output_type": "stream",
          "name": "stdout",
          "text": [
            "    Translation complete.\n",
            "  Keyword found in section. Extracting data...\n",
            "    Making batch translation request for 49 unique strings...\n"
          ]
        },
        {
          "output_type": "stream",
          "name": "stderr",
          "text": [
            "Processing files:   3%|▎         | 30/961 [00:38<1:05:08,  4.20s/file]"
          ]
        },
        {
          "output_type": "stream",
          "name": "stdout",
          "text": [
            "    Translation complete.\n",
            "\n",
            "Processing file: /content/med_webscraper/ted_html_pages/15498-2025.html\n",
            "  Keyword found in section. Extracting data...\n",
            "    Making batch translation request for 59 unique strings...\n"
          ]
        },
        {
          "output_type": "stream",
          "name": "stderr",
          "text": [
            "Processing files:   3%|▎         | 31/961 [00:50<1:37:29,  6.29s/file]"
          ]
        },
        {
          "output_type": "stream",
          "name": "stdout",
          "text": [
            "    Translation complete.\n",
            "\n",
            "Processing file: /content/med_webscraper/ted_html_pages/118270-2023.html\n"
          ]
        },
        {
          "output_type": "stream",
          "name": "stderr",
          "text": [
            "Processing files:   3%|▎         | 33/961 [00:50<48:58,  3.17s/file]"
          ]
        },
        {
          "output_type": "stream",
          "name": "stdout",
          "text": [
            "  Keyword not found in any section. Skipping file.\n",
            "\n",
            "Processing file: /content/med_webscraper/ted_html_pages/323331-2020.html\n",
            "  Keyword not found in any section. Skipping file.\n",
            "\n",
            "Processing file: /content/med_webscraper/ted_html_pages/539404-2019.html\n"
          ]
        },
        {
          "output_type": "stream",
          "name": "stderr",
          "text": [
            "Processing files:   4%|▎         | 34/961 [00:50<34:53,  2.26s/file]"
          ]
        },
        {
          "output_type": "stream",
          "name": "stdout",
          "text": [
            "  Keyword not found in any section. Skipping file.\n",
            "\n",
            "Processing file: /content/med_webscraper/ted_html_pages/435364-2015.html\n"
          ]
        },
        {
          "output_type": "stream",
          "name": "stderr",
          "text": [
            "Processing files:   4%|▎         | 35/961 [00:50<26:35,  1.72s/file]"
          ]
        },
        {
          "output_type": "stream",
          "name": "stdout",
          "text": [
            "  Keyword not found in any section. Skipping file.\n",
            "\n",
            "Processing file: /content/med_webscraper/ted_html_pages/259322-2023.html\n"
          ]
        },
        {
          "output_type": "stream",
          "name": "stderr",
          "text": [
            "Processing files:   4%|▎         | 36/961 [00:51<19:42,  1.28s/file]"
          ]
        },
        {
          "output_type": "stream",
          "name": "stdout",
          "text": [
            "  Keyword not found in any section. Skipping file.\n",
            "\n",
            "Processing file: /content/med_webscraper/ted_html_pages/6581-2019.html\n"
          ]
        },
        {
          "output_type": "stream",
          "name": "stderr",
          "text": [
            "Processing files:   4%|▍         | 37/961 [00:51<15:40,  1.02s/file]"
          ]
        },
        {
          "output_type": "stream",
          "name": "stdout",
          "text": [
            "  Keyword not found in any section. Skipping file.\n",
            "\n",
            "Processing file: /content/med_webscraper/ted_html_pages/224080-2020.html\n"
          ]
        },
        {
          "output_type": "stream",
          "name": "stderr",
          "text": [
            "Processing files:   4%|▍         | 38/961 [00:59<48:46,  3.17s/file]"
          ]
        },
        {
          "output_type": "stream",
          "name": "stdout",
          "text": [
            "  Keyword not found in any section. Skipping file.\n",
            "\n",
            "Processing file: /content/med_webscraper/ted_html_pages/357325-2024.html\n"
          ]
        },
        {
          "output_type": "stream",
          "name": "stderr",
          "text": [
            "Processing files:   4%|▍         | 38/961 [01:00<48:46,  3.17s/file]"
          ]
        },
        {
          "output_type": "stream",
          "name": "stdout",
          "text": [
            "  Keyword found in section. Extracting data...\n",
            "    Making batch translation request for 40 unique strings...\n"
          ]
        },
        {
          "output_type": "stream",
          "name": "stderr",
          "text": [
            "Processing files:   4%|▍         | 38/961 [01:12<48:46,  3.17s/file]"
          ]
        },
        {
          "output_type": "stream",
          "name": "stdout",
          "text": [
            "    Translation complete.\n",
            "  Keyword found in section. Extracting data...\n",
            "    Making batch translation request for 46 unique strings...\n"
          ]
        },
        {
          "output_type": "stream",
          "name": "stderr",
          "text": [
            "Processing files:   4%|▍         | 38/961 [01:21<48:46,  3.17s/file]"
          ]
        },
        {
          "output_type": "stream",
          "name": "stdout",
          "text": [
            "    Translation complete.\n",
            "  Keyword found in section. Extracting data...\n",
            "    Making batch translation request for 46 unique strings...\n"
          ]
        },
        {
          "output_type": "stream",
          "name": "stderr",
          "text": [
            "Processing files:   4%|▍         | 38/961 [01:25<48:46,  3.17s/file]"
          ]
        },
        {
          "output_type": "stream",
          "name": "stdout",
          "text": [
            "    Translation complete.\n",
            "  Keyword found in section. Extracting data...\n",
            "    Making batch translation request for 46 unique strings...\n"
          ]
        },
        {
          "output_type": "stream",
          "name": "stderr",
          "text": [
            "Processing files:   4%|▍         | 39/961 [01:31<2:59:45, 11.70s/file]"
          ]
        },
        {
          "output_type": "stream",
          "name": "stdout",
          "text": [
            "    Translation complete.\n",
            "\n",
            "Processing file: /content/med_webscraper/ted_html_pages/459029-2018.html\n"
          ]
        },
        {
          "output_type": "stream",
          "name": "stderr",
          "text": [
            "Processing files:   4%|▍         | 40/961 [01:32<2:08:45,  8.39s/file]"
          ]
        },
        {
          "output_type": "stream",
          "name": "stdout",
          "text": [
            "  Keyword not found in any section. Skipping file.\n",
            "\n",
            "Processing file: /content/med_webscraper/ted_html_pages/177716-2019.html\n"
          ]
        },
        {
          "output_type": "stream",
          "name": "stderr",
          "text": [
            "Processing files:   4%|▍         | 41/961 [01:36<1:49:46,  7.16s/file]"
          ]
        },
        {
          "output_type": "stream",
          "name": "stdout",
          "text": [
            "  Keyword not found in any section. Skipping file.\n",
            "\n",
            "Processing file: /content/med_webscraper/ted_html_pages/650034-2021.html\n"
          ]
        },
        {
          "output_type": "stream",
          "name": "stderr",
          "text": [
            "Processing files:   4%|▍         | 43/961 [01:37<56:02,  3.66s/file]"
          ]
        },
        {
          "output_type": "stream",
          "name": "stdout",
          "text": [
            "  Keyword not found in any section. Skipping file.\n",
            "\n",
            "Processing file: /content/med_webscraper/ted_html_pages/470046-2018.html\n",
            "  Keyword not found in any section. Skipping file.\n",
            "\n",
            "Processing file: /content/med_webscraper/ted_html_pages/386815-2021.html\n"
          ]
        },
        {
          "output_type": "stream",
          "name": "stderr",
          "text": [
            "Processing files:   5%|▍         | 45/961 [01:37<28:39,  1.88s/file]"
          ]
        },
        {
          "output_type": "stream",
          "name": "stdout",
          "text": [
            "  Keyword not found in any section. Skipping file.\n",
            "\n",
            "Processing file: /content/med_webscraper/ted_html_pages/534865-2019.html\n",
            "  Keyword not found in any section. Skipping file.\n",
            "\n",
            "Processing file: /content/med_webscraper/ted_html_pages/56913-2025.html\n"
          ]
        },
        {
          "output_type": "stream",
          "name": "stderr",
          "text": [
            "Processing files:   5%|▍         | 45/961 [01:38<28:39,  1.88s/file]"
          ]
        },
        {
          "output_type": "stream",
          "name": "stdout",
          "text": [
            "  Keyword found in section. Extracting data...\n",
            "    Making batch translation request for 39 unique strings...\n"
          ]
        },
        {
          "output_type": "stream",
          "name": "stderr",
          "text": [
            "Processing files:   5%|▍         | 45/961 [01:44<28:39,  1.88s/file]"
          ]
        },
        {
          "output_type": "stream",
          "name": "stdout",
          "text": [
            "    Translation complete.\n",
            "  Keyword found in section. Extracting data...\n",
            "    Making batch translation request for 36 unique strings...\n"
          ]
        },
        {
          "output_type": "stream",
          "name": "stderr",
          "text": [
            "Processing files:   5%|▍         | 46/961 [01:48<1:11:07,  4.66s/file]"
          ]
        },
        {
          "output_type": "stream",
          "name": "stdout",
          "text": [
            "    Translation complete.\n",
            "\n",
            "Processing file: /content/med_webscraper/ted_html_pages/162990-2022.html\n"
          ]
        },
        {
          "output_type": "stream",
          "name": "stderr",
          "text": [
            "Processing files:   5%|▍         | 47/961 [01:48<51:18,  3.37s/file]"
          ]
        },
        {
          "output_type": "stream",
          "name": "stdout",
          "text": [
            "  Keyword not found in any section. Skipping file.\n",
            "\n",
            "Processing file: /content/med_webscraper/ted_html_pages/691992-2025.html\n"
          ]
        },
        {
          "output_type": "stream",
          "name": "stderr",
          "text": [
            "Processing files:   5%|▍         | 47/961 [01:49<51:18,  3.37s/file]"
          ]
        },
        {
          "output_type": "stream",
          "name": "stdout",
          "text": [
            "  Keyword found in section. Extracting data...\n",
            "    Making batch translation request for 46 unique strings...\n"
          ]
        },
        {
          "output_type": "stream",
          "name": "stderr",
          "text": [
            "Processing files:   5%|▍         | 47/961 [02:00<51:18,  3.37s/file]"
          ]
        },
        {
          "output_type": "stream",
          "name": "stdout",
          "text": [
            "    Translation complete.\n",
            "  Keyword found in section. Extracting data...\n",
            "    Making batch translation request for 63 unique strings...\n"
          ]
        },
        {
          "output_type": "stream",
          "name": "stderr",
          "text": [
            "Processing files:   5%|▍         | 48/961 [02:08<2:06:00,  8.28s/file]"
          ]
        },
        {
          "output_type": "stream",
          "name": "stdout",
          "text": [
            "    Warning: Batch translation failed. Using original text. Error: Pakiet 13ADALIMUMABprogram B47. Szczegółowy opis przedmiotu zamówienia stanowi załącznik nr 3 – formularz asortymentowo-cenowy. Zgodnie z Rozdziałem III pkt. 3. SWZ: Warunki przedmiotowe wymagane od Wykonawców - Wykonawcy składający ofertę w postępowaniu oświadczają, że zobowiązują się do przestrzegania poniższych wymagań: 1) Zaoferują produkty lecznicze, które spełniają wymagania określone w Ustawie z dnia 6 września 2001 r. Prawo Farmaceutyczne (Dz.U.2025.750 t.j. z dnia 2025.06.06), zgodne z opisem przedmiotu zamówienia zawartym w Formularzach asortymentowo-cenowych stanowiących załącznik nr 3 do SWZ. 2) Wykonawca posiada dokumenty potwierdzające, że produkty wymienione w załączniku nr 3 do SWZ są zarejestrowane w Urzędzie Rejestracji Produktów Leczniczych, Wyrobów Medycznych i Produktów Biobójczych zgodnie z wymaganiami ustawy z dnia 06.09.2001r. Prawo Farmaceutyczne (Dz.U.2025.750 t.j. z dnia 2025.06.06). 3) Dla leków we wszystkich Pakietach nr 1 – 13, Zamawiający wymaga ważnego zezwolenie GIF na prowadzenie obrotu produktami leczniczymi 4) W Pakietach 1-13 znajdują się leki biologiczne do programów lekowych Zamawiający wymaga aby leki były dopuszczone do stosowania i refundowane w programach lekowych Obecnie są to: 03.0000.331.02 (B31) Leczenie tętniczego nadciśnienia płucnego 03.0000.347.02 (B47) Leczenie umiarkowanej i ciężkiej postaci łuszczycy plackowatej 03.0000.424.02 (B.124) Leczenie chorych z ciężką postacią atopowego zapalenia skóry 03.0000.407.02 (B 107) Leczenie przewlekłej pokrzywki spontaniczne Zamawiający ponadto wymaga aby: A) Cały asortyment stanowiły produkty lecznicze B) Wykonawca podpisze aneksy do umów jeżeli refundacja przez okres obowiązywania umowy ulegnie zmianie na produkty (o tej samej nazwie międzynarodowej) które będą objęte taką refundacją C) Cena leku w przypadku leku objętego ceną urzędową w ciągu całego okresu trwania umowy musi być zgodna z aktualną ceną urzędową danego leku na dzień realizacji zamówienia, w przypadku zmiany zasad finansowania zakupu leków przez NFZ obniżający ceny lub obniżenia ceny urzędowej leku poniżej ceny wynikającej z oferty Wykonawcy podpiszą aneks na czas ich obowiązywania, po tym okresie cena powróci do ceny wynikającej z pierwotnej oferty przetargowej Wykonawcy, która dla Zamawiającego każdorazowo jest cena maksymalną. D) Transport produktu odbywać się będzie do miejsca wskazanego przez Zamawiającego zgodnie z wymogami przewidzianymi w CHPL-u produktów leczniczych E) Wykonawca dostarczy do oferty Charakterystykę Produktu Leczniczego (CHPL) lub jego równoważne tłumaczenie na język polski (PAKIETY 1-13) 5) Wykonawca zapewni na swój koszt i ryzyko transport produktów leczniczych do miejsca wskazanego przez Zamawiającego. Transport wszystkich produktów leczniczych odbywał się będzie zgodnie z wymogami przewidzianymi w aktualnych dokumentach potwierdzających dopuszczenie przedmiotu zamówienia do obrotu i używania zgodnie z Ustawą z dnia 6 września 2001 r. Prawo Farmaceutyczne (Dz.U.2025.750 t.j. z dnia 2025.06.06). Zamawiający ma prawo do skontrolowania środka transportu, którym przewożone są produkty lecznicze pod kątem obecności zapisu temperatury panującej w komorze transportowej, obecności podestów, na których przewożone są pudełka z produktami leczniczymi. W przypadku niespełnienia wymogów transportu przewidzianych w aktualnych dokumentach potwierdzających dopuszczenie przedmiotu zamówienia do obrotu przewidzianych Ustawą z dnia 06.09.2001 r. Prawo Farmaceutyczne (Dz.U.2025.750 t.j. z dnia 2025.06.06), Zamawiający ma prawo odmówić ich odbioru i poinformować o zaistniałym fakcie Wykonawcę. Wykonawca zapewnia transport dostosowany do infrastruktury Zamawiającego. Transport wszystkich produktów leczniczych będzie odbywał się odpowiednimi środkami transportu, gwarantującymi utrzymanie prawidłowej temperatury dla przewożonych produktów leczniczych i wyrobów medycznych posiadającymi możliwości ogrzewania lub chłodzenia przewożonego asortymentu i zachowania zasad GMP, jeżeli dotyczy. 6) Zaoferują produkty z datą ważności co najmniej 12 miesięcy od daty dostawy. 7) W czasie trwania umowy Zamawiający ma prawo do wezwania Wykonawcy w celu przedstawienia aktualnych dokumentów dopuszczenia do obrotu, karty charakterystyki, ulotki - w języku polskim. 8) Zaoferują termin płatności 30 dni od dnia dostarczenia Zamawiającemu prawidłowo wystawionej faktury VAT. 9) Podpiszą umowę, której wzór stanowi Załącznik nr 4 do SWZ. 10) Zaoferują maksymalny czas realizacji zamówień „cito”: 12 godzin, a w normalnym trybie do 48 godzin od złożenia zamówienia, bez względu na wartość złożonego zamówienia. a) W przypadku dostaw w trybie „na cito”, w sytuacji, gdy termin dostawy wypada w sobotę lub w innym dniu ustawowo wolnym od pracy lub poza godzinami pracy Zamawiającego, dostawa nastąpi w umówionym czasie realizacji tj. maksymalnie 12 godzin od złożenia zamówienia do miejsca wskazanego przez Zamawiającego. b) W przypadku zamówień w normalnym trybie, których termin realizacji przypada w sobotę lub w dniu ustawowo wolnym od pracy termin realizacji upływa w pierwszym dniu roboczym po terminie wyznaczonym powyżej jednak nie później niż do godziny 14.00 tego dnia. 11) Zamawiający wymaga, aby Wykonawca nie zmieniał wielkości opakowań określonych w Załączniku nr 3 do SWZ - Formularzu asortymentowo-cenowym bez uprzedniej pisemnej akceptacji przez Zamawiającego zapytania Wykonawcy, ze wskazaniem nr Pakietu i pozycji, nazwy produktu i uzasadnienia zamiany. 12) Cena leku w przypadku leku objętego ceną urzędową w ciągu całego okresu trwania umowy musi być zgodna z aktualną ceną urzędową danego leku na dzień realizacji zamówienia. W przypadku leków refundowanych ich ceny spełniają wytyczne określone w art. 9 ust. 1 i ust. 2 ustawy z dnia 12 maja 2011 r. o refundacji leków, środków spożywczych specjalnego przeznaczenia żywieniowego oraz wyrobów medycznych (Dz.U.2025.907 t.j. z dnia 2025.07.08) --> Text length need to be between 0 and 5000 characters\n",
            "\n",
            "Processing file: /content/med_webscraper/ted_html_pages/324638-2024.html\n"
          ]
        },
        {
          "output_type": "stream",
          "name": "stderr",
          "text": [
            "Processing files:   5%|▍         | 48/961 [02:09<2:06:00,  8.28s/file]"
          ]
        },
        {
          "output_type": "stream",
          "name": "stdout",
          "text": [
            "  Keyword found in section. Extracting data...\n",
            "    Making batch translation request for 45 unique strings...\n"
          ]
        },
        {
          "output_type": "stream",
          "name": "stderr",
          "text": [
            "Processing files:   5%|▌         | 49/961 [02:17<2:09:48,  8.54s/file]"
          ]
        },
        {
          "output_type": "stream",
          "name": "stdout",
          "text": [
            "    Translation complete.\n",
            "\n",
            "Processing file: /content/med_webscraper/ted_html_pages/530478-2020.html\n"
          ]
        },
        {
          "output_type": "stream",
          "name": "stderr",
          "text": [
            "Processing files:   5%|▌         | 51/961 [02:18<1:06:42,  4.40s/file]"
          ]
        },
        {
          "output_type": "stream",
          "name": "stdout",
          "text": [
            "  Keyword not found in any section. Skipping file.\n",
            "\n",
            "Processing file: /content/med_webscraper/ted_html_pages/6580-2022.html\n",
            "  Keyword not found in any section. Skipping file.\n",
            "\n",
            "Processing file: /content/med_webscraper/ted_html_pages/427672-2025.html\n"
          ]
        },
        {
          "output_type": "stream",
          "name": "stderr",
          "text": [
            "Processing files:   5%|▌         | 51/961 [02:19<1:06:42,  4.40s/file]"
          ]
        },
        {
          "output_type": "stream",
          "name": "stdout",
          "text": [
            "  Keyword found in section. Extracting data...\n",
            "    Making batch translation request for 63 unique strings...\n"
          ]
        },
        {
          "output_type": "stream",
          "name": "stderr",
          "text": [
            "Processing files:   5%|▌         | 52/961 [02:25<1:17:05,  5.09s/file]"
          ]
        },
        {
          "output_type": "stream",
          "name": "stdout",
          "text": [
            "    Translation complete.\n",
            "\n",
            "Processing file: /content/med_webscraper/ted_html_pages/247983-2020.html\n"
          ]
        },
        {
          "output_type": "stream",
          "name": "stderr",
          "text": [
            "Processing files:   6%|▌         | 53/961 [02:26<56:17,  3.72s/file]"
          ]
        },
        {
          "output_type": "stream",
          "name": "stdout",
          "text": [
            "  Keyword not found in any section. Skipping file.\n",
            "\n",
            "Processing file: /content/med_webscraper/ted_html_pages/705211-2025.html\n",
            "  Keyword found in section. Extracting data...\n",
            "    Making batch translation request for 32 unique strings...\n"
          ]
        },
        {
          "output_type": "stream",
          "name": "stderr",
          "text": [
            "Processing files:   6%|▌         | 54/961 [02:31<1:03:09,  4.18s/file]"
          ]
        },
        {
          "output_type": "stream",
          "name": "stdout",
          "text": [
            "    Translation complete.\n",
            "\n",
            "Processing file: /content/med_webscraper/ted_html_pages/641313-2023.html\n",
            "  Keyword not found in any section. Skipping file.\n",
            "\n",
            "Processing file: /content/med_webscraper/ted_html_pages/756825-2023.html\n",
            "  Keyword found in section. Extracting data...\n"
          ]
        },
        {
          "output_type": "stream",
          "name": "stderr",
          "text": [
            "Processing files:   6%|▌         | 54/961 [02:31<1:03:09,  4.18s/file]"
          ]
        },
        {
          "output_type": "stream",
          "name": "stdout",
          "text": [
            "    Making batch translation request for 30 unique strings...\n"
          ]
        },
        {
          "output_type": "stream",
          "name": "stderr",
          "text": [
            "Processing files:   6%|▌         | 54/961 [02:35<1:03:09,  4.18s/file]"
          ]
        },
        {
          "output_type": "stream",
          "name": "stdout",
          "text": [
            "    Translation complete.\n",
            "  Keyword found in section. Extracting data...\n",
            "    Making batch translation request for 31 unique strings...\n"
          ]
        },
        {
          "output_type": "stream",
          "name": "stderr",
          "text": [
            "Processing files:   6%|▌         | 56/961 [02:38<59:37,  3.95s/file]"
          ]
        },
        {
          "output_type": "stream",
          "name": "stdout",
          "text": [
            "    Translation complete.\n",
            "\n",
            "Processing file: /content/med_webscraper/ted_html_pages/411834-2018.html\n"
          ]
        },
        {
          "output_type": "stream",
          "name": "stderr",
          "text": [
            "Processing files:   6%|▌         | 57/961 [02:39<47:28,  3.15s/file]"
          ]
        },
        {
          "output_type": "stream",
          "name": "stdout",
          "text": [
            "  Keyword not found in any section. Skipping file.\n",
            "\n",
            "Processing file: /content/med_webscraper/ted_html_pages/133448-2023.html\n"
          ]
        },
        {
          "output_type": "stream",
          "name": "stderr",
          "text": [
            "Processing files:   6%|▌         | 58/961 [02:39<36:16,  2.41s/file]"
          ]
        },
        {
          "output_type": "stream",
          "name": "stdout",
          "text": [
            "  Keyword not found in any section. Skipping file.\n",
            "\n",
            "Processing file: /content/med_webscraper/ted_html_pages/205781-2019.html\n"
          ]
        },
        {
          "output_type": "stream",
          "name": "stderr",
          "text": [
            "Processing files:   6%|▌         | 59/961 [02:40<28:00,  1.86s/file]"
          ]
        },
        {
          "output_type": "stream",
          "name": "stdout",
          "text": [
            "  Keyword not found in any section. Skipping file.\n",
            "\n",
            "Processing file: /content/med_webscraper/ted_html_pages/516933-2018.html\n"
          ]
        },
        {
          "output_type": "stream",
          "name": "stderr",
          "text": [
            "Processing files:   6%|▋         | 61/961 [02:40<15:30,  1.03s/file]"
          ]
        },
        {
          "output_type": "stream",
          "name": "stdout",
          "text": [
            "  Keyword not found in any section. Skipping file.\n",
            "\n",
            "Processing file: /content/med_webscraper/ted_html_pages/562386-2023.html\n",
            "  Keyword not found in any section. Skipping file.\n",
            "\n",
            "Processing file: /content/med_webscraper/ted_html_pages/510274-2020.html\n"
          ]
        },
        {
          "output_type": "stream",
          "name": "stderr",
          "text": [
            "Processing files:   6%|▋         | 62/961 [02:40<11:48,  1.27file/s]"
          ]
        },
        {
          "output_type": "stream",
          "name": "stdout",
          "text": [
            "  Keyword not found in any section. Skipping file.\n",
            "\n",
            "Processing file: /content/med_webscraper/ted_html_pages/614300-2024.html\n"
          ]
        },
        {
          "output_type": "stream",
          "name": "stderr",
          "text": [
            "Processing files:   6%|▋         | 62/961 [02:40<11:48,  1.27file/s]"
          ]
        },
        {
          "output_type": "stream",
          "name": "stdout",
          "text": [
            "  Keyword found in section. Extracting data...\n",
            "    Making batch translation request for 63 unique strings...\n"
          ]
        },
        {
          "output_type": "stream",
          "name": "stderr",
          "text": [
            "Processing files:   6%|▋         | 62/961 [02:44<11:48,  1.27file/s]"
          ]
        },
        {
          "output_type": "stream",
          "name": "stdout",
          "text": [
            "    Warning: Batch translation failed. Using original text. Error: Zum Beschaffungsbedarf zählen sämtliche Arzneimittel mit den in Anlage 3 zu den Teilnahmebedingungen mit Stand vom 4.4.2024 (sog. Wirkstoffliste und Fristen) benannten und im Folgenden aufgezählten Wirkstoffen: 1.Adalimumab(Lfd.-Nr. 1 der Anlage 3 zu den Teilnahmebedingungen), 2. Etanercept (Lfd.-­Nr. 2), 3. Filgrastim (Lfd.-­Nr. 3), 4. Infliximab (Lfd.-­Nr. 4), 5. Interferon beta-1a (Lfd.-Nr. 5), 6. Interferon beta-1b (Lfd.-Nr. 6), 7. Leuprorelin (Lfd.-­Nr. 7), 8. Octreotid (Depot)* (Lfd.-­Nr. 8), 9. Pegfilgrastim (Lfd.-Nr. 9), 10. Beclometason dipropionat + Formoterol hemifumarat-1-Wasser (Lfd.-­Nr. 10), 11. Rotigotin (Lfd.-­Nr. 11), 12. Abatacept (Lfd.-­Nr. 12), 13. Denosumab (Lfd.-­Nr. 13), 14. Dornase alfa (Lfd.-­Nr. 14), 15. Natalizumab (Lfd.-­Nr. 15), 16. Tocilizumab (Lfd.-­Nr. 16), 17. Dimethyl fumarat (Lfd.-Nr. 17), 18. Rivaroxaban 2,5 mg (Lfd.-­Nr. 18), 19. Omalizumab (Lfd.-Nr. 19). *Vom Beschaffungsbedarf umfasst sind insoweit nur Arzneimittel mit retardierten (langwirkenden) Monatsdepot-­Formen. Der Beschaffungsbedarf wurde dabei nicht in Lose eingeteilt. Es handelt sich um ein Open-­House-­Verfahren. Soweit im Rahmen dieser Bekanntmachung daher Formulierungen verwendet werden, welche auf die Einteilung des Beschaffungsbedarfs in ein oder mehrere Los(e) hindeuten, ist dies allein den Vorgaben dieses Bekanntmachungsformulars geschuldet. In diesem Zusammenhang wird auf die eingangs unter Ziffer 2.1 beschriebene Nichtgeltung vergaberechtlicher Regelungen verwiesen. Die AOK startete das Open-House-Verfahren mit den erstbekanntgemachten Wirkstoffen der lfd.-Nr. 1 bis 9 der Anlage 3 zu den Teilnahmebedingungen (sog. Startwirkstoffe) und erweiterte den Beschaffungsbedarf mit den Folgebekanntmachungen um die Wirkstoffkombination und Wirkstoffe der lfd.-Nr. 10 bis 19 der Anlage 3 zu den Teilnahmebedingungen. Die AOK behält sich weiterhin vor, den Beschaffungsbedarf dieses Open-­House-­Verfahrens im Laufe des Verfahrens zu erweitern, d. h. die Anlage 3 zu den Teilnahmebedingungen, um weitere Wirkstoffe zu ergänzen. Nähere Informationen zu einer möglichen Erweiterung des Beschaffungsbedarfs enthalten die Teilnahmebedingungen (Abschnitt A.I.4.1). Verträge zu Arzneimitteln mit den Startwirkstoffen konnten bereits mit Wirkung zum 1.7.2023 geschlossen werden (sog. frühestmöglicher Vertragsstart). Verträge zu Arzneimitteln mit der laufenden Nummer 10 der Anlage 3 zu den Teilnahmebedingungen konnten frühestens mit Wirkung zum 1.8.2023 geschlossen werden, Verträge mit der laufenden Nummer 11 der Anlage 3 zu den Teilnahmebedingungen konnten frühestens mit Wirkung zum 1.4.2024 geschlossen werden, Verträge mit der laufenden Nummer 12 bis 16 der Anlage 3 zu den Teilnahmebedingungen können frühestens mit Wirkung zum 1.7.2024 geschlossen werden, Verträge mit der laufenden Nummer 17 der Anlage 3 zu den Teilnahmebedingungen können frühestens mit Wirkung zum 1.9.2024 geschlossen werden, Verträge mit der laufenden Nummer 18 der Anlage 3 zu den Teilnahmebedingungen können frühestens mit Wirkung zum 1.11.2024 geschlossen werden, Verträge mit der laufenden Nummer 19 der Anlage 3 zu den Teilnahmebedingungen können frühestens mit Wirkung zum 1.12.2024 geschlossen werden. Alle im Rahmen dieses Open­-House-­Verfahrens geschlossenen Rabattverträge enden einheitlich am 30.6.2025 (sog. Vertragsende). Der Abschluss eines Rabattvertrags zu Arzneimitteln mit den o. g. Wirkstoffen zu einem späteren Zeitpunkt als dem 1.7.2023 bzw. dem 1.8.2023 bzw. dem 1.4.2024 bzw. dem 1.7.2024 bzw. dem 1.9.2024 bzw. dem 1.11.2024 bzw. dem 1.12.2024 ist jeweils zu einem Monatsersten möglich. Die Angebote sind dazu spätestens 6 Wochen vor dem beabsichtigten Vertragsstart nach Maßgabe der Teilnahmeunterlagen vollständig ausschließlich in elektronischer Form über den Kommunikationsbereich der Vergabeplattform einzureichen. Die jeweiligen Angebotsfristen sind dabei bezogen auf den vom interessierten pharmazeutischen Unternehmer beabsichtigten Vertragsstart der Anlage 3 zu den Teilnahmebedingungen zu entnehmen. Vor dem 31.5.2023 sind keine Verträge zu dem Arzneimittel mit den Startwirkstoffen, vor dem 3.7.2023 keine Verträge zu Arzneimitteln mit der Wirkstoffkombination (lfd.-­Nr. 10 der Anlage 3 zu den Teilnahmebedingungen), vor dem 1.3.2024 keine Verträge zu Arzneimitteln mit dem Wirkstoff (lfd.-­Nr. 11), vor dem 28.5.2024 keine Verträge zu Arzneimitteln mit den Wirkstoffen (lfd.-­Nr. 12 bis 16), vor dem 30.7.2024 keine Verträge zu Arzneimitteln mit dem Wirkstoff (lfd.-­Nr. 17) und vor dem 1.10.2024 keine Verträge zu Arzneimitteln mit dem Wirkstoff (lfd.-­Nr. 18) geschlossen worden (Warte-­ und Stillhaltefrist). Vor dem 1.11.2024 werden keine Verträge zu Arzneimitteln mit dem Wirkstoff (lfd.-­Nr. 19) geschlossen. Für alle im Rahmen dieses Open-House-Verfahrens abzuschließenden Verträge ist der letztmögliche Vertragsstart der 1.6.2025. Angebote für diesen Vertragsstart müssen spätestens am 17.4.2025 eingehen. Die AOK gibt den Inhalt des Rabattvertrags für alle potenziellen Vertragspartner verbindlich vor. Verhandlungen über Vertragsinhalte werden nicht geführt. Die AOK sichert den Vertragspartnern keine Exklusivität zu. Im Fall eines Vertragsschlusses gewährt der pharmazeutische Unternehmer der AOK einen Rabatt auf die vertragsgegenständlichen Arzneimittel, die nach näherer Maßgabe der Teilnahmebedingungen und des Rabattvertrags zu Lasten der AOK abgegeben werden (zur vorgegebenen Rabatthöhe und Rabattberechnung wird insbesondere auf die Abschnitte A.I.4.3, A.I.5 und A.I.7 der Teilnahmebedingungen sowie § 2 Abs. (2) und § 4 Abs. (3) des Rabattvertrags verwiesen. --> Text length need to be between 0 and 5000 characters\n",
            "  Keyword found in section. Extracting data...\n",
            "    Making batch translation request for 33 unique strings...\n"
          ]
        },
        {
          "output_type": "stream",
          "name": "stderr",
          "text": [
            "Processing files:   6%|▋         | 62/961 [02:48<11:48,  1.27file/s]"
          ]
        },
        {
          "output_type": "stream",
          "name": "stdout",
          "text": [
            "    Translation complete.\n",
            "  Keyword found in section. Extracting data...\n",
            "    Making batch translation request for 33 unique strings...\n"
          ]
        },
        {
          "output_type": "stream",
          "name": "stderr",
          "text": [
            "Processing files:   7%|▋         | 63/961 [02:51<57:11,  3.82s/file]"
          ]
        },
        {
          "output_type": "stream",
          "name": "stdout",
          "text": [
            "    Translation complete.\n",
            "\n",
            "Processing file: /content/med_webscraper/ted_html_pages/297558-2022.html\n"
          ]
        },
        {
          "output_type": "stream",
          "name": "stderr",
          "text": [
            "Processing files:   7%|▋         | 64/961 [02:51<41:34,  2.78s/file]"
          ]
        },
        {
          "output_type": "stream",
          "name": "stdout",
          "text": [
            "  Keyword not found in any section. Skipping file.\n",
            "\n",
            "Processing file: /content/med_webscraper/ted_html_pages/411184-2015.html\n"
          ]
        },
        {
          "output_type": "stream",
          "name": "stderr",
          "text": [
            "Processing files:   7%|▋         | 65/961 [02:53<36:49,  2.47s/file]"
          ]
        },
        {
          "output_type": "stream",
          "name": "stdout",
          "text": [
            "  Keyword not found in any section. Skipping file.\n",
            "\n",
            "Processing file: /content/med_webscraper/ted_html_pages/58264-2025.html\n"
          ]
        },
        {
          "output_type": "stream",
          "name": "stderr",
          "text": [
            "Processing files:   7%|▋         | 65/961 [02:53<36:49,  2.47s/file]"
          ]
        },
        {
          "output_type": "stream",
          "name": "stdout",
          "text": [
            "  Keyword found in section. Extracting data...\n",
            "    Making batch translation request for 36 unique strings...\n"
          ]
        },
        {
          "output_type": "stream",
          "name": "stderr",
          "text": [
            "Processing files:   7%|▋         | 65/961 [02:58<36:49,  2.47s/file]"
          ]
        },
        {
          "output_type": "stream",
          "name": "stdout",
          "text": [
            "    Translation complete.\n",
            "  Keyword found in section. Extracting data...\n",
            "    Making batch translation request for 49 unique strings...\n"
          ]
        },
        {
          "output_type": "stream",
          "name": "stderr",
          "text": [
            "Processing files:   7%|▋         | 66/961 [03:03<1:10:08,  4.70s/file]"
          ]
        },
        {
          "output_type": "stream",
          "name": "stdout",
          "text": [
            "    Translation complete.\n",
            "\n",
            "Processing file: /content/med_webscraper/ted_html_pages/621818-2019.html\n"
          ]
        },
        {
          "output_type": "stream",
          "name": "stderr",
          "text": [
            "Processing files:   7%|▋         | 67/961 [03:08<1:08:35,  4.60s/file]"
          ]
        },
        {
          "output_type": "stream",
          "name": "stdout",
          "text": [
            "  Keyword not found in any section. Skipping file.\n",
            "\n",
            "Processing file: /content/med_webscraper/ted_html_pages/141735-2022.html\n"
          ]
        },
        {
          "output_type": "stream",
          "name": "stderr",
          "text": [
            "Processing files:   7%|▋         | 68/961 [03:10<57:47,  3.88s/file]"
          ]
        },
        {
          "output_type": "stream",
          "name": "stdout",
          "text": [
            "  Keyword not found in any section. Skipping file.\n",
            "\n",
            "Processing file: /content/med_webscraper/ted_html_pages/189148-2016.html\n"
          ]
        },
        {
          "output_type": "stream",
          "name": "stderr",
          "text": [
            "Processing files:   7%|▋         | 70/961 [03:11<31:55,  2.15s/file]"
          ]
        },
        {
          "output_type": "stream",
          "name": "stdout",
          "text": [
            "  Keyword not found in any section. Skipping file.\n",
            "\n",
            "Processing file: /content/med_webscraper/ted_html_pages/214931-2021.html\n",
            "  Keyword not found in any section. Skipping file.\n",
            "\n",
            "Processing file: /content/med_webscraper/ted_html_pages/573738-2021.html\n"
          ]
        },
        {
          "output_type": "stream",
          "name": "stderr",
          "text": [
            "Processing files:   7%|▋         | 72/961 [03:11<16:49,  1.14s/file]"
          ]
        },
        {
          "output_type": "stream",
          "name": "stdout",
          "text": [
            "  Keyword not found in any section. Skipping file.\n",
            "\n",
            "Processing file: /content/med_webscraper/ted_html_pages/186106-2016.html\n",
            "  Keyword not found in any section. Skipping file.\n",
            "\n",
            "Processing file: /content/med_webscraper/ted_html_pages/139247-2017.html\n"
          ]
        },
        {
          "output_type": "stream",
          "name": "stderr",
          "text": [
            "Processing files:   8%|▊         | 73/961 [03:12<15:27,  1.04s/file]"
          ]
        },
        {
          "output_type": "stream",
          "name": "stdout",
          "text": [
            "  Keyword not found in any section. Skipping file.\n",
            "\n",
            "Processing file: /content/med_webscraper/ted_html_pages/161835-2018.html\n"
          ]
        },
        {
          "output_type": "stream",
          "name": "stderr",
          "text": [
            "Processing files:   8%|▊         | 75/961 [03:13<11:59,  1.23file/s]"
          ]
        },
        {
          "output_type": "stream",
          "name": "stdout",
          "text": [
            "  Keyword not found in any section. Skipping file.\n",
            "\n",
            "Processing file: /content/med_webscraper/ted_html_pages/121639-2023.html\n",
            "  Keyword not found in any section. Skipping file.\n",
            "\n",
            "Processing file: /content/med_webscraper/ted_html_pages/322788-2018.html\n"
          ]
        },
        {
          "output_type": "stream",
          "name": "stderr",
          "text": [
            "Processing files:   8%|▊         | 76/961 [03:14<10:15,  1.44file/s]"
          ]
        },
        {
          "output_type": "stream",
          "name": "stdout",
          "text": [
            "  Keyword not found in any section. Skipping file.\n",
            "\n",
            "Processing file: /content/med_webscraper/ted_html_pages/493056-2020.html\n"
          ]
        },
        {
          "output_type": "stream",
          "name": "stderr",
          "text": [
            "Processing files:   8%|▊         | 78/961 [03:15<08:36,  1.71file/s]"
          ]
        },
        {
          "output_type": "stream",
          "name": "stdout",
          "text": [
            "  Keyword not found in any section. Skipping file.\n",
            "\n",
            "Processing file: /content/med_webscraper/ted_html_pages/8987-2019.html\n",
            "  Keyword not found in any section. Skipping file.\n",
            "\n",
            "Processing file: /content/med_webscraper/ted_html_pages/33347-2020.html\n"
          ]
        },
        {
          "output_type": "stream",
          "name": "stderr",
          "text": [
            "Processing files:   8%|▊         | 80/961 [03:15<05:24,  2.71file/s]"
          ]
        },
        {
          "output_type": "stream",
          "name": "stdout",
          "text": [
            "  Keyword not found in any section. Skipping file.\n",
            "\n",
            "Processing file: /content/med_webscraper/ted_html_pages/325103-2022.html\n",
            "  Keyword not found in any section. Skipping file.\n"
          ]
        },
        {
          "output_type": "stream",
          "name": "stderr",
          "text": [
            "Processing files:   8%|▊         | 81/961 [03:15<04:15,  3.44file/s]"
          ]
        },
        {
          "output_type": "stream",
          "name": "stdout",
          "text": [
            "\n",
            "Processing file: /content/med_webscraper/ted_html_pages/386057-2016.html\n",
            "  Keyword not found in any section. Skipping file.\n",
            "\n",
            "Processing file: /content/med_webscraper/ted_html_pages/286135-2020.html\n"
          ]
        },
        {
          "output_type": "stream",
          "name": "stderr",
          "text": [
            "Processing files:   9%|▊         | 83/961 [03:16<03:47,  3.86file/s]"
          ]
        },
        {
          "output_type": "stream",
          "name": "stdout",
          "text": [
            "  Keyword not found in any section. Skipping file.\n",
            "\n",
            "Processing file: /content/med_webscraper/ted_html_pages/139280-2017.html\n",
            "  Keyword not found in any section. Skipping file.\n",
            "\n",
            "Processing file: /content/med_webscraper/ted_html_pages/361425-2022.html\n"
          ]
        },
        {
          "output_type": "stream",
          "name": "stderr",
          "text": [
            "Processing files:   9%|▉         | 85/961 [03:16<02:49,  5.17file/s]"
          ]
        },
        {
          "output_type": "stream",
          "name": "stdout",
          "text": [
            "  Keyword not found in any section. Skipping file.\n",
            "\n",
            "Processing file: /content/med_webscraper/ted_html_pages/404698-2019.html\n",
            "  Keyword not found in any section. Skipping file.\n",
            "\n",
            "Processing file: /content/med_webscraper/ted_html_pages/104522-2023.html\n"
          ]
        },
        {
          "output_type": "stream",
          "name": "stderr",
          "text": [
            "Processing files:   9%|▉         | 86/961 [03:16<02:27,  5.95file/s]"
          ]
        },
        {
          "output_type": "stream",
          "name": "stdout",
          "text": [
            "  Keyword not found in any section. Skipping file.\n",
            "\n",
            "Processing file: /content/med_webscraper/ted_html_pages/305024-2024.html\n"
          ]
        },
        {
          "output_type": "stream",
          "name": "stderr",
          "text": [
            "Processing files:   9%|▉         | 86/961 [03:17<02:27,  5.95file/s]"
          ]
        },
        {
          "output_type": "stream",
          "name": "stdout",
          "text": [
            "  Keyword found in section. Extracting data...\n",
            "    Making batch translation request for 60 unique strings...\n"
          ]
        },
        {
          "output_type": "stream",
          "name": "stderr",
          "text": [
            "Processing files:   9%|▉         | 87/961 [03:30<1:01:59,  4.26s/file]"
          ]
        },
        {
          "output_type": "stream",
          "name": "stdout",
          "text": [
            "    Translation complete.\n",
            "\n",
            "Processing file: /content/med_webscraper/ted_html_pages/310605-2018.html\n"
          ]
        },
        {
          "output_type": "stream",
          "name": "stderr",
          "text": [
            "Processing files:   9%|▉         | 88/961 [03:30<45:41,  3.14s/file]"
          ]
        },
        {
          "output_type": "stream",
          "name": "stdout",
          "text": [
            "  Keyword not found in any section. Skipping file.\n",
            "\n",
            "Processing file: /content/med_webscraper/ted_html_pages/304121-2017.html\n"
          ]
        },
        {
          "output_type": "stream",
          "name": "stderr",
          "text": [
            "Processing files:   9%|▉         | 89/961 [03:31<33:12,  2.29s/file]"
          ]
        },
        {
          "output_type": "stream",
          "name": "stdout",
          "text": [
            "  Keyword not found in any section. Skipping file.\n",
            "\n",
            "Processing file: /content/med_webscraper/ted_html_pages/47951-2020.html\n"
          ]
        },
        {
          "output_type": "stream",
          "name": "stderr",
          "text": [
            "Processing files:   9%|▉         | 90/961 [03:31<24:14,  1.67s/file]"
          ]
        },
        {
          "output_type": "stream",
          "name": "stdout",
          "text": [
            "  Keyword not found in any section. Skipping file.\n",
            "\n",
            "Processing file: /content/med_webscraper/ted_html_pages/196109-2020.html\n"
          ]
        },
        {
          "output_type": "stream",
          "name": "stderr",
          "text": [
            "Processing files:   9%|▉         | 91/961 [03:31<18:26,  1.27s/file]"
          ]
        },
        {
          "output_type": "stream",
          "name": "stdout",
          "text": [
            "  Keyword not found in any section. Skipping file.\n",
            "\n",
            "Processing file: /content/med_webscraper/ted_html_pages/533387-2022.html\n"
          ]
        },
        {
          "output_type": "stream",
          "name": "stderr",
          "text": [
            "Processing files:  10%|▉         | 93/961 [03:32<10:21,  1.40file/s]"
          ]
        },
        {
          "output_type": "stream",
          "name": "stdout",
          "text": [
            "  Keyword not found in any section. Skipping file.\n",
            "\n",
            "Processing file: /content/med_webscraper/ted_html_pages/3123-2019.html\n",
            "  Keyword not found in any section. Skipping file.\n",
            "\n",
            "Processing file: /content/med_webscraper/ted_html_pages/274788-2019.html\n"
          ]
        },
        {
          "output_type": "stream",
          "name": "stderr",
          "text": [
            "Processing files:  10%|▉         | 94/961 [03:32<07:40,  1.88file/s]"
          ]
        },
        {
          "output_type": "stream",
          "name": "stdout",
          "text": [
            "  Keyword not found in any section. Skipping file.\n",
            "\n",
            "Processing file: /content/med_webscraper/ted_html_pages/433463-2019.html\n"
          ]
        },
        {
          "output_type": "stream",
          "name": "stderr",
          "text": [
            "Processing files:  10%|▉         | 95/961 [03:32<08:12,  1.76file/s]"
          ]
        },
        {
          "output_type": "stream",
          "name": "stdout",
          "text": [
            "  Keyword not found in any section. Skipping file.\n",
            "\n",
            "Processing file: /content/med_webscraper/ted_html_pages/396449-2021.html\n"
          ]
        },
        {
          "output_type": "stream",
          "name": "stderr",
          "text": [
            "Processing files:  10%|▉         | 96/961 [03:33<08:50,  1.63file/s]"
          ]
        },
        {
          "output_type": "stream",
          "name": "stdout",
          "text": [
            "  Keyword not found in any section. Skipping file.\n",
            "\n",
            "Processing file: /content/med_webscraper/ted_html_pages/429770-2024.html\n",
            "  Keyword found in section. Extracting data...\n",
            "    Making batch translation request for 33 unique strings...\n"
          ]
        },
        {
          "output_type": "stream",
          "name": "stderr",
          "text": [
            "Processing files:  10%|▉         | 96/961 [03:38<08:50,  1.63file/s]"
          ]
        },
        {
          "output_type": "stream",
          "name": "stdout",
          "text": [
            "    Translation complete.\n",
            "  Keyword found in section. Extracting data...\n",
            "    Making batch translation request for 50 unique strings...\n"
          ]
        },
        {
          "output_type": "stream",
          "name": "stderr",
          "text": [
            "Processing files:  10%|█         | 97/961 [03:45<56:09,  3.90s/file]"
          ]
        },
        {
          "output_type": "stream",
          "name": "stdout",
          "text": [
            "    Translation complete.\n",
            "\n",
            "Processing file: /content/med_webscraper/ted_html_pages/642381-2023.html\n"
          ]
        },
        {
          "output_type": "stream",
          "name": "stderr",
          "text": [
            "Processing files:  10%|█         | 99/961 [03:50<44:28,  3.10s/file]"
          ]
        },
        {
          "output_type": "stream",
          "name": "stdout",
          "text": [
            "  Keyword not found in any section. Skipping file.\n",
            "\n",
            "Processing file: /content/med_webscraper/ted_html_pages/312816-2019.html\n",
            "  Keyword not found in any section. Skipping file.\n",
            "\n",
            "Processing file: /content/med_webscraper/ted_html_pages/160400-2022.html\n"
          ]
        },
        {
          "output_type": "stream",
          "name": "stderr",
          "text": [
            "Processing files:  10%|█         | 100/961 [03:53<40:38,  2.83s/file]"
          ]
        },
        {
          "output_type": "stream",
          "name": "stdout",
          "text": [
            "  Keyword not found in any section. Skipping file.\n",
            "\n",
            "Processing file: /content/med_webscraper/ted_html_pages/176935-2025.html\n",
            "  Keyword found in section. Extracting data...\n",
            "    Making batch translation request for 35 unique strings...\n"
          ]
        },
        {
          "output_type": "stream",
          "name": "stderr",
          "text": [
            "Processing files:  11%|█         | 102/961 [03:57<31:59,  2.23s/file]"
          ]
        },
        {
          "output_type": "stream",
          "name": "stdout",
          "text": [
            "    Translation complete.\n",
            "\n",
            "Processing file: /content/med_webscraper/ted_html_pages/526454-2023.html\n",
            "  Keyword not found in any section. Skipping file.\n",
            "\n",
            "Processing file: /content/med_webscraper/ted_html_pages/233366-2023.html\n"
          ]
        },
        {
          "output_type": "stream",
          "name": "stderr",
          "text": [
            "Processing files:  11%|█         | 104/961 [03:57<16:30,  1.16s/file]"
          ]
        },
        {
          "output_type": "stream",
          "name": "stdout",
          "text": [
            "  Keyword not found in any section. Skipping file.\n",
            "\n",
            "Processing file: /content/med_webscraper/ted_html_pages/203324-2016.html\n",
            "  Keyword not found in any section. Skipping file.\n",
            "\n",
            "Processing file: /content/med_webscraper/ted_html_pages/505423-2018.html\n"
          ]
        },
        {
          "output_type": "stream",
          "name": "stderr",
          "text": [
            "Processing files:  11%|█         | 105/961 [03:57<11:59,  1.19file/s]"
          ]
        },
        {
          "output_type": "stream",
          "name": "stdout",
          "text": [
            "  Keyword not found in any section. Skipping file.\n",
            "\n",
            "Processing file: /content/med_webscraper/ted_html_pages/163282-2017.html\n"
          ]
        },
        {
          "output_type": "stream",
          "name": "stderr",
          "text": [
            "Processing files:  11%|█         | 106/961 [04:48<3:47:01, 15.93s/file]"
          ]
        },
        {
          "output_type": "stream",
          "name": "stdout",
          "text": [
            "  Keyword not found in any section. Skipping file.\n",
            "\n",
            "Processing file: /content/med_webscraper/ted_html_pages/447929-2019.html\n"
          ]
        },
        {
          "output_type": "stream",
          "name": "stderr",
          "text": [
            "Processing files:  11%|█         | 107/961 [04:49<2:43:09, 11.46s/file]"
          ]
        },
        {
          "output_type": "stream",
          "name": "stdout",
          "text": [
            "  Keyword not found in any section. Skipping file.\n",
            "\n",
            "Processing file: /content/med_webscraper/ted_html_pages/49374-2021.html\n"
          ]
        },
        {
          "output_type": "stream",
          "name": "stderr",
          "text": [
            "Processing files:  11%|█▏        | 109/961 [04:49<1:21:13,  5.72s/file]"
          ]
        },
        {
          "output_type": "stream",
          "name": "stdout",
          "text": [
            "  Keyword not found in any section. Skipping file.\n",
            "\n",
            "Processing file: /content/med_webscraper/ted_html_pages/66434-2021.html\n",
            "  Keyword not found in any section. Skipping file.\n",
            "\n",
            "Processing file: /content/med_webscraper/ted_html_pages/23642-2019.html\n"
          ]
        },
        {
          "output_type": "stream",
          "name": "stderr",
          "text": [
            "Processing files:  12%|█▏        | 111/961 [04:50<40:50,  2.88s/file]"
          ]
        },
        {
          "output_type": "stream",
          "name": "stdout",
          "text": [
            "  Keyword not found in any section. Skipping file.\n",
            "\n",
            "Processing file: /content/med_webscraper/ted_html_pages/286882-2019.html\n",
            "  Keyword not found in any section. Skipping file.\n",
            "\n",
            "Processing file: /content/med_webscraper/ted_html_pages/213108-2018.html\n"
          ]
        },
        {
          "output_type": "stream",
          "name": "stderr",
          "text": [
            "Processing files:  12%|█▏        | 113/961 [04:50<21:29,  1.52s/file]"
          ]
        },
        {
          "output_type": "stream",
          "name": "stdout",
          "text": [
            "  Keyword not found in any section. Skipping file.\n",
            "\n",
            "Processing file: /content/med_webscraper/ted_html_pages/146446-2021.html\n",
            "  Keyword not found in any section. Skipping file.\n",
            "\n",
            "Processing file: /content/med_webscraper/ted_html_pages/78473-2019.html\n"
          ]
        },
        {
          "output_type": "stream",
          "name": "stderr",
          "text": [
            "Processing files:  12%|█▏        | 114/961 [04:50<15:30,  1.10s/file]"
          ]
        },
        {
          "output_type": "stream",
          "name": "stdout",
          "text": [
            "  Keyword not found in any section. Skipping file.\n",
            "\n",
            "Processing file: /content/med_webscraper/ted_html_pages/597216-2020.html\n"
          ]
        },
        {
          "output_type": "stream",
          "name": "stderr",
          "text": [
            "Processing files:  12%|█▏        | 115/961 [04:51<12:38,  1.12file/s]"
          ]
        },
        {
          "output_type": "stream",
          "name": "stdout",
          "text": [
            "  Keyword not found in any section. Skipping file.\n",
            "\n",
            "Processing file: /content/med_webscraper/ted_html_pages/568726-2024.html\n",
            "  Keyword found in section. Extracting data...\n",
            "    Making batch translation request for 32 unique strings...\n"
          ]
        },
        {
          "output_type": "stream",
          "name": "stderr",
          "text": [
            "Processing files:  12%|█▏        | 117/961 [04:56<20:54,  1.49s/file]"
          ]
        },
        {
          "output_type": "stream",
          "name": "stdout",
          "text": [
            "    Translation complete.\n",
            "\n",
            "Processing file: /content/med_webscraper/ted_html_pages/596779-2020.html\n",
            "  Keyword not found in any section. Skipping file.\n",
            "\n",
            "Processing file: /content/med_webscraper/ted_html_pages/31026-2019.html\n"
          ]
        },
        {
          "output_type": "stream",
          "name": "stderr",
          "text": [
            "Processing files:  12%|█▏        | 118/961 [04:56<15:44,  1.12s/file]"
          ]
        },
        {
          "output_type": "stream",
          "name": "stdout",
          "text": [
            "  Keyword not found in any section. Skipping file.\n",
            "\n",
            "Processing file: /content/med_webscraper/ted_html_pages/125620-2023.html\n"
          ]
        },
        {
          "output_type": "stream",
          "name": "stderr",
          "text": [
            "Processing files:  12%|█▏        | 119/961 [04:57<13:06,  1.07file/s]"
          ]
        },
        {
          "output_type": "stream",
          "name": "stdout",
          "text": [
            "  Keyword not found in any section. Skipping file.\n",
            "\n",
            "Processing file: /content/med_webscraper/ted_html_pages/54096-2025.html\n",
            "  Keyword found in section. Extracting data...\n",
            "    Making batch translation request for 34 unique strings...\n"
          ]
        },
        {
          "output_type": "stream",
          "name": "stderr",
          "text": [
            "Processing files:  12%|█▏        | 119/961 [05:00<13:06,  1.07file/s]"
          ]
        },
        {
          "output_type": "stream",
          "name": "stdout",
          "text": [
            "    Translation complete.\n",
            "  Keyword found in section. Extracting data...\n",
            "    Making batch translation request for 49 unique strings...\n"
          ]
        },
        {
          "output_type": "stream",
          "name": "stderr",
          "text": [
            "Processing files:  12%|█▏        | 120/961 [05:05<43:30,  3.10s/file]"
          ]
        },
        {
          "output_type": "stream",
          "name": "stdout",
          "text": [
            "    Translation complete.\n",
            "\n",
            "Processing file: /content/med_webscraper/ted_html_pages/136970-2017.html\n"
          ]
        },
        {
          "output_type": "stream",
          "name": "stderr",
          "text": [
            "Processing files:  13%|█▎        | 122/961 [05:09<34:08,  2.44s/file]"
          ]
        },
        {
          "output_type": "stream",
          "name": "stdout",
          "text": [
            "  Keyword not found in any section. Skipping file.\n",
            "\n",
            "Processing file: /content/med_webscraper/ted_html_pages/219432-2021.html\n",
            "  Keyword not found in any section. Skipping file.\n",
            "\n",
            "Processing file: /content/med_webscraper/ted_html_pages/330733-2016.html\n"
          ]
        },
        {
          "output_type": "stream",
          "name": "stderr",
          "text": [
            "Processing files:  13%|█▎        | 123/961 [05:10<26:24,  1.89s/file]"
          ]
        },
        {
          "output_type": "stream",
          "name": "stdout",
          "text": [
            "  Keyword not found in any section. Skipping file.\n",
            "\n",
            "Processing file: /content/med_webscraper/ted_html_pages/612049-2024.html\n",
            "  Keyword found in section. Extracting data...\n",
            "    Making batch translation request for 38 unique strings...\n"
          ]
        },
        {
          "output_type": "stream",
          "name": "stderr",
          "text": [
            "Processing files:  13%|█▎        | 123/961 [05:17<26:24,  1.89s/file]"
          ]
        },
        {
          "output_type": "stream",
          "name": "stdout",
          "text": [
            "    Translation complete.\n",
            "  Keyword found in section. Extracting data...\n",
            "    Making batch translation request for 60 unique strings...\n"
          ]
        },
        {
          "output_type": "stream",
          "name": "stderr",
          "text": [
            "Processing files:  13%|█▎        | 125/961 [05:29<1:08:37,  4.93s/file]"
          ]
        },
        {
          "output_type": "stream",
          "name": "stdout",
          "text": [
            "    Translation complete.\n",
            "\n",
            "Processing file: /content/med_webscraper/ted_html_pages/441509-2022.html\n",
            "  Keyword not found in any section. Skipping file.\n",
            "\n",
            "Processing file: /content/med_webscraper/ted_html_pages/201133-2021.html\n"
          ]
        },
        {
          "output_type": "stream",
          "name": "stderr",
          "text": [
            "Processing files:  13%|█▎        | 126/961 [05:32<1:01:37,  4.43s/file]"
          ]
        },
        {
          "output_type": "stream",
          "name": "stdout",
          "text": [
            "  Keyword not found in any section. Skipping file.\n",
            "\n",
            "Processing file: /content/med_webscraper/ted_html_pages/210038-2025.html\n"
          ]
        },
        {
          "output_type": "stream",
          "name": "stderr",
          "text": [
            "Processing files:  13%|█▎        | 126/961 [05:32<1:01:37,  4.43s/file]"
          ]
        },
        {
          "output_type": "stream",
          "name": "stdout",
          "text": [
            "  Keyword found in section. Extracting data...\n",
            "    Making batch translation request for 63 unique strings...\n"
          ]
        },
        {
          "output_type": "stream",
          "name": "stderr",
          "text": [
            "Processing files:  13%|█▎        | 127/961 [05:33<46:54,  3.37s/file]"
          ]
        },
        {
          "output_type": "stream",
          "name": "stdout",
          "text": [
            "    Warning: Batch translation failed. Using original text. Error: Zum Beschaffungsbedarf zählen sämtliche Arzneimittel mit den in Anlage 3 zu den Teilnahmebedingungen mit Stand vom 23.1.2025 (sog. Wirkstoffliste und Fristen) benannten und im Folgenden aufgezählten Wirkstoffen: 1.Adalimumab(Lfd.-Nr. 1 der Anlage 3 zu den Teilnahmebedingungen), 2. Etanercept (Lfd.-­Nr. 2), 3. Filgrastim (Lfd.-­Nr. 3), 4. Infliximab (Lfd.-­Nr. 4), 5. Interferon beta-1a (Lfd.-Nr. 5), 6. Interferon beta-1b (Lfd.-Nr. 6), 7. Leuprorelin (Lfd.-­Nr. 7), 8. Octreotid (Depot)* (Lfd.-­Nr. 8), 9. Pegfilgrastim (Lfd.-Nr. 9), 10. Beclometason dipropionat + Formoterol hemifumarat-1-Wasser (Lfd.-­Nr. 10), 11. Rotigotin (Lfd.-­Nr. 11), 12. Abatacept (Lfd.-­Nr. 12), 13. Denosumab (Lfd.-­Nr. 13), 14. Dornase alfa (Lfd.-­Nr. 14), 15. Natalizumab (Lfd.-­Nr. 15), 16. Tocilizumab (Lfd.-­Nr. 16), 17. Dimethyl fumarat (Lfd.-Nr. 17), 18. Rivaroxaban 2,5 mg (Lfd.-­Nr. 18), 19. Omalizumab (Lfd.-Nr. 19), 20. Ustekinumab (Lfd.-Nr. 20), 21. Tiotropium bromid-1-Wasser + Olodaterol hydrochlorid (Lfd.-Nr. 21), 22. Follitropin alfa (Lfd.-Nr. 22), 23. Beclometason dipropionat + Formoterol hemifumarat-1-Wasser + Glycopyrronium bromid (Lfd.-Nr. 23), 24. Opipramol dihydrochlorid (Lfd.-Nr. 24). *Vom Beschaffungsbedarf umfasst sind insoweit nur Arzneimittel mit retardierten (langwirkenden) Monatsdepot-­Formen. Der Beschaffungsbedarf wurde dabei nicht in Lose eingeteilt. Es handelt sich um ein Open-­House-­Verfahren. Soweit im Rahmen dieser Bekanntmachung daher Formulierungen verwendet werden, welche auf die Einteilung des Beschaffungsbedarfs in ein oder mehrere Los(e) hindeuten, ist dies allein den Vorgaben dieses Bekanntmachungsformulars geschuldet. In diesem Zusammenhang wird auf die eingangs unter Ziffer 2.1 beschriebene Nichtgeltung vergaberechtlicher Regelungen verwiesen. Die AOK startete das Open-House-Verfahren mit den erstbekanntgemachten Wirkstoffen der lfd.-Nr. 1 bis 9 der Anlage 3 zu den Teilnahmebedingungen (sog. Startwirkstoffe) und erweiterte den Beschaffungsbedarf mit den Folgebekanntmachungen um die Wirkstoffkombination und Wirkstoffe der lfd.-Nr. 10 bis 23 der Anlage 3 zu den Teilnahmebedingungen. Die AOK behält sich weiterhin vor, den Beschaffungsbedarf dieses Open-­House-­Verfahrens im Laufe des Verfahrens zu erweitern, d. h. die Anlage 3 zu den Teilnahmebedingungen, um weitere Wirkstoffe zu ergänzen. Nähere Informationen zu einer möglichen Erweiterung des Beschaffungsbedarfs enthalten die Teilnahmebedingungen (Abschnitt A.I.4.1). Verträge zu Arzneimitteln mit den Startwirkstoffen konnten bereits mit Wirkung zum 1.7.2023 geschlossen werden (sog. frühestmöglicher Vertragsstart). Verträge zu Arzneimitteln mit der laufenden Nummer 10 der Anlage 3 zu den Teilnahmebedingungen konnten frühestens mit Wirkung zum 1.8.2023 geschlossen werden, Verträge mit der laufenden Nummer 11 konnten frühestens mit Wirkung zum 1.4.2024 geschlossen werden, Verträge mit der laufenden Nummer 12 bis 16 konnten frühestens mit Wirkung zum 1.7.2024 geschlossen werden, Verträge mit der laufenden Nummer 17 konnten frühestens mit Wirkung zum 1.9.2024 geschlossen werden, Verträge mit der laufenden Nummer 18 konnten frühestens mit Wirkung zum 1.11.2024 geschlossen werden, Verträge mit der laufenden Nummer 19 konnten frühestens mit Wirkung zum 1.12.2024 geschlossen werden, Verträge mit der laufenden Nummer 20+21 konnten frühestens mit Wirkung zum 1.1.2025 geschlossen werden und Verträge mit der laufenden Nummer 22 konnten frühestens mit Wirkung zum 1.2.2025 geschlossen werden. Verträge mit der laufenden Nummer 23 können frühestens mit Wirkung zum 1.4.2025 geschlossen werden. Verträge mit der laufenden Nummer 24 können frühestens mit Wirkung zum 1.5.2025 geschlossen werden. Alle im Rahmen dieses Open­-House-­Verfahrens geschlossenen Rabattverträge enden einheitlich am 30.6.2025 (sog. Vertragsende). Der Abschluss eines Rabattvertrags zu Arzneimitteln mit den o. g. Wirkstoffen zu einem späteren Zeitpunkt als dem 1.7.2023 bzw. dem 1.8.2023 bzw. dem 1.4.2024 bzw. dem 1.7.2024 bzw. dem 1.9.2024 bzw. dem 1.11.2024 bzw. dem 1.12.2024 bzw. dem 1.1.2025 bzw. dem 1.2.2025 bzw. dem 1.4.2025 bzw. dem 1.5.2025 ist jeweils zu einem Monatsersten möglich. Die Angebote sind dazu spätestens 6 Wochen vor dem beabsichtigten Vertragsstart nach Maßgabe der Teilnahmeunterlagen vollständig ausschließlich in elektronischer Form über den Kommunikationsbereich der Vergabeplattform einzureichen. Die jeweiligen Angebotsfristen sind dabei bezogen auf den vom interessierten pharmazeutischen Unternehmer beabsichtigten Vertragsstart der Anlage 3 zu den Teilnahmebedingungen zu entnehmen. Für alle im Rahmen dieses Open-House-Verfahrens abzuschließenden Verträge ist der letztmögliche Vertragsstart der 1.6.2025. Angebote für diesen Vertragsstart müssen spätestens am 17.4.2025 eingehen. Die AOK gibt den Inhalt des Rabattvertrags für alle potenziellen Vertragspartner verbindlich vor. Verhandlungen über Vertragsinhalte werden nicht geführt. Die AOK sichert den Vertragspartnern keine Exklusivität zu. Im Fall eines Vertragsschlusses gewährt der pharmazeutische Unternehmer der AOK einen Rabatt auf die vertragsgegenständlichen Arzneimittel, die nach näherer Maßgabe der Teilnahmebedingungen und des Rabattvertrags zu Lasten der AOK abgegeben werden (zur vorgegebenen Rabatthöhe und Rabattberechnung wird insbesondere auf die Abschnitte A.I.4.3, A.I.5 und A.I.7 der Teilnahmebedingungen sowie § 2 Abs. (2) und § 4 Abs. (3) des Rabattvertrags verwiesen. --> Text length need to be between 0 and 5000 characters\n",
            "\n",
            "Processing file: /content/med_webscraper/ted_html_pages/91714-2018.html\n"
          ]
        },
        {
          "output_type": "stream",
          "name": "stderr",
          "text": [
            "Processing files:  13%|█▎        | 128/961 [05:33<35:47,  2.58s/file]"
          ]
        },
        {
          "output_type": "stream",
          "name": "stdout",
          "text": [
            "  Keyword not found in any section. Skipping file.\n",
            "\n",
            "Processing file: /content/med_webscraper/ted_html_pages/637604-2023.html\n"
          ]
        },
        {
          "output_type": "stream",
          "name": "stderr",
          "text": [
            "Processing files:  13%|█▎        | 129/961 [05:34<27:23,  1.98s/file]"
          ]
        },
        {
          "output_type": "stream",
          "name": "stdout",
          "text": [
            "  Keyword not found in any section. Skipping file.\n",
            "\n",
            "Processing file: /content/med_webscraper/ted_html_pages/224501-2019.html\n"
          ]
        },
        {
          "output_type": "stream",
          "name": "stderr",
          "text": [
            "Processing files:  14%|█▎        | 130/961 [05:34<20:08,  1.45s/file]"
          ]
        },
        {
          "output_type": "stream",
          "name": "stdout",
          "text": [
            "  Keyword not found in any section. Skipping file.\n",
            "\n",
            "Processing file: /content/med_webscraper/ted_html_pages/640537-2023.html\n"
          ]
        },
        {
          "output_type": "stream",
          "name": "stderr",
          "text": [
            "Processing files:  14%|█▎        | 132/961 [05:36<15:32,  1.12s/file]"
          ]
        },
        {
          "output_type": "stream",
          "name": "stdout",
          "text": [
            "  Keyword not found in any section. Skipping file.\n",
            "\n",
            "Processing file: /content/med_webscraper/ted_html_pages/794394-2023.html\n",
            "  Keyword not found in any section. Skipping file.\n",
            "\n",
            "Processing file: /content/med_webscraper/ted_html_pages/504646-2022.html\n"
          ]
        },
        {
          "output_type": "stream",
          "name": "stderr",
          "text": [
            "Processing files:  14%|█▍        | 133/961 [05:39<22:21,  1.62s/file]"
          ]
        },
        {
          "output_type": "stream",
          "name": "stdout",
          "text": [
            "  Keyword not found in any section. Skipping file.\n",
            "\n",
            "Processing file: /content/med_webscraper/ted_html_pages/296291-2019.html\n"
          ]
        },
        {
          "output_type": "stream",
          "name": "stderr",
          "text": [
            "Processing files:  14%|█▍        | 134/961 [05:40<21:28,  1.56s/file]"
          ]
        },
        {
          "output_type": "stream",
          "name": "stdout",
          "text": [
            "  Keyword not found in any section. Skipping file.\n",
            "\n",
            "Processing file: /content/med_webscraper/ted_html_pages/558836-2021.html\n"
          ]
        },
        {
          "output_type": "stream",
          "name": "stderr",
          "text": [
            "Processing files:  14%|█▍        | 136/961 [05:42<15:14,  1.11s/file]"
          ]
        },
        {
          "output_type": "stream",
          "name": "stdout",
          "text": [
            "  Keyword not found in any section. Skipping file.\n",
            "\n",
            "Processing file: /content/med_webscraper/ted_html_pages/533633-2018.html\n",
            "  Keyword not found in any section. Skipping file.\n",
            "\n",
            "Processing file: /content/med_webscraper/ted_html_pages/296741-2021.html\n"
          ]
        },
        {
          "output_type": "stream",
          "name": "stderr",
          "text": [
            "Processing files:  14%|█▍        | 137/961 [05:42<11:05,  1.24file/s]"
          ]
        },
        {
          "output_type": "stream",
          "name": "stdout",
          "text": [
            "  Keyword not found in any section. Skipping file.\n",
            "\n",
            "Processing file: /content/med_webscraper/ted_html_pages/353327-2021.html\n"
          ]
        },
        {
          "output_type": "stream",
          "name": "stderr",
          "text": [
            "Processing files:  14%|█▍        | 138/961 [05:42<08:51,  1.55file/s]"
          ]
        },
        {
          "output_type": "stream",
          "name": "stdout",
          "text": [
            "  Keyword not found in any section. Skipping file.\n",
            "\n",
            "Processing file: /content/med_webscraper/ted_html_pages/164412-2021.html\n"
          ]
        },
        {
          "output_type": "stream",
          "name": "stderr",
          "text": [
            "Processing files:  14%|█▍        | 139/961 [05:43<08:42,  1.57file/s]"
          ]
        },
        {
          "output_type": "stream",
          "name": "stdout",
          "text": [
            "  Keyword not found in any section. Skipping file.\n",
            "\n",
            "Processing file: /content/med_webscraper/ted_html_pages/101968-2022.html\n"
          ]
        },
        {
          "output_type": "stream",
          "name": "stderr",
          "text": [
            "Processing files:  15%|█▍        | 141/961 [05:44<07:53,  1.73file/s]"
          ]
        },
        {
          "output_type": "stream",
          "name": "stdout",
          "text": [
            "  Keyword not found in any section. Skipping file.\n",
            "\n",
            "Processing file: /content/med_webscraper/ted_html_pages/25613-2018.html\n",
            "  Keyword not found in any section. Skipping file.\n",
            "\n",
            "Processing file: /content/med_webscraper/ted_html_pages/204162-2020.html\n"
          ]
        },
        {
          "output_type": "stream",
          "name": "stderr",
          "text": [
            "Processing files:  15%|█▍        | 142/961 [05:45<06:52,  1.98file/s]"
          ]
        },
        {
          "output_type": "stream",
          "name": "stdout",
          "text": [
            "  Keyword not found in any section. Skipping file.\n",
            "\n",
            "Processing file: /content/med_webscraper/ted_html_pages/483247-2025.html\n"
          ]
        },
        {
          "output_type": "stream",
          "name": "stderr",
          "text": [
            "Processing files:  15%|█▍        | 142/961 [05:45<06:52,  1.98file/s]"
          ]
        },
        {
          "output_type": "stream",
          "name": "stdout",
          "text": [
            "  Keyword found in section. Extracting data...\n",
            "    Making batch translation request for 39 unique strings...\n"
          ]
        },
        {
          "output_type": "stream",
          "name": "stderr",
          "text": [
            "Processing files:  15%|█▍        | 144/961 [05:52<24:26,  1.80s/file]"
          ]
        },
        {
          "output_type": "stream",
          "name": "stdout",
          "text": [
            "    Translation complete.\n",
            "\n",
            "Processing file: /content/med_webscraper/ted_html_pages/551319-2021.html\n",
            "  Keyword not found in any section. Skipping file.\n",
            "\n",
            "Processing file: /content/med_webscraper/ted_html_pages/4882-2021.html\n"
          ]
        },
        {
          "output_type": "stream",
          "name": "stderr",
          "text": [
            "Processing files:  15%|█▌        | 145/961 [05:52<17:38,  1.30s/file]"
          ]
        },
        {
          "output_type": "stream",
          "name": "stdout",
          "text": [
            "  Keyword not found in any section. Skipping file.\n",
            "\n",
            "Processing file: /content/med_webscraper/ted_html_pages/60945-2025.html\n",
            "  Keyword found in section. Extracting data...\n",
            "    Making batch translation request for 35 unique strings...\n"
          ]
        },
        {
          "output_type": "stream",
          "name": "stderr",
          "text": [
            "Processing files:  15%|█▌        | 145/961 [05:58<17:38,  1.30s/file]"
          ]
        },
        {
          "output_type": "stream",
          "name": "stdout",
          "text": [
            "    Translation complete.\n",
            "  Keyword found in section. Extracting data...\n",
            "    Making batch translation request for 49 unique strings...\n"
          ]
        },
        {
          "output_type": "stream",
          "name": "stderr",
          "text": [
            "Processing files:  15%|█▌        | 146/961 [06:02<53:12,  3.92s/file]"
          ]
        },
        {
          "output_type": "stream",
          "name": "stdout",
          "text": [
            "    Translation complete.\n",
            "\n",
            "Processing file: /content/med_webscraper/ted_html_pages/347741-2024.html\n"
          ]
        },
        {
          "output_type": "stream",
          "name": "stderr",
          "text": [
            "Processing files:  15%|█▌        | 146/961 [06:02<53:12,  3.92s/file]"
          ]
        },
        {
          "output_type": "stream",
          "name": "stdout",
          "text": [
            "  Keyword found in section. Extracting data...\n",
            "    Making batch translation request for 53 unique strings...\n"
          ]
        },
        {
          "output_type": "stream",
          "name": "stderr",
          "text": [
            "Processing files:  15%|█▌        | 146/961 [06:13<53:12,  3.92s/file]"
          ]
        },
        {
          "output_type": "stream",
          "name": "stdout",
          "text": [
            "    Translation complete.\n",
            "  Keyword found in section. Extracting data...\n",
            "    Making batch translation request for 29 unique strings...\n"
          ]
        },
        {
          "output_type": "stream",
          "name": "stderr",
          "text": [
            "Processing files:  15%|█▌        | 148/961 [06:18<1:12:18,  5.34s/file]"
          ]
        },
        {
          "output_type": "stream",
          "name": "stdout",
          "text": [
            "    Translation complete.\n",
            "\n",
            "Processing file: /content/med_webscraper/ted_html_pages/453703-2021.html\n",
            "  Keyword not found in any section. Skipping file.\n",
            "\n",
            "Processing file: /content/med_webscraper/ted_html_pages/539288-2018.html\n"
          ]
        },
        {
          "output_type": "stream",
          "name": "stderr",
          "text": [
            "Processing files:  16%|█▌        | 149/961 [06:19<53:22,  3.94s/file]"
          ]
        },
        {
          "output_type": "stream",
          "name": "stdout",
          "text": [
            "  Keyword not found in any section. Skipping file.\n",
            "\n",
            "Processing file: /content/med_webscraper/ted_html_pages/70090-2024.html\n"
          ]
        },
        {
          "output_type": "stream",
          "name": "stderr",
          "text": [
            "Processing files:  16%|█▌        | 150/961 [06:19<38:24,  2.84s/file]"
          ]
        },
        {
          "output_type": "stream",
          "name": "stdout",
          "text": [
            "  Keyword not found in any section. Skipping file.\n",
            "\n",
            "Processing file: /content/med_webscraper/ted_html_pages/542119-2024.html\n",
            "  Keyword found in section. Extracting data...\n",
            "    Making batch translation request for 30 unique strings...\n"
          ]
        },
        {
          "output_type": "stream",
          "name": "stderr",
          "text": [
            "Processing files:  16%|█▌        | 150/961 [06:23<38:24,  2.84s/file]"
          ]
        },
        {
          "output_type": "stream",
          "name": "stdout",
          "text": [
            "    Warning: Batch translation failed. Using original text. Error: 1. O udzielenie zamówienia mogą ubiegać się wykonawcy, którzy: 1) nie podlegają wykluczeniu na podstawie art. 108 ustawy Pzp, z zastrzeżeniem art. 110 ust. 2 Pzp; 2) nie podlegają wykluczeniu na podstawie art. 7 ust. 1 pkt 1-3 ustawy z dnia 13 kwietnia 2022 r. o szczególnych rozwiązaniach w zakresie przeciwdziałania wspieraniu agresji na Ukrainę oraz służących ochronie bezpieczeństwa narodowego (tekst jedn. Dz. U. z 2023 poz. 1497); 3) nie podlegają wykluczeniu na podstawie art. 5k Rozporządzenia 833/2014 w brzmieniu nadanym rozporządzeniem 2022/576 dotyczącego środków ograniczających w związku z działaniami Rosji destabilizującymi sytuacje na Ukrainie. Wykonawcy mogą wspólnie ubiegać się o udzielenie zamówienia i w takim przypadku ustanawiają pełnomocnika do reprezentowania ich w postępowaniu albo do reprezentowania w postępowaniu i zawarcia umowy w sprawie zamówienia publicznego. Przepisy dotyczące wykonawcy stosuje się odpowiednio do wykonawców wspólnie ubiegających się o udzielenie zamówienia. 2. Wykaz podmiotowych środków dowodowych na potwierdzenie braku podstaw wykluczenia wymaganych do złożenia przez Wykonawcę w odpowiedzi na wezwanie Zamawiającego w trybie art. 126.1. ustawy Pzp, którego oferta została najwyżej oceniona: 2.1. Informacja z Krajowego Rejestru Karnego w zakresie art. 108 ust 1 pkt 1), 2) i 4) ustawy Pzp, sporządzona nie wcześniej niż 6 miesięcy przed jej złożeniem, 2.2. Oświadczenie w zakresie art. 108 ust. 1 pkt 5) ustawy Pzp, o braku przynależności do tej samej grupy kapitałowej, w rozumieniu ustawy z dnia 16 lutego 2007 r. o ochronie konkurencji i konsumentów (tekst jedn. Dz. U. 2023 poz. 1689), z innym Wykonawcą, który złożył odrębną ofertę, ofertę częściową, albo oświadczenie o przynależności do tej samej grupy kapitałowej wraz z dokumentami lub informacjami potwierdzającymi przygotowanie oferty, oferty częściowej niezależnie od innego Wykonawcy należącego do tej samej grupy kapitałowej – wg zał. nr 7 do SWZ – dotyczy pakietu nr….., 2.3. Oświadczenie o aktualności informacji zawartych w oświadczeniu, o którym mowa w art. 125 ust 1 ustawy, oraz Rozdziale XV pkt. 1.4 SWZ w zakresie podstaw wykluczenia – wg zał. nr 8 do SWZ. Jeżeli Wykonawca ma siedzibę lub miejsce zamieszkania poza granicami Rzeczpospolitej Polskiej, zamiast dokumentów o których mowa w pkt 2.1. niniejszego ogłoszenia, składa informację z odpowiedniego rejestru, takiego jak rejestr sądowy, albo, w przypadku braku takiego rejestru, inny równoważny dokument wydany przez właściwy organ sądowy lub administracyjny kraju, w którym wykonawca ma siedzibę lub miejsce zamieszkania lub miejsce zamieszkania ma osoba, której dotyczy informacja albo dokument, w zakresie, o którym mowa w art. 108 ust 1 pkt 1), 2) i 4) ustawy Pzp. Jeżeli w kraju, w którym wykonawca ma siedzibę lub miejsce zamieszkania lub miejsce zamieszkania ma osoba, której dokument dotyczy, nie wydaje się dokumentów, o których mowa w pkt. 2.1. lub gdy dokumenty te nie odnoszą się do wszystkich przypadków, o których mowa w art. 108 ust. 1 pkt 1, 2 i 4, art. 109 ust. 1 pkt 1, 2 lit. a i b oraz pkt 3 ustawy, zastępuje się je odpowiednio w całości lub w części dokumentem zawierającym odpowiednio oświadczenie wykonawcy, ze wskazaniem osoby albo osób uprawnionych do jego reprezentacji, lub oświadczenie osoby, której dokument miał dotyczyć, złożone pod przysięgą, lub, jeżeli w kraju, w którym wykonawca ma siedzibę lub miejsce zamieszkania lub miejsce zamieszkania ma osoba, której dokument miał dotyczyć, nie ma przepisów o oświadczeniu pod przysięgą, złożone przed organem sądowym lub administracyjnym, notariuszem, organem samorządu zawodowego lub gospodarczego, właściwym ze względu na siedzibę lub miejsce zamieszkania wykonawcy lub miejsce zamieszkania osoby, której dokument miał dotyczyć. 3. Opis sposobu przygotowywania oferty: wykonawca zobowiązany jest złożyć wraz z ofertą: 3.1. Oświadczenie, o którym mowa w art. 125 ust. 1 ustawy Pzp – wg zał. nr 4 do SWZ. Zamawiający przygotował formularz JEDZ w formacie .xml. W części IV formularza JEDZ „Kryteria kwalifikacji” Wykonawca wypełnia tylko sekcję oznaczoną literą α (alfa) „Ogólne oświadczenie dotyczące wszystkich kryteriów kwalifikacji” zaznaczając pozycję „TAK” lub „NIE” Narzędzie do wypełnienia JEDZ-a:https://www.uzp.gov.pl/baza-wiedzy/prawo-zamowien-publicznych-regulacje/prawo-krajowe/jednolity-europejski-dokument-zamowienia/elektroniczne-narzedzie-do-wypelniania-jedzespdPowyższe oświadczenie stanowi dowód potwierdzający brak podstaw wykluczenia odpowiednio na dzień składania ofert, tymczasowo zastępujący wymagane przez Zamawiającego podmiotowe środki dowodowe. a) W przypadku wspólnego ubiegania się o zamówienie przez Wykonawców oświadczenie składa każdy z Wykonawców wspólnie ubiegających się o zamówienie. Oświadczenia te potwierdzają brak podstaw wykluczenia. b) Oświadczenia JEDZ podmiotów składających ofertę wspólnie, muszą mieć postać elektroniczną, podpisaną kwalifikowanym podpisem elektronicznym przez każdy z tych podmiotów w zakresie w jakim potwierdzają okoliczności, o których mowa w treści art. 57 ustawy Pzp. 3.2. Formularz ofertowy – zał. nr 3 do SWZ; 3.3. Formularz cenowy – zał. 5 do SWZ 3.4. Oświadczenie o niepodleganiu wykluczeniu na podstawie art. 5k Rozporządzenia 833/2014 w brzmieniu nadanym rozporządzeniem 2022/576 dotyczącego środków ograniczających w związku z działaniami Rosji destabilizującymi sytuacje na Ukrainie – zał. nr 6 do SWZ. Zaleca się złożenie w ofercie aktualnego wyciągu z KRS/CEIDG z uwagi na częste przerwy techniczne w ogólnodostępnej bazie danych przedsiębiorców. 4. Ofertę należy złożyć za pośrednictwem środka komunikacji elektronicznej platformy zakupowej link:https://ipczd.ezamawiajacy.pl/pn/ipczd/demand/167496/notice/public/detailsKlauzula informacyjna dotycząca przetwarzania danych osobowych w postępowaniach o udzielenie zamówienia publicznego ogłaszanych przez Instytut „Pomnik - Centrum Zdrowia Dziecka” Zgodnie z art. 13 ust. 1 i 2 Rozporządzenia Parlamentu Europejskiego i Rady (UE) 2016/679 z dnia 27 kwietnia 2016 roku w sprawie ochrony osób fizycznych w związku z przetwarzaniem danych osobowych i w sprawie swobodnego przepływ takich danych oraz uchylenia Dyrektywy 95/46/WE (zwanego „RODO'') informujemy Państwa, że: 1. Administratorem Państwa danych osobowych (dalej, jako: „Administrator Danych Osobowych”) jest Instytut „Pomnik-Centrum Zdrowia Dziecka” z siedzibą w Warszawie (04-730), przy Al. Dzieci Polskich 20, wpisanym do rejestru przedsiębiorców prowadzonego przez Sąd Rejonowy dla m. st. Warszawy w Warszawie, XIV Wydział Gospodarczy KRS, pod nr 0000092381, NIP 952-11-43-675, REGON 000557961 2. W instytucie został wyznaczony Inspektor Ochrony Danych, z którym można skontaktować się poprzez adres emailiod@ipczd.pllub pisemnie na adres Administratora Danych. 3. Państwa dane osobowe będą przetwarzane na podstawie art.6 akapit 1 lit f) RODO. Przetwarzanie Państwa danych osobowych odbywa się w celu zawarcia i realizacji umowy, której stronę Państwo reprezentują. --> Text length need to be between 0 and 5000 characters\n",
            "  Keyword found in section. Extracting data...\n",
            "    Making batch translation request for 54 unique strings...\n"
          ]
        },
        {
          "output_type": "stream",
          "name": "stderr",
          "text": [
            "Processing files:  16%|█▌        | 151/961 [06:32<1:20:11,  5.94s/file]"
          ]
        },
        {
          "output_type": "stream",
          "name": "stdout",
          "text": [
            "    Translation complete.\n",
            "\n",
            "Processing file: /content/med_webscraper/ted_html_pages/544356-2019.html\n"
          ]
        },
        {
          "output_type": "stream",
          "name": "stderr",
          "text": [
            "Processing files:  16%|█▌        | 152/961 [06:33<59:22,  4.40s/file]"
          ]
        },
        {
          "output_type": "stream",
          "name": "stdout",
          "text": [
            "  Keyword not found in any section. Skipping file.\n",
            "\n",
            "Processing file: /content/med_webscraper/ted_html_pages/580037-2023.html\n"
          ]
        },
        {
          "output_type": "stream",
          "name": "stderr",
          "text": [
            "Processing files:  16%|█▌        | 154/961 [06:34<30:07,  2.24s/file]"
          ]
        },
        {
          "output_type": "stream",
          "name": "stdout",
          "text": [
            "  Keyword not found in any section. Skipping file.\n",
            "\n",
            "Processing file: /content/med_webscraper/ted_html_pages/83147-2019.html\n",
            "  Keyword not found in any section. Skipping file.\n",
            "\n",
            "Processing file: /content/med_webscraper/ted_html_pages/217001-2017.html\n"
          ]
        },
        {
          "output_type": "stream",
          "name": "stderr",
          "text": [
            "Processing files:  16%|█▌        | 155/961 [06:39<41:19,  3.08s/file]"
          ]
        },
        {
          "output_type": "stream",
          "name": "stdout",
          "text": [
            "  Keyword not found in any section. Skipping file.\n",
            "\n",
            "Processing file: /content/med_webscraper/ted_html_pages/92887-2023.html\n"
          ]
        },
        {
          "output_type": "stream",
          "name": "stderr",
          "text": [
            "Processing files:  16%|█▌        | 156/961 [06:39<30:45,  2.29s/file]"
          ]
        },
        {
          "output_type": "stream",
          "name": "stdout",
          "text": [
            "  Keyword not found in any section. Skipping file.\n",
            "\n",
            "Processing file: /content/med_webscraper/ted_html_pages/437729-2020.html\n"
          ]
        },
        {
          "output_type": "stream",
          "name": "stderr",
          "text": [
            "Processing files:  16%|█▋        | 157/961 [06:40<23:42,  1.77s/file]"
          ]
        },
        {
          "output_type": "stream",
          "name": "stdout",
          "text": [
            "  Keyword not found in any section. Skipping file.\n",
            "\n",
            "Processing file: /content/med_webscraper/ted_html_pages/54527-2025.html\n"
          ]
        },
        {
          "output_type": "stream",
          "name": "stderr",
          "text": [
            "Processing files:  16%|█▋        | 157/961 [06:40<23:42,  1.77s/file]"
          ]
        },
        {
          "output_type": "stream",
          "name": "stdout",
          "text": [
            "  Keyword found in section. Extracting data...\n",
            "    Making batch translation request for 41 unique strings...\n"
          ]
        },
        {
          "output_type": "stream",
          "name": "stderr",
          "text": [
            "Processing files:  16%|█▋        | 158/961 [06:44<35:52,  2.68s/file]"
          ]
        },
        {
          "output_type": "stream",
          "name": "stdout",
          "text": [
            "    Translation complete.\n",
            "\n",
            "Processing file: /content/med_webscraper/ted_html_pages/95039-2019.html\n",
            "  Keyword not found in any section. Skipping file.\n",
            "\n",
            "Processing file: /content/med_webscraper/ted_html_pages/390432-2019.html\n"
          ]
        },
        {
          "output_type": "stream",
          "name": "stderr",
          "text": [
            "Processing files:  17%|█▋        | 160/961 [06:45<21:00,  1.57s/file]"
          ]
        },
        {
          "output_type": "stream",
          "name": "stdout",
          "text": [
            "  Keyword not found in any section. Skipping file.\n",
            "\n",
            "Processing file: /content/med_webscraper/ted_html_pages/544131-2019.html\n"
          ]
        },
        {
          "output_type": "stream",
          "name": "stderr",
          "text": [
            "Processing files:  17%|█▋        | 161/961 [06:45<16:52,  1.27s/file]"
          ]
        },
        {
          "output_type": "stream",
          "name": "stdout",
          "text": [
            "  Keyword not found in any section. Skipping file.\n",
            "\n",
            "Processing file: /content/med_webscraper/ted_html_pages/540974-2024.html\n"
          ]
        },
        {
          "output_type": "stream",
          "name": "stderr",
          "text": [
            "Processing files:  17%|█▋        | 161/961 [06:46<16:52,  1.27s/file]"
          ]
        },
        {
          "output_type": "stream",
          "name": "stdout",
          "text": [
            "  Keyword found in section. Extracting data...\n",
            "    Making batch translation request for 34 unique strings...\n"
          ]
        },
        {
          "output_type": "stream",
          "name": "stderr",
          "text": [
            "Processing files:  17%|█▋        | 161/961 [06:52<16:52,  1.27s/file]"
          ]
        },
        {
          "output_type": "stream",
          "name": "stdout",
          "text": [
            "    Translation complete.\n",
            "  Keyword found in section. Extracting data...\n",
            "    Making batch translation request for 62 unique strings...\n"
          ]
        },
        {
          "output_type": "stream",
          "name": "stderr",
          "text": [
            "Processing files:  17%|█▋        | 161/961 [07:01<16:52,  1.27s/file]"
          ]
        },
        {
          "output_type": "stream",
          "name": "stdout",
          "text": [
            "    Translation complete.\n",
            "  Keyword found in section. Extracting data...\n",
            "    Making batch translation request for 62 unique strings...\n"
          ]
        },
        {
          "output_type": "stream",
          "name": "stderr",
          "text": [
            "Processing files:  17%|█▋        | 161/961 [07:09<16:52,  1.27s/file]"
          ]
        },
        {
          "output_type": "stream",
          "name": "stdout",
          "text": [
            "    Translation complete.\n",
            "  Keyword found in section. Extracting data...\n",
            "    Making batch translation request for 62 unique strings...\n"
          ]
        },
        {
          "output_type": "stream",
          "name": "stderr",
          "text": [
            "Processing files:  17%|█▋        | 162/961 [07:17<2:01:42,  9.14s/file]"
          ]
        },
        {
          "output_type": "stream",
          "name": "stdout",
          "text": [
            "    Translation complete.\n",
            "\n",
            "Processing file: /content/med_webscraper/ted_html_pages/219360-2020.html\n"
          ]
        },
        {
          "output_type": "stream",
          "name": "stderr",
          "text": [
            "Processing files:  17%|█▋        | 164/961 [07:17<1:04:47,  4.88s/file]"
          ]
        },
        {
          "output_type": "stream",
          "name": "stdout",
          "text": [
            "  Keyword not found in any section. Skipping file.\n",
            "\n",
            "Processing file: /content/med_webscraper/ted_html_pages/344236-2018.html\n",
            "  Keyword not found in any section. Skipping file.\n",
            "\n",
            "Processing file: /content/med_webscraper/ted_html_pages/84958-2020.html\n"
          ]
        },
        {
          "output_type": "stream",
          "name": "stderr",
          "text": [
            "Processing files:  17%|█▋        | 166/961 [07:17<34:07,  2.58s/file]"
          ]
        },
        {
          "output_type": "stream",
          "name": "stdout",
          "text": [
            "  Keyword not found in any section. Skipping file.\n",
            "\n",
            "Processing file: /content/med_webscraper/ted_html_pages/97878-2022.html\n",
            "  Keyword not found in any section. Skipping file.\n",
            "\n",
            "Processing file: /content/med_webscraper/ted_html_pages/378860-2025.html\n"
          ]
        },
        {
          "output_type": "stream",
          "name": "stderr",
          "text": [
            "Processing files:  17%|█▋        | 166/961 [07:18<34:07,  2.58s/file]"
          ]
        },
        {
          "output_type": "stream",
          "name": "stdout",
          "text": [
            "  Keyword found in section. Extracting data...\n",
            "    Making batch translation request for 49 unique strings...\n"
          ]
        },
        {
          "output_type": "stream",
          "name": "stderr",
          "text": [
            "Processing files:  17%|█▋        | 167/961 [07:26<55:57,  4.23s/file]"
          ]
        },
        {
          "output_type": "stream",
          "name": "stdout",
          "text": [
            "    Translation complete.\n",
            "\n",
            "Processing file: /content/med_webscraper/ted_html_pages/55251-2025.html\n"
          ]
        },
        {
          "output_type": "stream",
          "name": "stderr",
          "text": [
            "Processing files:  17%|█▋        | 167/961 [07:26<55:57,  4.23s/file]"
          ]
        },
        {
          "output_type": "stream",
          "name": "stdout",
          "text": [
            "  Keyword found in section. Extracting data...\n",
            "    Making batch translation request for 36 unique strings...\n"
          ]
        },
        {
          "output_type": "stream",
          "name": "stderr",
          "text": [
            "Processing files:  17%|█▋        | 168/961 [07:30<55:06,  4.17s/file]"
          ]
        },
        {
          "output_type": "stream",
          "name": "stdout",
          "text": [
            "    Translation complete.\n",
            "\n",
            "Processing file: /content/med_webscraper/ted_html_pages/443098-2018.html\n"
          ]
        },
        {
          "output_type": "stream",
          "name": "stderr",
          "text": [
            "Processing files:  18%|█▊        | 169/961 [07:31<42:34,  3.23s/file]"
          ]
        },
        {
          "output_type": "stream",
          "name": "stdout",
          "text": [
            "  Keyword not found in any section. Skipping file.\n",
            "\n",
            "Processing file: /content/med_webscraper/ted_html_pages/561256-2021.html\n"
          ]
        },
        {
          "output_type": "stream",
          "name": "stderr",
          "text": [
            "Processing files:  18%|█▊        | 171/961 [07:31<22:15,  1.69s/file]"
          ]
        },
        {
          "output_type": "stream",
          "name": "stdout",
          "text": [
            "  Keyword not found in any section. Skipping file.\n",
            "\n",
            "Processing file: /content/med_webscraper/ted_html_pages/514717-2017.html\n",
            "  Keyword not found in any section. Skipping file.\n",
            "\n",
            "Processing file: /content/med_webscraper/ted_html_pages/23651-2022.html\n"
          ]
        },
        {
          "output_type": "stream",
          "name": "stderr",
          "text": [
            "Processing files:  18%|█▊        | 172/961 [07:31<16:03,  1.22s/file]"
          ]
        },
        {
          "output_type": "stream",
          "name": "stdout",
          "text": [
            "  Keyword not found in any section. Skipping file.\n",
            "\n",
            "Processing file: /content/med_webscraper/ted_html_pages/451835-2024.html\n",
            "  Keyword found in section. Extracting data...\n",
            "    Making batch translation request for 53 unique strings...\n"
          ]
        },
        {
          "output_type": "stream",
          "name": "stderr",
          "text": [
            "Processing files:  18%|█▊        | 173/961 [07:40<46:34,  3.55s/file]"
          ]
        },
        {
          "output_type": "stream",
          "name": "stdout",
          "text": [
            "    Translation complete.\n",
            "\n",
            "Processing file: /content/med_webscraper/ted_html_pages/386770-2017.html\n"
          ]
        },
        {
          "output_type": "stream",
          "name": "stderr",
          "text": [
            "Processing files:  18%|█▊        | 174/961 [07:41<37:05,  2.83s/file]"
          ]
        },
        {
          "output_type": "stream",
          "name": "stdout",
          "text": [
            "  Keyword not found in any section. Skipping file.\n",
            "\n",
            "Processing file: /content/med_webscraper/ted_html_pages/313290-2021.html\n"
          ]
        },
        {
          "output_type": "stream",
          "name": "stderr",
          "text": [
            "Processing files:  18%|█▊        | 176/961 [07:42<19:31,  1.49s/file]"
          ]
        },
        {
          "output_type": "stream",
          "name": "stdout",
          "text": [
            "  Keyword not found in any section. Skipping file.\n",
            "\n",
            "Processing file: /content/med_webscraper/ted_html_pages/207611-2022.html\n",
            "  Keyword not found in any section. Skipping file.\n",
            "\n",
            "Processing file: /content/med_webscraper/ted_html_pages/490682-2022.html\n"
          ]
        },
        {
          "output_type": "stream",
          "name": "stderr",
          "text": [
            "Processing files:  18%|█▊        | 177/961 [07:42<15:50,  1.21s/file]"
          ]
        },
        {
          "output_type": "stream",
          "name": "stdout",
          "text": [
            "  Keyword not found in any section. Skipping file.\n",
            "\n",
            "Processing file: /content/med_webscraper/ted_html_pages/70655-2017.html\n"
          ]
        },
        {
          "output_type": "stream",
          "name": "stderr",
          "text": [
            "Processing files:  19%|█▊        | 178/961 [07:44<17:47,  1.36s/file]"
          ]
        },
        {
          "output_type": "stream",
          "name": "stdout",
          "text": [
            "  Keyword not found in any section. Skipping file.\n",
            "\n",
            "Processing file: /content/med_webscraper/ted_html_pages/22422-2017.html\n"
          ]
        },
        {
          "output_type": "stream",
          "name": "stderr",
          "text": [
            "Processing files:  19%|█▊        | 179/961 [07:45<14:40,  1.13s/file]"
          ]
        },
        {
          "output_type": "stream",
          "name": "stdout",
          "text": [
            "  Keyword not found in any section. Skipping file.\n",
            "\n",
            "Processing file: /content/med_webscraper/ted_html_pages/289371-2018.html\n"
          ]
        },
        {
          "output_type": "stream",
          "name": "stderr",
          "text": [
            "Processing files:  19%|█▉        | 181/961 [07:48<17:05,  1.31s/file]"
          ]
        },
        {
          "output_type": "stream",
          "name": "stdout",
          "text": [
            "  Keyword not found in any section. Skipping file.\n",
            "\n",
            "Processing file: /content/med_webscraper/ted_html_pages/182715-2018.html\n",
            "  Keyword not found in any section. Skipping file.\n",
            "\n",
            "Processing file: /content/med_webscraper/ted_html_pages/510252-2019.html\n"
          ]
        },
        {
          "output_type": "stream",
          "name": "stderr",
          "text": [
            "Processing files:  19%|█▉        | 182/961 [07:50<16:57,  1.31s/file]"
          ]
        },
        {
          "output_type": "stream",
          "name": "stdout",
          "text": [
            "  Keyword not found in any section. Skipping file.\n",
            "\n",
            "Processing file: /content/med_webscraper/ted_html_pages/695253-2024.html\n"
          ]
        },
        {
          "output_type": "stream",
          "name": "stderr",
          "text": [
            "Processing files:  19%|█▉        | 182/961 [07:50<16:57,  1.31s/file]"
          ]
        },
        {
          "output_type": "stream",
          "name": "stdout",
          "text": [
            "  Keyword found in section. Extracting data...\n",
            "    Making batch translation request for 38 unique strings...\n"
          ]
        },
        {
          "output_type": "stream",
          "name": "stderr",
          "text": [
            "Processing files:  19%|█▉        | 183/961 [07:57<41:37,  3.21s/file]"
          ]
        },
        {
          "output_type": "stream",
          "name": "stdout",
          "text": [
            "    Translation complete.\n",
            "\n",
            "Processing file: /content/med_webscraper/ted_html_pages/620951-2024.html\n"
          ]
        },
        {
          "output_type": "stream",
          "name": "stderr",
          "text": [
            "Processing files:  19%|█▉        | 183/961 [07:58<41:37,  3.21s/file]"
          ]
        },
        {
          "output_type": "stream",
          "name": "stdout",
          "text": [
            "  Keyword found in section. Extracting data...\n",
            "    Making batch translation request for 52 unique strings...\n"
          ]
        },
        {
          "output_type": "stream",
          "name": "stderr",
          "text": [
            "Processing files:  19%|█▉        | 184/961 [08:08<1:10:30,  5.45s/file]"
          ]
        },
        {
          "output_type": "stream",
          "name": "stdout",
          "text": [
            "    Translation complete.\n",
            "\n",
            "Processing file: /content/med_webscraper/ted_html_pages/362257-2025.html\n"
          ]
        },
        {
          "output_type": "stream",
          "name": "stderr",
          "text": [
            "Processing files:  19%|█▉        | 184/961 [08:09<1:10:30,  5.45s/file]"
          ]
        },
        {
          "output_type": "stream",
          "name": "stdout",
          "text": [
            "  Keyword found in section. Extracting data...\n",
            "    Making batch translation request for 58 unique strings...\n"
          ]
        },
        {
          "output_type": "stream",
          "name": "stderr",
          "text": [
            "Processing files:  19%|█▉        | 184/961 [08:22<1:10:30,  5.45s/file]"
          ]
        },
        {
          "output_type": "stream",
          "name": "stdout",
          "text": [
            "    Translation complete.\n",
            "  Keyword found in section. Extracting data...\n",
            "    Making batch translation request for 34 unique strings...\n"
          ]
        },
        {
          "output_type": "stream",
          "name": "stderr",
          "text": [
            "Processing files:  19%|█▉        | 185/961 [08:25<1:54:59,  8.89s/file]"
          ]
        },
        {
          "output_type": "stream",
          "name": "stdout",
          "text": [
            "    Translation complete.\n",
            "\n",
            "Processing file: /content/med_webscraper/ted_html_pages/478352-2018.html\n"
          ]
        },
        {
          "output_type": "stream",
          "name": "stderr",
          "text": [
            "Processing files:  19%|█▉        | 187/961 [08:25<57:46,  4.48s/file]"
          ]
        },
        {
          "output_type": "stream",
          "name": "stdout",
          "text": [
            "  Keyword not found in any section. Skipping file.\n",
            "\n",
            "Processing file: /content/med_webscraper/ted_html_pages/127951-2018.html\n",
            "  Keyword not found in any section. Skipping file.\n",
            "\n",
            "Processing file: /content/med_webscraper/ted_html_pages/544075-2019.html\n"
          ]
        },
        {
          "output_type": "stream",
          "name": "stderr",
          "text": [
            "Processing files:  20%|█▉        | 188/961 [08:25<40:53,  3.17s/file]"
          ]
        },
        {
          "output_type": "stream",
          "name": "stdout",
          "text": [
            "  Keyword not found in any section. Skipping file.\n",
            "\n",
            "Processing file: /content/med_webscraper/ted_html_pages/234233-2019.html\n"
          ]
        },
        {
          "output_type": "stream",
          "name": "stderr",
          "text": [
            "Processing files:  20%|█▉        | 189/961 [08:29<40:34,  3.15s/file]"
          ]
        },
        {
          "output_type": "stream",
          "name": "stdout",
          "text": [
            "  Keyword not found in any section. Skipping file.\n",
            "\n",
            "Processing file: /content/med_webscraper/ted_html_pages/274096-2025.html\n",
            "  Keyword found in section. Extracting data...\n",
            "    Making batch translation request for 34 unique strings...\n"
          ]
        },
        {
          "output_type": "stream",
          "name": "stderr",
          "text": [
            "Processing files:  20%|█▉        | 189/961 [08:34<40:34,  3.15s/file]"
          ]
        },
        {
          "output_type": "stream",
          "name": "stdout",
          "text": [
            "    Translation complete.\n",
            "  Keyword found in section. Extracting data...\n",
            "    Making batch translation request for 57 unique strings...\n"
          ]
        },
        {
          "output_type": "stream",
          "name": "stderr",
          "text": [
            "Processing files:  20%|█▉        | 190/961 [08:40<1:11:08,  5.54s/file]"
          ]
        },
        {
          "output_type": "stream",
          "name": "stdout",
          "text": [
            "    Translation complete.\n",
            "\n",
            "Processing file: /content/med_webscraper/ted_html_pages/55049-2025.html\n"
          ]
        },
        {
          "output_type": "stream",
          "name": "stderr",
          "text": [
            "Processing files:  20%|█▉        | 190/961 [08:40<1:11:08,  5.54s/file]"
          ]
        },
        {
          "output_type": "stream",
          "name": "stdout",
          "text": [
            "  Keyword found in section. Extracting data...\n",
            "    Making batch translation request for 41 unique strings...\n"
          ]
        },
        {
          "output_type": "stream",
          "name": "stderr",
          "text": [
            "Processing files:  20%|█▉        | 192/961 [08:44<46:34,  3.63s/file]"
          ]
        },
        {
          "output_type": "stream",
          "name": "stdout",
          "text": [
            "    Translation complete.\n",
            "\n",
            "Processing file: /content/med_webscraper/ted_html_pages/209743-2022.html\n",
            "  Keyword not found in any section. Skipping file.\n",
            "\n",
            "Processing file: /content/med_webscraper/ted_html_pages/335443-2018.html\n"
          ]
        },
        {
          "output_type": "stream",
          "name": "stderr",
          "text": [
            "Processing files:  20%|██        | 194/961 [08:45<24:37,  1.93s/file]"
          ]
        },
        {
          "output_type": "stream",
          "name": "stdout",
          "text": [
            "  Keyword not found in any section. Skipping file.\n",
            "\n",
            "Processing file: /content/med_webscraper/ted_html_pages/262189-2022.html\n",
            "  Keyword not found in any section. Skipping file.\n",
            "\n",
            "Processing file: /content/med_webscraper/ted_html_pages/685602-2025.html\n"
          ]
        },
        {
          "output_type": "stream",
          "name": "stderr",
          "text": [
            "Processing files:  20%|██        | 194/961 [08:45<24:37,  1.93s/file]"
          ]
        },
        {
          "output_type": "stream",
          "name": "stdout",
          "text": [
            "  Keyword found in section. Extracting data...\n",
            "    Making batch translation request for 51 unique strings...\n"
          ]
        },
        {
          "output_type": "stream",
          "name": "stderr",
          "text": [
            "Processing files:  20%|██        | 196/961 [08:55<40:11,  3.15s/file]"
          ]
        },
        {
          "output_type": "stream",
          "name": "stdout",
          "text": [
            "    Translation complete.\n",
            "\n",
            "Processing file: /content/med_webscraper/ted_html_pages/179057-2016.html\n",
            "  Keyword not found in any section. Skipping file.\n",
            "\n",
            "Processing file: /content/med_webscraper/ted_html_pages/624247-2023.html\n"
          ]
        },
        {
          "output_type": "stream",
          "name": "stderr",
          "text": [
            "Processing files:  20%|██        | 197/961 [08:56<32:18,  2.54s/file]"
          ]
        },
        {
          "output_type": "stream",
          "name": "stdout",
          "text": [
            "  Keyword not found in any section. Skipping file.\n",
            "\n",
            "Processing file: /content/med_webscraper/ted_html_pages/159623-2021.html\n"
          ]
        },
        {
          "output_type": "stream",
          "name": "stderr",
          "text": [
            "Processing files:  21%|██        | 199/961 [09:03<35:06,  2.76s/file]"
          ]
        },
        {
          "output_type": "stream",
          "name": "stdout",
          "text": [
            "  Keyword not found in any section. Skipping file.\n",
            "\n",
            "Processing file: /content/med_webscraper/ted_html_pages/215012-2023.html\n",
            "  Keyword not found in any section. Skipping file.\n",
            "\n",
            "Processing file: /content/med_webscraper/ted_html_pages/493252-2020.html\n"
          ]
        },
        {
          "output_type": "stream",
          "name": "stderr",
          "text": [
            "Processing files:  21%|██        | 201/961 [09:04<17:59,  1.42s/file]"
          ]
        },
        {
          "output_type": "stream",
          "name": "stdout",
          "text": [
            "  Keyword not found in any section. Skipping file.\n",
            "\n",
            "Processing file: /content/med_webscraper/ted_html_pages/85564-2021.html\n",
            "  Keyword not found in any section. Skipping file.\n",
            "\n",
            "Processing file: /content/med_webscraper/ted_html_pages/178401-2025.html\n"
          ]
        },
        {
          "output_type": "stream",
          "name": "stderr",
          "text": [
            "Processing files:  21%|██        | 201/961 [09:04<17:59,  1.42s/file]"
          ]
        },
        {
          "output_type": "stream",
          "name": "stdout",
          "text": [
            "  Keyword found in section. Extracting data...\n",
            "    Making batch translation request for 32 unique strings...\n"
          ]
        },
        {
          "output_type": "stream",
          "name": "stderr",
          "text": [
            "Processing files:  21%|██        | 201/961 [09:08<17:59,  1.42s/file]"
          ]
        },
        {
          "output_type": "stream",
          "name": "stdout",
          "text": [
            "    Translation complete.\n",
            "  Keyword found in section. Extracting data...\n",
            "    Making batch translation request for 49 unique strings...\n"
          ]
        },
        {
          "output_type": "stream",
          "name": "stderr",
          "text": [
            "Processing files:  21%|██        | 203/961 [09:16<41:47,  3.31s/file]"
          ]
        },
        {
          "output_type": "stream",
          "name": "stdout",
          "text": [
            "    Translation complete.\n",
            "\n",
            "Processing file: /content/med_webscraper/ted_html_pages/56541-2018.html\n",
            "  Keyword not found in any section. Skipping file.\n",
            "\n",
            "Processing file: /content/med_webscraper/ted_html_pages/114773-2019.html\n"
          ]
        },
        {
          "output_type": "stream",
          "name": "stderr",
          "text": [
            "Processing files:  21%|██        | 204/961 [09:16<29:37,  2.35s/file]"
          ]
        },
        {
          "output_type": "stream",
          "name": "stdout",
          "text": [
            "  Keyword not found in any section. Skipping file.\n",
            "\n",
            "Processing file: /content/med_webscraper/ted_html_pages/488644-2025.html\n"
          ]
        },
        {
          "output_type": "stream",
          "name": "stderr",
          "text": [
            "Processing files:  21%|██        | 204/961 [09:17<29:37,  2.35s/file]"
          ]
        },
        {
          "output_type": "stream",
          "name": "stdout",
          "text": [
            "  Keyword found in section. Extracting data...\n",
            "    Making batch translation request for 61 unique strings...\n"
          ]
        },
        {
          "output_type": "stream",
          "name": "stderr",
          "text": [
            "Processing files:  21%|██▏       | 205/961 [09:31<1:15:11,  5.97s/file]"
          ]
        },
        {
          "output_type": "stream",
          "name": "stdout",
          "text": [
            "    Translation complete.\n",
            "\n",
            "Processing file: /content/med_webscraper/ted_html_pages/118972-2024.html\n"
          ]
        },
        {
          "output_type": "stream",
          "name": "stderr",
          "text": [
            "Processing files:  21%|██▏       | 205/961 [09:31<1:15:11,  5.97s/file]"
          ]
        },
        {
          "output_type": "stream",
          "name": "stdout",
          "text": [
            "  Keyword found in section. Extracting data...\n",
            "    Making batch translation request for 32 unique strings...\n"
          ]
        },
        {
          "output_type": "stream",
          "name": "stderr",
          "text": [
            "Processing files:  21%|██▏       | 205/961 [09:35<1:15:11,  5.97s/file]"
          ]
        },
        {
          "output_type": "stream",
          "name": "stdout",
          "text": [
            "    Translation complete.\n",
            "  Keyword found in section. Extracting data...\n",
            "    Making batch translation request for 32 unique strings...\n"
          ]
        },
        {
          "output_type": "stream",
          "name": "stderr",
          "text": [
            "Processing files:  21%|██▏       | 205/961 [09:38<1:15:11,  5.97s/file]"
          ]
        },
        {
          "output_type": "stream",
          "name": "stdout",
          "text": [
            "    Translation complete.\n",
            "  Keyword found in section. Extracting data...\n",
            "    Making batch translation request for 32 unique strings...\n"
          ]
        },
        {
          "output_type": "stream",
          "name": "stderr",
          "text": [
            "Processing files:  21%|██▏       | 206/961 [09:42<1:35:01,  7.55s/file]"
          ]
        },
        {
          "output_type": "stream",
          "name": "stdout",
          "text": [
            "    Translation complete.\n",
            "\n",
            "Processing file: /content/med_webscraper/ted_html_pages/692986-2025.html\n",
            "  Keyword found in section. Extracting data...\n",
            "    Making batch translation request for 40 unique strings...\n"
          ]
        },
        {
          "output_type": "stream",
          "name": "stderr",
          "text": [
            "Processing files:  21%|██▏       | 206/961 [09:51<1:35:01,  7.55s/file]"
          ]
        },
        {
          "output_type": "stream",
          "name": "stdout",
          "text": [
            "    Translation complete.\n",
            "  Keyword found in section. Extracting data...\n",
            "    Making batch translation request for 47 unique strings...\n"
          ]
        },
        {
          "output_type": "stream",
          "name": "stderr",
          "text": [
            "Processing files:  22%|██▏       | 208/961 [10:00<1:33:26,  7.45s/file]"
          ]
        },
        {
          "output_type": "stream",
          "name": "stdout",
          "text": [
            "    Translation complete.\n",
            "\n",
            "Processing file: /content/med_webscraper/ted_html_pages/11008-2020.html\n",
            "  Keyword not found in any section. Skipping file.\n",
            "\n",
            "Processing file: /content/med_webscraper/ted_html_pages/255520-2021.html\n"
          ]
        },
        {
          "output_type": "stream",
          "name": "stderr",
          "text": [
            "Processing files:  22%|██▏       | 210/961 [10:00<46:24,  3.71s/file]"
          ]
        },
        {
          "output_type": "stream",
          "name": "stdout",
          "text": [
            "  Keyword not found in any section. Skipping file.\n",
            "\n",
            "Processing file: /content/med_webscraper/ted_html_pages/677425-2023.html\n",
            "  Keyword not found in any section. Skipping file.\n",
            "\n",
            "Processing file: /content/med_webscraper/ted_html_pages/124294-2022.html\n"
          ]
        },
        {
          "output_type": "stream",
          "name": "stderr",
          "text": [
            "Processing files:  22%|██▏       | 211/961 [10:00<33:56,  2.72s/file]"
          ]
        },
        {
          "output_type": "stream",
          "name": "stdout",
          "text": [
            "  Keyword not found in any section. Skipping file.\n",
            "\n",
            "Processing file: /content/med_webscraper/ted_html_pages/289663-2025.html\n",
            "  Keyword found in section. Extracting data...\n",
            "    Making batch translation request for 63 unique strings...\n"
          ]
        },
        {
          "output_type": "stream",
          "name": "stderr",
          "text": [
            "Processing files:  22%|██▏       | 212/961 [10:06<45:52,  3.67s/file]"
          ]
        },
        {
          "output_type": "stream",
          "name": "stdout",
          "text": [
            "    Translation complete.\n",
            "\n",
            "Processing file: /content/med_webscraper/ted_html_pages/254643-2018.html\n"
          ]
        },
        {
          "output_type": "stream",
          "name": "stderr",
          "text": [
            "Processing files:  22%|██▏       | 214/961 [10:06<23:26,  1.88s/file]"
          ]
        },
        {
          "output_type": "stream",
          "name": "stdout",
          "text": [
            "  Keyword not found in any section. Skipping file.\n",
            "\n",
            "Processing file: /content/med_webscraper/ted_html_pages/152864-2020.html\n",
            "  Keyword not found in any section. Skipping file.\n",
            "\n",
            "Processing file: /content/med_webscraper/ted_html_pages/587252-2025.html\n"
          ]
        },
        {
          "output_type": "stream",
          "name": "stderr",
          "text": [
            "Processing files:  22%|██▏       | 214/961 [10:07<23:26,  1.88s/file]"
          ]
        },
        {
          "output_type": "stream",
          "name": "stdout",
          "text": [
            "  Keyword found in section. Extracting data...\n",
            "    Making batch translation request for 62 unique strings...\n"
          ]
        },
        {
          "output_type": "stream",
          "name": "stderr",
          "text": [
            "Processing files:  22%|██▏       | 215/961 [10:12<37:00,  2.98s/file]"
          ]
        },
        {
          "output_type": "stream",
          "name": "stdout",
          "text": [
            "    Translation complete.\n",
            "\n",
            "Processing file: /content/med_webscraper/ted_html_pages/130564-2021.html\n"
          ]
        },
        {
          "output_type": "stream",
          "name": "stderr",
          "text": [
            "Processing files:  23%|██▎       | 217/961 [10:12<19:23,  1.56s/file]"
          ]
        },
        {
          "output_type": "stream",
          "name": "stdout",
          "text": [
            "  Keyword not found in any section. Skipping file.\n",
            "\n",
            "Processing file: /content/med_webscraper/ted_html_pages/458792-2022.html\n",
            "  Keyword not found in any section. Skipping file.\n",
            "\n",
            "Processing file: /content/med_webscraper/ted_html_pages/290054-2016.html\n"
          ]
        },
        {
          "output_type": "stream",
          "name": "stderr",
          "text": [
            "Processing files:  23%|██▎       | 218/961 [10:13<14:02,  1.13s/file]"
          ]
        },
        {
          "output_type": "stream",
          "name": "stdout",
          "text": [
            "  Keyword not found in any section. Skipping file.\n",
            "\n",
            "Processing file: /content/med_webscraper/ted_html_pages/533976-2023.html\n"
          ]
        },
        {
          "output_type": "stream",
          "name": "stderr",
          "text": [
            "Processing files:  23%|██▎       | 219/961 [10:13<11:00,  1.12file/s]"
          ]
        },
        {
          "output_type": "stream",
          "name": "stdout",
          "text": [
            "  Keyword not found in any section. Skipping file.\n",
            "\n",
            "Processing file: /content/med_webscraper/ted_html_pages/54538-2023.html\n",
            "  Keyword not found in any section. Skipping file.\n"
          ]
        },
        {
          "output_type": "stream",
          "name": "stderr",
          "text": [
            "Processing files:  23%|██▎       | 221/961 [10:13<06:26,  1.91file/s]"
          ]
        },
        {
          "output_type": "stream",
          "name": "stdout",
          "text": [
            "\n",
            "Processing file: /content/med_webscraper/ted_html_pages/55064-2019.html\n",
            "  Keyword not found in any section. Skipping file.\n",
            "\n",
            "Processing file: /content/med_webscraper/ted_html_pages/202483-2018.html\n"
          ]
        },
        {
          "output_type": "stream",
          "name": "stderr",
          "text": [
            "Processing files:  23%|██▎       | 222/961 [10:16<13:54,  1.13s/file]"
          ]
        },
        {
          "output_type": "stream",
          "name": "stdout",
          "text": [
            "  Keyword not found in any section. Skipping file.\n",
            "\n",
            "Processing file: /content/med_webscraper/ted_html_pages/342081-2021.html\n"
          ]
        },
        {
          "output_type": "stream",
          "name": "stderr",
          "text": [
            "Processing files:  23%|██▎       | 223/961 [10:16<11:03,  1.11file/s]"
          ]
        },
        {
          "output_type": "stream",
          "name": "stdout",
          "text": [
            "  Keyword not found in any section. Skipping file.\n",
            "\n",
            "Processing file: /content/med_webscraper/ted_html_pages/219320-2017.html\n"
          ]
        },
        {
          "output_type": "stream",
          "name": "stderr",
          "text": [
            "Processing files:  23%|██▎       | 224/961 [10:16<08:32,  1.44file/s]"
          ]
        },
        {
          "output_type": "stream",
          "name": "stdout",
          "text": [
            "  Keyword not found in any section. Skipping file.\n",
            "\n",
            "Processing file: /content/med_webscraper/ted_html_pages/438759-2022.html\n"
          ]
        },
        {
          "output_type": "stream",
          "name": "stderr",
          "text": [
            "Processing files:  23%|██▎       | 225/961 [10:17<08:03,  1.52file/s]"
          ]
        },
        {
          "output_type": "stream",
          "name": "stdout",
          "text": [
            "  Keyword not found in any section. Skipping file.\n",
            "\n",
            "Processing file: /content/med_webscraper/ted_html_pages/55642-2025.html\n"
          ]
        },
        {
          "output_type": "stream",
          "name": "stderr",
          "text": [
            "Processing files:  23%|██▎       | 225/961 [10:17<08:03,  1.52file/s]"
          ]
        },
        {
          "output_type": "stream",
          "name": "stdout",
          "text": [
            "  Keyword found in section. Extracting data...\n",
            "    Making batch translation request for 36 unique strings...\n"
          ]
        },
        {
          "output_type": "stream",
          "name": "stderr",
          "text": [
            "Processing files:  23%|██▎       | 225/961 [10:21<08:03,  1.52file/s]"
          ]
        },
        {
          "output_type": "stream",
          "name": "stdout",
          "text": [
            "    Translation complete.\n",
            "  Keyword found in section. Extracting data...\n",
            "    Making batch translation request for 36 unique strings...\n"
          ]
        },
        {
          "output_type": "stream",
          "name": "stderr",
          "text": [
            "Processing files:  23%|██▎       | 225/961 [10:26<08:03,  1.52file/s]"
          ]
        },
        {
          "output_type": "stream",
          "name": "stdout",
          "text": [
            "    Translation complete.\n",
            "  Keyword found in section. Extracting data...\n",
            "    Making batch translation request for 40 unique strings...\n"
          ]
        },
        {
          "output_type": "stream",
          "name": "stderr",
          "text": [
            "Processing files:  24%|██▎       | 227/961 [10:30<38:05,  3.11s/file]"
          ]
        },
        {
          "output_type": "stream",
          "name": "stdout",
          "text": [
            "    Translation complete.\n",
            "\n",
            "Processing file: /content/med_webscraper/ted_html_pages/284555-2021.html\n",
            "  Keyword not found in any section. Skipping file.\n",
            "\n",
            "Processing file: /content/med_webscraper/ted_html_pages/464947-2018.html\n"
          ]
        },
        {
          "output_type": "stream",
          "name": "stderr",
          "text": [
            "Processing files:  24%|██▍       | 229/961 [10:31<20:51,  1.71s/file]"
          ]
        },
        {
          "output_type": "stream",
          "name": "stdout",
          "text": [
            "  Keyword not found in any section. Skipping file.\n",
            "\n",
            "Processing file: /content/med_webscraper/ted_html_pages/349579-2022.html\n",
            "  Keyword not found in any section. Skipping file.\n",
            "\n",
            "Processing file: /content/med_webscraper/ted_html_pages/406207-2022.html\n"
          ]
        },
        {
          "output_type": "stream",
          "name": "stderr",
          "text": [
            "Processing files:  24%|██▍       | 230/961 [10:31<15:06,  1.24s/file]"
          ]
        },
        {
          "output_type": "stream",
          "name": "stdout",
          "text": [
            "  Keyword not found in any section. Skipping file.\n",
            "\n",
            "Processing file: /content/med_webscraper/ted_html_pages/85988-2024.html\n"
          ]
        },
        {
          "output_type": "stream",
          "name": "stderr",
          "text": [
            "Processing files:  24%|██▍       | 230/961 [10:32<15:06,  1.24s/file]"
          ]
        },
        {
          "output_type": "stream",
          "name": "stdout",
          "text": [
            "  Keyword found in section. Extracting data...\n",
            "    Making batch translation request for 52 unique strings...\n"
          ]
        },
        {
          "output_type": "stream",
          "name": "stderr",
          "text": [
            "Processing files:  24%|██▍       | 230/961 [10:40<15:06,  1.24s/file]"
          ]
        },
        {
          "output_type": "stream",
          "name": "stdout",
          "text": [
            "    Translation complete.\n",
            "  Keyword found in section. Extracting data...\n",
            "    Making batch translation request for 51 unique strings...\n"
          ]
        },
        {
          "output_type": "stream",
          "name": "stderr",
          "text": [
            "Processing files:  24%|██▍       | 230/961 [10:46<15:06,  1.24s/file]"
          ]
        },
        {
          "output_type": "stream",
          "name": "stdout",
          "text": [
            "    Translation complete.\n",
            "  Keyword found in section. Extracting data...\n",
            "    Making batch translation request for 31 unique strings...\n"
          ]
        },
        {
          "output_type": "stream",
          "name": "stderr",
          "text": [
            "Processing files:  24%|██▍       | 231/961 [10:51<1:23:21,  6.85s/file]"
          ]
        },
        {
          "output_type": "stream",
          "name": "stdout",
          "text": [
            "    Translation complete.\n",
            "\n",
            "Processing file: /content/med_webscraper/ted_html_pages/227089-2019.html\n"
          ]
        },
        {
          "output_type": "stream",
          "name": "stderr",
          "text": [
            "Processing files:  24%|██▍       | 233/961 [10:52<42:26,  3.50s/file]"
          ]
        },
        {
          "output_type": "stream",
          "name": "stdout",
          "text": [
            "  Keyword not found in any section. Skipping file.\n",
            "\n",
            "Processing file: /content/med_webscraper/ted_html_pages/204859-2016.html\n",
            "  Keyword not found in any section. Skipping file.\n",
            "\n",
            "Processing file: /content/med_webscraper/ted_html_pages/95048-2019.html\n"
          ]
        },
        {
          "output_type": "stream",
          "name": "stderr",
          "text": [
            "Processing files:  24%|██▍       | 235/961 [10:52<21:30,  1.78s/file]"
          ]
        },
        {
          "output_type": "stream",
          "name": "stdout",
          "text": [
            "  Keyword not found in any section. Skipping file.\n",
            "\n",
            "Processing file: /content/med_webscraper/ted_html_pages/381028-2015.html\n",
            "  Keyword not found in any section. Skipping file.\n",
            "\n",
            "Processing file: /content/med_webscraper/ted_html_pages/73697-2016.html\n"
          ]
        },
        {
          "output_type": "stream",
          "name": "stderr",
          "text": [
            "Processing files:  25%|██▍       | 236/961 [10:52<15:28,  1.28s/file]"
          ]
        },
        {
          "output_type": "stream",
          "name": "stdout",
          "text": [
            "  Keyword not found in any section. Skipping file.\n",
            "\n",
            "Processing file: /content/med_webscraper/ted_html_pages/649109-2022.html\n"
          ]
        },
        {
          "output_type": "stream",
          "name": "stderr",
          "text": [
            "Processing files:  25%|██▍       | 237/961 [10:52<12:24,  1.03s/file]"
          ]
        },
        {
          "output_type": "stream",
          "name": "stdout",
          "text": [
            "  Keyword not found in any section. Skipping file.\n",
            "\n",
            "Processing file: /content/med_webscraper/ted_html_pages/586820-2021.html\n"
          ]
        },
        {
          "output_type": "stream",
          "name": "stderr",
          "text": [
            "Processing files:  25%|██▍       | 239/961 [10:53<07:25,  1.62file/s]"
          ]
        },
        {
          "output_type": "stream",
          "name": "stdout",
          "text": [
            "  Keyword not found in any section. Skipping file.\n",
            "\n",
            "Processing file: /content/med_webscraper/ted_html_pages/425876-2020.html\n",
            "  Keyword not found in any section. Skipping file.\n",
            "\n",
            "Processing file: /content/med_webscraper/ted_html_pages/500250-2017.html\n"
          ]
        },
        {
          "output_type": "stream",
          "name": "stderr",
          "text": [
            "Processing files:  25%|██▍       | 240/961 [10:53<06:20,  1.89file/s]"
          ]
        },
        {
          "output_type": "stream",
          "name": "stdout",
          "text": [
            "  Keyword not found in any section. Skipping file.\n",
            "\n",
            "Processing file: /content/med_webscraper/ted_html_pages/463624-2017.html\n"
          ]
        },
        {
          "output_type": "stream",
          "name": "stderr",
          "text": [
            "Processing files:  25%|██▌       | 242/961 [10:54<04:18,  2.78file/s]"
          ]
        },
        {
          "output_type": "stream",
          "name": "stdout",
          "text": [
            "  Keyword not found in any section. Skipping file.\n",
            "\n",
            "Processing file: /content/med_webscraper/ted_html_pages/256448-2020.html\n",
            "  Keyword not found in any section. Skipping file.\n",
            "\n",
            "Processing file: /content/med_webscraper/ted_html_pages/148977-2025.html\n"
          ]
        },
        {
          "output_type": "stream",
          "name": "stderr",
          "text": [
            "Processing files:  25%|██▌       | 242/961 [10:54<04:18,  2.78file/s]"
          ]
        },
        {
          "output_type": "stream",
          "name": "stdout",
          "text": [
            "  Keyword found in section. Extracting data...\n",
            "    Making batch translation request for 63 unique strings...\n"
          ]
        },
        {
          "output_type": "stream",
          "name": "stderr",
          "text": [
            "Processing files:  25%|██▌       | 244/961 [10:55<04:54,  2.44file/s]"
          ]
        },
        {
          "output_type": "stream",
          "name": "stdout",
          "text": [
            "    Warning: Batch translation failed. Using original text. Error: Zum Beschaffungsbedarf zählen sämtliche Arzneimittel mit den in Anlage 3 zu den Teilnahmebedingungen mit Stand vom 23.1.2025 (sog. Wirkstoffliste und Fristen) benannten und im Folgenden aufgezählten Wirkstoffen: 1.Adalimumab(Lfd.-Nr. 1 der Anlage 3 zu den Teilnahmebedingungen), 2. Etanercept (Lfd.-­Nr. 2), 3. Filgrastim (Lfd.-­Nr. 3), 4. Infliximab (Lfd.-­Nr. 4), 5. Interferon beta-1a (Lfd.-Nr. 5), 6. Interferon beta-1b (Lfd.-Nr. 6), 7. Leuprorelin (Lfd.-­Nr. 7), 8. Octreotid (Depot)* (Lfd.-­Nr. 8), 9. Pegfilgrastim (Lfd.-Nr. 9), 10. Beclometason dipropionat + Formoterol hemifumarat-1-Wasser (Lfd.-­Nr. 10), 11. Rotigotin (Lfd.-­Nr. 11), 12. Abatacept (Lfd.-­Nr. 12), 13. Denosumab (Lfd.-­Nr. 13), 14. Dornase alfa (Lfd.-­Nr. 14), 15. Natalizumab (Lfd.-­Nr. 15), 16. Tocilizumab (Lfd.-­Nr. 16), 17. Dimethyl fumarat (Lfd.-Nr. 17), 18. Rivaroxaban 2,5 mg (Lfd.-­Nr. 18), 19. Omalizumab (Lfd.-Nr. 19), 20. Ustekinumab (Lfd.-Nr. 20), 21. Tiotropium bromid-1-Wasser + Olodaterol hydrochlorid (Lfd.-Nr. 21), 22. Follitropin alfa (Lfd.-Nr. 22), 23. Beclometason dipropionat + Formoterol hemifumarat-1-Wasser + Glycopyrronium bromid (Lfd.-Nr. 23), 24. Opipramol dihydrochlorid (Lfd.-Nr. 24). *Vom Beschaffungsbedarf umfasst sind insoweit nur Arzneimittel mit retardierten (langwirkenden) Monatsdepot-­Formen. Der Beschaffungsbedarf wurde dabei nicht in Lose eingeteilt. Es handelt sich um ein Open-­House-­Verfahren. Soweit im Rahmen dieser Bekanntmachung daher Formulierungen verwendet werden, welche auf die Einteilung des Beschaffungsbedarfs in ein oder mehrere Los(e) hindeuten, ist dies allein den Vorgaben dieses Bekanntmachungsformulars geschuldet. In diesem Zusammenhang wird auf die eingangs unter Ziffer 2.1 beschriebene Nichtgeltung vergaberechtlicher Regelungen verwiesen. Die AOK startete das Open-House-Verfahren mit den erstbekanntgemachten Wirkstoffen der lfd.-Nr. 1 bis 9 der Anlage 3 zu den Teilnahmebedingungen (sog. Startwirkstoffe) und erweiterte den Beschaffungsbedarf mit den Folgebekanntmachungen um die Wirkstoffkombination und Wirkstoffe der lfd.-Nr. 10 bis 23 der Anlage 3 zu den Teilnahmebedingungen. Die AOK behält sich weiterhin vor, den Beschaffungsbedarf dieses Open-­House-­Verfahrens im Laufe des Verfahrens zu erweitern, d. h. die Anlage 3 zu den Teilnahmebedingungen, um weitere Wirkstoffe zu ergänzen. Nähere Informationen zu einer möglichen Erweiterung des Beschaffungsbedarfs enthalten die Teilnahmebedingungen (Abschnitt A.I.4.1). Verträge zu Arzneimitteln mit den Startwirkstoffen konnten bereits mit Wirkung zum 1.7.2023 geschlossen werden (sog. frühestmöglicher Vertragsstart). Verträge zu Arzneimitteln mit der laufenden Nummer 10 der Anlage 3 zu den Teilnahmebedingungen konnten frühestens mit Wirkung zum 1.8.2023 geschlossen werden, Verträge mit der laufenden Nummer 11 konnten frühestens mit Wirkung zum 1.4.2024 geschlossen werden, Verträge mit der laufenden Nummer 12 bis 16 konnten frühestens mit Wirkung zum 1.7.2024 geschlossen werden, Verträge mit der laufenden Nummer 17 konnten frühestens mit Wirkung zum 1.9.2024 geschlossen werden, Verträge mit der laufenden Nummer 18 konnten frühestens mit Wirkung zum 1.11.2024 geschlossen werden, Verträge mit der laufenden Nummer 19 konnten frühestens mit Wirkung zum 1.12.2024 geschlossen werden, Verträge mit der laufenden Nummer 20+21 konnten frühestens mit Wirkung zum 1.1.2025 geschlossen werden und Verträge mit der laufenden Nummer 22 konnten frühestens mit Wirkung zum 1.2.2025 geschlossen werden. Verträge mit der laufenden Nummer 23 können frühestens mit Wirkung zum 1.4.2025 geschlossen werden. Verträge mit der laufenden Nummer 24 können frühestens mit Wirkung zum 1.5.2025 geschlossen werden. Alle im Rahmen dieses Open­-House-­Verfahrens geschlossenen Rabattverträge enden einheitlich am 30.6.2025 (sog. Vertragsende). Der Abschluss eines Rabattvertrags zu Arzneimitteln mit den o. g. Wirkstoffen zu einem späteren Zeitpunkt als dem 1.7.2023 bzw. dem 1.8.2023 bzw. dem 1.4.2024 bzw. dem 1.7.2024 bzw. dem 1.9.2024 bzw. dem 1.11.2024 bzw. dem 1.12.2024 bzw. dem 1.1.2025 bzw. dem 1.2.2025 bzw. dem 1.4.2025 bzw. dem 1.5.2025 ist jeweils zu einem Monatsersten möglich. Die Angebote sind dazu spätestens 6 Wochen vor dem beabsichtigten Vertragsstart nach Maßgabe der Teilnahmeunterlagen vollständig ausschließlich in elektronischer Form über den Kommunikationsbereich der Vergabeplattform einzureichen. Die jeweiligen Angebotsfristen sind dabei bezogen auf den vom interessierten pharmazeutischen Unternehmer beabsichtigten Vertragsstart der Anlage 3 zu den Teilnahmebedingungen zu entnehmen. Für alle im Rahmen dieses Open-House-Verfahrens abzuschließenden Verträge ist der letztmögliche Vertragsstart der 1.6.2025. Angebote für diesen Vertragsstart müssen spätestens am 17.4.2025 eingehen. Die AOK gibt den Inhalt des Rabattvertrags für alle potenziellen Vertragspartner verbindlich vor. Verhandlungen über Vertragsinhalte werden nicht geführt. Die AOK sichert den Vertragspartnern keine Exklusivität zu. Im Fall eines Vertragsschlusses gewährt der pharmazeutische Unternehmer der AOK einen Rabatt auf die vertragsgegenständlichen Arzneimittel, die nach näherer Maßgabe der Teilnahmebedingungen und des Rabattvertrags zu Lasten der AOK abgegeben werden (zur vorgegebenen Rabatthöhe und Rabattberechnung wird insbesondere auf die Abschnitte A.I.4.3, A.I.5 und A.I.7 der Teilnahmebedingungen sowie § 2 Abs. (2) und § 4 Abs. (3) des Rabattvertrags verwiesen. --> Text length need to be between 0 and 5000 characters\n",
            "\n",
            "Processing file: /content/med_webscraper/ted_html_pages/726977-2022.html\n",
            "  Keyword not found in any section. Skipping file.\n",
            "\n",
            "Processing file: /content/med_webscraper/ted_html_pages/292169-2021.html\n"
          ]
        },
        {
          "output_type": "stream",
          "name": "stderr",
          "text": [
            "Processing files:  26%|██▌       | 246/961 [10:55<03:52,  3.08file/s]"
          ]
        },
        {
          "output_type": "stream",
          "name": "stdout",
          "text": [
            "  Keyword not found in any section. Skipping file.\n",
            "\n",
            "Processing file: /content/med_webscraper/ted_html_pages/347173-2023.html\n",
            "  Keyword not found in any section. Skipping file.\n",
            "\n",
            "Processing file: /content/med_webscraper/ted_html_pages/27425-2017.html\n"
          ]
        },
        {
          "output_type": "stream",
          "name": "stderr",
          "text": [
            "Processing files:  26%|██▌       | 247/961 [10:56<05:27,  2.18file/s]"
          ]
        },
        {
          "output_type": "stream",
          "name": "stdout",
          "text": [
            "  Keyword not found in any section. Skipping file.\n",
            "\n",
            "Processing file: /content/med_webscraper/ted_html_pages/132170-2018.html\n"
          ]
        },
        {
          "output_type": "stream",
          "name": "stderr",
          "text": [
            "Processing files:  26%|██▌       | 248/961 [10:57<06:23,  1.86file/s]"
          ]
        },
        {
          "output_type": "stream",
          "name": "stdout",
          "text": [
            "  Keyword not found in any section. Skipping file.\n",
            "\n",
            "Processing file: /content/med_webscraper/ted_html_pages/308137-2019.html\n"
          ]
        },
        {
          "output_type": "stream",
          "name": "stderr",
          "text": [
            "Processing files:  26%|██▌       | 250/961 [10:57<04:09,  2.85file/s]"
          ]
        },
        {
          "output_type": "stream",
          "name": "stdout",
          "text": [
            "  Keyword not found in any section. Skipping file.\n",
            "\n",
            "Processing file: /content/med_webscraper/ted_html_pages/98875-2020.html\n",
            "  Keyword not found in any section. Skipping file.\n",
            "\n",
            "Processing file: /content/med_webscraper/ted_html_pages/66417-2021.html\n"
          ]
        },
        {
          "output_type": "stream",
          "name": "stderr",
          "text": [
            "Processing files:  26%|██▌       | 252/961 [10:57<03:02,  3.89file/s]"
          ]
        },
        {
          "output_type": "stream",
          "name": "stdout",
          "text": [
            "  Keyword not found in any section. Skipping file.\n",
            "\n",
            "Processing file: /content/med_webscraper/ted_html_pages/152811-2020.html\n",
            "  Keyword not found in any section. Skipping file.\n",
            "\n",
            "Processing file: /content/med_webscraper/ted_html_pages/477175-2024.html\n"
          ]
        },
        {
          "output_type": "stream",
          "name": "stderr",
          "text": [
            "Processing files:  26%|██▌       | 252/961 [10:58<03:02,  3.89file/s]"
          ]
        },
        {
          "output_type": "stream",
          "name": "stdout",
          "text": [
            "  Keyword found in section. Extracting data...\n",
            "    Making batch translation request for 63 unique strings...\n"
          ]
        },
        {
          "output_type": "stream",
          "name": "stderr",
          "text": [
            "Processing files:  26%|██▌       | 252/961 [10:59<03:02,  3.89file/s]"
          ]
        },
        {
          "output_type": "stream",
          "name": "stdout",
          "text": [
            "    Warning: Batch translation failed. Using original text. Error: Zum Beschaffungsbedarf zählen sämtliche Arzneimittel mit den in Anlage 3 zu den Teilnahmebedingungen mit Stand vom 4.4.2024 (sog. Wirkstoffliste und Fristen) benannten und im Folgenden aufgezählten Wirkstoffen: 1.Adalimumab(Lfd.-Nr. 1 der Anlage 3 zu den Teilnahmebedingungen), 2. Etanercept (Lfd.-­Nr. 2 der Anlage 3 zu den Teilnahmebedingungen), 3. Filgrastim (Lfd.-­Nr. 3 der Anlage 3 zu den Teilnahmebedingungen), 4. Infliximab (Lfd.-­Nr. 4 der Anlage 3 zu den Teilnahmebedingungen), 5. Interferon beta-1a (Lfd.-Nr. 5 der Anlage 3 zu den Teilnahmebedingungen), 6. Interferon beta-1b (Lfd.-Nr. 6 der Anlage 3 zu den Teilnahmebedingungen), 7. Leuprorelin (Lfd.-­Nr. 7 der Anlage 3 zu den Teilnahmebedingungen), 8. Octreotid (Depot)* (Lfd.-­Nr. 8 der Anlage 3 zu den Teilnahmebedingungen), 9. Pegfilgrastim (Lfd.-Nr. 9 der Anlage 3 zu den Teilnahmebedingungen), 10. Beclometason dipropionat + Formoterol hemifumarat-1-Wasser (Lfd.-­Nr. 10 der Anlage 3 zu den Teilnahmebedingungen), 11. Rotigotin (Lfd.-­Nr. 11 der Anlage 3 zu den Teilnahmebedingungen), 12. Abatacept (Lfd.-­Nr. 12 der Anlage 3 zu den Teilnahmebedingungen), 13. Denosumab (Lfd.-­Nr. 13 der Anlage 3 zu den Teilnahmebedingungen), 14. Dornase alfa (Lfd.-­Nr. 14 der Anlage 3 zu den Teilnahmebedingungen), 15. Natalizumab (Lfd.-­Nr. 15 der Anlage 3 zu den Teilnahmebedingungen), 16. Tocilizumab (Lfd.-­Nr. 16 der Anlage 3 zu den Teilnahmebedingungen), 17. Dimethyl fumarat (Lfd.-Nr. 17 der Anlage 3 zuden Teilnahmebedingungen). *Vom Beschaffungsbedarf umfasst sind insoweit nur Arzneimittel mit retardierten (langwirkenden) Monatsdepot-­Formen. Der Beschaffungsbedarf wurde dabei nicht in Lose eingeteilt. Es handelt sich um ein Open-­House-­Verfahren. Soweit im Rahmen dieser Bekanntmachung daher Formulierungen verwendet werden, welche auf die Einteilung des Beschaffungsbedarfs in ein oder mehrere Los(e) hindeuten, ist dies allein den Vorgaben dieses Bekanntmachungsformulars geschuldet. In diesem Zusammenhang wird auf die eingangs unter Ziffer 2.1 beschriebene Nichtgeltung vergaberechtlicher Regelungen verwiesen. Die AOK startete das Open-House-Verfahren mit den erstbekanntgemachten Wirkstoffen der lfd.-Nr. 1 bis 9 der Anlage 3 zu den Teilnahmebedingungen (sog. Startwirkstoffe) und erweiterte den Beschaffungsbedarf mit den Folgebekanntmachungen um die Wirkstoffkombination und Wirkstoffe der lfd.-Nr. 10 bis 17 der Anlage 3 zu den Teilnahmebedingungen. Die AOK behält sich weiterhin vor, den Beschaffungsbedarf dieses Open-­House-­Verfahrens im Laufe des Verfahrens zu erweitern, d. h. die Anlage 3 zu den Teilnahmebedingungen, um weitere Wirkstoffe zu ergänzen. Nähere Informationen zu einer möglichen Erweiterung des Beschaffungsbedarfs enthalten die Teilnahmebedingungen (Abschnitt A.I.4.1). Verträge zu Arzneimitteln mit den Startwirkstoffen konnten bereits mit Wirkung zum 1.7.2023 geschlossen werden (sog. frühestmöglicher Vertragsstart). Verträge zu Arzneimitteln mit der laufenden Nummer 10 der Anlage 3 zu den Teilnahmebedingungen konnten frühestens mit Wirkung zum 1.8.2023 geschlossen werden, Verträge mit der laufenden Nummer 11 der Anlage 3 zu den Teilnahmebedingungen konnten frühestens mit Wirkung zum 1.4.2024 geschlossen werden, Verträge mit der laufenden Nummer 12 bis 16 der Anlage 3 zu den Teilnahmebedingungen können frühestens mit Wirkung zum 1.7.2024 geschlossen werden, Verträge mit der laufenden Nummer 17 der Anlage 3 zu den Teilnahmebedingungen können frühestens mit Wirkung zum 1.9.2024 geschlossen werden. Alle im Rahmen dieses Open­-House-­Verfahrens geschlossenen Rabattverträge enden einheitlich am 30.6.2025 (sog. Vertragsende). Der Abschluss eines Rabattvertrags zu Arzneimitteln mit den o. g. Wirkstoffen zu einem späteren Zeitpunkt als dem 1.7.2023 bzw. dem 1.8.2023 bzw. dem 1.4.2024 bzw. dem 1.7.2024 bzw. dem 1.9.2024 ist jeweils zu einem Monatsersten möglich. Die Angebote sind dazu spätestens 6 Wochen vor dem beabsichtigten Vertragsstart nach Maßgabe der Teilnahmeunterlagen vollständig ausschließlich in elektronischer Form über den Kommunikationsbereich der Vergabeplattform einzureichen. Die jeweiligen Angebotsfristen sind dabei bezogen auf den vom interessierten pharmazeutischen Unternehmer beabsichtigten Vertragsstart der Anlage 3 zu den Teilnahmebedingungen zu entnehmen. Vor dem 31.5.2023 sind keine Verträge zu dem Arzneimittel mit den Startwirkstoffen, vor dem 3.7.2023 keine Verträge zu Arzneimitteln mit der Wirkstoffkombination (lfd.-­Nr. 10 der Anlage 3 zu den Teilnahmebedingungen) und vor dem 1.3.2024 keine Verträge zu Arzneimitteln mit dem Wirkstoff (lfd.-­Nr. 11 der Anlage 3 zu den Teilnahmebedingungen) geschlossen worden (Warte-­ und Stillhaltefrist). Vor dem 28.5.2024 werden keine Verträge zu Arzneimitteln mit den Wirkstoffen (lfd.-­Nr. 12 bis 16 der Anlage 3 zu den Teilnahmebedingungen) und vor dem 30.7.2024 werden keine Verträge zu Arzneimitteln mit dem Wirkstoff (lfd.-Nr. 17 der Anlage 3 zu den Teilnahmebedingungen) geschlossen. Für alle im Rahmen dieses Open-House-Verfahrens abzuschließenden Verträge ist der letztmögliche Vertragsstart der 1.6.2025. Angebote für diesen Vertragsstart müssen spätestens am 17.4.2025 eingehen. Die AOK gibt den Inhalt des Rabattvertrags für alle potenziellen Vertragspartner verbindlich vor. Verhandlungen über Vertragsinhalte werden nicht geführt. Die AOK sichert den Vertragspartnern keine Exklusivität zu. Im Fall eines Vertragsschlusses gewährt der pharmazeutische Unternehmer der AOK einen Rabatt auf die vertragsgegenständlichen Arzneimittel, die nach näherer Maßgabe der Teilnahmebedingungen und des Rabattvertrags zu Lasten der AOK abgegeben werden (zur vorgegebenen Rabatthöhe und Rabattberechnung wird insbesondere auf die Abschnitte A.I.4.3, A.I.5 und A.I.7 der Teilnahmebedingungen sowie § 2 Abs. (2) und § 4 Abs. (3) des Rabattvertrags verwiesen. --> Text length need to be between 0 and 5000 characters\n",
            "  Keyword found in section. Extracting data...\n",
            "    Making batch translation request for 31 unique strings...\n"
          ]
        },
        {
          "output_type": "stream",
          "name": "stderr",
          "text": [
            "Processing files:  26%|██▋       | 254/961 [11:03<14:22,  1.22s/file]"
          ]
        },
        {
          "output_type": "stream",
          "name": "stdout",
          "text": [
            "    Translation complete.\n",
            "\n",
            "Processing file: /content/med_webscraper/ted_html_pages/247358-2023.html\n",
            "  Keyword not found in any section. Skipping file.\n",
            "\n",
            "Processing file: /content/med_webscraper/ted_html_pages/424425-2024.html\n"
          ]
        },
        {
          "output_type": "stream",
          "name": "stderr",
          "text": [
            "Processing files:  26%|██▋       | 254/961 [11:03<14:22,  1.22s/file]"
          ]
        },
        {
          "output_type": "stream",
          "name": "stdout",
          "text": [
            "  Keyword found in section. Extracting data...\n",
            "    Making batch translation request for 56 unique strings...\n"
          ]
        },
        {
          "output_type": "stream",
          "name": "stderr",
          "text": [
            "Processing files:  27%|██▋       | 255/961 [11:09<34:13,  2.91s/file]"
          ]
        },
        {
          "output_type": "stream",
          "name": "stdout",
          "text": [
            "    Translation complete.\n",
            "\n",
            "Processing file: /content/med_webscraper/ted_html_pages/196784-2021.html\n"
          ]
        },
        {
          "output_type": "stream",
          "name": "stderr",
          "text": [
            "Processing files:  27%|██▋       | 256/961 [11:10<26:08,  2.22s/file]"
          ]
        },
        {
          "output_type": "stream",
          "name": "stdout",
          "text": [
            "  Keyword not found in any section. Skipping file.\n",
            "\n",
            "Processing file: /content/med_webscraper/ted_html_pages/213734-2023.html\n"
          ]
        },
        {
          "output_type": "stream",
          "name": "stderr",
          "text": [
            "Processing files:  27%|██▋       | 257/961 [11:10<19:04,  1.63s/file]"
          ]
        },
        {
          "output_type": "stream",
          "name": "stdout",
          "text": [
            "  Keyword not found in any section. Skipping file.\n",
            "\n",
            "Processing file: /content/med_webscraper/ted_html_pages/243970-2020.html\n"
          ]
        },
        {
          "output_type": "stream",
          "name": "stderr",
          "text": [
            "                                                                     "
          ]
        },
        {
          "output_type": "stream",
          "name": "stdout",
          "text": [
            "  Keyword not found in any section. Skipping file.\n",
            "\n",
            "Processing file: /content/med_webscraper/ted_html_pages/392565-2019.html\n"
          ]
        },
        {
          "output_type": "stream",
          "name": "stderr",
          "text": [
            "Processing files:  27%|██▋       | 259/961 [11:11<11:54,  1.02s/file]"
          ]
        },
        {
          "output_type": "stream",
          "name": "stdout",
          "text": [
            "  Keyword not found in any section. Skipping file.\n",
            "\n",
            "Processing file: /content/med_webscraper/ted_html_pages/54707-2025.html\n"
          ]
        },
        {
          "output_type": "stream",
          "name": "stderr",
          "text": [
            "Processing files:  27%|██▋       | 259/961 [11:12<11:54,  1.02s/file]"
          ]
        },
        {
          "output_type": "stream",
          "name": "stdout",
          "text": [
            "  Keyword found in section. Extracting data...\n",
            "    Making batch translation request for 40 unique strings...\n"
          ]
        },
        {
          "output_type": "stream",
          "name": "stderr",
          "text": [
            "Processing files:  27%|██▋       | 259/961 [11:16<11:54,  1.02s/file]"
          ]
        },
        {
          "output_type": "stream",
          "name": "stdout",
          "text": [
            "    Translation complete.\n",
            "  Keyword found in section. Extracting data...\n",
            "    Making batch translation request for 42 unique strings...\n"
          ]
        },
        {
          "output_type": "stream",
          "name": "stderr",
          "text": [
            "Processing files:  27%|██▋       | 260/961 [11:21<41:48,  3.58s/file]"
          ]
        },
        {
          "output_type": "stream",
          "name": "stdout",
          "text": [
            "    Translation complete.\n",
            "\n",
            "Processing file: /content/med_webscraper/ted_html_pages/635237-2024.html\n"
          ]
        },
        {
          "output_type": "stream",
          "name": "stderr",
          "text": [
            "Processing files:  27%|██▋       | 260/961 [11:21<41:48,  3.58s/file]"
          ]
        },
        {
          "output_type": "stream",
          "name": "stdout",
          "text": [
            "  Keyword found in section. Extracting data...\n",
            "    Making batch translation request for 53 unique strings...\n"
          ]
        },
        {
          "output_type": "stream",
          "name": "stderr",
          "text": [
            "Processing files:  27%|██▋       | 261/961 [11:31<1:06:36,  5.71s/file]"
          ]
        },
        {
          "output_type": "stream",
          "name": "stdout",
          "text": [
            "    Translation complete.\n",
            "\n",
            "Processing file: /content/med_webscraper/ted_html_pages/57246-2022.html\n"
          ]
        },
        {
          "output_type": "stream",
          "name": "stderr",
          "text": [
            "Processing files:  27%|██▋       | 262/961 [11:32<47:59,  4.12s/file]"
          ]
        },
        {
          "output_type": "stream",
          "name": "stdout",
          "text": [
            "  Keyword not found in any section. Skipping file.\n",
            "\n",
            "Processing file: /content/med_webscraper/ted_html_pages/144857-2017.html\n"
          ]
        },
        {
          "output_type": "stream",
          "name": "stderr",
          "text": [
            "Processing files:  27%|██▋       | 263/961 [11:33<35:56,  3.09s/file]"
          ]
        },
        {
          "output_type": "stream",
          "name": "stdout",
          "text": [
            "  Keyword not found in any section. Skipping file.\n",
            "\n",
            "Processing file: /content/med_webscraper/ted_html_pages/336270-2018.html\n"
          ]
        },
        {
          "output_type": "stream",
          "name": "stderr",
          "text": [
            "Processing files:  27%|██▋       | 264/961 [11:33<26:07,  2.25s/file]"
          ]
        },
        {
          "output_type": "stream",
          "name": "stdout",
          "text": [
            "  Keyword not found in any section. Skipping file.\n",
            "\n",
            "Processing file: /content/med_webscraper/ted_html_pages/329187-2018.html\n"
          ]
        },
        {
          "output_type": "stream",
          "name": "stderr",
          "text": [
            "Processing files:  28%|██▊       | 266/961 [11:33<14:02,  1.21s/file]"
          ]
        },
        {
          "output_type": "stream",
          "name": "stdout",
          "text": [
            "  Keyword not found in any section. Skipping file.\n",
            "\n",
            "Processing file: /content/med_webscraper/ted_html_pages/344397-2019.html\n",
            "  Keyword not found in any section. Skipping file.\n",
            "\n",
            "Processing file: /content/med_webscraper/ted_html_pages/574112-2018.html\n"
          ]
        },
        {
          "output_type": "stream",
          "name": "stderr",
          "text": [
            "Processing files:  28%|██▊       | 267/961 [11:48<1:00:00,  5.19s/file]"
          ]
        },
        {
          "output_type": "stream",
          "name": "stdout",
          "text": [
            "  Keyword not found in any section. Skipping file.\n",
            "\n",
            "Processing file: /content/med_webscraper/ted_html_pages/145534-2017.html\n"
          ]
        },
        {
          "output_type": "stream",
          "name": "stderr",
          "text": [
            "Processing files:  28%|██▊       | 269/961 [11:55<46:07,  4.00s/file]"
          ]
        },
        {
          "output_type": "stream",
          "name": "stdout",
          "text": [
            "  Keyword not found in any section. Skipping file.\n",
            "\n",
            "Processing file: /content/med_webscraper/ted_html_pages/157884-2016.html\n",
            "  Keyword not found in any section. Skipping file.\n",
            "\n",
            "Processing file: /content/med_webscraper/ted_html_pages/624214-2020.html\n"
          ]
        },
        {
          "output_type": "stream",
          "name": "stderr",
          "text": [
            "Processing files:  28%|██▊       | 270/961 [11:55<33:11,  2.88s/file]"
          ]
        },
        {
          "output_type": "stream",
          "name": "stdout",
          "text": [
            "  Keyword not found in any section. Skipping file.\n",
            "\n",
            "Processing file: /content/med_webscraper/ted_html_pages/361532-2019.html\n"
          ]
        },
        {
          "output_type": "stream",
          "name": "stderr",
          "text": [
            "Processing files:  28%|██▊       | 272/961 [11:56<18:12,  1.59s/file]"
          ]
        },
        {
          "output_type": "stream",
          "name": "stdout",
          "text": [
            "  Keyword not found in any section. Skipping file.\n",
            "\n",
            "Processing file: /content/med_webscraper/ted_html_pages/513149-2019.html\n",
            "  Keyword not found in any section. Skipping file.\n",
            "\n",
            "Processing file: /content/med_webscraper/ted_html_pages/261667-2020.html\n"
          ]
        },
        {
          "output_type": "stream",
          "name": "stderr",
          "text": [
            "Processing files:  29%|██▊       | 274/961 [11:56<09:38,  1.19file/s]"
          ]
        },
        {
          "output_type": "stream",
          "name": "stdout",
          "text": [
            "  Keyword not found in any section. Skipping file.\n",
            "\n",
            "Processing file: /content/med_webscraper/ted_html_pages/551489-2019.html\n",
            "  Keyword not found in any section. Skipping file.\n",
            "\n",
            "Processing file: /content/med_webscraper/ted_html_pages/485912-2025.html\n"
          ]
        },
        {
          "output_type": "stream",
          "name": "stderr",
          "text": [
            "Processing files:  29%|██▊       | 274/961 [11:56<09:38,  1.19file/s]"
          ]
        },
        {
          "output_type": "stream",
          "name": "stdout",
          "text": [
            "  Keyword found in section. Extracting data...\n",
            "    Making batch translation request for 42 unique strings...\n"
          ]
        },
        {
          "output_type": "stream",
          "name": "stderr",
          "text": [
            "Processing files:  29%|██▊       | 276/961 [12:01<16:09,  1.42s/file]"
          ]
        },
        {
          "output_type": "stream",
          "name": "stdout",
          "text": [
            "    Translation complete.\n",
            "\n",
            "Processing file: /content/med_webscraper/ted_html_pages/136178-2019.html\n",
            "  Keyword not found in any section. Skipping file.\n",
            "\n",
            "Processing file: /content/med_webscraper/ted_html_pages/666999-2022.html\n"
          ]
        },
        {
          "output_type": "stream",
          "name": "stderr",
          "text": [
            "Processing files:  29%|██▉       | 278/961 [12:01<08:38,  1.32file/s]"
          ]
        },
        {
          "output_type": "stream",
          "name": "stdout",
          "text": [
            "  Keyword not found in any section. Skipping file.\n",
            "\n",
            "Processing file: /content/med_webscraper/ted_html_pages/119534-2023.html\n",
            "  Keyword not found in any section. Skipping file.\n",
            "\n",
            "Processing file: /content/med_webscraper/ted_html_pages/428776-2021.html\n"
          ]
        },
        {
          "output_type": "stream",
          "name": "stderr",
          "text": [
            "Processing files:  29%|██▉       | 279/961 [12:01<06:26,  1.76file/s]"
          ]
        },
        {
          "output_type": "stream",
          "name": "stdout",
          "text": [
            "  Keyword not found in any section. Skipping file.\n",
            "\n",
            "Processing file: /content/med_webscraper/ted_html_pages/107354-2019.html\n"
          ]
        },
        {
          "output_type": "stream",
          "name": "stderr",
          "text": [
            "Processing files:  29%|██▉       | 280/961 [12:05<18:43,  1.65s/file]"
          ]
        },
        {
          "output_type": "stream",
          "name": "stdout",
          "text": [
            "  Keyword not found in any section. Skipping file.\n",
            "\n",
            "Processing file: /content/med_webscraper/ted_html_pages/232861-2018.html\n"
          ]
        },
        {
          "output_type": "stream",
          "name": "stderr",
          "text": [
            "Processing files:  29%|██▉       | 281/961 [12:06<14:34,  1.29s/file]"
          ]
        },
        {
          "output_type": "stream",
          "name": "stdout",
          "text": [
            "  Keyword not found in any section. Skipping file.\n",
            "\n",
            "Processing file: /content/med_webscraper/ted_html_pages/717403-2023.html\n"
          ]
        },
        {
          "output_type": "stream",
          "name": "stderr",
          "text": [
            "Processing files:  29%|██▉       | 282/961 [12:06<11:07,  1.02file/s]"
          ]
        },
        {
          "output_type": "stream",
          "name": "stdout",
          "text": [
            "  Keyword not found in any section. Skipping file.\n",
            "\n",
            "Processing file: /content/med_webscraper/ted_html_pages/682635-2024.html\n",
            "  Keyword found in section. Extracting data...\n",
            "    Making batch translation request for 30 unique strings...\n"
          ]
        },
        {
          "output_type": "stream",
          "name": "stderr",
          "text": [
            "Processing files:  29%|██▉       | 282/961 [12:11<11:07,  1.02file/s]"
          ]
        },
        {
          "output_type": "stream",
          "name": "stdout",
          "text": [
            "    Translation complete.\n",
            "  Keyword found in section. Extracting data...\n",
            "    Making batch translation request for 52 unique strings...\n"
          ]
        },
        {
          "output_type": "stream",
          "name": "stderr",
          "text": [
            "Processing files:  29%|██▉       | 282/961 [12:18<11:07,  1.02file/s]"
          ]
        },
        {
          "output_type": "stream",
          "name": "stdout",
          "text": [
            "    Translation complete.\n",
            "  Keyword found in section. Extracting data...\n",
            "    Making batch translation request for 33 unique strings...\n"
          ]
        },
        {
          "output_type": "stream",
          "name": "stderr",
          "text": [
            "Processing files:  29%|██▉       | 283/961 [12:21<58:12,  5.15s/file]"
          ]
        },
        {
          "output_type": "stream",
          "name": "stdout",
          "text": [
            "    Translation complete.\n",
            "\n",
            "Processing file: /content/med_webscraper/ted_html_pages/42941-2019.html\n"
          ]
        },
        {
          "output_type": "stream",
          "name": "stderr",
          "text": [
            "Processing files:  30%|██▉       | 284/961 [12:21<42:12,  3.74s/file]"
          ]
        },
        {
          "output_type": "stream",
          "name": "stdout",
          "text": [
            "  Keyword not found in any section. Skipping file.\n",
            "\n",
            "Processing file: /content/med_webscraper/ted_html_pages/26039-2020.html\n"
          ]
        },
        {
          "output_type": "stream",
          "name": "stderr",
          "text": [
            "                                                                     "
          ]
        },
        {
          "output_type": "stream",
          "name": "stdout",
          "text": [
            "  Keyword not found in any section. Skipping file.\n",
            "\n",
            "Processing file: /content/med_webscraper/ted_html_pages/452254-2019.html\n"
          ]
        },
        {
          "output_type": "stream",
          "name": "stderr",
          "text": [
            "Processing files:  30%|██▉       | 286/961 [12:23<23:50,  2.12s/file]"
          ]
        },
        {
          "output_type": "stream",
          "name": "stdout",
          "text": [
            "  Keyword not found in any section. Skipping file.\n",
            "\n",
            "Processing file: /content/med_webscraper/ted_html_pages/190733-2023.html\n"
          ]
        },
        {
          "output_type": "stream",
          "name": "stderr",
          "text": [
            "Processing files:  30%|██▉       | 288/961 [12:23<13:03,  1.16s/file]"
          ]
        },
        {
          "output_type": "stream",
          "name": "stdout",
          "text": [
            "  Keyword not found in any section. Skipping file.\n",
            "\n",
            "Processing file: /content/med_webscraper/ted_html_pages/45570-2019.html\n",
            "  Keyword not found in any section. Skipping file.\n",
            "\n",
            "Processing file: /content/med_webscraper/ted_html_pages/604088-2020.html\n"
          ]
        },
        {
          "output_type": "stream",
          "name": "stderr",
          "text": [
            "Processing files:  30%|███       | 290/961 [12:23<07:04,  1.58file/s]"
          ]
        },
        {
          "output_type": "stream",
          "name": "stdout",
          "text": [
            "  Keyword not found in any section. Skipping file.\n",
            "\n",
            "Processing file: /content/med_webscraper/ted_html_pages/387861-2020.html\n",
            "  Keyword not found in any section. Skipping file.\n",
            "\n",
            "Processing file: /content/med_webscraper/ted_html_pages/757169-2024.html\n"
          ]
        },
        {
          "output_type": "stream",
          "name": "stderr",
          "text": [
            "Processing files:  30%|███       | 290/961 [12:24<07:04,  1.58file/s]"
          ]
        },
        {
          "output_type": "stream",
          "name": "stdout",
          "text": [
            "  Keyword found in section. Extracting data...\n",
            "    Making batch translation request for 52 unique strings...\n"
          ]
        },
        {
          "output_type": "stream",
          "name": "stderr",
          "text": [
            "Processing files:  30%|███       | 290/961 [12:34<07:04,  1.58file/s]"
          ]
        },
        {
          "output_type": "stream",
          "name": "stdout",
          "text": [
            "    Translation complete.\n",
            "  Keyword found in section. Extracting data...\n",
            "    Making batch translation request for 52 unique strings...\n"
          ]
        },
        {
          "output_type": "stream",
          "name": "stderr",
          "text": [
            "Processing files:  30%|███       | 290/961 [12:40<07:04,  1.58file/s]"
          ]
        },
        {
          "output_type": "stream",
          "name": "stdout",
          "text": [
            "    Translation complete.\n",
            "  Keyword found in section. Extracting data...\n",
            "    Making batch translation request for 52 unique strings...\n"
          ]
        },
        {
          "output_type": "stream",
          "name": "stderr",
          "text": [
            "Processing files:  30%|███       | 291/961 [12:45<1:16:49,  6.88s/file]"
          ]
        },
        {
          "output_type": "stream",
          "name": "stdout",
          "text": [
            "    Translation complete.\n",
            "\n",
            "Processing file: /content/med_webscraper/ted_html_pages/652259-2022.html\n"
          ]
        },
        {
          "output_type": "stream",
          "name": "stderr",
          "text": [
            "Processing files:  30%|███       | 293/961 [12:46<39:55,  3.59s/file]"
          ]
        },
        {
          "output_type": "stream",
          "name": "stdout",
          "text": [
            "  Keyword not found in any section. Skipping file.\n",
            "\n",
            "Processing file: /content/med_webscraper/ted_html_pages/33461-2022.html\n",
            "  Keyword not found in any section. Skipping file.\n",
            "\n",
            "Processing file: /content/med_webscraper/ted_html_pages/334415-2025.html\n"
          ]
        },
        {
          "output_type": "stream",
          "name": "stderr",
          "text": [
            "Processing files:  30%|███       | 293/961 [12:46<39:55,  3.59s/file]"
          ]
        },
        {
          "output_type": "stream",
          "name": "stdout",
          "text": [
            "  Keyword found in section. Extracting data...\n",
            "    Making batch translation request for 36 unique strings...\n"
          ]
        },
        {
          "output_type": "stream",
          "name": "stderr",
          "text": [
            "Processing files:  30%|███       | 293/961 [12:49<39:55,  3.59s/file]"
          ]
        },
        {
          "output_type": "stream",
          "name": "stdout",
          "text": [
            "    Warning: Batch translation failed. Using original text. Error: 1. Zamawiający przewiduje zastosowanie tzw. procedury odwróconej, o której mowa w art. 139 ust. 1 ustawy Pzp. 2. Zamawiający wykluczy z postępowania wykonawców, wobec których zachodzą podstawy wykluczenia, o których mowa w: 1) art. 108 ust. 1 i ust. 2 ustawy Pzp, 2) art. 109 ust. 1 pkt 4 ustawy Pzp, 3) art. 7 ust. 1 ustawy z dnia 13 kwietnia 2022 r. o szczególnych rozwiązaniach w zakresie przeciwdziałania wspieraniu agresji na Ukrainę oraz służących ochronie bezpieczeństwa narodowego (t.j. Dz. U. z 2024 r. poz. 507). 3. Zamawiający wykluczy z postępowania wykonawców, wobec których zachodzą przesłanki określone w art. 5 k rozporządzenia Rady (UE) nr 833/2014 z dnia 31 lipca 2014 r. dotyczącego środków ograniczających w związku z działaniami Rosji destabilizującymi sytuację na Ukrainie (Dz. Urz. UE nr L 111 z 8.4.2022, str. 1 z poźn. zm.). 4. Wymagane podmiotowe środki dowodowe - zgodnie z Rozdziałem X SWZ. 5. Informacje dotyczące Wykonawców wspólnie ubiegających się o udzielenie zamówienia, podwykonawców - zgodnie z Rozdziałem XI SWZ. 6. Informacje o przedmiotowych środkach dowodowych -zgodnie z rozdz. VI SWZ. 1) Zamawiający wymaga złożenia przedmiotowych środków dowodowych. 2) Zamawiający żąda, by wykonawca złożył wraz z ofertą następujące, przedmiotowe środki dowodowe na potwierdzenie, iż oferowane dostawy odpowiadają wymaganiom określonym przez Zamawiającego w SWZ (w szczególności w opisie przedmiotu zamówienia): Oświadczenie Wykonawcy, że oferowany produkt leczniczy posiada aktualne pozwolenie dopuszczające do obrotu na terenie RP – sporządzone według wzoru stanowiącego Załącznik nr 8 do SWZ. 3) Zamawiający przewiduje możliwość uzupełnienia przedmiotowych środków dowodowych, jeśli Wykonawca nie złoży przedmiotowych środków dowodowych lub złożone przedmiotowe środki dowodowe będą niekompletne. Wykonawca może uzupełnić przedmiotowe środki dowodowe, ale tylko na wezwanie Zamawiającego. 4) Zgodnie z treścią art. 107 ust 2 ustawy Pzp Zamawiający ma prawo wezwania Wykonawcy do złożenia lub uzupełnienia w wyznaczonym terminie przedmiotowych środków dowodowych wskazanych w pkt 2 w/w przedmiotowych środków dowodowych w przypadku jeżeli wykonawca nie złożył przedmiotowych środków dowodowych lub złożone przedmiotowe środki dowodowe są niekompletne. 5) Zamawiający akceptuje równoważne przedmiotowe środki dowodowe, jeśli potwierdzają, że oferowane świadczenia spełniają określone przez zamawiającego wymagania, cechy lub kryteria. 6) Zamawiający przewiduje możliwość zwrócenia się do Wykonawcy o wyjaśnienie przedmiotowych środków dowodowych. 7. Wymagania dotyczące oferty: 1) Oferta wraz ze stanowiącymi jej integralną część załącznikami musi być sporządzona i złożona zgodnie z zasadami wynikającymi z ustawy Pzp i określonymi w SWZ. 2) Wykonawca może złożyć tylko jedną ofertę. Złożenie większej liczby ofert spowoduje odrzucenie ofert. 3) Oferta musi być sporządzona w języku polskim, w postaci elektronicznej i opatrzona kwalifikowanym podpisem elektronicznym przez osobę upoważnioną do reprezentowania Wykonawcy. 4) Dopuszcza się używanie w oświadczeniach, ofertach oraz innych dokumentach określeń obcojęzycznych w zakresie określonym w art. 11 ustawy z dnia 7 października 1999 r. o języku polskim (t.j. Dz. U. z 2021 r. poz. 672, z późn. zm.). 5) Zamawiający wymaga złożenia oferty wraz z załącznikami w postaci elektronicznej, w formatach określonych w przepisach wydanych na podstawie art. 18 ustawy z dnia 17 lutego 2005 r. o informatyzacji działalności podmiotów realizujących zadania publiczne (t.j. Dz. U. z 2024 r. poz. 307). 6) Przez ofertę należy rozumieć formularz oferty (formularz ofertowy), którego wzór stanowi załącznik nr 1 do SWZ wraz z formularzem asortymentowo-cenowym (odpowiednio dla każdej z części zamówienia), którego wzór stanowi załącznik nr 2 do SWZ. 7) Wraz z ofertą Wykonawca zobowiązany jest złożyć: a) oświadczenie, o którym mowa w art. 125 ust. 1 ustawy Pzp (JEDZ/ESPD), którego wzór stanowi załącznik nr 4 do SWZ, w zakresie wskazanym w SWZ. Wykonawca składa oświadczenie na formularzu JEDZ. JEDZ stanowi dowód potwierdzający brak podstaw wykluczenia oraz spełnianie warunków udziału w postępowaniu, na dzień składania ofert oraz stanowi dowód tymczasowo zastępujący wymagane przez zamawiającego podmiotowe środki dowodowe, wskazane w SWZ. Wykonawca składa JEDZ w oryginale w postaci dokumentu elektronicznego podpisanego kwalifikowanym podpisem elektronicznym przez osobę upoważnioną do reprezentowania wykonawcy zgodnie z formą reprezentacji określoną w dokumencie rejestrowym właściwym dla formy organizacyjnej lub innym dokumencie. Wykonawca sporządzi oświadczenie JEDZ: - przy wykorzystaniu systemu dostępnego poprzez stronę internetowąhttps://espd.uzp.gov.pl/lub za pośrednictwem innych dostępnych narzędzi lub oprogramowania, które umożliwiają wypełnienie JEDZ i utworzenie dokumentu elektronicznego lub w formie załącznika zamieszczonego przez Zamawiającego razem z dokumentami zamówienia. Instrukcja wypełniania formularza JEDZ znajduje się na stronie internetowej Urzędu Zamówień Publicznych. Wykonawca, który zamierza powierzyć wykonanie części zamówienia podwykonawcom, na etapie postępowania o udzielenie zamówienia publicznego jest zobowiązany wypełnić część II sekcja D JEDZ, w tym, jeśli jest to wiadome, podać firmy podwykonawców. JEDZ sporządza odrębnie: wykonawca/każdy spośród wykonawców wspólnie ubiegających się o udzielenie zamówienia. W takim przypadku JEDZ potwierdza brak podstaw wykluczenia wykonawcy oraz spełnianie warunków udziału w postępowaniu w zakresie, w jakim każdy z wykonawców wykazuje spełnianie warunków udziału w postępowaniu. Wykonawca może ograniczyć się do wypełnienia sekcji „” części „IV” formularza (JEDZa). W takim przypadku Wykonawca nie musi wypełniać żadnej z pozostałych sekcji części „IV” formularza (JEDZa), zaś właściwej (dowodowej) weryfikacji spełniania konkretnych, określonych przez Zamawiającego warunków udziału w postępowaniu Zamawiający dokona co do zasady na zakończenie postępowania w oparciu o stosowne dokumenty składane przez Wykonawcę, którego oferta została oceniona najwyżej, na wezwanie Zamawiającego; b) oświadczenie Wykonawcy dotyczące przesłanek wykluczenia z art. 7 ust. 1 ustawy z dnia 13 kwietnia 2022 r. o szczególnych rozwiązaniach w zakresie przeciwdziałania wspieraniu agresji na Ukrainę oraz służących ochronie bezpieczeństwa narodowego oraz art. 5k rozporządzenia (UE) nr 833/2014 z dnia 31 lipca 2014 r. dotyczącego środków ograniczających w związku z działaniami Rosji destabilizującymi sytuację na Ukrainie, składane na podstawie art. 125 ust. 1 ustawy Pzp – zgodnie ze wzorem stanowiącym załącznik numer 7 do SWZ. Oświadczenie to Wykonawca przekazuje w postaci elektronicznej i opatruje kwalifikowanym podpisem elektronicznym. Oświadczenie sporządza odrębnie: wykonawca/każdy spośród wykonawców wspólnie ubiegających się o udzielenie zamówienia. c) dokument potwierdzający zasady reprezentacji wykonawcy tj. odpis lub informacja z Krajowego Rejestru Sądowego, Centralnej Ewidencji i Informacji o Działalności Gospodarczej lub innego właściwego rejestru o ile nie jest on dostępny w bezpłatnych i ogólnodostępnych elektronicznych bazach danych, których adres internetowy wykonawca wskazał w formularzu ofertowym lub JEDZ. W przypadku wskazania bazy danych, w której dokumenty są dostępne w innym języku niż polski, Zamawiający może po ich pobraniu wezwać Wykonawcę do przedstawienia tłumaczenia dokumentu na język polski - zgodnie z par 14 Rozporządzenia Ministra Rozwoju, Pracy i Technologii z dnia 23 grudnia 2020 r. w sprawie podmiotowych środków dowodowych oraz innych dokumentów lub oświadczeń, jakich może żądać Zamawiający od Wykonawcy); d) pełnomocnictwo – jeżeli dotyczy: - gdy umocowanie osoby składającej ofertę nie wynika z dokumentów rejestrowych, wykonawca, który składa ofertę za pośrednictwem pełnomocnika, powinien dołączyć do oferty dokument pełnomocnictwa obejmujący swym zakresem umocowanie do złożenia oferty lub do złożenia oferty i podpisania umowy, - w przypadku wykonawców ubiegających się wspólnie o udzielenie zamówienia Wykonawcy zobowiązani są do ustanowienia pełnomocnika. Dokument pełnomocnictwa, z treści którego będzie wynikało umocowanie do reprezentowania w postępowaniu o udzielenie zamówienia tych wykonawców należy załączyć do oferty; e) oświadczenie wykonawców wspólnie ubiegających się o udzielenie zamówienia - jeżeli dotyczy: Warunek dotyczący uprawnień do prowadzenia określonej działalności gospodarczej lub zawodowej, jest spełniony, jeżeli co najmniej jeden z Wykonawców wspólnie ubiegających się o udzielenie zamówienia posiada uprawnienia do prowadzenia określonej działalności gospodarczej lub zawodowej i zrealizuje roboty budowlane, dostawy lub usługi, do realizacji których te uprawnienia są wymagane. W takiej sytuacji Wykonawcy są zobowiązani dołączyć do oferty oświadczenie, z którego wynika, które roboty budowlane, dostawy lub usługi wykonają poszczególni Wykonawcy; f) zastrzeżenie tajemnicy przedsiębiorstwa - jeżeli dotyczy: w sytuacji, gdy oferta lub inne dokumenty składane w toku postępowania będą zawierały tajemnicę przedsiębiorstwa, wykonawca, wraz z przekazaniem takich informacji, zastrzega, że nie mogą być one udostępniane, oraz wykazuje, że zastrzeżone informacje stanowią tajemnicę przedsiębiorstwa w rozumieniu przepisów ustawy z 16 kwietnia 1993 r. o zwalczaniu nieuczciwej konkurencji; g) przedmiotowe środki dowodowe wskazane w Rozdziale VI ust. 2; h) wykaz rozwiązań równoważnych - jeżeli dotyczy: wykonawca, który powołuje się na rozwiązania równoważne, jest zobowiązany wykazać, że oferowane przez niego rozwiązanie spełnia wymagania określone przez Zamawiającego. W takim przypadku wykonawca załącza do oferty wykaz rozwiązań równoważnych z jego opisem lub normami. 8. Informacje dotyczące ochrony danych osobowych - określono szczegółowo w Rozdz. II SWZ. --> Text length need to be between 0 and 5000 characters\n",
            "  Keyword found in section. Extracting data...\n",
            "    Making batch translation request for 45 unique strings...\n"
          ]
        },
        {
          "output_type": "stream",
          "name": "stderr",
          "text": [
            "Processing files:  31%|███       | 295/961 [12:57<45:30,  4.10s/file]"
          ]
        },
        {
          "output_type": "stream",
          "name": "stdout",
          "text": [
            "    Translation complete.\n",
            "\n",
            "Processing file: /content/med_webscraper/ted_html_pages/425745-2020.html\n",
            "  Keyword not found in any section. Skipping file.\n",
            "\n",
            "Processing file: /content/med_webscraper/ted_html_pages/138899-2019.html\n"
          ]
        },
        {
          "output_type": "stream",
          "name": "stderr",
          "text": [
            "Processing files:  31%|███       | 296/961 [12:57<32:30,  2.93s/file]"
          ]
        },
        {
          "output_type": "stream",
          "name": "stdout",
          "text": [
            "  Keyword not found in any section. Skipping file.\n",
            "\n",
            "Processing file: /content/med_webscraper/ted_html_pages/115872-2023.html\n"
          ]
        },
        {
          "output_type": "stream",
          "name": "stderr",
          "text": [
            "Processing files:  31%|███       | 298/961 [12:58<18:32,  1.68s/file]"
          ]
        },
        {
          "output_type": "stream",
          "name": "stdout",
          "text": [
            "  Keyword not found in any section. Skipping file.\n",
            "\n",
            "Processing file: /content/med_webscraper/ted_html_pages/27486-2021.html\n",
            "  Keyword not found in any section. Skipping file.\n",
            "\n",
            "Processing file: /content/med_webscraper/ted_html_pages/224359-2020.html\n"
          ]
        },
        {
          "output_type": "stream",
          "name": "stderr",
          "text": [
            "Processing files:  31%|███       | 299/961 [13:01<22:48,  2.07s/file]"
          ]
        },
        {
          "output_type": "stream",
          "name": "stdout",
          "text": [
            "  Keyword not found in any section. Skipping file.\n",
            "\n",
            "Processing file: /content/med_webscraper/ted_html_pages/514376-2023.html\n"
          ]
        },
        {
          "output_type": "stream",
          "name": "stderr",
          "text": [
            "Processing files:  31%|███       | 300/961 [13:01<17:06,  1.55s/file]"
          ]
        },
        {
          "output_type": "stream",
          "name": "stdout",
          "text": [
            "  Keyword not found in any section. Skipping file.\n",
            "\n",
            "Processing file: /content/med_webscraper/ted_html_pages/566002-2023.html\n"
          ]
        },
        {
          "output_type": "stream",
          "name": "stderr",
          "text": [
            "Processing files:  31%|███▏      | 301/961 [13:02<13:44,  1.25s/file]"
          ]
        },
        {
          "output_type": "stream",
          "name": "stdout",
          "text": [
            "  Keyword not found in any section. Skipping file.\n",
            "\n",
            "Processing file: /content/med_webscraper/ted_html_pages/291628-2019.html\n"
          ]
        },
        {
          "output_type": "stream",
          "name": "stderr",
          "text": [
            "Processing files:  31%|███▏      | 302/961 [13:02<10:35,  1.04file/s]"
          ]
        },
        {
          "output_type": "stream",
          "name": "stdout",
          "text": [
            "  Keyword not found in any section. Skipping file.\n",
            "\n",
            "Processing file: /content/med_webscraper/ted_html_pages/183837-2018.html\n"
          ]
        },
        {
          "output_type": "stream",
          "name": "stderr",
          "text": [
            "Processing files:  32%|███▏      | 303/961 [13:03<08:29,  1.29file/s]"
          ]
        },
        {
          "output_type": "stream",
          "name": "stdout",
          "text": [
            "  Keyword not found in any section. Skipping file.\n",
            "\n",
            "Processing file: /content/med_webscraper/ted_html_pages/334175-2018.html\n"
          ]
        },
        {
          "output_type": "stream",
          "name": "stderr",
          "text": [
            "Processing files:  32%|███▏      | 305/961 [13:03<05:38,  1.94file/s]"
          ]
        },
        {
          "output_type": "stream",
          "name": "stdout",
          "text": [
            "  Keyword not found in any section. Skipping file.\n",
            "\n",
            "Processing file: /content/med_webscraper/ted_html_pages/388697-2022.html\n",
            "  Keyword not found in any section. Skipping file.\n",
            "\n",
            "Processing file: /content/med_webscraper/ted_html_pages/251981-2019.html\n"
          ]
        },
        {
          "output_type": "stream",
          "name": "stderr",
          "text": [
            "Processing files:  32%|███▏      | 307/961 [13:04<03:36,  3.02file/s]"
          ]
        },
        {
          "output_type": "stream",
          "name": "stdout",
          "text": [
            "  Keyword not found in any section. Skipping file.\n",
            "\n",
            "Processing file: /content/med_webscraper/ted_html_pages/279620-2022.html\n",
            "  Keyword not found in any section. Skipping file.\n",
            "\n",
            "Processing file: /content/med_webscraper/ted_html_pages/588444-2024.html\n"
          ]
        },
        {
          "output_type": "stream",
          "name": "stderr",
          "text": [
            "Processing files:  32%|███▏      | 307/961 [13:04<03:36,  3.02file/s]"
          ]
        },
        {
          "output_type": "stream",
          "name": "stdout",
          "text": [
            "  Keyword found in section. Extracting data...\n",
            "    Making batch translation request for 32 unique strings...\n"
          ]
        },
        {
          "output_type": "stream",
          "name": "stderr",
          "text": [
            "Processing files:  32%|███▏      | 308/961 [13:10<23:43,  2.18s/file]"
          ]
        },
        {
          "output_type": "stream",
          "name": "stdout",
          "text": [
            "    Translation complete.\n",
            "\n",
            "Processing file: /content/med_webscraper/ted_html_pages/696662-2025.html\n"
          ]
        },
        {
          "output_type": "stream",
          "name": "stderr",
          "text": [
            "Processing files:  32%|███▏      | 308/961 [13:11<23:43,  2.18s/file]"
          ]
        },
        {
          "output_type": "stream",
          "name": "stdout",
          "text": [
            "  Keyword found in section. Extracting data...\n",
            "    Making batch translation request for 46 unique strings...\n"
          ]
        },
        {
          "output_type": "stream",
          "name": "stderr",
          "text": [
            "Processing files:  32%|███▏      | 309/961 [13:12<23:56,  2.20s/file]"
          ]
        },
        {
          "output_type": "stream",
          "name": "stdout",
          "text": [
            "    Warning: Batch translation failed. Using original text. Error: 1. Środki ochrony prawnej przysługują wykonawcy, jeżeli ma lub miał interes w uzyskaniu zamówienia oraz poniósł lub może ponieść szkodę w wyniku naruszenia przez zamawiającego przepisów ustawy Pzp. 2. Podstawowym środkiem ochrony prawnej, z którego może skorzystać wykonawca, jest postępowanie odwoławcze, które prowadzone jest w języku polskim. 3. Pisma w postępowaniu odwoławczym wnosi się w formie pisemnej albo w formie elektronicznej albo w postaci elektronicznej, z tym że odwołanie i przystąpienie do postępowania odwoławczego, wniesione w postaci elektronicznej, wymagają opatrzenia podpisem zaufanym. 4. Zgodnie z art. 513 ustawy Pzp odwołanie przysługuje na: 1) niezgodną z przepisami ustawy czynność zamawiającego, podjętą w postępowaniu o udzielenie zamówienia, o zawarcie umowy ramowej, dynamicznym systemie zakupów, systemie kwalifikowania wykonawców lub konkursie, w tym na projektowane postanowienie umowy; 2) zaniechanie czynności w postępowaniu o udzielenie zamówienia, o zawarcie umowy ramowej, dynamicznym systemie zakupów, systemie kwalifikowania wykonawców lub konkursie, do której zamawiający był obowiązany na podstawie ustawy; 3) zaniechanie przeprowadzenia postępowania o udzielenie zamówienia lub zorganizowania konkursu na podstawie ustawy, mimo że zamawiający był do tego obowiązany. 5. Odwołanie wnosi się do Prezesa Izby. 6. Odwołanie wnosi się, w przypadku zamówień, których wartość jest równa albo przekracza progi unijne, w terminie: 1) 10 dni od dnia przekazania informacji o czynności zamawiającego stanowiącej podstawę jego wniesienia, jeżeli informacja została przekazana przy użyciu środków komunikacji elektronicznej; 2) 15 dni od dnia przekazania informacji o czynności zamawiającego stanowiącej podstawę jego wniesienia, jeżeli informacja została przekazana w sposób inny niż określony w ppkt 1. 7. Odwołanie wobec treści ogłoszenia wszczynającego postępowanie o udzielenie zamówienia lub wobec treści dokumentów zamówienia wnosi się w terminie 10 dni od dnia publikacji ogłoszenia w Dzienniku Urzędowym Unii Europejskiej lub zamieszczenia dokumentów zamówienia na stronie internetowej, w przypadku zamówień, których wartość jest równa albo przekracza progi unijne. 8. Odwołanie w przypadkach innych niż określone w pkt 6 i 7 wnosi się w terminie 10 dni od dnia, w którym powzięto lub przy zachowaniu należytej staranności można było powziąć wiadomość o okolicznościach stanowiących podstawę jego wniesienia, w przypadku zamówień, których wartość jest równa albo przekracza progi unijne. 9. Odwołujący przekazuje zamawiającemu odwołanie wniesione w formie elektronicznej albo postaci elektronicznej albo kopię tego odwołania, jeżeli zostało ono wniesione w formie pisemnej, przed upływem terminu do wniesienia odwołania w taki sposób, aby mógł on zapoznać się z jego treścią przed upływem tego terminu. 10. Przystąpienie do postępowania odwoławczego: 1) Zamawiający przesyła niezwłocznie, nie później niż w terminie 2 dni od dnia otrzymania, kopię odwołania innym wykonawcom uczestniczącym w postępowaniu o udzielenie zamówienia, a jeżeli odwołanie dotyczy treści ogłoszenia o zamówieniu lub dokumentów zamówienia, zamieszcza ją również na stronie internetowej, na której jest zamieszczone ogłoszenie o zamówieniu lub są udostępniane dokumenty zamówienia, wzywając wykonawców do przystąpienia do postępowania odwoławczego. 2) Wykonawca może zgłosić przystąpienie do postępowania odwoławczego w terminie 3 dni od dnia otrzymania kopii odwołania, wskazując stronę, do której przystępuje, i interes w uzyskaniu rozstrzygnięcia na korzyść strony, do której przystępuje. 3) Zgłoszenie przystąpienia doręcza się Prezesowi Izby, a jego kopię przesyła się zamawiającemu oraz wykonawcy wnoszącemu odwołanie. Do zgłoszenia przystąpienia dołącza się dowód przesłania kopii zgłoszenia przystąpienia zamawiającemu oraz wykonawcy wnoszącemu odwołanie. 11. Izba rozpoznaje odwołanie w terminie 15 dni od dnia jego doręczenia Prezesowi Izby. 12. Postępowanie skargowe: 1) Na orzeczenie Izby oraz postanowienie Prezesa Izby, o którym mowa w art. 519 ust. 1 ustawy Pzp, stronom oraz uczestnikom postępowania odwoławczego przysługuje skarga do sądu. 2) Skargę wnosi się do Sądu Okręgowego w Warszawie – sądu zamówień publicznych, zwanego dalej „sądem zamówień publicznych”. 3) Skargę wnosi się za pośrednictwem Prezesa Izby, w terminie 14 dni od dnia doręczenia orzeczenia Izby lub postanowienia Prezesa Izby, o którym mowa w art. 519 ust. 1 ustawy Pzp, przesyłając jednocześnie jej odpis przeciwnikowi skargi. Złożenie skargi w placówce pocztowej operatora wyznaczonego w rozumieniu ustawy z dnia 23 listopada 2012 r. – Prawo pocztowe jest równoznaczne z jej wniesieniem. 4) Prezes Izby przekazuje skargę wraz z aktami postępowania odwoławczego do sądu zamówień publicznych w terminie 7 dni od dnia jej otrzymania. 5) Sąd rozpoznaje sprawę niezwłocznie, nie później jednak niż w terminie miesiąca od dnia wpływu skargi do sądu. 6) Od wyroku sądu lub postanowienia kończącego postępowanie w sprawie przysługuje skarga kasacyjna do Sądu Najwyższego. 13. Prawa i obowiązki wykonawcy korzystającego z przysługujących mu środków ochrony prawnej, w sposób szczegółowy regulują odpowiednie przepisy DZIAŁU IX ustawy Pzp. --> Text length need to be between 0 and 5000 characters\n",
            "\n",
            "Processing file: /content/med_webscraper/ted_html_pages/34692-2023.html\n"
          ]
        },
        {
          "output_type": "stream",
          "name": "stderr",
          "text": [
            "Processing files:  32%|███▏      | 310/961 [13:13<19:37,  1.81s/file]"
          ]
        },
        {
          "output_type": "stream",
          "name": "stdout",
          "text": [
            "  Keyword not found in any section. Skipping file.\n",
            "\n",
            "Processing file: /content/med_webscraper/ted_html_pages/225336-2017.html\n"
          ]
        },
        {
          "output_type": "stream",
          "name": "stderr",
          "text": [
            "Processing files:  32%|███▏      | 311/961 [13:14<15:21,  1.42s/file]"
          ]
        },
        {
          "output_type": "stream",
          "name": "stdout",
          "text": [
            "  Keyword not found in any section. Skipping file.\n",
            "\n",
            "Processing file: /content/med_webscraper/ted_html_pages/314615-2023.html\n"
          ]
        },
        {
          "output_type": "stream",
          "name": "stderr",
          "text": [
            "Processing files:  33%|███▎      | 313/961 [13:15<09:48,  1.10file/s]"
          ]
        },
        {
          "output_type": "stream",
          "name": "stdout",
          "text": [
            "  Keyword not found in any section. Skipping file.\n",
            "\n",
            "Processing file: /content/med_webscraper/ted_html_pages/367436-2020.html\n",
            "  Keyword not found in any section. Skipping file.\n",
            "\n",
            "Processing file: /content/med_webscraper/ted_html_pages/252850-2023.html\n"
          ]
        },
        {
          "output_type": "stream",
          "name": "stderr",
          "text": [
            "Processing files:  33%|███▎      | 314/961 [13:17<14:23,  1.33s/file]"
          ]
        },
        {
          "output_type": "stream",
          "name": "stdout",
          "text": [
            "  Keyword not found in any section. Skipping file.\n",
            "\n",
            "Processing file: /content/med_webscraper/ted_html_pages/579798-2025.html\n"
          ]
        },
        {
          "output_type": "stream",
          "name": "stderr",
          "text": [
            "Processing files:  33%|███▎      | 314/961 [13:18<14:23,  1.33s/file]"
          ]
        },
        {
          "output_type": "stream",
          "name": "stdout",
          "text": [
            "  Keyword found in section. Extracting data...\n",
            "    Making batch translation request for 52 unique strings...\n"
          ]
        },
        {
          "output_type": "stream",
          "name": "stderr",
          "text": [
            "Processing files:  33%|███▎      | 315/961 [13:29<48:57,  4.55s/file]"
          ]
        },
        {
          "output_type": "stream",
          "name": "stdout",
          "text": [
            "    Translation complete.\n",
            "\n",
            "Processing file: /content/med_webscraper/ted_html_pages/126536-2019.html\n"
          ]
        },
        {
          "output_type": "stream",
          "name": "stderr",
          "text": [
            "Processing files:  33%|███▎      | 317/961 [13:32<30:08,  2.81s/file]"
          ]
        },
        {
          "output_type": "stream",
          "name": "stdout",
          "text": [
            "  Keyword not found in any section. Skipping file.\n",
            "\n",
            "Processing file: /content/med_webscraper/ted_html_pages/624203-2020.html\n",
            "  Keyword not found in any section. Skipping file.\n",
            "\n",
            "Processing file: /content/med_webscraper/ted_html_pages/611265-2020.html\n"
          ]
        },
        {
          "output_type": "stream",
          "name": "stderr",
          "text": [
            "Processing files:  33%|███▎      | 318/961 [13:32<21:27,  2.00s/file]"
          ]
        },
        {
          "output_type": "stream",
          "name": "stdout",
          "text": [
            "  Keyword not found in any section. Skipping file.\n",
            "\n",
            "Processing file: /content/med_webscraper/ted_html_pages/703392-2024.html\n",
            "  Keyword found in section. Extracting data...\n",
            "    Making batch translation request for 63 unique strings...\n"
          ]
        },
        {
          "output_type": "stream",
          "name": "stderr",
          "text": [
            "Processing files:  33%|███▎      | 319/961 [13:36<28:58,  2.71s/file]"
          ]
        },
        {
          "output_type": "stream",
          "name": "stdout",
          "text": [
            "    Warning: Batch translation failed. Using original text. Error: Zum Beschaffungsbedarf zählen sämtliche Arzneimittel mit den in Anlage 3 zu den Teilnahmebedingungen mit Stand vom 4.4.2024 (sog. Wirkstoffliste und Fristen) benannten und im Folgenden aufgezählten Wirkstoffen: 1.Adalimumab(Lfd.-Nr. 1 der Anlage 3 zu den Teilnahmebedingungen), 2. Etanercept (Lfd.-­Nr. 2), 3. Filgrastim (Lfd.-­Nr. 3), 4. Infliximab (Lfd.-­Nr. 4), 5. Interferon beta-1a (Lfd.-Nr. 5), 6. Interferon beta-1b (Lfd.-Nr. 6), 7. Leuprorelin (Lfd.-­Nr. 7), 8. Octreotid (Depot)* (Lfd.-­Nr. 8), 9. Pegfilgrastim (Lfd.-Nr. 9), 10. Beclometason dipropionat + Formoterol hemifumarat-1-Wasser (Lfd.-­Nr. 10), 11. Rotigotin (Lfd.-­Nr. 11), 12. Abatacept (Lfd.-­Nr. 12), 13. Denosumab (Lfd.-­Nr. 13), 14. Dornase alfa (Lfd.-­Nr. 14), 15. Natalizumab (Lfd.-­Nr. 15), 16. Tocilizumab (Lfd.-­Nr. 16), 17. Dimethyl fumarat (Lfd.-Nr. 17), 18. Rivaroxaban 2,5 mg (Lfd.-­Nr. 18), 19. Omalizumab (Lfd.-Nr. 19) 20. Ustekinumab (Lfd.-Nr. 20), 21. Tiotropium bromid-1-Wasser + Olodaterol hydrochlorid (Lfd.-Nr. 21). *Vom Beschaffungsbedarf umfasst sind insoweit nur Arzneimittel mit retardierten (langwirkenden) Monatsdepot-­Formen. Der Beschaffungsbedarf wurde dabei nicht in Lose eingeteilt. Es handelt sich um ein Open-­House-­Verfahren. Soweit im Rahmen dieser Bekanntmachung daher Formulierungen verwendet werden, welche auf die Einteilung des Beschaffungsbedarfs in ein oder mehrere Los(e) hindeuten, ist dies allein den Vorgaben dieses Bekanntmachungsformulars geschuldet. In diesem Zusammenhang wird auf die eingangs unter Ziffer 2.1 beschriebene Nichtgeltung vergaberechtlicher Regelungen verwiesen. Die AOK startete das Open-House-Verfahren mit den erstbekanntgemachten Wirkstoffen der lfd.-Nr. 1 bis 9 der Anlage 3 zu den Teilnahmebedingungen (sog. Startwirkstoffe) und erweiterte den Beschaffungsbedarf mit den Folgebekanntmachungen um die Wirkstoffkombination und Wirkstoffe der lfd.-Nr. 10 bis 21 der Anlage 3 zu den Teilnahmebedingungen. Die AOK behält sich weiterhin vor, den Beschaffungsbedarf dieses Open-­House-­Verfahrens im Laufe des Verfahrens zu erweitern, d. h. die Anlage 3 zu den Teilnahmebedingungen, um weitere Wirkstoffe zu ergänzen. Nähere Informationen zu einer möglichen Erweiterung des Beschaffungsbedarfs enthalten die Teilnahmebedingungen (Abschnitt A.I.4.1). Verträge zu Arzneimitteln mit den Startwirkstoffen konnten bereits mit Wirkung zum 1.7.2023 geschlossen werden (sog. frühestmöglicher Vertragsstart). Verträge zu Arzneimitteln mit der laufenden Nummer 10 der Anlage 3 zu den Teilnahmebedingungen konnten frühestens mit Wirkung zum 1.8.2023 geschlossen werden, Verträge mit der laufenden Nummer 11 konnten frühestens mit Wirkung zum 1.4.2024 geschlossen werden, Verträge mit der laufenden Nummer 12 bis 16 können frühestens mit Wirkung zum 1.7.2024 geschlossen werden, Verträge mit der laufenden Nummer 17 können frühestens mit Wirkung zum 1.9.2024 geschlossen werden, Verträge mit der laufenden Nummer 18 können frühestens mit Wirkung zum 1.11.2024 geschlossen werden, Verträge mit der laufenden Nummer 19 können frühestens mit Wirkung zum 1.12.2024 geschlossen werden und Verträge mit der laufenden Nummer 20+21 können frühestens mit Wirkung zum 29.11.2024 geschlossen werden. Alle im Rahmen dieses Open­-House-­Verfahrens geschlossenen Rabattverträge enden einheitlich am 30.6.2025 (sog. Vertragsende). Der Abschluss eines Rabattvertrags zu Arzneimitteln mit den o. g. Wirkstoffen zu einem späteren Zeitpunkt als dem 1.7.2023 bzw. dem 1.8.2023 bzw. dem 1.4.2024 bzw. dem 1.7.2024 bzw. dem 1.9.2024 bzw. dem 1.11.2024 bzw. dem 1.12.2024 bzw. dem 1.1.2025 ist jeweils zu einem Monatsersten möglich. Die Angebote sind dazu spätestens 6 Wochen vor dem beabsichtigten Vertragsstart nach Maßgabe der Teilnahmeunterlagen vollständig ausschließlich in elektronischer Form über den Kommunikationsbereich der Vergabeplattform einzureichen. Die jeweiligen Angebotsfristen sind dabei bezogen auf den vom interessierten pharmazeutischen Unternehmer beabsichtigten Vertragsstart der Anlage 3 zu den Teilnahmebedingungen zu entnehmen. Vor dem 31.5.2023 sind keine Verträge zu dem Arzneimittel mit den Startwirkstoffen, vor dem 3.7.2023 keine Verträge zu Arzneimitteln mit der Wirkstoffkombination (lfd.-­Nr. 10 der Anlage 3 zu den Teilnahmebedingungen), vor dem 1.3.2024 keine Verträge zu Arzneimitteln mit dem Wirkstoff (lfd.-­Nr. 11), vor dem 28.5.2024 keine Verträge zu Arzneimitteln mit den Wirkstoffen (lfd.-­Nr. 12 bis 16), vor dem 30.7.2024 keine Verträge zu Arzneimitteln mit dem Wirkstoff (lfd.-­Nr. 17), vor dem 1.10.2024 keine Verträge zu Arzneimitteln mit dem Wirkstoff (lfd.-­Nr. 18), vor dem 1.11.2024 keine Verträge zu Arzneimitteln mit dem Wirkstoff (lfd.-­Nr. 19) geschlossen worden (Warte-­ und Stillhaltefrist). Vor dem 29.11.2024 werden keine Verträge zu Arzneimitteln mit den Wirkstoffen (lfd.-­Nr. 20+21) geschlossen. Für alle im Rahmen dieses Open-House-Verfahrens abzuschließenden Verträge ist der letztmögliche Vertragsstart der 1.6.2025. Angebote für diesen Vertragsstart müssen spätestens am 17.4.2025 eingehen. Die AOK gibt den Inhalt des Rabattvertrags für alle potenziellen Vertragspartner verbindlich vor. Verhandlungen über Vertragsinhalte werden nicht geführt. Die AOK sichert den Vertragspartnern keine Exklusivität zu. Im Fall eines Vertragsschlusses gewährt der pharmazeutische Unternehmer der AOK einen Rabatt auf die vertragsgegenständlichen Arzneimittel, die nach näherer Maßgabe der Teilnahmebedingungen und des Rabattvertrags zu Lasten der AOK abgegeben werden (zur vorgegebenen Rabatthöhe und Rabattberechnung wird insbesondere auf die Abschnitte A.I.4.3, A.I.5 und A.I.7 der Teilnahmebedingungen sowie § 2 Abs. (2) und § 4 Abs. (3) des Rabattvertrags verwiesen. --> Text length need to be between 0 and 5000 characters\n",
            "\n",
            "Processing file: /content/med_webscraper/ted_html_pages/351630-2020.html\n"
          ]
        },
        {
          "output_type": "stream",
          "name": "stderr",
          "text": [
            "Processing files:  33%|███▎      | 320/961 [13:37<21:46,  2.04s/file]"
          ]
        },
        {
          "output_type": "stream",
          "name": "stdout",
          "text": [
            "  Keyword not found in any section. Skipping file.\n",
            "\n",
            "Processing file: /content/med_webscraper/ted_html_pages/56650-2025.html\n"
          ]
        },
        {
          "output_type": "stream",
          "name": "stderr",
          "text": [
            "Processing files:  33%|███▎      | 320/961 [13:37<21:46,  2.04s/file]"
          ]
        },
        {
          "output_type": "stream",
          "name": "stdout",
          "text": [
            "  Keyword found in section. Extracting data...\n",
            "    Making batch translation request for 36 unique strings...\n"
          ]
        },
        {
          "output_type": "stream",
          "name": "stderr",
          "text": [
            "Processing files:  33%|███▎      | 320/961 [13:41<21:46,  2.04s/file]"
          ]
        },
        {
          "output_type": "stream",
          "name": "stdout",
          "text": [
            "    Translation complete.\n",
            "  Keyword found in section. Extracting data...\n",
            "    Making batch translation request for 39 unique strings...\n"
          ]
        },
        {
          "output_type": "stream",
          "name": "stderr",
          "text": [
            "Processing files:  33%|███▎      | 321/961 [13:46<43:37,  4.09s/file]"
          ]
        },
        {
          "output_type": "stream",
          "name": "stdout",
          "text": [
            "    Translation complete.\n",
            "\n",
            "Processing file: /content/med_webscraper/ted_html_pages/385145-2016.html\n"
          ]
        },
        {
          "output_type": "stream",
          "name": "stderr",
          "text": [
            "Processing files:  34%|███▎      | 323/961 [13:46<22:34,  2.12s/file]"
          ]
        },
        {
          "output_type": "stream",
          "name": "stdout",
          "text": [
            "  Keyword not found in any section. Skipping file.\n",
            "\n",
            "Processing file: /content/med_webscraper/ted_html_pages/205466-2018.html\n",
            "  Keyword not found in any section. Skipping file.\n",
            "\n",
            "Processing file: /content/med_webscraper/ted_html_pages/624213-2020.html\n"
          ]
        },
        {
          "output_type": "stream",
          "name": "stderr",
          "text": [
            "Processing files:  34%|███▎      | 324/961 [13:46<16:20,  1.54s/file]"
          ]
        },
        {
          "output_type": "stream",
          "name": "stdout",
          "text": [
            "  Keyword not found in any section. Skipping file.\n",
            "\n",
            "Processing file: /content/med_webscraper/ted_html_pages/179572-2023.html\n"
          ]
        },
        {
          "output_type": "stream",
          "name": "stderr",
          "text": [
            "Processing files:  34%|███▍      | 325/961 [13:46<12:09,  1.15s/file]"
          ]
        },
        {
          "output_type": "stream",
          "name": "stdout",
          "text": [
            "  Keyword not found in any section. Skipping file.\n",
            "\n",
            "Processing file: /content/med_webscraper/ted_html_pages/573857-2021.html\n"
          ]
        },
        {
          "output_type": "stream",
          "name": "stderr",
          "text": [
            "Processing files:  34%|███▍      | 327/961 [13:50<13:15,  1.25s/file]"
          ]
        },
        {
          "output_type": "stream",
          "name": "stdout",
          "text": [
            "  Keyword not found in any section. Skipping file.\n",
            "\n",
            "Processing file: /content/med_webscraper/ted_html_pages/624205-2020.html\n",
            "  Keyword not found in any section. Skipping file.\n",
            "\n",
            "Processing file: /content/med_webscraper/ted_html_pages/57481-2019.html\n"
          ]
        },
        {
          "output_type": "stream",
          "name": "stderr",
          "text": [
            "Processing files:  34%|███▍      | 329/961 [13:51<10:21,  1.02file/s]"
          ]
        },
        {
          "output_type": "stream",
          "name": "stdout",
          "text": [
            "  Keyword not found in any section. Skipping file.\n",
            "\n",
            "Processing file: /content/med_webscraper/ted_html_pages/451132-2017.html\n",
            "  Keyword not found in any section. Skipping file.\n",
            "\n",
            "Processing file: /content/med_webscraper/ted_html_pages/201324-2020.html\n"
          ]
        },
        {
          "output_type": "stream",
          "name": "stderr",
          "text": [
            "Processing files:  34%|███▍      | 330/961 [13:52<08:51,  1.19file/s]"
          ]
        },
        {
          "output_type": "stream",
          "name": "stdout",
          "text": [
            "  Keyword not found in any section. Skipping file.\n",
            "\n",
            "Processing file: /content/med_webscraper/ted_html_pages/242153-2025.html\n"
          ]
        },
        {
          "output_type": "stream",
          "name": "stderr",
          "text": [
            "Processing files:  34%|███▍      | 330/961 [13:54<08:51,  1.19file/s]"
          ]
        },
        {
          "output_type": "stream",
          "name": "stdout",
          "text": [
            "  Keyword found in section. Extracting data...\n",
            "    Making batch translation request for 39 unique strings...\n"
          ]
        },
        {
          "output_type": "stream",
          "name": "stderr",
          "text": [
            "Processing files:  34%|███▍      | 330/961 [14:00<08:51,  1.19file/s]"
          ]
        },
        {
          "output_type": "stream",
          "name": "stdout",
          "text": [
            "    Translation complete.\n",
            "  Keyword found in section. Extracting data...\n",
            "    Making batch translation request for 39 unique strings...\n"
          ]
        },
        {
          "output_type": "stream",
          "name": "stderr",
          "text": [
            "Processing files:  34%|███▍      | 330/961 [14:05<08:51,  1.19file/s]"
          ]
        },
        {
          "output_type": "stream",
          "name": "stdout",
          "text": [
            "    Translation complete.\n",
            "  Keyword found in section. Extracting data...\n",
            "    Making batch translation request for 39 unique strings...\n"
          ]
        },
        {
          "output_type": "stream",
          "name": "stderr",
          "text": [
            "Processing files:  34%|███▍      | 331/961 [14:10<1:02:55,  5.99s/file]"
          ]
        },
        {
          "output_type": "stream",
          "name": "stdout",
          "text": [
            "    Translation complete.\n",
            "\n",
            "Processing file: /content/med_webscraper/ted_html_pages/327106-2024.html\n",
            "  Keyword found in section. Extracting data...\n",
            "    Making batch translation request for 34 unique strings...\n"
          ]
        },
        {
          "output_type": "stream",
          "name": "stderr",
          "text": [
            "Processing files:  35%|███▍      | 332/961 [14:15<59:28,  5.67s/file]"
          ]
        },
        {
          "output_type": "stream",
          "name": "stdout",
          "text": [
            "    Translation complete.\n",
            "\n",
            "Processing file: /content/med_webscraper/ted_html_pages/31529-2025.html\n",
            "  Keyword found in section. Extracting data...\n",
            "    Making batch translation request for 53 unique strings...\n"
          ]
        },
        {
          "output_type": "stream",
          "name": "stderr",
          "text": [
            "Processing files:  35%|███▍      | 333/961 [14:19<55:21,  5.29s/file]"
          ]
        },
        {
          "output_type": "stream",
          "name": "stdout",
          "text": [
            "    Translation complete.\n",
            "\n",
            "Processing file: /content/med_webscraper/ted_html_pages/509913-2018.html\n"
          ]
        },
        {
          "output_type": "stream",
          "name": "stderr",
          "text": [
            "Processing files:  35%|███▍      | 335/961 [14:20<29:16,  2.81s/file]"
          ]
        },
        {
          "output_type": "stream",
          "name": "stdout",
          "text": [
            "  Keyword not found in any section. Skipping file.\n",
            "\n",
            "Processing file: /content/med_webscraper/ted_html_pages/246767-2019.html\n",
            "  Keyword not found in any section. Skipping file.\n",
            "\n",
            "Processing file: /content/med_webscraper/ted_html_pages/213064-2025.html\n"
          ]
        },
        {
          "output_type": "stream",
          "name": "stderr",
          "text": [
            "Processing files:  35%|███▍      | 335/961 [14:20<29:16,  2.81s/file]"
          ]
        },
        {
          "output_type": "stream",
          "name": "stdout",
          "text": [
            "  Keyword found in section. Extracting data...\n",
            "    Making batch translation request for 38 unique strings...\n"
          ]
        },
        {
          "output_type": "stream",
          "name": "stderr",
          "text": [
            "Processing files:  35%|███▍      | 335/961 [14:27<29:16,  2.81s/file]"
          ]
        },
        {
          "output_type": "stream",
          "name": "stdout",
          "text": [
            "    Translation complete.\n",
            "  Keyword found in section. Extracting data...\n",
            "    Making batch translation request for 49 unique strings...\n"
          ]
        },
        {
          "output_type": "stream",
          "name": "stderr",
          "text": [
            "Processing files:  35%|███▌      | 337/961 [14:33<42:32,  4.09s/file]"
          ]
        },
        {
          "output_type": "stream",
          "name": "stdout",
          "text": [
            "    Translation complete.\n",
            "\n",
            "Processing file: /content/med_webscraper/ted_html_pages/368226-2022.html\n",
            "  Keyword not found in any section. Skipping file.\n",
            "\n",
            "Processing file: /content/med_webscraper/ted_html_pages/617764-2025.html\n"
          ]
        },
        {
          "output_type": "stream",
          "name": "stderr",
          "text": [
            "Processing files:  35%|███▌      | 337/961 [14:33<42:32,  4.09s/file]"
          ]
        },
        {
          "output_type": "stream",
          "name": "stdout",
          "text": [
            "  Keyword found in section. Extracting data...\n",
            "    Making batch translation request for 52 unique strings...\n"
          ]
        },
        {
          "output_type": "stream",
          "name": "stderr",
          "text": [
            "Processing files:  35%|███▌      | 338/961 [14:39<49:05,  4.73s/file]"
          ]
        },
        {
          "output_type": "stream",
          "name": "stdout",
          "text": [
            "    Translation complete.\n",
            "\n",
            "Processing file: /content/med_webscraper/ted_html_pages/127970-2018.html\n"
          ]
        },
        {
          "output_type": "stream",
          "name": "stderr",
          "text": [
            "Processing files:  35%|███▌      | 339/961 [14:40<35:35,  3.43s/file]"
          ]
        },
        {
          "output_type": "stream",
          "name": "stdout",
          "text": [
            "  Keyword not found in any section. Skipping file.\n",
            "\n",
            "Processing file: /content/med_webscraper/ted_html_pages/55846-2025.html\n"
          ]
        },
        {
          "output_type": "stream",
          "name": "stderr",
          "text": [
            "Processing files:  35%|███▌      | 339/961 [14:40<35:35,  3.43s/file]"
          ]
        },
        {
          "output_type": "stream",
          "name": "stdout",
          "text": [
            "  Keyword found in section. Extracting data...\n",
            "    Making batch translation request for 44 unique strings...\n"
          ]
        },
        {
          "output_type": "stream",
          "name": "stderr",
          "text": [
            "Processing files:  35%|███▌      | 339/961 [14:46<35:35,  3.43s/file]"
          ]
        },
        {
          "output_type": "stream",
          "name": "stdout",
          "text": [
            "    Translation complete.\n",
            "  Keyword found in section. Extracting data...\n",
            "    Making batch translation request for 36 unique strings...\n"
          ]
        },
        {
          "output_type": "stream",
          "name": "stderr",
          "text": [
            "Processing files:  35%|███▌      | 339/961 [14:51<35:35,  3.43s/file]"
          ]
        },
        {
          "output_type": "stream",
          "name": "stdout",
          "text": [
            "    Translation complete.\n",
            "  Keyword found in section. Extracting data...\n",
            "    Making batch translation request for 44 unique strings...\n"
          ]
        },
        {
          "output_type": "stream",
          "name": "stderr",
          "text": [
            "Processing files:  35%|███▌      | 339/961 [14:56<35:35,  3.43s/file]"
          ]
        },
        {
          "output_type": "stream",
          "name": "stdout",
          "text": [
            "    Translation complete.\n",
            "  Keyword found in section. Extracting data...\n",
            "    Making batch translation request for 40 unique strings...\n"
          ]
        },
        {
          "output_type": "stream",
          "name": "stderr",
          "text": [
            "Processing files:  35%|███▌      | 339/961 [15:01<35:35,  3.43s/file]"
          ]
        },
        {
          "output_type": "stream",
          "name": "stdout",
          "text": [
            "    Translation complete.\n",
            "  Keyword found in section. Extracting data...\n",
            "    Making batch translation request for 40 unique strings...\n"
          ]
        },
        {
          "output_type": "stream",
          "name": "stderr",
          "text": [
            "Processing files:  35%|███▌      | 340/961 [15:05<1:43:46, 10.03s/file]"
          ]
        },
        {
          "output_type": "stream",
          "name": "stdout",
          "text": [
            "    Translation complete.\n",
            "\n",
            "Processing file: /content/med_webscraper/ted_html_pages/612034-2020.html\n"
          ]
        },
        {
          "output_type": "stream",
          "name": "stderr",
          "text": [
            "Processing files:  35%|███▌      | 341/961 [15:08<1:22:19,  7.97s/file]"
          ]
        },
        {
          "output_type": "stream",
          "name": "stdout",
          "text": [
            "  Keyword not found in any section. Skipping file.\n",
            "\n",
            "Processing file: /content/med_webscraper/ted_html_pages/193349-2024.html\n"
          ]
        },
        {
          "output_type": "stream",
          "name": "stderr",
          "text": [
            "Processing files:  35%|███▌      | 341/961 [15:09<1:22:19,  7.97s/file]"
          ]
        },
        {
          "output_type": "stream",
          "name": "stdout",
          "text": [
            "  Keyword found in section. Extracting data...\n",
            "    Making batch translation request for 49 unique strings...\n"
          ]
        },
        {
          "output_type": "stream",
          "name": "stderr",
          "text": [
            "Processing files:  36%|███▌      | 343/961 [15:18<1:01:17,  5.95s/file]"
          ]
        },
        {
          "output_type": "stream",
          "name": "stdout",
          "text": [
            "    Translation complete.\n",
            "\n",
            "Processing file: /content/med_webscraper/ted_html_pages/85537-2021.html\n",
            "  Keyword not found in any section. Skipping file.\n",
            "\n",
            "Processing file: /content/med_webscraper/ted_html_pages/211696-2023.html\n"
          ]
        },
        {
          "output_type": "stream",
          "name": "stderr",
          "text": [
            "Processing files:  36%|███▌      | 344/961 [15:19<46:10,  4.49s/file]"
          ]
        },
        {
          "output_type": "stream",
          "name": "stdout",
          "text": [
            "  Keyword not found in any section. Skipping file.\n",
            "\n",
            "Processing file: /content/med_webscraper/ted_html_pages/514660-2022.html\n"
          ]
        },
        {
          "output_type": "stream",
          "name": "stderr",
          "text": [
            "Processing files:  36%|███▌      | 345/961 [15:19<33:18,  3.24s/file]"
          ]
        },
        {
          "output_type": "stream",
          "name": "stdout",
          "text": [
            "  Keyword not found in any section. Skipping file.\n",
            "\n",
            "Processing file: /content/med_webscraper/ted_html_pages/532210-2018.html\n"
          ]
        },
        {
          "output_type": "stream",
          "name": "stderr",
          "text": [
            "Processing files:  36%|███▌      | 346/961 [15:21<27:43,  2.70s/file]"
          ]
        },
        {
          "output_type": "stream",
          "name": "stdout",
          "text": [
            "  Keyword not found in any section. Skipping file.\n",
            "\n",
            "Processing file: /content/med_webscraper/ted_html_pages/455174-2023.html\n"
          ]
        },
        {
          "output_type": "stream",
          "name": "stderr",
          "text": [
            "Processing files:  36%|███▌      | 348/961 [15:21<14:25,  1.41s/file]"
          ]
        },
        {
          "output_type": "stream",
          "name": "stdout",
          "text": [
            "  Keyword not found in any section. Skipping file.\n",
            "\n",
            "Processing file: /content/med_webscraper/ted_html_pages/279494-2022.html\n",
            "  Keyword not found in any section. Skipping file.\n",
            "\n",
            "Processing file: /content/med_webscraper/ted_html_pages/527502-2018.html\n"
          ]
        },
        {
          "output_type": "stream",
          "name": "stderr",
          "text": [
            "Processing files:  36%|███▋      | 349/961 [15:21<10:34,  1.04s/file]"
          ]
        },
        {
          "output_type": "stream",
          "name": "stdout",
          "text": [
            "  Keyword not found in any section. Skipping file.\n",
            "\n",
            "Processing file: /content/med_webscraper/ted_html_pages/613513-2019.html\n"
          ]
        },
        {
          "output_type": "stream",
          "name": "stderr",
          "text": [
            "Processing files:  37%|███▋      | 351/961 [15:22<06:54,  1.47file/s]"
          ]
        },
        {
          "output_type": "stream",
          "name": "stdout",
          "text": [
            "  Keyword not found in any section. Skipping file.\n",
            "\n",
            "Processing file: /content/med_webscraper/ted_html_pages/114778-2019.html\n",
            "  Keyword not found in any section. Skipping file.\n",
            "\n",
            "Processing file: /content/med_webscraper/ted_html_pages/332152-2020.html\n"
          ]
        },
        {
          "output_type": "stream",
          "name": "stderr",
          "text": [
            "Processing files:  37%|███▋      | 352/961 [15:23<06:58,  1.46file/s]"
          ]
        },
        {
          "output_type": "stream",
          "name": "stdout",
          "text": [
            "  Keyword not found in any section. Skipping file.\n",
            "\n",
            "Processing file: /content/med_webscraper/ted_html_pages/280023-2021.html\n"
          ]
        },
        {
          "output_type": "stream",
          "name": "stderr",
          "text": [
            "Processing files:  37%|███▋      | 354/961 [15:23<04:30,  2.25file/s]"
          ]
        },
        {
          "output_type": "stream",
          "name": "stdout",
          "text": [
            "  Keyword not found in any section. Skipping file.\n",
            "\n",
            "Processing file: /content/med_webscraper/ted_html_pages/534716-2018.html\n",
            "  Keyword not found in any section. Skipping file.\n",
            "\n",
            "Processing file: /content/med_webscraper/ted_html_pages/412185-2021.html\n"
          ]
        },
        {
          "output_type": "stream",
          "name": "stderr",
          "text": [
            "Processing files:  37%|███▋      | 356/961 [15:24<03:25,  2.95file/s]"
          ]
        },
        {
          "output_type": "stream",
          "name": "stdout",
          "text": [
            "  Keyword not found in any section. Skipping file.\n",
            "\n",
            "Processing file: /content/med_webscraper/ted_html_pages/210626-2016.html\n",
            "  Keyword not found in any section. Skipping file.\n",
            "\n",
            "Processing file: /content/med_webscraper/ted_html_pages/500869-2023.html\n"
          ]
        },
        {
          "output_type": "stream",
          "name": "stderr",
          "text": [
            "Processing files:  37%|███▋      | 357/961 [15:24<02:46,  3.64file/s]"
          ]
        },
        {
          "output_type": "stream",
          "name": "stdout",
          "text": [
            "  Keyword not found in any section. Skipping file.\n",
            "\n",
            "Processing file: /content/med_webscraper/ted_html_pages/282154-2019.html\n"
          ]
        },
        {
          "output_type": "stream",
          "name": "stderr",
          "text": [
            "Processing files:  37%|███▋      | 358/961 [15:24<03:05,  3.24file/s]"
          ]
        },
        {
          "output_type": "stream",
          "name": "stdout",
          "text": [
            "  Keyword not found in any section. Skipping file.\n",
            "\n",
            "Processing file: /content/med_webscraper/ted_html_pages/22875-2018.html\n"
          ]
        },
        {
          "output_type": "stream",
          "name": "stderr",
          "text": [
            "Processing files:  37%|███▋      | 359/961 [15:25<03:54,  2.57file/s]"
          ]
        },
        {
          "output_type": "stream",
          "name": "stdout",
          "text": [
            "  Keyword not found in any section. Skipping file.\n",
            "\n",
            "Processing file: /content/med_webscraper/ted_html_pages/183974-2018.html\n"
          ]
        },
        {
          "output_type": "stream",
          "name": "stderr",
          "text": [
            "Processing files:  37%|███▋      | 360/961 [15:25<03:25,  2.92file/s]"
          ]
        },
        {
          "output_type": "stream",
          "name": "stdout",
          "text": [
            "  Keyword not found in any section. Skipping file.\n",
            "\n",
            "Processing file: /content/med_webscraper/ted_html_pages/316179-2020.html\n"
          ]
        },
        {
          "output_type": "stream",
          "name": "stderr",
          "text": [
            "Processing files:  38%|███▊      | 361/961 [15:28<10:23,  1.04s/file]"
          ]
        },
        {
          "output_type": "stream",
          "name": "stdout",
          "text": [
            "  Keyword not found in any section. Skipping file.\n",
            "\n",
            "Processing file: /content/med_webscraper/ted_html_pages/628760-2022.html\n"
          ]
        },
        {
          "output_type": "stream",
          "name": "stderr",
          "text": [
            "Processing files:  38%|███▊      | 363/961 [15:31<12:02,  1.21s/file]"
          ]
        },
        {
          "output_type": "stream",
          "name": "stdout",
          "text": [
            "  Keyword not found in any section. Skipping file.\n",
            "\n",
            "Processing file: /content/med_webscraper/ted_html_pages/554803-2018.html\n",
            "  Keyword not found in any section. Skipping file.\n",
            "\n",
            "Processing file: /content/med_webscraper/ted_html_pages/278241-2023.html\n"
          ]
        },
        {
          "output_type": "stream",
          "name": "stderr",
          "text": [
            "Processing files:  38%|███▊      | 365/961 [15:34<12:30,  1.26s/file]"
          ]
        },
        {
          "output_type": "stream",
          "name": "stdout",
          "text": [
            "  Keyword not found in any section. Skipping file.\n",
            "\n",
            "Processing file: /content/med_webscraper/ted_html_pages/374685-2020.html\n",
            "  Keyword not found in any section. Skipping file.\n",
            "\n",
            "Processing file: /content/med_webscraper/ted_html_pages/326457-2020.html\n"
          ]
        },
        {
          "output_type": "stream",
          "name": "stderr",
          "text": [
            "Processing files:  38%|███▊      | 366/961 [15:38<19:09,  1.93s/file]"
          ]
        },
        {
          "output_type": "stream",
          "name": "stdout",
          "text": [
            "  Keyword not found in any section. Skipping file.\n",
            "\n",
            "Processing file: /content/med_webscraper/ted_html_pages/53745-2025.html\n"
          ]
        },
        {
          "output_type": "stream",
          "name": "stderr",
          "text": [
            "Processing files:  38%|███▊      | 366/961 [15:38<19:09,  1.93s/file]"
          ]
        },
        {
          "output_type": "stream",
          "name": "stdout",
          "text": [
            "  Keyword found in section. Extracting data...\n",
            "    Making batch translation request for 39 unique strings...\n"
          ]
        },
        {
          "output_type": "stream",
          "name": "stderr",
          "text": [
            "Processing files:  38%|███▊      | 366/961 [15:44<19:09,  1.93s/file]"
          ]
        },
        {
          "output_type": "stream",
          "name": "stdout",
          "text": [
            "    Translation complete.\n",
            "  Keyword found in section. Extracting data...\n",
            "    Making batch translation request for 41 unique strings...\n"
          ]
        },
        {
          "output_type": "stream",
          "name": "stderr",
          "text": [
            "Processing files:  38%|███▊      | 367/961 [15:48<43:45,  4.42s/file]"
          ]
        },
        {
          "output_type": "stream",
          "name": "stdout",
          "text": [
            "    Translation complete.\n",
            "\n",
            "Processing file: /content/med_webscraper/ted_html_pages/68700-2022.html\n"
          ]
        },
        {
          "output_type": "stream",
          "name": "stderr",
          "text": [
            "Processing files:  38%|███▊      | 368/961 [15:48<31:20,  3.17s/file]"
          ]
        },
        {
          "output_type": "stream",
          "name": "stdout",
          "text": [
            "  Keyword not found in any section. Skipping file.\n",
            "\n",
            "Processing file: /content/med_webscraper/ted_html_pages/232503-2017.html\n"
          ]
        },
        {
          "output_type": "stream",
          "name": "stderr",
          "text": [
            "Processing files:  38%|███▊      | 369/961 [15:49<23:38,  2.40s/file]"
          ]
        },
        {
          "output_type": "stream",
          "name": "stdout",
          "text": [
            "  Keyword not found in any section. Skipping file.\n",
            "\n",
            "Processing file: /content/med_webscraper/ted_html_pages/191578-2021.html\n"
          ]
        },
        {
          "output_type": "stream",
          "name": "stderr",
          "text": [
            "Processing files:  39%|███▊      | 371/961 [15:49<12:33,  1.28s/file]"
          ]
        },
        {
          "output_type": "stream",
          "name": "stdout",
          "text": [
            "  Keyword not found in any section. Skipping file.\n",
            "\n",
            "Processing file: /content/med_webscraper/ted_html_pages/372326-2018.html\n",
            "  Keyword not found in any section. Skipping file.\n",
            "\n",
            "Processing file: /content/med_webscraper/ted_html_pages/541211-2018.html\n"
          ]
        },
        {
          "output_type": "stream",
          "name": "stderr",
          "text": [
            "Processing files:  39%|███▊      | 372/961 [15:50<10:51,  1.11s/file]"
          ]
        },
        {
          "output_type": "stream",
          "name": "stdout",
          "text": [
            "  Keyword not found in any section. Skipping file.\n",
            "\n",
            "Processing file: /content/med_webscraper/ted_html_pages/523586-2022.html\n"
          ]
        },
        {
          "output_type": "stream",
          "name": "stderr",
          "text": [
            "Processing files:  39%|███▉      | 373/961 [16:11<1:09:26,  7.09s/file]"
          ]
        },
        {
          "output_type": "stream",
          "name": "stdout",
          "text": [
            "  Keyword not found in any section. Skipping file.\n",
            "\n",
            "Processing file: /content/med_webscraper/ted_html_pages/98946-2024.html\n",
            "  Keyword found in section. Extracting data...\n",
            "    Making batch translation request for 59 unique strings...\n"
          ]
        },
        {
          "output_type": "stream",
          "name": "stderr",
          "text": [
            "Processing files:  39%|███▉      | 374/961 [16:19<1:11:39,  7.33s/file]"
          ]
        },
        {
          "output_type": "stream",
          "name": "stdout",
          "text": [
            "    Translation complete.\n",
            "\n",
            "Processing file: /content/med_webscraper/ted_html_pages/226914-2025.html\n",
            "  Keyword found in section. Extracting data...\n",
            "    Making batch translation request for 27 unique strings...\n"
          ]
        },
        {
          "output_type": "stream",
          "name": "stderr",
          "text": [
            "Processing files:  39%|███▉      | 374/961 [16:23<1:11:39,  7.33s/file]"
          ]
        },
        {
          "output_type": "stream",
          "name": "stdout",
          "text": [
            "    Translation complete.\n",
            "  Keyword found in section. Extracting data...\n",
            "    Making batch translation request for 39 unique strings...\n"
          ]
        },
        {
          "output_type": "stream",
          "name": "stderr",
          "text": [
            "Processing files:  39%|███▉      | 375/961 [16:28<1:15:48,  7.76s/file]"
          ]
        },
        {
          "output_type": "stream",
          "name": "stdout",
          "text": [
            "    Translation complete.\n",
            "\n",
            "Processing file: /content/med_webscraper/ted_html_pages/266689-2020.html\n"
          ]
        },
        {
          "output_type": "stream",
          "name": "stderr",
          "text": [
            "Processing files:  39%|███▉      | 376/961 [16:28<54:08,  5.55s/file]"
          ]
        },
        {
          "output_type": "stream",
          "name": "stdout",
          "text": [
            "  Keyword not found in any section. Skipping file.\n",
            "\n",
            "Processing file: /content/med_webscraper/ted_html_pages/212236-2017.html\n"
          ]
        },
        {
          "output_type": "stream",
          "name": "stderr",
          "text": [
            "Processing files:  39%|███▉      | 377/961 [16:29<41:28,  4.26s/file]"
          ]
        },
        {
          "output_type": "stream",
          "name": "stdout",
          "text": [
            "  Keyword not found in any section. Skipping file.\n",
            "\n",
            "Processing file: /content/med_webscraper/ted_html_pages/568738-2023.html\n"
          ]
        },
        {
          "output_type": "stream",
          "name": "stderr",
          "text": [
            "Processing files:  39%|███▉      | 378/961 [16:30<32:06,  3.30s/file]"
          ]
        },
        {
          "output_type": "stream",
          "name": "stdout",
          "text": [
            "  Keyword not found in any section. Skipping file.\n",
            "\n",
            "Processing file: /content/med_webscraper/ted_html_pages/118236-2025.html\n"
          ]
        },
        {
          "output_type": "stream",
          "name": "stderr",
          "text": [
            "Processing files:  39%|███▉      | 378/961 [16:31<32:06,  3.30s/file]"
          ]
        },
        {
          "output_type": "stream",
          "name": "stdout",
          "text": [
            "  Keyword found in section. Extracting data...\n",
            "    Making batch translation request for 49 unique strings...\n"
          ]
        },
        {
          "output_type": "stream",
          "name": "stderr",
          "text": [
            "Processing files:  39%|███▉      | 378/961 [16:37<32:06,  3.30s/file]"
          ]
        },
        {
          "output_type": "stream",
          "name": "stdout",
          "text": [
            "    Translation complete.\n",
            "  Keyword found in section. Extracting data...\n",
            "    Making batch translation request for 49 unique strings...\n"
          ]
        },
        {
          "output_type": "stream",
          "name": "stderr",
          "text": [
            "Processing files:  40%|███▉      | 380/961 [16:42<38:57,  4.02s/file]"
          ]
        },
        {
          "output_type": "stream",
          "name": "stdout",
          "text": [
            "    Translation complete.\n",
            "\n",
            "Processing file: /content/med_webscraper/ted_html_pages/449950-2020.html\n",
            "  Keyword not found in any section. Skipping file.\n",
            "\n",
            "Processing file: /content/med_webscraper/ted_html_pages/458840-2018.html\n"
          ]
        },
        {
          "output_type": "stream",
          "name": "stderr",
          "text": [
            "Processing files:  40%|███▉      | 382/961 [16:42<20:18,  2.11s/file]"
          ]
        },
        {
          "output_type": "stream",
          "name": "stdout",
          "text": [
            "  Keyword not found in any section. Skipping file.\n",
            "\n",
            "Processing file: /content/med_webscraper/ted_html_pages/250729-2021.html\n",
            "  Keyword not found in any section. Skipping file.\n",
            "\n",
            "Processing file: /content/med_webscraper/ted_html_pages/248443-2016.html\n"
          ]
        },
        {
          "output_type": "stream",
          "name": "stderr",
          "text": [
            "Processing files:  40%|███▉      | 384/961 [16:43<10:35,  1.10s/file]"
          ]
        },
        {
          "output_type": "stream",
          "name": "stdout",
          "text": [
            "  Keyword not found in any section. Skipping file.\n",
            "\n",
            "Processing file: /content/med_webscraper/ted_html_pages/468816-2022.html\n",
            "  Keyword not found in any section. Skipping file.\n",
            "\n",
            "Processing file: /content/med_webscraper/ted_html_pages/440171-2016.html\n"
          ]
        },
        {
          "output_type": "stream",
          "name": "stderr",
          "text": [
            "Processing files:  40%|████      | 386/961 [16:43<05:49,  1.65file/s]"
          ]
        },
        {
          "output_type": "stream",
          "name": "stdout",
          "text": [
            "  Keyword not found in any section. Skipping file.\n",
            "\n",
            "Processing file: /content/med_webscraper/ted_html_pages/558311-2018.html\n",
            "  Keyword not found in any section. Skipping file.\n",
            "\n",
            "Processing file: /content/med_webscraper/ted_html_pages/61520-2020.html\n"
          ]
        },
        {
          "output_type": "stream",
          "name": "stderr",
          "text": [
            "Processing files:  40%|████      | 387/961 [16:43<04:32,  2.10file/s]"
          ]
        },
        {
          "output_type": "stream",
          "name": "stdout",
          "text": [
            "  Keyword not found in any section. Skipping file.\n",
            "\n",
            "Processing file: /content/med_webscraper/ted_html_pages/485474-2025.html\n"
          ]
        },
        {
          "output_type": "stream",
          "name": "stderr",
          "text": [
            "Processing files:  40%|████      | 387/961 [16:43<04:32,  2.10file/s]"
          ]
        },
        {
          "output_type": "stream",
          "name": "stdout",
          "text": [
            "  Keyword found in section. Extracting data...\n",
            "    Making batch translation request for 42 unique strings...\n"
          ]
        },
        {
          "output_type": "stream",
          "name": "stderr",
          "text": [
            "Processing files:  40%|████      | 388/961 [16:47<14:03,  1.47s/file]"
          ]
        },
        {
          "output_type": "stream",
          "name": "stdout",
          "text": [
            "    Translation complete.\n",
            "\n",
            "Processing file: /content/med_webscraper/ted_html_pages/525500-2023.html\n"
          ]
        },
        {
          "output_type": "stream",
          "name": "stderr",
          "text": [
            "Processing files:  40%|████      | 389/961 [16:48<12:31,  1.31s/file]"
          ]
        },
        {
          "output_type": "stream",
          "name": "stdout",
          "text": [
            "  Keyword not found in any section. Skipping file.\n",
            "\n",
            "Processing file: /content/med_webscraper/ted_html_pages/16301-2020.html\n"
          ]
        },
        {
          "output_type": "stream",
          "name": "stderr",
          "text": [
            "Processing files:  41%|████      | 390/961 [16:48<09:31,  1.00s/file]"
          ]
        },
        {
          "output_type": "stream",
          "name": "stdout",
          "text": [
            "  Keyword not found in any section. Skipping file.\n",
            "\n",
            "Processing file: /content/med_webscraper/ted_html_pages/329816-2022.html\n"
          ]
        },
        {
          "output_type": "stream",
          "name": "stderr",
          "text": [
            "Processing files:  41%|████      | 391/961 [16:48<07:41,  1.24file/s]"
          ]
        },
        {
          "output_type": "stream",
          "name": "stdout",
          "text": [
            "  Keyword not found in any section. Skipping file.\n",
            "\n",
            "Processing file: /content/med_webscraper/ted_html_pages/760046-2023.html\n"
          ]
        },
        {
          "output_type": "stream",
          "name": "stderr",
          "text": [
            "Processing files:  41%|████      | 393/961 [16:49<05:26,  1.74file/s]"
          ]
        },
        {
          "output_type": "stream",
          "name": "stdout",
          "text": [
            "  Keyword not found in any section. Skipping file.\n",
            "\n",
            "Processing file: /content/med_webscraper/ted_html_pages/207605-2022.html\n",
            "  Keyword not found in any section. Skipping file.\n",
            "\n",
            "Processing file: /content/med_webscraper/ted_html_pages/506060-2024.html\n"
          ]
        },
        {
          "output_type": "stream",
          "name": "stderr",
          "text": [
            "Processing files:  41%|████      | 393/961 [16:49<05:26,  1.74file/s]"
          ]
        },
        {
          "output_type": "stream",
          "name": "stdout",
          "text": [
            "  Keyword found in section. Extracting data...\n",
            "    Making batch translation request for 51 unique strings...\n"
          ]
        },
        {
          "output_type": "stream",
          "name": "stderr",
          "text": [
            "Processing files:  41%|████      | 393/961 [16:59<05:26,  1.74file/s]"
          ]
        },
        {
          "output_type": "stream",
          "name": "stdout",
          "text": [
            "    Translation complete.\n",
            "  Keyword found in section. Extracting data...\n",
            "    Making batch translation request for 51 unique strings...\n"
          ]
        },
        {
          "output_type": "stream",
          "name": "stderr",
          "text": [
            "Processing files:  41%|████      | 394/961 [17:07<53:26,  5.65s/file]"
          ]
        },
        {
          "output_type": "stream",
          "name": "stdout",
          "text": [
            "    Translation complete.\n",
            "\n",
            "Processing file: /content/med_webscraper/ted_html_pages/568709-2018.html\n"
          ]
        },
        {
          "output_type": "stream",
          "name": "stderr",
          "text": [
            "Processing files:  41%|████      | 395/961 [17:07<38:26,  4.07s/file]"
          ]
        },
        {
          "output_type": "stream",
          "name": "stdout",
          "text": [
            "  Keyword not found in any section. Skipping file.\n",
            "\n",
            "Processing file: /content/med_webscraper/ted_html_pages/98125-2023.html\n"
          ]
        },
        {
          "output_type": "stream",
          "name": "stderr",
          "text": [
            "Processing files:  41%|████      | 396/961 [17:07<28:02,  2.98s/file]"
          ]
        },
        {
          "output_type": "stream",
          "name": "stdout",
          "text": [
            "  Keyword not found in any section. Skipping file.\n",
            "\n",
            "Processing file: /content/med_webscraper/ted_html_pages/586299-2019.html\n"
          ]
        },
        {
          "output_type": "stream",
          "name": "stderr",
          "text": [
            "Processing files:  41%|████▏     | 397/961 [17:08<21:35,  2.30s/file]"
          ]
        },
        {
          "output_type": "stream",
          "name": "stdout",
          "text": [
            "  Keyword not found in any section. Skipping file.\n",
            "\n",
            "Processing file: /content/med_webscraper/ted_html_pages/477265-2018.html\n"
          ]
        },
        {
          "output_type": "stream",
          "name": "stderr",
          "text": [
            "Processing files:  41%|████▏     | 398/961 [17:08<15:49,  1.69s/file]"
          ]
        },
        {
          "output_type": "stream",
          "name": "stdout",
          "text": [
            "  Keyword not found in any section. Skipping file.\n",
            "\n",
            "Processing file: /content/med_webscraper/ted_html_pages/371165-2020.html\n"
          ]
        },
        {
          "output_type": "stream",
          "name": "stderr",
          "text": [
            "Processing files:  42%|████▏     | 399/961 [17:09<12:04,  1.29s/file]"
          ]
        },
        {
          "output_type": "stream",
          "name": "stdout",
          "text": [
            "  Keyword not found in any section. Skipping file.\n",
            "\n",
            "Processing file: /content/med_webscraper/ted_html_pages/381980-2023.html\n"
          ]
        },
        {
          "output_type": "stream",
          "name": "stderr",
          "text": [
            "Processing files:  42%|████▏     | 400/961 [17:10<11:18,  1.21s/file]"
          ]
        },
        {
          "output_type": "stream",
          "name": "stdout",
          "text": [
            "  Keyword not found in any section. Skipping file.\n",
            "\n",
            "Processing file: /content/med_webscraper/ted_html_pages/141966-2017.html\n"
          ]
        },
        {
          "output_type": "stream",
          "name": "stderr",
          "text": [
            "Processing files:  42%|████▏     | 401/961 [17:10<08:33,  1.09file/s]"
          ]
        },
        {
          "output_type": "stream",
          "name": "stdout",
          "text": [
            "  Keyword not found in any section. Skipping file.\n",
            "\n",
            "Processing file: /content/med_webscraper/ted_html_pages/199755-2018.html\n"
          ]
        },
        {
          "output_type": "stream",
          "name": "stderr",
          "text": [
            "Processing files:  42%|████▏     | 402/961 [17:15<20:49,  2.24s/file]"
          ]
        },
        {
          "output_type": "stream",
          "name": "stdout",
          "text": [
            "  Keyword not found in any section. Skipping file.\n",
            "\n",
            "Processing file: /content/med_webscraper/ted_html_pages/287531-2018.html\n"
          ]
        },
        {
          "output_type": "stream",
          "name": "stderr",
          "text": [
            "Processing files:  42%|████▏     | 404/961 [17:16<11:13,  1.21s/file]"
          ]
        },
        {
          "output_type": "stream",
          "name": "stdout",
          "text": [
            "  Keyword not found in any section. Skipping file.\n",
            "\n",
            "Processing file: /content/med_webscraper/ted_html_pages/207552-2022.html\n",
            "  Keyword not found in any section. Skipping file.\n",
            "\n",
            "Processing file: /content/med_webscraper/ted_html_pages/328247-2021.html\n"
          ]
        },
        {
          "output_type": "stream",
          "name": "stderr",
          "text": [
            "Processing files:  42%|████▏     | 405/961 [17:16<08:11,  1.13file/s]"
          ]
        },
        {
          "output_type": "stream",
          "name": "stdout",
          "text": [
            "  Keyword not found in any section. Skipping file.\n",
            "\n",
            "Processing file: /content/med_webscraper/ted_html_pages/114624-2019.html\n"
          ]
        },
        {
          "output_type": "stream",
          "name": "stderr",
          "text": [
            "Processing files:  42%|████▏     | 407/961 [17:17<05:22,  1.72file/s]"
          ]
        },
        {
          "output_type": "stream",
          "name": "stdout",
          "text": [
            "  Keyword not found in any section. Skipping file.\n",
            "\n",
            "Processing file: /content/med_webscraper/ted_html_pages/446351-2020.html\n",
            "  Keyword not found in any section. Skipping file.\n",
            "\n",
            "Processing file: /content/med_webscraper/ted_html_pages/313725-2021.html\n"
          ]
        },
        {
          "output_type": "stream",
          "name": "stderr",
          "text": [
            "Processing files:  43%|████▎     | 409/961 [17:17<03:16,  2.81file/s]"
          ]
        },
        {
          "output_type": "stream",
          "name": "stdout",
          "text": [
            "  Keyword not found in any section. Skipping file.\n",
            "\n",
            "Processing file: /content/med_webscraper/ted_html_pages/273207-2023.html\n",
            "  Keyword not found in any section. Skipping file.\n",
            "\n",
            "Processing file: /content/med_webscraper/ted_html_pages/195064-2022.html\n"
          ]
        },
        {
          "output_type": "stream",
          "name": "stderr",
          "text": [
            "Processing files:  43%|████▎     | 411/961 [17:19<05:05,  1.80file/s]"
          ]
        },
        {
          "output_type": "stream",
          "name": "stdout",
          "text": [
            "  Keyword not found in any section. Skipping file.\n",
            "\n",
            "Processing file: /content/med_webscraper/ted_html_pages/70871-2016.html\n",
            "  Keyword not found in any section. Skipping file.\n",
            "\n",
            "Processing file: /content/med_webscraper/ted_html_pages/456082-2025.html\n"
          ]
        },
        {
          "output_type": "stream",
          "name": "stderr",
          "text": [
            "Processing files:  43%|████▎     | 411/961 [17:19<05:05,  1.80file/s]"
          ]
        },
        {
          "output_type": "stream",
          "name": "stdout",
          "text": [
            "  Keyword found in section. Extracting data...\n",
            "    Making batch translation request for 32 unique strings...\n"
          ]
        },
        {
          "output_type": "stream",
          "name": "stderr",
          "text": [
            "Processing files:  43%|████▎     | 411/961 [17:25<05:05,  1.80file/s]"
          ]
        },
        {
          "output_type": "stream",
          "name": "stdout",
          "text": [
            "    Translation complete.\n",
            "  Keyword found in section. Extracting data...\n",
            "    Making batch translation request for 52 unique strings...\n"
          ]
        },
        {
          "output_type": "stream",
          "name": "stderr",
          "text": [
            "Processing files:  43%|████▎     | 412/961 [17:30<35:44,  3.91s/file]"
          ]
        },
        {
          "output_type": "stream",
          "name": "stdout",
          "text": [
            "    Translation complete.\n",
            "\n",
            "Processing file: /content/med_webscraper/ted_html_pages/49746-2021.html\n"
          ]
        },
        {
          "output_type": "stream",
          "name": "stderr",
          "text": [
            "Processing files:  43%|████▎     | 413/961 [17:31<26:16,  2.88s/file]"
          ]
        },
        {
          "output_type": "stream",
          "name": "stdout",
          "text": [
            "  Keyword not found in any section. Skipping file.\n",
            "\n",
            "Processing file: /content/med_webscraper/ted_html_pages/169655-2022.html\n"
          ]
        },
        {
          "output_type": "stream",
          "name": "stderr",
          "text": [
            "Processing files:  43%|████▎     | 415/961 [17:31<13:43,  1.51s/file]"
          ]
        },
        {
          "output_type": "stream",
          "name": "stdout",
          "text": [
            "  Keyword not found in any section. Skipping file.\n",
            "\n",
            "Processing file: /content/med_webscraper/ted_html_pages/186089-2019.html\n",
            "  Keyword not found in any section. Skipping file.\n",
            "\n",
            "Processing file: /content/med_webscraper/ted_html_pages/412087-2021.html\n"
          ]
        },
        {
          "output_type": "stream",
          "name": "stderr",
          "text": [
            "Processing files:  43%|████▎     | 417/961 [17:32<07:18,  1.24file/s]"
          ]
        },
        {
          "output_type": "stream",
          "name": "stdout",
          "text": [
            "  Keyword not found in any section. Skipping file.\n",
            "\n",
            "Processing file: /content/med_webscraper/ted_html_pages/661449-2021.html\n",
            "  Keyword not found in any section. Skipping file.\n",
            "\n",
            "Processing file: /content/med_webscraper/ted_html_pages/118331-2020.html\n"
          ]
        },
        {
          "output_type": "stream",
          "name": "stderr",
          "text": [
            "Processing files:  44%|████▎     | 419/961 [17:32<04:50,  1.86file/s]"
          ]
        },
        {
          "output_type": "stream",
          "name": "stdout",
          "text": [
            "  Keyword not found in any section. Skipping file.\n",
            "\n",
            "Processing file: /content/med_webscraper/ted_html_pages/515747-2019.html\n",
            "  Keyword not found in any section. Skipping file.\n",
            "\n",
            "Processing file: /content/med_webscraper/ted_html_pages/3193-2017.html\n"
          ]
        },
        {
          "output_type": "stream",
          "name": "stderr",
          "text": [
            "Processing files:  44%|████▎     | 420/961 [17:33<04:45,  1.89file/s]"
          ]
        },
        {
          "output_type": "stream",
          "name": "stdout",
          "text": [
            "  Keyword not found in any section. Skipping file.\n",
            "\n",
            "Processing file: /content/med_webscraper/ted_html_pages/159600-2021.html\n"
          ]
        },
        {
          "output_type": "stream",
          "name": "stderr",
          "text": [
            "Processing files:  44%|████▍     | 421/961 [17:36<12:15,  1.36s/file]"
          ]
        },
        {
          "output_type": "stream",
          "name": "stdout",
          "text": [
            "  Keyword not found in any section. Skipping file.\n",
            "\n",
            "Processing file: /content/med_webscraper/ted_html_pages/310157-2025.html\n",
            "  Keyword found in section. Extracting data...\n",
            "    Making batch translation request for 42 unique strings...\n"
          ]
        },
        {
          "output_type": "stream",
          "name": "stderr",
          "text": [
            "Processing files:  44%|████▍     | 422/961 [17:42<25:26,  2.83s/file]"
          ]
        },
        {
          "output_type": "stream",
          "name": "stdout",
          "text": [
            "    Translation complete.\n",
            "\n",
            "Processing file: /content/med_webscraper/ted_html_pages/539655-2023.html\n"
          ]
        },
        {
          "output_type": "stream",
          "name": "stderr",
          "text": [
            "Processing files:  44%|████▍     | 423/961 [17:43<18:44,  2.09s/file]"
          ]
        },
        {
          "output_type": "stream",
          "name": "stdout",
          "text": [
            "  Keyword not found in any section. Skipping file.\n",
            "\n",
            "Processing file: /content/med_webscraper/ted_html_pages/90116-2019.html\n"
          ]
        },
        {
          "output_type": "stream",
          "name": "stderr",
          "text": [
            "Processing files:  44%|████▍     | 424/961 [17:43<13:45,  1.54s/file]"
          ]
        },
        {
          "output_type": "stream",
          "name": "stdout",
          "text": [
            "  Keyword not found in any section. Skipping file.\n",
            "\n",
            "Processing file: /content/med_webscraper/ted_html_pages/206085-2019.html\n"
          ]
        },
        {
          "output_type": "stream",
          "name": "stderr",
          "text": [
            "Processing files:  44%|████▍     | 426/961 [17:44<08:07,  1.10file/s]"
          ]
        },
        {
          "output_type": "stream",
          "name": "stdout",
          "text": [
            "  Keyword not found in any section. Skipping file.\n",
            "\n",
            "Processing file: /content/med_webscraper/ted_html_pages/677063-2022.html\n",
            "  Keyword not found in any section. Skipping file.\n",
            "\n",
            "Processing file: /content/med_webscraper/ted_html_pages/593013-2023.html\n"
          ]
        },
        {
          "output_type": "stream",
          "name": "stderr",
          "text": [
            "Processing files:  44%|████▍     | 427/961 [17:44<06:02,  1.47file/s]"
          ]
        },
        {
          "output_type": "stream",
          "name": "stdout",
          "text": [
            "  Keyword not found in any section. Skipping file.\n",
            "\n",
            "Processing file: /content/med_webscraper/ted_html_pages/313139-2021.html\n"
          ]
        },
        {
          "output_type": "stream",
          "name": "stderr",
          "text": [
            "Processing files:  45%|████▍     | 429/961 [17:44<04:21,  2.03file/s]"
          ]
        },
        {
          "output_type": "stream",
          "name": "stdout",
          "text": [
            "  Keyword not found in any section. Skipping file.\n",
            "\n",
            "Processing file: /content/med_webscraper/ted_html_pages/180564-2019.html\n",
            "  Keyword not found in any section. Skipping file.\n",
            "\n",
            "Processing file: /content/med_webscraper/ted_html_pages/336369-2016.html\n"
          ]
        },
        {
          "output_type": "stream",
          "name": "stderr",
          "text": [
            "Processing files:  45%|████▍     | 431/961 [17:46<04:59,  1.77file/s]"
          ]
        },
        {
          "output_type": "stream",
          "name": "stdout",
          "text": [
            "  Keyword not found in any section. Skipping file.\n",
            "\n",
            "Processing file: /content/med_webscraper/ted_html_pages/83074-2019.html\n",
            "  Keyword not found in any section. Skipping file.\n",
            "\n",
            "Processing file: /content/med_webscraper/ted_html_pages/55042-2025.html\n"
          ]
        },
        {
          "output_type": "stream",
          "name": "stderr",
          "text": [
            "Processing files:  45%|████▍     | 431/961 [17:46<04:59,  1.77file/s]"
          ]
        },
        {
          "output_type": "stream",
          "name": "stdout",
          "text": [
            "  Keyword found in section. Extracting data...\n",
            "    Making batch translation request for 40 unique strings...\n"
          ]
        },
        {
          "output_type": "stream",
          "name": "stderr",
          "text": [
            "Processing files:  45%|████▍     | 432/961 [17:51<18:22,  2.08s/file]"
          ]
        },
        {
          "output_type": "stream",
          "name": "stdout",
          "text": [
            "    Translation complete.\n",
            "\n",
            "Processing file: /content/med_webscraper/ted_html_pages/586781-2021.html\n"
          ]
        },
        {
          "output_type": "stream",
          "name": "stderr",
          "text": [
            "Processing files:  45%|████▌     | 433/961 [17:53<16:42,  1.90s/file]"
          ]
        },
        {
          "output_type": "stream",
          "name": "stdout",
          "text": [
            "  Keyword not found in any section. Skipping file.\n",
            "\n",
            "Processing file: /content/med_webscraper/ted_html_pages/136570-2021.html\n"
          ]
        },
        {
          "output_type": "stream",
          "name": "stderr",
          "text": [
            "Processing files:  45%|████▌     | 434/961 [17:53<12:31,  1.43s/file]"
          ]
        },
        {
          "output_type": "stream",
          "name": "stdout",
          "text": [
            "  Keyword not found in any section. Skipping file.\n",
            "\n",
            "Processing file: /content/med_webscraper/ted_html_pages/639466-2023.html\n"
          ]
        },
        {
          "output_type": "stream",
          "name": "stderr",
          "text": [
            "Processing files:  45%|████▌     | 435/961 [17:54<11:03,  1.26s/file]"
          ]
        },
        {
          "output_type": "stream",
          "name": "stdout",
          "text": [
            "  Keyword not found in any section. Skipping file.\n",
            "\n",
            "Processing file: /content/med_webscraper/ted_html_pages/80986-2021.html\n"
          ]
        },
        {
          "output_type": "stream",
          "name": "stderr",
          "text": [
            "Processing files:  45%|████▌     | 437/961 [17:55<06:35,  1.32file/s]"
          ]
        },
        {
          "output_type": "stream",
          "name": "stdout",
          "text": [
            "  Keyword not found in any section. Skipping file.\n",
            "\n",
            "Processing file: /content/med_webscraper/ted_html_pages/487294-2018.html\n",
            "  Keyword not found in any section. Skipping file.\n",
            "\n",
            "Processing file: /content/med_webscraper/ted_html_pages/279424-2022.html\n"
          ]
        },
        {
          "output_type": "stream",
          "name": "stderr",
          "text": [
            "Processing files:  46%|████▌     | 439/961 [17:55<04:38,  1.87file/s]"
          ]
        },
        {
          "output_type": "stream",
          "name": "stdout",
          "text": [
            "  Keyword not found in any section. Skipping file.\n",
            "\n",
            "Processing file: /content/med_webscraper/ted_html_pages/328283-2021.html\n",
            "  Keyword not found in any section. Skipping file.\n",
            "\n",
            "Processing file: /content/med_webscraper/ted_html_pages/388887-2017.html\n"
          ]
        },
        {
          "output_type": "stream",
          "name": "stderr",
          "text": [
            "Processing files:  46%|████▌     | 440/961 [17:57<08:24,  1.03file/s]"
          ]
        },
        {
          "output_type": "stream",
          "name": "stdout",
          "text": [
            "  Keyword not found in any section. Skipping file.\n",
            "\n",
            "Processing file: /content/med_webscraper/ted_html_pages/419615-2019.html\n"
          ]
        },
        {
          "output_type": "stream",
          "name": "stderr",
          "text": [
            "Processing files:  46%|████▌     | 441/961 [17:58<06:49,  1.27file/s]"
          ]
        },
        {
          "output_type": "stream",
          "name": "stdout",
          "text": [
            "  Keyword not found in any section. Skipping file.\n",
            "\n",
            "Processing file: /content/med_webscraper/ted_html_pages/113242-2023.html\n"
          ]
        },
        {
          "output_type": "stream",
          "name": "stderr",
          "text": [
            "Processing files:  46%|████▌     | 443/961 [17:58<04:10,  2.07file/s]"
          ]
        },
        {
          "output_type": "stream",
          "name": "stdout",
          "text": [
            "  Keyword not found in any section. Skipping file.\n",
            "\n",
            "Processing file: /content/med_webscraper/ted_html_pages/398514-2021.html\n",
            "  Keyword not found in any section. Skipping file.\n",
            "\n",
            "Processing file: /content/med_webscraper/ted_html_pages/70866-2024.html\n"
          ]
        },
        {
          "output_type": "stream",
          "name": "stderr",
          "text": [
            "Processing files:  46%|████▌     | 443/961 [17:58<04:10,  2.07file/s]"
          ]
        },
        {
          "output_type": "stream",
          "name": "stdout",
          "text": [
            "  Keyword found in section. Extracting data...\n",
            "    Making batch translation request for 42 unique strings...\n"
          ]
        },
        {
          "output_type": "stream",
          "name": "stderr",
          "text": [
            "Processing files:  46%|████▌     | 443/961 [18:04<04:10,  2.07file/s]"
          ]
        },
        {
          "output_type": "stream",
          "name": "stdout",
          "text": [
            "    Translation complete.\n",
            "  Keyword found in section. Extracting data...\n",
            "    Making batch translation request for 47 unique strings...\n"
          ]
        },
        {
          "output_type": "stream",
          "name": "stderr",
          "text": [
            "Processing files:  46%|████▌     | 443/961 [18:10<04:10,  2.07file/s]"
          ]
        },
        {
          "output_type": "stream",
          "name": "stdout",
          "text": [
            "    Translation complete.\n",
            "  Keyword found in section. Extracting data...\n",
            "    Making batch translation request for 23 unique strings...\n"
          ]
        },
        {
          "output_type": "stream",
          "name": "stderr",
          "text": [
            "Processing files:  46%|████▋     | 445/961 [18:13<29:15,  3.40s/file]"
          ]
        },
        {
          "output_type": "stream",
          "name": "stdout",
          "text": [
            "    Translation complete.\n",
            "\n",
            "Processing file: /content/med_webscraper/ted_html_pages/617208-2020.html\n",
            "  Keyword not found in any section. Skipping file.\n",
            "\n",
            "Processing file: /content/med_webscraper/ted_html_pages/448856-2017.html\n"
          ]
        },
        {
          "output_type": "stream",
          "name": "stderr",
          "text": [
            "Processing files:  46%|████▋     | 446/961 [18:13<20:48,  2.43s/file]"
          ]
        },
        {
          "output_type": "stream",
          "name": "stdout",
          "text": [
            "  Keyword not found in any section. Skipping file.\n",
            "\n",
            "Processing file: /content/med_webscraper/ted_html_pages/187331-2021.html\n"
          ]
        },
        {
          "output_type": "stream",
          "name": "stderr",
          "text": [
            "Processing files:  47%|████▋     | 447/961 [18:40<1:22:26,  9.62s/file]"
          ]
        },
        {
          "output_type": "stream",
          "name": "stdout",
          "text": [
            "  Keyword not found in any section. Skipping file.\n",
            "\n",
            "Processing file: /content/med_webscraper/ted_html_pages/232498-2017.html\n"
          ]
        },
        {
          "output_type": "stream",
          "name": "stderr",
          "text": [
            "Processing files:  47%|████▋     | 448/961 [18:40<58:20,  6.82s/file]"
          ]
        },
        {
          "output_type": "stream",
          "name": "stdout",
          "text": [
            "  Keyword not found in any section. Skipping file.\n",
            "\n",
            "Processing file: /content/med_webscraper/ted_html_pages/606913-2022.html\n"
          ]
        },
        {
          "output_type": "stream",
          "name": "stderr",
          "text": [
            "Processing files:  47%|████▋     | 449/961 [18:42<45:01,  5.28s/file]"
          ]
        },
        {
          "output_type": "stream",
          "name": "stdout",
          "text": [
            "  Keyword not found in any section. Skipping file.\n",
            "\n",
            "Processing file: /content/med_webscraper/ted_html_pages/353350-2022.html\n"
          ]
        },
        {
          "output_type": "stream",
          "name": "stderr",
          "text": [
            "Processing files:  47%|████▋     | 450/961 [18:42<32:01,  3.76s/file]"
          ]
        },
        {
          "output_type": "stream",
          "name": "stdout",
          "text": [
            "  Keyword not found in any section. Skipping file.\n",
            "\n",
            "Processing file: /content/med_webscraper/ted_html_pages/301626-2017.html\n"
          ]
        },
        {
          "output_type": "stream",
          "name": "stderr",
          "text": [
            "Processing files:  47%|████▋     | 452/961 [18:45<20:50,  2.46s/file]"
          ]
        },
        {
          "output_type": "stream",
          "name": "stdout",
          "text": [
            "  Keyword not found in any section. Skipping file.\n",
            "\n",
            "Processing file: /content/med_webscraper/ted_html_pages/330772-2023.html\n",
            "  Keyword not found in any section. Skipping file.\n",
            "\n",
            "Processing file: /content/med_webscraper/ted_html_pages/487905-2025.html\n"
          ]
        },
        {
          "output_type": "stream",
          "name": "stderr",
          "text": [
            "Processing files:  47%|████▋     | 452/961 [18:45<20:50,  2.46s/file]"
          ]
        },
        {
          "output_type": "stream",
          "name": "stdout",
          "text": [
            "  Keyword found in section. Extracting data...\n",
            "    Making batch translation request for 38 unique strings...\n"
          ]
        },
        {
          "output_type": "stream",
          "name": "stderr",
          "text": [
            "Processing files:  47%|████▋     | 452/961 [18:52<20:50,  2.46s/file]"
          ]
        },
        {
          "output_type": "stream",
          "name": "stdout",
          "text": [
            "    Translation complete.\n",
            "  Keyword found in section. Extracting data...\n",
            "    Making batch translation request for 60 unique strings...\n"
          ]
        },
        {
          "output_type": "stream",
          "name": "stderr",
          "text": [
            "Processing files:  47%|████▋     | 453/961 [18:58<47:48,  5.65s/file]"
          ]
        },
        {
          "output_type": "stream",
          "name": "stdout",
          "text": [
            "    Translation complete.\n",
            "\n",
            "Processing file: /content/med_webscraper/ted_html_pages/426844-2023.html\n"
          ]
        },
        {
          "output_type": "stream",
          "name": "stderr",
          "text": [
            "Processing files:  47%|████▋     | 454/961 [19:05<52:13,  6.18s/file]"
          ]
        },
        {
          "output_type": "stream",
          "name": "stdout",
          "text": [
            "  Keyword not found in any section. Skipping file.\n",
            "\n",
            "Processing file: /content/med_webscraper/ted_html_pages/181066-2025.html\n"
          ]
        },
        {
          "output_type": "stream",
          "name": "stderr",
          "text": [
            "Processing files:  47%|████▋     | 454/961 [19:06<52:13,  6.18s/file]"
          ]
        },
        {
          "output_type": "stream",
          "name": "stdout",
          "text": [
            "  Keyword found in section. Extracting data...\n",
            "    Making batch translation request for 44 unique strings...\n"
          ]
        },
        {
          "output_type": "stream",
          "name": "stderr",
          "text": [
            "Processing files:  47%|████▋     | 454/961 [19:12<52:13,  6.18s/file]"
          ]
        },
        {
          "output_type": "stream",
          "name": "stdout",
          "text": [
            "    Translation complete.\n",
            "  Keyword found in section. Extracting data...\n",
            "    Making batch translation request for 44 unique strings...\n"
          ]
        },
        {
          "output_type": "stream",
          "name": "stderr",
          "text": [
            "Processing files:  47%|████▋     | 454/961 [19:17<52:13,  6.18s/file]"
          ]
        },
        {
          "output_type": "stream",
          "name": "stdout",
          "text": [
            "    Translation complete.\n",
            "  Keyword found in section. Extracting data...\n",
            "    Making batch translation request for 44 unique strings...\n"
          ]
        },
        {
          "output_type": "stream",
          "name": "stderr",
          "text": [
            "Processing files:  47%|████▋     | 454/961 [19:21<52:13,  6.18s/file]"
          ]
        },
        {
          "output_type": "stream",
          "name": "stdout",
          "text": [
            "    Translation complete.\n",
            "  Keyword found in section. Extracting data...\n",
            "    Making batch translation request for 33 unique strings...\n"
          ]
        },
        {
          "output_type": "stream",
          "name": "stderr",
          "text": [
            "Processing files:  47%|████▋     | 454/961 [19:25<52:13,  6.18s/file]"
          ]
        },
        {
          "output_type": "stream",
          "name": "stdout",
          "text": [
            "    Translation complete.\n",
            "  Keyword found in section. Extracting data...\n",
            "    Making batch translation request for 33 unique strings...\n"
          ]
        },
        {
          "output_type": "stream",
          "name": "stderr",
          "text": [
            "Processing files:  47%|████▋     | 454/961 [19:30<52:13,  6.18s/file]"
          ]
        },
        {
          "output_type": "stream",
          "name": "stdout",
          "text": [
            "    Translation complete.\n",
            "  Keyword found in section. Extracting data...\n",
            "    Making batch translation request for 33 unique strings...\n"
          ]
        },
        {
          "output_type": "stream",
          "name": "stderr",
          "text": [
            "Processing files:  47%|████▋     | 455/961 [19:34<1:49:19, 12.96s/file]"
          ]
        },
        {
          "output_type": "stream",
          "name": "stdout",
          "text": [
            "    Translation complete.\n",
            "\n",
            "Processing file: /content/med_webscraper/ted_html_pages/296778-2021.html\n"
          ]
        },
        {
          "output_type": "stream",
          "name": "stderr",
          "text": [
            "Processing files:  47%|████▋     | 456/961 [19:35<1:18:51,  9.37s/file]"
          ]
        },
        {
          "output_type": "stream",
          "name": "stdout",
          "text": [
            "  Keyword not found in any section. Skipping file.\n",
            "\n",
            "Processing file: /content/med_webscraper/ted_html_pages/27344-2023.html\n"
          ]
        },
        {
          "output_type": "stream",
          "name": "stderr",
          "text": [
            "Processing files:  48%|████▊     | 457/961 [19:35<55:51,  6.65s/file]"
          ]
        },
        {
          "output_type": "stream",
          "name": "stdout",
          "text": [
            "  Keyword not found in any section. Skipping file.\n",
            "\n",
            "Processing file: /content/med_webscraper/ted_html_pages/597309-2021.html\n"
          ]
        },
        {
          "output_type": "stream",
          "name": "stderr",
          "text": [
            "Processing files:  48%|████▊     | 458/961 [19:36<39:52,  4.76s/file]"
          ]
        },
        {
          "output_type": "stream",
          "name": "stdout",
          "text": [
            "  Keyword not found in any section. Skipping file.\n",
            "\n",
            "Processing file: /content/med_webscraper/ted_html_pages/391104-2015.html\n"
          ]
        },
        {
          "output_type": "stream",
          "name": "stderr",
          "text": [
            "Processing files:  48%|████▊     | 460/961 [19:36<20:20,  2.44s/file]"
          ]
        },
        {
          "output_type": "stream",
          "name": "stdout",
          "text": [
            "  Keyword not found in any section. Skipping file.\n",
            "\n",
            "Processing file: /content/med_webscraper/ted_html_pages/472693-2017.html\n",
            "  Keyword not found in any section. Skipping file.\n",
            "\n",
            "Processing file: /content/med_webscraper/ted_html_pages/130565-2021.html\n"
          ]
        },
        {
          "output_type": "stream",
          "name": "stderr",
          "text": [
            "Processing files:  48%|████▊     | 462/961 [19:37<10:44,  1.29s/file]"
          ]
        },
        {
          "output_type": "stream",
          "name": "stdout",
          "text": [
            "  Keyword not found in any section. Skipping file.\n",
            "\n",
            "Processing file: /content/med_webscraper/ted_html_pages/476045-2018.html\n",
            "  Keyword not found in any section. Skipping file.\n",
            "\n",
            "Processing file: /content/med_webscraper/ted_html_pages/335081-2022.html\n"
          ]
        },
        {
          "output_type": "stream",
          "name": "stderr",
          "text": [
            "Processing files:  48%|████▊     | 463/961 [19:37<07:58,  1.04file/s]"
          ]
        },
        {
          "output_type": "stream",
          "name": "stdout",
          "text": [
            "  Keyword not found in any section. Skipping file.\n",
            "\n",
            "Processing file: /content/med_webscraper/ted_html_pages/204945-2016.html\n"
          ]
        },
        {
          "output_type": "stream",
          "name": "stderr",
          "text": [
            "Processing files:  48%|████▊     | 465/961 [19:37<05:01,  1.65file/s]"
          ]
        },
        {
          "output_type": "stream",
          "name": "stdout",
          "text": [
            "  Keyword not found in any section. Skipping file.\n",
            "\n",
            "Processing file: /content/med_webscraper/ted_html_pages/142694-2023.html\n",
            "  Keyword not found in any section. Skipping file.\n",
            "\n",
            "Processing file: /content/med_webscraper/ted_html_pages/213130-2019.html\n"
          ]
        },
        {
          "output_type": "stream",
          "name": "stderr",
          "text": [
            "Processing files:  49%|████▊     | 467/961 [19:38<03:12,  2.57file/s]"
          ]
        },
        {
          "output_type": "stream",
          "name": "stdout",
          "text": [
            "  Keyword not found in any section. Skipping file.\n",
            "\n",
            "Processing file: /content/med_webscraper/ted_html_pages/315840-2020.html\n",
            "  Keyword not found in any section. Skipping file.\n",
            "\n",
            "Processing file: /content/med_webscraper/ted_html_pages/591616-2023.html\n"
          ]
        },
        {
          "output_type": "stream",
          "name": "stderr",
          "text": [
            "Processing files:  49%|████▊     | 468/961 [19:38<02:47,  2.94file/s]"
          ]
        },
        {
          "output_type": "stream",
          "name": "stdout",
          "text": [
            "  Keyword not found in any section. Skipping file.\n",
            "\n",
            "Processing file: /content/med_webscraper/ted_html_pages/282157-2019.html\n"
          ]
        },
        {
          "output_type": "stream",
          "name": "stderr",
          "text": [
            "Processing files:  49%|████▉     | 469/961 [19:43<13:20,  1.63s/file]"
          ]
        },
        {
          "output_type": "stream",
          "name": "stdout",
          "text": [
            "  Keyword not found in any section. Skipping file.\n",
            "\n",
            "Processing file: /content/med_webscraper/ted_html_pages/650549-2025.html\n"
          ]
        },
        {
          "output_type": "stream",
          "name": "stderr",
          "text": [
            "Processing files:  49%|████▉     | 469/961 [19:43<13:20,  1.63s/file]"
          ]
        },
        {
          "output_type": "stream",
          "name": "stdout",
          "text": [
            "  Keyword found in section. Extracting data...\n",
            "    Making batch translation request for 65 unique strings...\n"
          ]
        },
        {
          "output_type": "stream",
          "name": "stderr",
          "text": [
            "Processing files:  49%|████▉     | 469/961 [19:53<13:20,  1.63s/file]"
          ]
        },
        {
          "output_type": "stream",
          "name": "stdout",
          "text": [
            "    Translation complete.\n",
            "  Keyword found in section. Extracting data...\n",
            "    Making batch translation request for 65 unique strings...\n"
          ]
        },
        {
          "output_type": "stream",
          "name": "stderr",
          "text": [
            "Processing files:  49%|████▉     | 469/961 [19:59<13:20,  1.63s/file]"
          ]
        },
        {
          "output_type": "stream",
          "name": "stdout",
          "text": [
            "    Translation complete.\n",
            "  Keyword found in section. Extracting data...\n",
            "    Making batch translation request for 65 unique strings...\n"
          ]
        },
        {
          "output_type": "stream",
          "name": "stderr",
          "text": [
            "Processing files:  49%|████▉     | 470/961 [20:04<1:01:55,  7.57s/file]"
          ]
        },
        {
          "output_type": "stream",
          "name": "stdout",
          "text": [
            "    Translation complete.\n",
            "\n",
            "Processing file: /content/med_webscraper/ted_html_pages/461197-2023.html\n"
          ]
        },
        {
          "output_type": "stream",
          "name": "stderr",
          "text": [
            "Processing files:  49%|████▉     | 471/961 [20:05<44:34,  5.46s/file]"
          ]
        },
        {
          "output_type": "stream",
          "name": "stdout",
          "text": [
            "  Keyword not found in any section. Skipping file.\n",
            "\n",
            "Processing file: /content/med_webscraper/ted_html_pages/21467-2024.html\n"
          ]
        },
        {
          "output_type": "stream",
          "name": "stderr",
          "text": [
            "Processing files:  49%|████▉     | 472/961 [20:14<53:42,  6.59s/file]"
          ]
        },
        {
          "output_type": "stream",
          "name": "stdout",
          "text": [
            "  Keyword not found in any section. Skipping file.\n",
            "\n",
            "Processing file: /content/med_webscraper/ted_html_pages/300426-2023.html\n"
          ]
        },
        {
          "output_type": "stream",
          "name": "stderr",
          "text": [
            "Processing files:  49%|████▉     | 474/961 [20:27<48:48,  6.01s/file]"
          ]
        },
        {
          "output_type": "stream",
          "name": "stdout",
          "text": [
            "  Keyword not found in any section. Skipping file.\n",
            "\n",
            "Processing file: /content/med_webscraper/ted_html_pages/291909-2020.html\n",
            "  Keyword not found in any section. Skipping file.\n",
            "\n",
            "Processing file: /content/med_webscraper/ted_html_pages/183866-2022.html\n"
          ]
        },
        {
          "output_type": "stream",
          "name": "stderr",
          "text": [
            "Processing files:  49%|████▉     | 475/961 [20:28<37:28,  4.63s/file]"
          ]
        },
        {
          "output_type": "stream",
          "name": "stdout",
          "text": [
            "  Keyword not found in any section. Skipping file.\n",
            "\n",
            "Processing file: /content/med_webscraper/ted_html_pages/437560-2021.html\n"
          ]
        },
        {
          "output_type": "stream",
          "name": "stderr",
          "text": [
            "Processing files:  50%|████▉     | 476/961 [20:29<27:48,  3.44s/file]"
          ]
        },
        {
          "output_type": "stream",
          "name": "stdout",
          "text": [
            "  Keyword not found in any section. Skipping file.\n",
            "\n",
            "Processing file: /content/med_webscraper/ted_html_pages/134603-2017.html\n"
          ]
        },
        {
          "output_type": "stream",
          "name": "stderr",
          "text": [
            "Processing files:  50%|████▉     | 478/961 [20:30<14:29,  1.80s/file]"
          ]
        },
        {
          "output_type": "stream",
          "name": "stdout",
          "text": [
            "  Keyword not found in any section. Skipping file.\n",
            "\n",
            "Processing file: /content/med_webscraper/ted_html_pages/228627-2021.html\n",
            "  Keyword not found in any section. Skipping file.\n",
            "\n",
            "Processing file: /content/med_webscraper/ted_html_pages/655056-2023.html\n"
          ]
        },
        {
          "output_type": "stream",
          "name": "stderr",
          "text": [
            "Processing files:  50%|████▉     | 480/961 [20:30<08:43,  1.09s/file]"
          ]
        },
        {
          "output_type": "stream",
          "name": "stdout",
          "text": [
            "  Keyword not found in any section. Skipping file.\n",
            "\n",
            "Processing file: /content/med_webscraper/ted_html_pages/571762-2018.html\n",
            "  Keyword not found in any section. Skipping file.\n",
            "\n",
            "Processing file: /content/med_webscraper/ted_html_pages/360818-2025.html\n"
          ]
        },
        {
          "output_type": "stream",
          "name": "stderr",
          "text": [
            "Processing files:  50%|████▉     | 480/961 [20:31<08:43,  1.09s/file]"
          ]
        },
        {
          "output_type": "stream",
          "name": "stdout",
          "text": [
            "  Keyword found in section. Extracting data...\n",
            "    Making batch translation request for 34 unique strings...\n"
          ]
        },
        {
          "output_type": "stream",
          "name": "stderr",
          "text": [
            "Processing files:  50%|████▉     | 480/961 [20:33<08:43,  1.09s/file]"
          ]
        },
        {
          "output_type": "stream",
          "name": "stdout",
          "text": [
            "    Translation complete.\n",
            "  Keyword found in section. Extracting data...\n",
            "    Making batch translation request for 57 unique strings...\n"
          ]
        },
        {
          "output_type": "stream",
          "name": "stderr",
          "text": [
            "Processing files:  50%|█████     | 481/961 [20:38<24:10,  3.02s/file]"
          ]
        },
        {
          "output_type": "stream",
          "name": "stdout",
          "text": [
            "    Translation complete.\n",
            "\n",
            "Processing file: /content/med_webscraper/ted_html_pages/86905-2016.html\n"
          ]
        },
        {
          "output_type": "stream",
          "name": "stderr",
          "text": [
            "Processing files:  50%|█████     | 483/961 [20:39<13:58,  1.75s/file]"
          ]
        },
        {
          "output_type": "stream",
          "name": "stdout",
          "text": [
            "  Keyword not found in any section. Skipping file.\n",
            "\n",
            "Processing file: /content/med_webscraper/ted_html_pages/210556-2023.html\n",
            "  Keyword not found in any section. Skipping file.\n",
            "\n",
            "Processing file: /content/med_webscraper/ted_html_pages/170942-2016.html\n"
          ]
        },
        {
          "output_type": "stream",
          "name": "stderr",
          "text": [
            "Processing files:  50%|█████     | 485/961 [20:40<08:54,  1.12s/file]"
          ]
        },
        {
          "output_type": "stream",
          "name": "stdout",
          "text": [
            "  Keyword not found in any section. Skipping file.\n",
            "\n",
            "Processing file: /content/med_webscraper/ted_html_pages/631087-2021.html\n",
            "  Keyword not found in any section. Skipping file.\n",
            "\n",
            "Processing file: /content/med_webscraper/ted_html_pages/632026-2024.html\n"
          ]
        },
        {
          "output_type": "stream",
          "name": "stderr",
          "text": [
            "Processing files:  50%|█████     | 485/961 [20:41<08:54,  1.12s/file]"
          ]
        },
        {
          "output_type": "stream",
          "name": "stdout",
          "text": [
            "  Keyword found in section. Extracting data...\n",
            "    Making batch translation request for 55 unique strings...\n"
          ]
        },
        {
          "output_type": "stream",
          "name": "stderr",
          "text": [
            "Processing files:  51%|█████     | 486/961 [20:47<21:21,  2.70s/file]"
          ]
        },
        {
          "output_type": "stream",
          "name": "stdout",
          "text": [
            "    Translation complete.\n",
            "\n",
            "Processing file: /content/med_webscraper/ted_html_pages/570562-2023.html\n"
          ]
        },
        {
          "output_type": "stream",
          "name": "stderr",
          "text": [
            "Processing files:  51%|█████     | 488/961 [20:48<12:18,  1.56s/file]"
          ]
        },
        {
          "output_type": "stream",
          "name": "stdout",
          "text": [
            "  Keyword not found in any section. Skipping file.\n",
            "\n",
            "Processing file: /content/med_webscraper/ted_html_pages/276760-2022.html\n",
            "  Keyword not found in any section. Skipping file.\n",
            "\n",
            "Processing file: /content/med_webscraper/ted_html_pages/55875-2025.html\n"
          ]
        },
        {
          "output_type": "stream",
          "name": "stderr",
          "text": [
            "Processing files:  51%|█████     | 488/961 [20:48<12:18,  1.56s/file]"
          ]
        },
        {
          "output_type": "stream",
          "name": "stdout",
          "text": [
            "  Keyword found in section. Extracting data...\n",
            "    Making batch translation request for 58 unique strings...\n"
          ]
        },
        {
          "output_type": "stream",
          "name": "stderr",
          "text": [
            "Processing files:  51%|█████     | 488/961 [20:57<12:18,  1.56s/file]"
          ]
        },
        {
          "output_type": "stream",
          "name": "stdout",
          "text": [
            "    Translation complete.\n",
            "  Keyword found in section. Extracting data...\n",
            "    Making batch translation request for 42 unique strings...\n"
          ]
        },
        {
          "output_type": "stream",
          "name": "stderr",
          "text": [
            "Processing files:  51%|█████     | 488/961 [21:01<12:18,  1.56s/file]"
          ]
        },
        {
          "output_type": "stream",
          "name": "stdout",
          "text": [
            "    Translation complete.\n",
            "  Keyword found in section. Extracting data...\n",
            "    Making batch translation request for 39 unique strings...\n"
          ]
        },
        {
          "output_type": "stream",
          "name": "stderr",
          "text": [
            "Processing files:  51%|█████     | 489/961 [21:06<50:17,  6.39s/file]"
          ]
        },
        {
          "output_type": "stream",
          "name": "stdout",
          "text": [
            "    Translation complete.\n",
            "\n",
            "Processing file: /content/med_webscraper/ted_html_pages/6566-2022.html\n"
          ]
        },
        {
          "output_type": "stream",
          "name": "stderr",
          "text": [
            "Processing files:  51%|█████     | 490/961 [21:06<35:40,  4.54s/file]"
          ]
        },
        {
          "output_type": "stream",
          "name": "stdout",
          "text": [
            "  Keyword not found in any section. Skipping file.\n",
            "\n",
            "Processing file: /content/med_webscraper/ted_html_pages/749412-2024.html\n",
            "  Keyword found in section. Extracting data...\n",
            "    Making batch translation request for 59 unique strings...\n"
          ]
        },
        {
          "output_type": "stream",
          "name": "stderr",
          "text": [
            "Processing files:  51%|█████     | 491/961 [21:12<38:34,  4.92s/file]"
          ]
        },
        {
          "output_type": "stream",
          "name": "stdout",
          "text": [
            "    Translation complete.\n",
            "\n",
            "Processing file: /content/med_webscraper/ted_html_pages/402550-2019.html\n"
          ]
        },
        {
          "output_type": "stream",
          "name": "stderr",
          "text": [
            "Processing files:  51%|█████     | 492/961 [21:13<29:48,  3.81s/file]"
          ]
        },
        {
          "output_type": "stream",
          "name": "stdout",
          "text": [
            "  Keyword not found in any section. Skipping file.\n",
            "\n",
            "Processing file: /content/med_webscraper/ted_html_pages/425717-2025.html\n"
          ]
        },
        {
          "output_type": "stream",
          "name": "stderr",
          "text": [
            "Processing files:  51%|█████     | 492/961 [21:13<29:48,  3.81s/file]"
          ]
        },
        {
          "output_type": "stream",
          "name": "stdout",
          "text": [
            "  Keyword found in section. Extracting data...\n",
            "    Making batch translation request for 63 unique strings...\n"
          ]
        },
        {
          "output_type": "stream",
          "name": "stderr",
          "text": [
            "Processing files:  51%|█████▏    | 494/961 [21:19<24:01,  3.09s/file]"
          ]
        },
        {
          "output_type": "stream",
          "name": "stdout",
          "text": [
            "    Translation complete.\n",
            "\n",
            "Processing file: /content/med_webscraper/ted_html_pages/232545-2022.html\n",
            "  Keyword not found in any section. Skipping file.\n",
            "\n",
            "Processing file: /content/med_webscraper/ted_html_pages/45932-2018.html\n"
          ]
        },
        {
          "output_type": "stream",
          "name": "stderr",
          "text": [
            "Processing files:  52%|█████▏    | 496/961 [21:19<13:20,  1.72s/file]"
          ]
        },
        {
          "output_type": "stream",
          "name": "stdout",
          "text": [
            "  Keyword not found in any section. Skipping file.\n",
            "\n",
            "Processing file: /content/med_webscraper/ted_html_pages/150540-2020.html\n",
            "  Keyword not found in any section. Skipping file.\n",
            "\n",
            "Processing file: /content/med_webscraper/ted_html_pages/590149-2023.html\n"
          ]
        },
        {
          "output_type": "stream",
          "name": "stderr",
          "text": [
            "Processing files:  52%|█████▏    | 498/961 [21:20<07:05,  1.09file/s]"
          ]
        },
        {
          "output_type": "stream",
          "name": "stdout",
          "text": [
            "  Keyword not found in any section. Skipping file.\n",
            "\n",
            "Processing file: /content/med_webscraper/ted_html_pages/347060-2019.html\n",
            "  Keyword not found in any section. Skipping file.\n",
            "\n",
            "Processing file: /content/med_webscraper/ted_html_pages/49400-2021.html\n"
          ]
        },
        {
          "output_type": "stream",
          "name": "stderr",
          "text": [
            "Processing files:  52%|█████▏    | 499/961 [21:20<05:36,  1.37file/s]"
          ]
        },
        {
          "output_type": "stream",
          "name": "stdout",
          "text": [
            "  Keyword not found in any section. Skipping file.\n",
            "\n",
            "Processing file: /content/med_webscraper/ted_html_pages/43076-2019.html\n"
          ]
        },
        {
          "output_type": "stream",
          "name": "stderr",
          "text": [
            "Processing files:  52%|█████▏    | 500/961 [21:21<04:56,  1.56file/s]"
          ]
        },
        {
          "output_type": "stream",
          "name": "stdout",
          "text": [
            "  Keyword not found in any section. Skipping file.\n",
            "\n",
            "Processing file: /content/med_webscraper/ted_html_pages/119228-2019.html\n"
          ]
        },
        {
          "output_type": "stream",
          "name": "stderr",
          "text": [
            "Processing files:  52%|█████▏    | 501/961 [21:21<04:08,  1.85file/s]"
          ]
        },
        {
          "output_type": "stream",
          "name": "stdout",
          "text": [
            "  Keyword not found in any section. Skipping file.\n",
            "\n",
            "Processing file: /content/med_webscraper/ted_html_pages/232497-2017.html\n"
          ]
        },
        {
          "output_type": "stream",
          "name": "stderr",
          "text": [
            "Processing files:  52%|█████▏    | 503/961 [21:21<03:13,  2.36file/s]"
          ]
        },
        {
          "output_type": "stream",
          "name": "stdout",
          "text": [
            "  Keyword not found in any section. Skipping file.\n",
            "\n",
            "Processing file: /content/med_webscraper/ted_html_pages/237-2020.html\n",
            "  Keyword not found in any section. Skipping file.\n",
            "\n",
            "Processing file: /content/med_webscraper/ted_html_pages/328425-2023.html\n"
          ]
        },
        {
          "output_type": "stream",
          "name": "stderr",
          "text": [
            "Processing files:  52%|█████▏    | 504/961 [21:22<03:12,  2.37file/s]"
          ]
        },
        {
          "output_type": "stream",
          "name": "stdout",
          "text": [
            "  Keyword not found in any section. Skipping file.\n",
            "\n",
            "Processing file: /content/med_webscraper/ted_html_pages/17996-2018.html\n"
          ]
        },
        {
          "output_type": "stream",
          "name": "stderr",
          "text": [
            "Processing files:  53%|█████▎    | 506/961 [21:22<02:23,  3.16file/s]"
          ]
        },
        {
          "output_type": "stream",
          "name": "stdout",
          "text": [
            "  Keyword not found in any section. Skipping file.\n",
            "\n",
            "Processing file: /content/med_webscraper/ted_html_pages/16574-2020.html\n",
            "  Keyword not found in any section. Skipping file.\n",
            "\n",
            "Processing file: /content/med_webscraper/ted_html_pages/53862-2025.html\n"
          ]
        },
        {
          "output_type": "stream",
          "name": "stderr",
          "text": [
            "Processing files:  53%|█████▎    | 506/961 [21:23<02:23,  3.16file/s]"
          ]
        },
        {
          "output_type": "stream",
          "name": "stdout",
          "text": [
            "  Keyword found in section. Extracting data...\n",
            "    Making batch translation request for 36 unique strings...\n"
          ]
        },
        {
          "output_type": "stream",
          "name": "stderr",
          "text": [
            "Processing files:  53%|█████▎    | 506/961 [21:27<02:23,  3.16file/s]"
          ]
        },
        {
          "output_type": "stream",
          "name": "stdout",
          "text": [
            "    Translation complete.\n",
            "  Keyword found in section. Extracting data...\n",
            "    Making batch translation request for 42 unique strings...\n"
          ]
        },
        {
          "output_type": "stream",
          "name": "stderr",
          "text": [
            "Processing files:  53%|█████▎    | 506/961 [21:31<02:23,  3.16file/s]"
          ]
        },
        {
          "output_type": "stream",
          "name": "stdout",
          "text": [
            "    Translation complete.\n",
            "  Keyword found in section. Extracting data...\n",
            "    Making batch translation request for 39 unique strings...\n"
          ]
        },
        {
          "output_type": "stream",
          "name": "stderr",
          "text": [
            "Processing files:  53%|█████▎    | 506/961 [21:36<02:23,  3.16file/s]"
          ]
        },
        {
          "output_type": "stream",
          "name": "stdout",
          "text": [
            "    Translation complete.\n",
            "  Keyword found in section. Extracting data...\n",
            "    Making batch translation request for 40 unique strings...\n"
          ]
        },
        {
          "output_type": "stream",
          "name": "stderr",
          "text": [
            "Processing files:  53%|█████▎    | 506/961 [21:40<02:23,  3.16file/s]"
          ]
        },
        {
          "output_type": "stream",
          "name": "stdout",
          "text": [
            "    Translation complete.\n",
            "  Keyword found in section. Extracting data...\n",
            "    Making batch translation request for 39 unique strings...\n"
          ]
        },
        {
          "output_type": "stream",
          "name": "stderr",
          "text": [
            "Processing files:  53%|█████▎    | 506/961 [21:44<02:23,  3.16file/s]"
          ]
        },
        {
          "output_type": "stream",
          "name": "stdout",
          "text": [
            "    Translation complete.\n",
            "  Keyword found in section. Extracting data...\n",
            "    Making batch translation request for 36 unique strings...\n"
          ]
        },
        {
          "output_type": "stream",
          "name": "stderr",
          "text": [
            "Processing files:  53%|█████▎    | 506/961 [21:48<02:23,  3.16file/s]"
          ]
        },
        {
          "output_type": "stream",
          "name": "stdout",
          "text": [
            "    Translation complete.\n",
            "  Keyword found in section. Extracting data...\n",
            "    Making batch translation request for 43 unique strings...\n"
          ]
        },
        {
          "output_type": "stream",
          "name": "stderr",
          "text": [
            "Processing files:  53%|█████▎    | 507/961 [21:52<1:08:19,  9.03s/file]"
          ]
        },
        {
          "output_type": "stream",
          "name": "stdout",
          "text": [
            "    Translation complete.\n",
            "\n",
            "Processing file: /content/med_webscraper/ted_html_pages/483562-2018.html\n"
          ]
        },
        {
          "output_type": "stream",
          "name": "stderr",
          "text": [
            "Processing files:  53%|█████▎    | 508/961 [21:52<48:25,  6.41s/file]"
          ]
        },
        {
          "output_type": "stream",
          "name": "stdout",
          "text": [
            "  Keyword not found in any section. Skipping file.\n",
            "\n",
            "Processing file: /content/med_webscraper/ted_html_pages/556803-2025.html\n",
            "  Keyword found in section. Extracting data...\n",
            "    Making batch translation request for 38 unique strings...\n"
          ]
        },
        {
          "output_type": "stream",
          "name": "stderr",
          "text": [
            "Processing files:  53%|█████▎    | 508/961 [21:58<48:25,  6.41s/file]"
          ]
        },
        {
          "output_type": "stream",
          "name": "stdout",
          "text": [
            "    Translation complete.\n",
            "  Keyword found in section. Extracting data...\n",
            "    Making batch translation request for 59 unique strings...\n"
          ]
        },
        {
          "output_type": "stream",
          "name": "stderr",
          "text": [
            "Processing files:  53%|█████▎    | 508/961 [22:07<48:25,  6.41s/file]"
          ]
        },
        {
          "output_type": "stream",
          "name": "stdout",
          "text": [
            "    Translation complete.\n",
            "  Keyword found in section. Extracting data...\n",
            "    Making batch translation request for 59 unique strings...\n"
          ]
        },
        {
          "output_type": "stream",
          "name": "stderr",
          "text": [
            "Processing files:  53%|█████▎    | 510/961 [22:13<57:31,  7.65s/file]"
          ]
        },
        {
          "output_type": "stream",
          "name": "stdout",
          "text": [
            "    Translation complete.\n",
            "\n",
            "Processing file: /content/med_webscraper/ted_html_pages/59668-2019.html\n",
            "  Keyword not found in any section. Skipping file.\n",
            "\n",
            "Processing file: /content/med_webscraper/ted_html_pages/629058-2020.html\n"
          ]
        },
        {
          "output_type": "stream",
          "name": "stderr",
          "text": [
            "Processing files:  53%|█████▎    | 511/961 [22:14<40:30,  5.40s/file]"
          ]
        },
        {
          "output_type": "stream",
          "name": "stdout",
          "text": [
            "  Keyword not found in any section. Skipping file.\n",
            "\n",
            "Processing file: /content/med_webscraper/ted_html_pages/54546-2025.html\n"
          ]
        },
        {
          "output_type": "stream",
          "name": "stderr",
          "text": [
            "Processing files:  53%|█████▎    | 511/961 [22:14<40:30,  5.40s/file]"
          ]
        },
        {
          "output_type": "stream",
          "name": "stdout",
          "text": [
            "  Keyword found in section. Extracting data...\n",
            "    Making batch translation request for 41 unique strings...\n"
          ]
        },
        {
          "output_type": "stream",
          "name": "stderr",
          "text": [
            "Processing files:  53%|█████▎    | 511/961 [22:18<40:30,  5.40s/file]"
          ]
        },
        {
          "output_type": "stream",
          "name": "stdout",
          "text": [
            "    Translation complete.\n",
            "  Keyword found in section. Extracting data...\n",
            "    Making batch translation request for 36 unique strings...\n"
          ]
        },
        {
          "output_type": "stream",
          "name": "stderr",
          "text": [
            "Processing files:  53%|█████▎    | 511/961 [22:23<40:30,  5.40s/file]"
          ]
        },
        {
          "output_type": "stream",
          "name": "stdout",
          "text": [
            "    Translation complete.\n",
            "  Keyword found in section. Extracting data...\n",
            "    Making batch translation request for 40 unique strings...\n"
          ]
        },
        {
          "output_type": "stream",
          "name": "stderr",
          "text": [
            "Processing files:  53%|█████▎    | 512/961 [22:27<58:09,  7.77s/file]"
          ]
        },
        {
          "output_type": "stream",
          "name": "stdout",
          "text": [
            "    Translation complete.\n",
            "\n",
            "Processing file: /content/med_webscraper/ted_html_pages/483382-2025.html\n"
          ]
        },
        {
          "output_type": "stream",
          "name": "stderr",
          "text": [
            "Processing files:  53%|█████▎    | 512/961 [22:27<58:09,  7.77s/file]"
          ]
        },
        {
          "output_type": "stream",
          "name": "stdout",
          "text": [
            "  Keyword found in section. Extracting data...\n",
            "    Making batch translation request for 41 unique strings...\n"
          ]
        },
        {
          "output_type": "stream",
          "name": "stderr",
          "text": [
            "Processing files:  53%|█████▎    | 512/961 [22:31<58:09,  7.77s/file]"
          ]
        },
        {
          "output_type": "stream",
          "name": "stdout",
          "text": [
            "    Translation complete.\n",
            "  Keyword found in section. Extracting data...\n",
            "    Making batch translation request for 36 unique strings...\n"
          ]
        },
        {
          "output_type": "stream",
          "name": "stderr",
          "text": [
            "Processing files:  53%|█████▎    | 513/961 [22:34<57:33,  7.71s/file]"
          ]
        },
        {
          "output_type": "stream",
          "name": "stdout",
          "text": [
            "    Translation complete.\n",
            "\n",
            "Processing file: /content/med_webscraper/ted_html_pages/85730-2021.html\n"
          ]
        },
        {
          "output_type": "stream",
          "name": "stderr",
          "text": [
            "Processing files:  53%|█████▎    | 514/961 [22:35<41:25,  5.56s/file]"
          ]
        },
        {
          "output_type": "stream",
          "name": "stdout",
          "text": [
            "  Keyword not found in any section. Skipping file.\n",
            "\n",
            "Processing file: /content/med_webscraper/ted_html_pages/261008-2019.html\n"
          ]
        },
        {
          "output_type": "stream",
          "name": "stderr",
          "text": [
            "Processing files:  54%|█████▎    | 515/961 [22:35<29:28,  3.96s/file]"
          ]
        },
        {
          "output_type": "stream",
          "name": "stdout",
          "text": [
            "  Keyword not found in any section. Skipping file.\n",
            "\n",
            "Processing file: /content/med_webscraper/ted_html_pages/141293-2022.html\n"
          ]
        },
        {
          "output_type": "stream",
          "name": "stderr",
          "text": [
            "Processing files:  54%|█████▍    | 517/961 [22:36<15:20,  2.07s/file]"
          ]
        },
        {
          "output_type": "stream",
          "name": "stdout",
          "text": [
            "  Keyword not found in any section. Skipping file.\n",
            "\n",
            "Processing file: /content/med_webscraper/ted_html_pages/169929-2019.html\n",
            "  Keyword not found in any section. Skipping file.\n",
            "\n",
            "Processing file: /content/med_webscraper/ted_html_pages/600060-2021.html\n"
          ]
        },
        {
          "output_type": "stream",
          "name": "stderr",
          "text": [
            "Processing files:  54%|█████▍    | 518/961 [22:37<13:52,  1.88s/file]"
          ]
        },
        {
          "output_type": "stream",
          "name": "stdout",
          "text": [
            "  Keyword not found in any section. Skipping file.\n",
            "\n",
            "Processing file: /content/med_webscraper/ted_html_pages/680461-2023.html\n"
          ]
        },
        {
          "output_type": "stream",
          "name": "stderr",
          "text": [
            "Processing files:  54%|█████▍    | 519/961 [22:38<11:47,  1.60s/file]"
          ]
        },
        {
          "output_type": "stream",
          "name": "stdout",
          "text": [
            "  Keyword not found in any section. Skipping file.\n",
            "\n",
            "Processing file: /content/med_webscraper/ted_html_pages/670180-2022.html\n"
          ]
        },
        {
          "output_type": "stream",
          "name": "stderr",
          "text": [
            "Processing files:  54%|█████▍    | 520/961 [22:40<13:15,  1.80s/file]"
          ]
        },
        {
          "output_type": "stream",
          "name": "stdout",
          "text": [
            "  Keyword not found in any section. Skipping file.\n",
            "\n",
            "Processing file: /content/med_webscraper/ted_html_pages/250803-2020.html\n"
          ]
        },
        {
          "output_type": "stream",
          "name": "stderr",
          "text": [
            "Processing files:  54%|█████▍    | 521/961 [22:41<09:45,  1.33s/file]"
          ]
        },
        {
          "output_type": "stream",
          "name": "stdout",
          "text": [
            "  Keyword not found in any section. Skipping file.\n",
            "\n",
            "Processing file: /content/med_webscraper/ted_html_pages/271503-2020.html\n"
          ]
        },
        {
          "output_type": "stream",
          "name": "stderr",
          "text": [
            "Processing files:  54%|█████▍    | 522/961 [22:41<07:31,  1.03s/file]"
          ]
        },
        {
          "output_type": "stream",
          "name": "stdout",
          "text": [
            "  Keyword not found in any section. Skipping file.\n",
            "\n",
            "Processing file: /content/med_webscraper/ted_html_pages/65054-2018.html\n"
          ]
        },
        {
          "output_type": "stream",
          "name": "stderr",
          "text": [
            "Processing files:  55%|█████▍    | 524/961 [22:42<04:40,  1.56file/s]"
          ]
        },
        {
          "output_type": "stream",
          "name": "stdout",
          "text": [
            "  Keyword not found in any section. Skipping file.\n",
            "\n",
            "Processing file: /content/med_webscraper/ted_html_pages/207597-2022.html\n",
            "  Keyword not found in any section. Skipping file.\n",
            "\n",
            "Processing file: /content/med_webscraper/ted_html_pages/75227-2022.html\n"
          ]
        },
        {
          "output_type": "stream",
          "name": "stderr",
          "text": [
            "Processing files:  55%|█████▍    | 526/961 [23:00<30:28,  4.20s/file]"
          ]
        },
        {
          "output_type": "stream",
          "name": "stdout",
          "text": [
            "  Keyword not found in any section. Skipping file.\n",
            "\n",
            "Processing file: /content/med_webscraper/ted_html_pages/573598-2019.html\n",
            "  Keyword not found in any section. Skipping file.\n",
            "\n",
            "Processing file: /content/med_webscraper/ted_html_pages/187185-2021.html\n"
          ]
        },
        {
          "output_type": "stream",
          "name": "stderr",
          "text": [
            "Processing files:  55%|█████▍    | 527/961 [23:00<22:04,  3.05s/file]"
          ]
        },
        {
          "output_type": "stream",
          "name": "stdout",
          "text": [
            "  Keyword not found in any section. Skipping file.\n",
            "\n",
            "Processing file: /content/med_webscraper/ted_html_pages/276210-2023.html\n"
          ]
        },
        {
          "output_type": "stream",
          "name": "stderr",
          "text": [
            "Processing files:  55%|█████▍    | 528/961 [23:02<18:38,  2.58s/file]"
          ]
        },
        {
          "output_type": "stream",
          "name": "stdout",
          "text": [
            "  Keyword not found in any section. Skipping file.\n",
            "\n",
            "Processing file: /content/med_webscraper/ted_html_pages/196454-2025.html\n"
          ]
        },
        {
          "output_type": "stream",
          "name": "stderr",
          "text": [
            "Processing files:  55%|█████▍    | 528/961 [23:02<18:38,  2.58s/file]"
          ]
        },
        {
          "output_type": "stream",
          "name": "stdout",
          "text": [
            "  Keyword found in section. Extracting data...\n",
            "    Making batch translation request for 40 unique strings...\n"
          ]
        },
        {
          "output_type": "stream",
          "name": "stderr",
          "text": [
            "Processing files:  55%|█████▌    | 529/961 [23:06<22:53,  3.18s/file]"
          ]
        },
        {
          "output_type": "stream",
          "name": "stdout",
          "text": [
            "    Translation complete.\n",
            "\n",
            "Processing file: /content/med_webscraper/ted_html_pages/549093-2023.html\n"
          ]
        },
        {
          "output_type": "stream",
          "name": "stderr",
          "text": [
            "Processing files:  55%|█████▌    | 531/961 [23:07<11:47,  1.64s/file]"
          ]
        },
        {
          "output_type": "stream",
          "name": "stdout",
          "text": [
            "  Keyword not found in any section. Skipping file.\n",
            "\n",
            "Processing file: /content/med_webscraper/ted_html_pages/558100-2018.html\n",
            "  Keyword not found in any section. Skipping file.\n",
            "\n",
            "Processing file: /content/med_webscraper/ted_html_pages/404500-2021.html\n"
          ]
        },
        {
          "output_type": "stream",
          "name": "stderr",
          "text": [
            "Processing files:  55%|█████▌    | 532/961 [23:07<09:24,  1.32s/file]"
          ]
        },
        {
          "output_type": "stream",
          "name": "stdout",
          "text": [
            "  Keyword not found in any section. Skipping file.\n",
            "\n",
            "Processing file: /content/med_webscraper/ted_html_pages/25985-2020.html\n"
          ]
        },
        {
          "output_type": "stream",
          "name": "stderr",
          "text": [
            "Processing files:  56%|█████▌    | 534/961 [23:09<07:42,  1.08s/file]"
          ]
        },
        {
          "output_type": "stream",
          "name": "stdout",
          "text": [
            "  Keyword not found in any section. Skipping file.\n",
            "\n",
            "Processing file: /content/med_webscraper/ted_html_pages/414640-2017.html\n",
            "  Keyword not found in any section. Skipping file.\n",
            "\n",
            "Processing file: /content/med_webscraper/ted_html_pages/68530-2022.html\n"
          ]
        },
        {
          "output_type": "stream",
          "name": "stderr",
          "text": [
            "Processing files:  56%|█████▌    | 535/961 [23:10<05:42,  1.24file/s]"
          ]
        },
        {
          "output_type": "stream",
          "name": "stdout",
          "text": [
            "  Keyword not found in any section. Skipping file.\n",
            "\n",
            "Processing file: /content/med_webscraper/ted_html_pages/506281-2025.html\n",
            "  Keyword found in section. Extracting data...\n",
            "    Making batch translation request for 34 unique strings...\n"
          ]
        },
        {
          "output_type": "stream",
          "name": "stderr",
          "text": [
            "Processing files:  56%|█████▌    | 535/961 [23:15<05:42,  1.24file/s]"
          ]
        },
        {
          "output_type": "stream",
          "name": "stdout",
          "text": [
            "    Translation complete.\n",
            "  Keyword found in section. Extracting data...\n",
            "    Making batch translation request for 55 unique strings...\n"
          ]
        },
        {
          "output_type": "stream",
          "name": "stderr",
          "text": [
            "Processing files:  56%|█████▌    | 536/961 [23:19<24:55,  3.52s/file]"
          ]
        },
        {
          "output_type": "stream",
          "name": "stdout",
          "text": [
            "    Translation complete.\n",
            "\n",
            "Processing file: /content/med_webscraper/ted_html_pages/50785-2017.html\n"
          ]
        },
        {
          "output_type": "stream",
          "name": "stderr",
          "text": [
            "Processing files:  56%|█████▌    | 537/961 [23:55<1:32:27, 13.08s/file]"
          ]
        },
        {
          "output_type": "stream",
          "name": "stdout",
          "text": [
            "  Keyword not found in any section. Skipping file.\n",
            "\n",
            "Processing file: /content/med_webscraper/ted_html_pages/484045-2025.html\n"
          ]
        },
        {
          "output_type": "stream",
          "name": "stderr",
          "text": [
            "Processing files:  56%|█████▌    | 537/961 [23:55<1:32:27, 13.08s/file]"
          ]
        },
        {
          "output_type": "stream",
          "name": "stdout",
          "text": [
            "  Keyword found in section. Extracting data...\n",
            "    Making batch translation request for 39 unique strings...\n"
          ]
        },
        {
          "output_type": "stream",
          "name": "stderr",
          "text": [
            "Processing files:  56%|█████▌    | 539/961 [23:59<51:43,  7.35s/file]"
          ]
        },
        {
          "output_type": "stream",
          "name": "stdout",
          "text": [
            "    Translation complete.\n",
            "\n",
            "Processing file: /content/med_webscraper/ted_html_pages/723530-2023.html\n",
            "  Keyword not found in any section. Skipping file.\n",
            "\n",
            "Processing file: /content/med_webscraper/ted_html_pages/43431-2022.html\n"
          ]
        },
        {
          "output_type": "stream",
          "name": "stderr",
          "text": [
            "Processing files:  56%|█████▋    | 541/961 [24:00<25:47,  3.69s/file]"
          ]
        },
        {
          "output_type": "stream",
          "name": "stdout",
          "text": [
            "  Keyword not found in any section. Skipping file.\n",
            "\n",
            "Processing file: /content/med_webscraper/ted_html_pages/205744-2019.html\n",
            "  Keyword not found in any section. Skipping file.\n",
            "\n",
            "Processing file: /content/med_webscraper/ted_html_pages/124170-2021.html\n"
          ]
        },
        {
          "output_type": "stream",
          "name": "stderr",
          "text": [
            "Processing files:  56%|█████▋    | 542/961 [24:00<18:36,  2.67s/file]"
          ]
        },
        {
          "output_type": "stream",
          "name": "stdout",
          "text": [
            "  Keyword not found in any section. Skipping file.\n",
            "\n",
            "Processing file: /content/med_webscraper/ted_html_pages/54273-2025.html\n"
          ]
        },
        {
          "output_type": "stream",
          "name": "stderr",
          "text": [
            "Processing files:  56%|█████▋    | 542/961 [24:00<18:36,  2.67s/file]"
          ]
        },
        {
          "output_type": "stream",
          "name": "stdout",
          "text": [
            "  Keyword found in section. Extracting data...\n",
            "    Making batch translation request for 39 unique strings...\n"
          ]
        },
        {
          "output_type": "stream",
          "name": "stderr",
          "text": [
            "Processing files:  57%|█████▋    | 544/961 [24:05<15:59,  2.30s/file]"
          ]
        },
        {
          "output_type": "stream",
          "name": "stdout",
          "text": [
            "    Translation complete.\n",
            "\n",
            "Processing file: /content/med_webscraper/ted_html_pages/417905-2015.html\n",
            "  Keyword not found in any section. Skipping file.\n",
            "\n",
            "Processing file: /content/med_webscraper/ted_html_pages/31435-2021.html\n"
          ]
        },
        {
          "output_type": "stream",
          "name": "stderr",
          "text": [
            "Processing files:  57%|█████▋    | 545/961 [24:05<11:36,  1.67s/file]"
          ]
        },
        {
          "output_type": "stream",
          "name": "stdout",
          "text": [
            "  Keyword not found in any section. Skipping file.\n",
            "\n",
            "Processing file: /content/med_webscraper/ted_html_pages/211135-2021.html\n"
          ]
        },
        {
          "output_type": "stream",
          "name": "stderr",
          "text": [
            "Processing files:  57%|█████▋    | 547/961 [24:06<07:13,  1.05s/file]"
          ]
        },
        {
          "output_type": "stream",
          "name": "stdout",
          "text": [
            "  Keyword not found in any section. Skipping file.\n",
            "\n",
            "Processing file: /content/med_webscraper/ted_html_pages/133783-2019.html\n",
            "  Keyword not found in any section. Skipping file.\n",
            "\n",
            "Processing file: /content/med_webscraper/ted_html_pages/385261-2023.html\n"
          ]
        },
        {
          "output_type": "stream",
          "name": "stderr",
          "text": [
            "Processing files:  57%|█████▋    | 548/961 [24:06<05:21,  1.28file/s]"
          ]
        },
        {
          "output_type": "stream",
          "name": "stdout",
          "text": [
            "  Keyword not found in any section. Skipping file.\n",
            "\n",
            "Processing file: /content/med_webscraper/ted_html_pages/426197-2015.html\n"
          ]
        },
        {
          "output_type": "stream",
          "name": "stderr",
          "text": [
            "Processing files:  57%|█████▋    | 549/961 [24:06<04:21,  1.57file/s]"
          ]
        },
        {
          "output_type": "stream",
          "name": "stdout",
          "text": [
            "  Keyword not found in any section. Skipping file.\n",
            "\n",
            "Processing file: /content/med_webscraper/ted_html_pages/279426-2022.html\n"
          ]
        },
        {
          "output_type": "stream",
          "name": "stderr",
          "text": [
            "Processing files:  57%|█████▋    | 550/961 [24:07<04:05,  1.67file/s]"
          ]
        },
        {
          "output_type": "stream",
          "name": "stdout",
          "text": [
            "  Keyword not found in any section. Skipping file.\n",
            "\n",
            "Processing file: /content/med_webscraper/ted_html_pages/341251-2018.html\n"
          ]
        },
        {
          "output_type": "stream",
          "name": "stderr",
          "text": [
            "Processing files:  57%|█████▋    | 551/961 [24:11<12:17,  1.80s/file]"
          ]
        },
        {
          "output_type": "stream",
          "name": "stdout",
          "text": [
            "  Keyword not found in any section. Skipping file.\n",
            "\n",
            "Processing file: /content/med_webscraper/ted_html_pages/536383-2023.html\n"
          ]
        },
        {
          "output_type": "stream",
          "name": "stderr",
          "text": [
            "Processing files:  57%|█████▋    | 552/961 [24:12<09:47,  1.44s/file]"
          ]
        },
        {
          "output_type": "stream",
          "name": "stdout",
          "text": [
            "  Keyword not found in any section. Skipping file.\n",
            "\n",
            "Processing file: /content/med_webscraper/ted_html_pages/330077-2022.html\n"
          ]
        },
        {
          "output_type": "stream",
          "name": "stderr",
          "text": [
            "Processing files:  58%|█████▊    | 553/961 [24:13<08:08,  1.20s/file]"
          ]
        },
        {
          "output_type": "stream",
          "name": "stdout",
          "text": [
            "  Keyword not found in any section. Skipping file.\n",
            "\n",
            "Processing file: /content/med_webscraper/ted_html_pages/409218-2015.html\n"
          ]
        },
        {
          "output_type": "stream",
          "name": "stderr",
          "text": [
            "Processing files:  58%|█████▊    | 555/961 [24:13<04:44,  1.43file/s]"
          ]
        },
        {
          "output_type": "stream",
          "name": "stdout",
          "text": [
            "  Keyword not found in any section. Skipping file.\n",
            "\n",
            "Processing file: /content/med_webscraper/ted_html_pages/332221-2017.html\n",
            "  Keyword not found in any section. Skipping file.\n",
            "\n",
            "Processing file: /content/med_webscraper/ted_html_pages/225420-2017.html\n"
          ]
        },
        {
          "output_type": "stream",
          "name": "stderr",
          "text": [
            "Processing files:  58%|█████▊    | 556/961 [24:13<03:48,  1.77file/s]"
          ]
        },
        {
          "output_type": "stream",
          "name": "stdout",
          "text": [
            "  Keyword not found in any section. Skipping file.\n",
            "\n",
            "Processing file: /content/med_webscraper/ted_html_pages/406399-2019.html\n"
          ]
        },
        {
          "output_type": "stream",
          "name": "stderr",
          "text": [
            "Processing files:  58%|█████▊    | 558/961 [24:14<03:05,  2.18file/s]"
          ]
        },
        {
          "output_type": "stream",
          "name": "stdout",
          "text": [
            "  Keyword not found in any section. Skipping file.\n",
            "\n",
            "Processing file: /content/med_webscraper/ted_html_pages/196927-2021.html\n",
            "  Keyword not found in any section. Skipping file.\n",
            "\n",
            "Processing file: /content/med_webscraper/ted_html_pages/354316-2024.html\n"
          ]
        },
        {
          "output_type": "stream",
          "name": "stderr",
          "text": [
            "Processing files:  58%|█████▊    | 558/961 [24:18<03:05,  2.18file/s]"
          ]
        },
        {
          "output_type": "stream",
          "name": "stdout",
          "text": [
            "  Keyword found in section. Extracting data...\n",
            "    Making batch translation request for 49 unique strings...\n"
          ]
        },
        {
          "output_type": "stream",
          "name": "stderr",
          "text": [
            "Processing files:  58%|█████▊    | 558/961 [24:27<03:05,  2.18file/s]"
          ]
        },
        {
          "output_type": "stream",
          "name": "stdout",
          "text": [
            "    Translation complete.\n",
            "  Keyword found in section. Extracting data...\n",
            "    Making batch translation request for 49 unique strings...\n"
          ]
        },
        {
          "output_type": "stream",
          "name": "stderr",
          "text": [
            "Processing files:  58%|█████▊    | 558/961 [24:32<03:05,  2.18file/s]"
          ]
        },
        {
          "output_type": "stream",
          "name": "stdout",
          "text": [
            "    Translation complete.\n",
            "  Keyword found in section. Extracting data...\n",
            "    Making batch translation request for 49 unique strings...\n"
          ]
        },
        {
          "output_type": "stream",
          "name": "stderr",
          "text": [
            "Processing files:  58%|█████▊    | 559/961 [24:38<50:25,  7.53s/file]"
          ]
        },
        {
          "output_type": "stream",
          "name": "stdout",
          "text": [
            "    Translation complete.\n",
            "\n",
            "Processing file: /content/med_webscraper/ted_html_pages/226777-2020.html\n"
          ]
        },
        {
          "output_type": "stream",
          "name": "stderr",
          "text": [
            "Processing files:  58%|█████▊    | 561/961 [24:38<25:14,  3.79s/file]"
          ]
        },
        {
          "output_type": "stream",
          "name": "stdout",
          "text": [
            "  Keyword not found in any section. Skipping file.\n",
            "\n",
            "Processing file: /content/med_webscraper/ted_html_pages/479814-2020.html\n",
            "  Keyword not found in any section. Skipping file.\n",
            "\n",
            "Processing file: /content/med_webscraper/ted_html_pages/55113-2025.html\n"
          ]
        },
        {
          "output_type": "stream",
          "name": "stderr",
          "text": [
            "Processing files:  58%|█████▊    | 561/961 [24:39<25:14,  3.79s/file]"
          ]
        },
        {
          "output_type": "stream",
          "name": "stdout",
          "text": [
            "  Keyword found in section. Extracting data...\n",
            "    Making batch translation request for 40 unique strings...\n"
          ]
        },
        {
          "output_type": "stream",
          "name": "stderr",
          "text": [
            "Processing files:  58%|█████▊    | 561/961 [24:43<25:14,  3.79s/file]"
          ]
        },
        {
          "output_type": "stream",
          "name": "stdout",
          "text": [
            "    Translation complete.\n",
            "  Keyword found in section. Extracting data...\n",
            "    Making batch translation request for 36 unique strings...\n"
          ]
        },
        {
          "output_type": "stream",
          "name": "stderr",
          "text": [
            "Processing files:  58%|█████▊    | 561/961 [24:48<25:14,  3.79s/file]"
          ]
        },
        {
          "output_type": "stream",
          "name": "stdout",
          "text": [
            "    Translation complete.\n",
            "  Keyword found in section. Extracting data...\n",
            "    Making batch translation request for 42 unique strings...\n"
          ]
        },
        {
          "output_type": "stream",
          "name": "stderr",
          "text": [
            "Processing files:  58%|█████▊    | 562/961 [24:52<44:22,  6.67s/file]"
          ]
        },
        {
          "output_type": "stream",
          "name": "stdout",
          "text": [
            "    Translation complete.\n",
            "\n",
            "Processing file: /content/med_webscraper/ted_html_pages/522727-2023.html\n"
          ]
        },
        {
          "output_type": "stream",
          "name": "stderr",
          "text": [
            "Processing files:  59%|█████▊    | 563/961 [24:52<31:43,  4.78s/file]"
          ]
        },
        {
          "output_type": "stream",
          "name": "stdout",
          "text": [
            "  Keyword not found in any section. Skipping file.\n",
            "\n",
            "Processing file: /content/med_webscraper/ted_html_pages/624316-2020.html\n"
          ]
        },
        {
          "output_type": "stream",
          "name": "stderr",
          "text": [
            "Processing files:  59%|█████▊    | 564/961 [24:53<23:46,  3.59s/file]"
          ]
        },
        {
          "output_type": "stream",
          "name": "stdout",
          "text": [
            "  Keyword not found in any section. Skipping file.\n",
            "\n",
            "Processing file: /content/med_webscraper/ted_html_pages/783879-2024.html\n"
          ]
        },
        {
          "output_type": "stream",
          "name": "stderr",
          "text": [
            "Processing files:  59%|█████▊    | 564/961 [24:54<23:46,  3.59s/file]"
          ]
        },
        {
          "output_type": "stream",
          "name": "stdout",
          "text": [
            "  Keyword found in section. Extracting data...\n",
            "    Making batch translation request for 55 unique strings...\n"
          ]
        },
        {
          "output_type": "stream",
          "name": "stderr",
          "text": [
            "Processing files:  59%|█████▉    | 566/961 [25:03<25:48,  3.92s/file]"
          ]
        },
        {
          "output_type": "stream",
          "name": "stdout",
          "text": [
            "    Translation complete.\n",
            "\n",
            "Processing file: /content/med_webscraper/ted_html_pages/74161-2019.html\n",
            "  Keyword not found in any section. Skipping file.\n",
            "\n",
            "Processing file: /content/med_webscraper/ted_html_pages/374733-2019.html\n"
          ]
        },
        {
          "output_type": "stream",
          "name": "stderr",
          "text": []
        },
        {
          "output_type": "stream",
          "name": "stdout",
          "text": [
            "  Keyword not found in any section. Skipping file.\n",
            "\n",
            "Processing file: /content/med_webscraper/ted_html_pages/616894-2020.html\n",
            "  Keyword not found in any section. Skipping file.\n",
            "\n",
            "Processing file: /content/med_webscraper/ted_html_pages/629481-2020.html\n"
          ]
        },
        {
          "output_type": "stream",
          "name": "stderr",
          "text": [
            "Processing files:  59%|█████▉    | 570/961 [25:04<07:21,  1.13s/file]"
          ]
        },
        {
          "output_type": "stream",
          "name": "stdout",
          "text": [
            "  Keyword not found in any section. Skipping file.\n",
            "\n",
            "Processing file: /content/med_webscraper/ted_html_pages/89939-2019.html\n",
            "  Keyword not found in any section. Skipping file.\n",
            "\n",
            "Processing file: /content/med_webscraper/ted_html_pages/629575-2020.html\n"
          ]
        },
        {
          "output_type": "stream",
          "name": "stderr",
          "text": [
            "Processing files:  60%|█████▉    | 572/961 [25:05<04:24,  1.47file/s]"
          ]
        },
        {
          "output_type": "stream",
          "name": "stdout",
          "text": [
            "  Keyword not found in any section. Skipping file.\n",
            "\n",
            "Processing file: /content/med_webscraper/ted_html_pages/446370-2020.html\n",
            "  Keyword not found in any section. Skipping file.\n",
            "\n",
            "Processing file: /content/med_webscraper/ted_html_pages/348837-2023.html\n"
          ]
        },
        {
          "output_type": "stream",
          "name": "stderr",
          "text": [
            "Processing files:  60%|█████▉    | 574/961 [25:05<03:02,  2.12file/s]"
          ]
        },
        {
          "output_type": "stream",
          "name": "stdout",
          "text": [
            "  Keyword not found in any section. Skipping file.\n",
            "\n",
            "Processing file: /content/med_webscraper/ted_html_pages/379326-2022.html\n",
            "  Keyword not found in any section. Skipping file.\n",
            "\n",
            "Processing file: /content/med_webscraper/ted_html_pages/171458-2020.html\n"
          ]
        },
        {
          "output_type": "stream",
          "name": "stderr",
          "text": [
            "Processing files:  60%|█████▉    | 575/961 [25:06<02:39,  2.43file/s]"
          ]
        },
        {
          "output_type": "stream",
          "name": "stdout",
          "text": [
            "  Keyword not found in any section. Skipping file.\n",
            "\n",
            "Processing file: /content/med_webscraper/ted_html_pages/284408-2024.html\n"
          ]
        },
        {
          "output_type": "stream",
          "name": "stderr",
          "text": [
            "Processing files:  60%|█████▉    | 575/961 [25:06<02:39,  2.43file/s]"
          ]
        },
        {
          "output_type": "stream",
          "name": "stdout",
          "text": [
            "  Keyword found in section. Extracting data...\n",
            "    Making batch translation request for 52 unique strings...\n"
          ]
        },
        {
          "output_type": "stream",
          "name": "stderr",
          "text": [
            "Processing files:  60%|█████▉    | 575/961 [25:13<02:39,  2.43file/s]"
          ]
        },
        {
          "output_type": "stream",
          "name": "stdout",
          "text": [
            "    Translation complete.\n",
            "  Keyword found in section. Extracting data...\n",
            "    Making batch translation request for 52 unique strings...\n"
          ]
        },
        {
          "output_type": "stream",
          "name": "stderr",
          "text": [
            "Processing files:  60%|█████▉    | 575/961 [25:18<02:39,  2.43file/s]"
          ]
        },
        {
          "output_type": "stream",
          "name": "stdout",
          "text": [
            "    Translation complete.\n",
            "  Keyword found in section. Extracting data...\n",
            "    Making batch translation request for 52 unique strings...\n"
          ]
        },
        {
          "output_type": "stream",
          "name": "stderr",
          "text": []
        },
        {
          "output_type": "stream",
          "name": "stdout",
          "text": [
            "    Translation complete.\n",
            "\n",
            "Processing file: /content/med_webscraper/ted_html_pages/226957-2019.html\n",
            "  Keyword not found in any section. Skipping file.\n",
            "\n",
            "Processing file: /content/med_webscraper/ted_html_pages/334192-2018.html\n"
          ]
        },
        {
          "output_type": "stream",
          "name": "stderr",
          "text": [
            "Processing files:  60%|██████    | 579/961 [25:23<12:32,  1.97s/file]"
          ]
        },
        {
          "output_type": "stream",
          "name": "stdout",
          "text": [
            "  Keyword not found in any section. Skipping file.\n",
            "\n",
            "Processing file: /content/med_webscraper/ted_html_pages/212238-2020.html\n",
            "  Keyword not found in any section. Skipping file.\n",
            "\n",
            "Processing file: /content/med_webscraper/ted_html_pages/133762-2023.html\n"
          ]
        },
        {
          "output_type": "stream",
          "name": "stderr",
          "text": [
            "Processing files:  60%|██████    | 580/961 [25:24<10:17,  1.62s/file]"
          ]
        },
        {
          "output_type": "stream",
          "name": "stdout",
          "text": [
            "  Keyword not found in any section. Skipping file.\n",
            "\n",
            "Processing file: /content/med_webscraper/ted_html_pages/782632-2024.html\n"
          ]
        },
        {
          "output_type": "stream",
          "name": "stderr",
          "text": [
            "Processing files:  60%|██████    | 580/961 [25:24<10:17,  1.62s/file]"
          ]
        },
        {
          "output_type": "stream",
          "name": "stdout",
          "text": [
            "  Keyword found in section. Extracting data...\n",
            "    Making batch translation request for 63 unique strings...\n"
          ]
        },
        {
          "output_type": "stream",
          "name": "stderr",
          "text": [
            "Processing files:  60%|██████    | 581/961 [25:29<17:24,  2.75s/file]"
          ]
        },
        {
          "output_type": "stream",
          "name": "stdout",
          "text": [
            "    Warning: Batch translation failed. Using original text. Error: Zum Beschaffungsbedarf zählen sämtliche Arzneimittel mit den in Anlage 3 zu den Teilnahmebedingungen mit Stand vom 4.4.2024 (sog. Wirkstoffliste und Fristen) benannten und im Folgenden aufgezählten Wirkstoffen: 1.Adalimumab(Lfd.-Nr. 1 der Anlage 3 zu den Teilnahmebedingungen), 2. Etanercept (Lfd.-­Nr. 2), 3. Filgrastim (Lfd.-­Nr. 3), 4. Infliximab (Lfd.-­Nr. 4), 5. Interferon beta-1a (Lfd.-Nr. 5), 6. Interferon beta-1b (Lfd.-Nr. 6), 7. Leuprorelin (Lfd.-­Nr. 7), 8. Octreotid (Depot)* (Lfd.-­Nr. 8), 9. Pegfilgrastim (Lfd.-Nr. 9), 10. Beclometason dipropionat + Formoterol hemifumarat-1-Wasser (Lfd.-­Nr. 10), 11. Rotigotin (Lfd.-­Nr. 11), 12. Abatacept (Lfd.-­Nr. 12), 13. Denosumab (Lfd.-­Nr. 13), 14. Dornase alfa (Lfd.-­Nr. 14), 15. Natalizumab (Lfd.-­Nr. 15), 16. Tocilizumab (Lfd.-­Nr. 16), 17. Dimethyl fumarat (Lfd.-Nr. 17), 18. Rivaroxaban 2,5 mg (Lfd.-­Nr. 18), 19. Omalizumab (Lfd.-Nr. 19) 20. Ustekinumab (Lfd.-Nr. 20), 21. Tiotropium bromid-1-Wasser + Olodaterol hydrochlorid (Lfd.-Nr. 21), 22. Follitropin alfa (Lfd.-Nr. 22). *Vom Beschaffungsbedarf umfasst sind insoweit nur Arzneimittel mit retardierten (langwirkenden) Monatsdepot-­Formen. Der Beschaffungsbedarf wurde dabei nicht in Lose eingeteilt. Es handelt sich um ein Open-­House-­Verfahren. Soweit im Rahmen dieser Bekanntmachung daher Formulierungen verwendet werden, welche auf die Einteilung des Beschaffungsbedarfs in ein oder mehrere Los(e) hindeuten, ist dies allein den Vorgaben dieses Bekanntmachungsformulars geschuldet. In diesem Zusammenhang wird auf die eingangs unter Ziffer 2.1 beschriebene Nichtgeltung vergaberechtlicher Regelungen verwiesen. Die AOK startete das Open-House-Verfahren mit den erstbekanntgemachten Wirkstoffen der lfd.-Nr. 1 bis 9 der Anlage 3 zu den Teilnahmebedingungen (sog. Startwirkstoffe) und erweiterte den Beschaffungsbedarf mit den Folgebekanntmachungen um die Wirkstoffkombination und Wirkstoffe der lfd.-Nr. 10 bis 22 der Anlage 3 zu den Teilnahmebedingungen. Die AOK behält sich weiterhin vor, den Beschaffungsbedarf dieses Open-­House-­Verfahrens im Laufe des Verfahrens zu erweitern, d. h. die Anlage 3 zu den Teilnahmebedingungen, um weitere Wirkstoffe zu ergänzen. Nähere Informationen zu einer möglichen Erweiterung des Beschaffungsbedarfs enthalten die Teilnahmebedingungen (Abschnitt A.I.4.1). Verträge zu Arzneimitteln mit den Startwirkstoffen konnten bereits mit Wirkung zum 1.7.2023 geschlossen werden (sog. frühestmöglicher Vertragsstart). Verträge zu Arzneimitteln mit der laufenden Nummer 10 der Anlage 3 zu den Teilnahmebedingungen konnten frühestens mit Wirkung zum 1.8.2023 geschlossen werden, Verträge mit der laufenden Nummer 11 konnten frühestens mit Wirkung zum 1.4.2024 geschlossen werden, Verträge mit der laufenden Nummer 12 bis 16 können frühestens mit Wirkung zum 1.7.2024 geschlossen werden, Verträge mit der laufenden Nummer 17 können frühestens mit Wirkung zum 1.9.2024 geschlossen werden, Verträge mit der laufenden Nummer 18 können frühestens mit Wirkung zum 1.11.2024 geschlossen werden, Verträge mit der laufenden Nummer 19 können frühestens mit Wirkung zum 1.12.2024 geschlossen werden, Verträge mit der laufenden Nummer 20+21 können frühestens mit Wirkung zum 01.01.2025 geschlossen werden und Verträge mit der laufenden Nummer 22 können frühestens mit Wirkung zum 01.02.2025 geschlossen werden.. Alle im Rahmen dieses Open­-House-­Verfahrens geschlossenen Rabattverträge enden einheitlich am 30.6.2025 (sog. Vertragsende). Der Abschluss eines Rabattvertrags zu Arzneimitteln mit den o. g. Wirkstoffen zu einem späteren Zeitpunkt als dem 1.7.2023 bzw. dem 1.8.2023 bzw. dem 1.4.2024 bzw. dem 1.7.2024 bzw. dem 1.9.2024 bzw. dem 1.11.2024 bzw. dem 1.12.2024 bzw. dem 1.1.2025 bzw. dem 1.2.2025 ist jeweils zu einem Monatsersten möglich. Die Angebote sind dazu spätestens 6 Wochen vor dem beabsichtigten Vertragsstart nach Maßgabe der Teilnahmeunterlagen vollständig ausschließlich in elektronischer Form über den Kommunikationsbereich der Vergabeplattform einzureichen. Die jeweiligen Angebotsfristen sind dabei bezogen auf den vom interessierten pharmazeutischen Unternehmer beabsichtigten Vertragsstart der Anlage 3 zu den Teilnahmebedingungen zu entnehmen. Vor dem 31.5.2023 sind keine Verträge zu dem Arzneimittel mit den Startwirkstoffen, vor dem 3.7.2023 keine Verträge zu Arzneimitteln mit der Wirkstoffkombination (lfd.-­Nr. 10 der Anlage 3 zu den Teilnahmebedingungen), vor dem 1.3.2024 keine Verträge zu Arzneimitteln mit dem Wirkstoff (lfd.-­Nr. 11), vor dem 28.5.2024 keine Verträge zu Arzneimitteln mit den Wirkstoffen (lfd.-­Nr. 12 bis 16), vor dem 30.7.2024 keine Verträge zu Arzneimitteln mit dem Wirkstoff (lfd.-­Nr. 17), vor dem 1.10.2024 keine Verträge zu Arzneimitteln mit dem Wirkstoff (lfd.-­Nr. 18), vor dem 1.11.2024 keine Verträge zu Arzneimitteln mit dem Wirkstoff (lfd.-­Nr. 19) und vor dem 29.11.2024 werden keine Verträge zu Arzneimitteln mit den Wirkstoffen (lfd.-­Nr. 20+21) geschlossen worden (Warte-­ und Stillhaltefrist). Vor dem 29.12.2024 werden keine Verträge zu Arzneimitteln mit dem Wirkstoff (lfd.-­Nr. 22) geschlossen. Für alle im Rahmen dieses Open-House-Verfahrens abzuschließenden Verträge ist der letztmögliche Vertragsstart der 1.6.2025. Angebote für diesen Vertragsstart müssen spätestens am 17.4.2025 eingehen. Die AOK gibt den Inhalt des Rabattvertrags für alle potenziellen Vertragspartner verbindlich vor. Verhandlungen über Vertragsinhalte werden nicht geführt. Die AOK sichert den Vertragspartnern keine Exklusivität zu. Im Fall eines Vertragsschlusses gewährt der pharmazeutische Unternehmer der AOK einen Rabatt auf die vertragsgegenständlichen Arzneimittel, die nach näherer Maßgabe der Teilnahmebedingungen und des Rabattvertrags zu Lasten der AOK abgegeben werden (zur vorgegebenen Rabatthöhe und Rabattberechnung wird insbesondere auf die Abschnitte A.I.4.3, A.I.5 und A.I.7 der Teilnahmebedingungen sowie § 2 Abs. (2) und § 4 Abs. (3) des Rabattvertrags --> Text length need to be between 0 and 5000 characters\n",
            "\n",
            "Processing file: /content/med_webscraper/ted_html_pages/486289-2021.html\n"
          ]
        },
        {
          "output_type": "stream",
          "name": "stderr",
          "text": [
            "Processing files:  61%|██████    | 582/961 [25:30<12:55,  2.04s/file]"
          ]
        },
        {
          "output_type": "stream",
          "name": "stdout",
          "text": [
            "  Keyword not found in any section. Skipping file.\n",
            "\n",
            "Processing file: /content/med_webscraper/ted_html_pages/619769-2025.html\n",
            "  Keyword found in section. Extracting data...\n",
            "    Making batch translation request for 51 unique strings...\n"
          ]
        },
        {
          "output_type": "stream",
          "name": "stderr",
          "text": [
            "Processing files:  61%|██████    | 584/961 [25:33<10:07,  1.61s/file]"
          ]
        },
        {
          "output_type": "stream",
          "name": "stdout",
          "text": [
            "    Warning: Batch translation failed. Using original text. Error: Mit folgenden Unternehmen wurden Verträge in den jeweils genannten Verfahren mit einem Rabattbeginn zum in der Kurzbezeichnung genannten Datum geschlossen: 1. Open-House-Biologika-2023-04 Triptorelin embonat: CC Pharma GmbH, Densborn 2. Open-House-Biologika-2023-32 Natalizumab (Darreichungsform zur intravenösen Anwendung): axicorp Pharma GmbH, Friedrichsdorf 3. Open-House-Biologika-2024-10 Pertuzumab/Trastuzumab (Wirkstoffkombination): Abacus Medicine A/S, Kopenhagen, Dänemark (DK) 4. Open-House-Biologika-2025-07 Follitropin delta: kohlpharma GmbH, Merzig 5. Open-House-Biologika-2025-11 Insulin, normal (human) (Darreichungsform: Zylinderampullen): Abacus Medicine A/S, Kopenhagen, Dänemark (DK) 6. Open-House-Biologika-2025-12 Insulin-isophan (human) (Darreichungsform: Zylinderampullen): Abacus Medicine A/S, Kopenhagen, Dänemark (DK) 7. Open-House-Biologika-2025-15 Trastuzumab (DRF zur subkutanen Anwendung): ACA Müller ADAG Pharma AG, Gottmadingen; HAEMATO PHARM GmbH, Schönefeld; kohlpharma GmbH, Merzig; Originalis B. V., Amsterdam, Niederlande (NL); EurimPharm Arzneimittel GmbH, Saaldorf-Surheim; Abacus Medicine A/S, Kopenhagen, Dänemark (DK); CC Pharma GmbH, Densborn 8. Open-House-Biologika-2025-19Adalimumab: HAEMATO PHARM GmbH, Schönefeld; 2Care4 ApS, Esbjerg, Dänemark (DK); Pfizer Pharma GmbH, Berlin; Amgen GmbH, München; kohlpharma GmbH, Merzig; axicorp Pharma BV, Den Haag, Niederlande (NL); axicorp Pharma GmbH, Friedrichsdorf; Biogen GmbH, München; Orifarm GmbH, Leverkusen; Aaragon Pharma s.r.o., Hostivice, Tschechische Republik (CZ); 101 Carefarm GmbH, Leverkusen; AbbVie Deutschland GmbH & Co. KG, Wiesbaden; CC Pharma GmbH, Densborn; 14 U Pharma GmbH, Densborn; ACA Müller ADAG Pharma AG, Gottmadingen; Hexal AG, Holzkirchen; Fresenius Kabi Deutschland GmbH, Bad Homburg vor der Höhe; Celltrion Healthcare Deutschland GmbH, Bad Homburg vor der Höhe; Abacus Medicine A/S Kopenhagen, Dänemark (DK); Originalis B. V., Amsterdam, Niederlande (NL); Stadapharm GmbH, Bad Vilbel; EMRA-MED Arzneimittel GmbH, Trittau; Biocon Biologics Germany GmbH, Bad Homburg vor der Höhe; EurimPharm Arzneimittel GmbH, Surheim; INOPHA GmbH, Ludwigsfelde 9. Open-House-Originale-2023-30 Ponesimod: Paranova Pack A/S, Trittau 10. Open-House-Originale-2025-08 Roxadustat: Orifarm GmbH, Leverkusen; Aaragon Pharma s.r.o., Hostivice, Tschechische Republik (CZ) 11. Open-House-Originale-2025-11 Umeclidiniumbromid: CC Pharma GmbH, Densborn 12. Open-House-Rabattverträge-2023-14 Carglumsäure_TK, HEK, hkk: 1 0 1 Carefarm GmbH, Leverkusen 13. Open-House-Rabattverträge-2024-05 Epinephrin (PEN, zus. ILO in einem Autoinjektor)_TK, HEK, hkk: EMRA-MED Arzneimittel GmbH, Trittau 14. Open-House-Rabattverträge-2024-08 Teriflunomid_TK, HEK, hkk: PUREN Pharma GmbH & Co. KG, München 15. Open-House-Rabattverträge-2024-09 Glatirameracetat (ausgenommen PEN)_TK, HEK, hkk: EurimPharm Arzneimittel GmbH, Saaldorf-Surheim 16. Open-House-Rabattverträge-2025-01 Latanoprost/Timolol (ATR (EDO))_TK, HEK, hkk: ACA Müller ADAG Pharma AG, Gottmadingen 17. Open-House-Rabattverträge-2025-05 Esomeprazol/Naproxen_TK, HEK, hkk: Grünenthal GmbH, Aachen 18. Open-House-Rabattverträge-2025-06 Clindamycin (VSU)_TK, hkk: Dr. Pfleger Arzneimittel GmbH, Bamberg 19. Open-House-Rabattverträge-2025-06 Axitinib_TK, HEK, hkk: ratiopharm GmbH, Ulm 20. Open-House-Rabattverträge-2025-06 Ginkgo biloba - Extrakt (feste orale DRF: 120 mg, 240 mg)_TK, HEK, hkk: 1 A Pharma GmbH, Holzkirchen 21. Open-House-Rabattverträge-2025-06 Iodid (ausgenommen 0,15 mg, 1,529 mg)_TK, HEK, hkk: Aristo Pharma GmbH, Berlin 22. Open-House-Rabattverträge-2025-06 Lidocain (PFL)_TK, HEK, hkk Libra-Pharm GmbH Aachen 23. Open-House-Rabattverträge-2025-06 Sultamicillin_TK, HEK, hkk: PUREN Pharma GmbH & Co. KG, München 24. Open-House-Rabattverträge-2025-06 Tafluprost/Timolol_TK, HEK, hkk: Orifarm GmbH, Leverkusen 25. Open-House-Rabattverträge-2025-07 Clotrimazol (Rx: vaginale DRF)_TK, HEK: ALIUD PHARMA GmbH, Laichingen 26. Open-House-Rabattverträge-2025-07 Nilotinib (ausgenommen orale Verabreichung dispergiert in Apfelmus)_TK, HEK, hkk: Accord Healthcare S.L.U. vertreten durch Accord Healthcare GmbH, München; BG ALIUD/STADAPHARM GbR, Laichingen; ratiopharm GmbH, Ulm; Viatris Healthcare GmbH Zweigniederlassung Bad Homburg, Bad Homburg; Zentiva Pharma GmbH, Berlin 27. Open-House-Rabattverträge-2025-07 Nilotinib (inkl. orale Verabreichung dispergiert in Apfelmus)_TK, HEK, hkk: Abacus Medicine A/S, Kopenhagen, Dänemark (DK); kohlpharma GmbH, Merzig; Originalis B.V., Amsterdam, Niederlande (NL) 28. Open-House-Rabattverträge-2025-07 Oxybutynin (LIV)_TK, HEK, hkk: MEDICE Arzneimittel Pütter GmbH & Co. KG, Iserlohn 29. Open-House-Rabattverträge-2025-07 Perindopril erbumin/Indapamid (90 St.)_TK, HEK, hkk: Viatris Healthcare GmbH Zweigniederlassung Bad Homburg, Bad Homburg 30. Open-House-Rabattverträge-2025-07 Perindopril/Indapamid (ausgenommen Perindopril erbumin)_TK, HEK, hkk: Servier Deutschland GmbH, München; TAD Pharma GmbH, Cuxhaven; Viatris Healthcare GmbH; Zweigniederlassung Bad Hombur,g Bad Homburg 31. Open-House-Rabattverträge-2025-07 Pomalidomid_TK, HEK, hkk: 123 Acuare Pharma GmbH, Cuxhaven; Accord Healthcare S.L.U. vertreten durch Accord Healthcare GmbH, München; Hexal AG, Holzkirchen; ratiopharm GmbH, Ulm; TAD Pharma GmbH, Cuxhaven; Zentiva Pharma GmbH, Berlin 32. Open-House-Rabattverträge-2025-07 Raltegravir (ausgenommen GSE, KTA)_TK, HEK, hkk: 1 0 1 Carefarm GmbH, Leverkusen; Abacus Medicine A/S, Kopenhagen, Dänemark (DK); Allomedic GmbH, Köln; axicorp Pharma B.V., Den Haag, Niederlande (NL); betapharm Arzneimittel GmbH, Augsburg; EurimPharm Arzneimittel GmbH, Saaldorf-Surheim; MSD Sharp & Dohme GmbH, München; Originalis B.V., Amsterdam, Niederlande (NL); Orifarm GmbH, Leverkusen; Paranova Pack A/S, Herlev, Dänemark (DK) 33. Open-House-Rabattverträge-2025-07 Tranylcypromin_TK, HEK, hkk: neuraxpharm Arzneimittel GmbH, Langenfeld --> Text length need to be between 0 and 5000 characters\n",
            "\n",
            "Processing file: /content/med_webscraper/ted_html_pages/461213-2023.html\n",
            "  Keyword not found in any section. Skipping file.\n",
            "\n",
            "Processing file: /content/med_webscraper/ted_html_pages/358184-2022.html\n"
          ]
        },
        {
          "output_type": "stream",
          "name": "stderr",
          "text": [
            "Processing files:  61%|██████    | 585/961 [25:33<07:19,  1.17s/file]"
          ]
        },
        {
          "output_type": "stream",
          "name": "stdout",
          "text": [
            "  Keyword not found in any section. Skipping file.\n",
            "\n",
            "Processing file: /content/med_webscraper/ted_html_pages/126102-2017.html\n"
          ]
        },
        {
          "output_type": "stream",
          "name": "stderr",
          "text": [
            "Processing files:  61%|██████    | 586/961 [25:35<09:43,  1.56s/file]"
          ]
        },
        {
          "output_type": "stream",
          "name": "stdout",
          "text": [
            "  Keyword not found in any section. Skipping file.\n",
            "\n",
            "Processing file: /content/med_webscraper/ted_html_pages/16567-2025.html\n",
            "  Keyword found in section. Extracting data...\n",
            "    Making batch translation request for 38 unique strings...\n"
          ]
        },
        {
          "output_type": "stream",
          "name": "stderr",
          "text": [
            "Processing files:  61%|██████    | 586/961 [25:40<09:43,  1.56s/file]"
          ]
        },
        {
          "output_type": "stream",
          "name": "stdout",
          "text": [
            "    Translation complete.\n",
            "  Keyword found in section. Extracting data...\n",
            "    Making batch translation request for 54 unique strings...\n"
          ]
        },
        {
          "output_type": "stream",
          "name": "stderr",
          "text": [
            "Processing files:  61%|██████    | 587/961 [25:49<31:37,  5.07s/file]"
          ]
        },
        {
          "output_type": "stream",
          "name": "stdout",
          "text": [
            "    Translation complete.\n",
            "\n",
            "Processing file: /content/med_webscraper/ted_html_pages/87783-2019.html\n"
          ]
        },
        {
          "output_type": "stream",
          "name": "stderr",
          "text": [
            "                                                                     "
          ]
        },
        {
          "output_type": "stream",
          "name": "stdout",
          "text": [
            "  Keyword not found in any section. Skipping file.\n",
            "\n",
            "Processing file: /content/med_webscraper/ted_html_pages/80534-2018.html\n"
          ]
        },
        {
          "output_type": "stream",
          "name": "stderr",
          "text": [
            "Processing files:  61%|██████▏   | 589/961 [25:49<16:18,  2.63s/file]"
          ]
        },
        {
          "output_type": "stream",
          "name": "stdout",
          "text": [
            "  Keyword not found in any section. Skipping file.\n",
            "\n",
            "Processing file: /content/med_webscraper/ted_html_pages/191311-2021.html\n"
          ]
        },
        {
          "output_type": "stream",
          "name": "stderr",
          "text": [
            "Processing files:  61%|██████▏   | 590/961 [25:50<12:36,  2.04s/file]"
          ]
        },
        {
          "output_type": "stream",
          "name": "stdout",
          "text": [
            "  Keyword not found in any section. Skipping file.\n",
            "\n",
            "Processing file: /content/med_webscraper/ted_html_pages/25551-2018.html\n"
          ]
        },
        {
          "output_type": "stream",
          "name": "stderr",
          "text": [
            "Processing files:  62%|██████▏   | 592/961 [25:50<06:45,  1.10s/file]"
          ]
        },
        {
          "output_type": "stream",
          "name": "stdout",
          "text": [
            "  Keyword not found in any section. Skipping file.\n",
            "\n",
            "Processing file: /content/med_webscraper/ted_html_pages/406910-2020.html\n",
            "  Keyword not found in any section. Skipping file.\n",
            "\n",
            "Processing file: /content/med_webscraper/ted_html_pages/417926-2020.html\n"
          ]
        },
        {
          "output_type": "stream",
          "name": "stderr",
          "text": [
            "Processing files:  62%|██████▏   | 593/961 [25:50<04:59,  1.23file/s]"
          ]
        },
        {
          "output_type": "stream",
          "name": "stdout",
          "text": [
            "  Keyword not found in any section. Skipping file.\n",
            "\n",
            "Processing file: /content/med_webscraper/ted_html_pages/361120-2020.html\n"
          ]
        },
        {
          "output_type": "stream",
          "name": "stderr",
          "text": [
            "Processing files:  62%|██████▏   | 594/961 [25:51<04:33,  1.34file/s]"
          ]
        },
        {
          "output_type": "stream",
          "name": "stdout",
          "text": [
            "  Keyword not found in any section. Skipping file.\n",
            "\n",
            "Processing file: /content/med_webscraper/ted_html_pages/232515-2017.html\n"
          ]
        },
        {
          "output_type": "stream",
          "name": "stderr",
          "text": [
            "Processing files:  62%|██████▏   | 595/961 [25:51<03:48,  1.60file/s]"
          ]
        },
        {
          "output_type": "stream",
          "name": "stdout",
          "text": [
            "  Keyword not found in any section. Skipping file.\n",
            "\n",
            "Processing file: /content/med_webscraper/ted_html_pages/128980-2019.html\n"
          ]
        },
        {
          "output_type": "stream",
          "name": "stderr",
          "text": [
            "Processing files:  62%|██████▏   | 597/961 [25:52<02:58,  2.04file/s]"
          ]
        },
        {
          "output_type": "stream",
          "name": "stdout",
          "text": [
            "  Keyword not found in any section. Skipping file.\n",
            "\n",
            "Processing file: /content/med_webscraper/ted_html_pages/213632-2016.html\n",
            "  Keyword not found in any section. Skipping file.\n",
            "\n",
            "Processing file: /content/med_webscraper/ted_html_pages/38957-2020.html\n"
          ]
        },
        {
          "output_type": "stream",
          "name": "stderr",
          "text": [
            "Processing files:  62%|██████▏   | 599/961 [25:52<01:55,  3.14file/s]"
          ]
        },
        {
          "output_type": "stream",
          "name": "stdout",
          "text": [
            "  Keyword not found in any section. Skipping file.\n",
            "\n",
            "Processing file: /content/med_webscraper/ted_html_pages/563896-2020.html\n",
            "  Keyword not found in any section. Skipping file.\n",
            "\n",
            "Processing file: /content/med_webscraper/ted_html_pages/328414-2024.html\n"
          ]
        },
        {
          "output_type": "stream",
          "name": "stderr",
          "text": [
            "Processing files:  62%|██████▏   | 599/961 [25:53<01:55,  3.14file/s]"
          ]
        },
        {
          "output_type": "stream",
          "name": "stdout",
          "text": [
            "  Keyword found in section. Extracting data...\n",
            "    Making batch translation request for 36 unique strings...\n"
          ]
        },
        {
          "output_type": "stream",
          "name": "stderr",
          "text": [
            "Processing files:  62%|██████▏   | 599/961 [26:00<01:55,  3.14file/s]"
          ]
        },
        {
          "output_type": "stream",
          "name": "stdout",
          "text": [
            "    Translation complete.\n",
            "  Keyword found in section. Extracting data...\n",
            "    Making batch translation request for 59 unique strings...\n"
          ]
        },
        {
          "output_type": "stream",
          "name": "stderr",
          "text": [
            "Processing files:  62%|██████▏   | 600/961 [26:06<26:03,  4.33s/file]"
          ]
        },
        {
          "output_type": "stream",
          "name": "stdout",
          "text": [
            "    Translation complete.\n",
            "\n",
            "Processing file: /content/med_webscraper/ted_html_pages/485891-2025.html\n"
          ]
        },
        {
          "output_type": "stream",
          "name": "stderr",
          "text": [
            "Processing files:  62%|██████▏   | 600/961 [26:07<26:03,  4.33s/file]"
          ]
        },
        {
          "output_type": "stream",
          "name": "stdout",
          "text": [
            "  Keyword found in section. Extracting data...\n",
            "    Making batch translation request for 56 unique strings...\n"
          ]
        },
        {
          "output_type": "stream",
          "name": "stderr",
          "text": [
            "Processing files:  62%|██████▏   | 600/961 [26:14<26:03,  4.33s/file]"
          ]
        },
        {
          "output_type": "stream",
          "name": "stdout",
          "text": [
            "    Translation complete.\n",
            "  Keyword found in section. Extracting data...\n",
            "    Making batch translation request for 40 unique strings...\n"
          ]
        },
        {
          "output_type": "stream",
          "name": "stderr",
          "text": [
            "Processing files:  63%|██████▎   | 601/961 [26:18<39:11,  6.53s/file]"
          ]
        },
        {
          "output_type": "stream",
          "name": "stdout",
          "text": [
            "    Translation complete.\n",
            "\n",
            "Processing file: /content/med_webscraper/ted_html_pages/49998-2019.html\n"
          ]
        },
        {
          "output_type": "stream",
          "name": "stderr",
          "text": [
            "Processing files:  63%|██████▎   | 602/961 [26:18<28:04,  4.69s/file]"
          ]
        },
        {
          "output_type": "stream",
          "name": "stdout",
          "text": [
            "  Keyword not found in any section. Skipping file.\n",
            "\n",
            "Processing file: /content/med_webscraper/ted_html_pages/642401-2024.html\n"
          ]
        },
        {
          "output_type": "stream",
          "name": "stderr",
          "text": [
            "Processing files:  63%|██████▎   | 602/961 [26:19<28:04,  4.69s/file]"
          ]
        },
        {
          "output_type": "stream",
          "name": "stdout",
          "text": [
            "  Keyword found in section. Extracting data...\n",
            "    Making batch translation request for 50 unique strings...\n"
          ]
        },
        {
          "output_type": "stream",
          "name": "stderr",
          "text": [
            "Processing files:  63%|██████▎   | 603/961 [26:20<23:19,  3.91s/file]"
          ]
        },
        {
          "output_type": "stream",
          "name": "stdout",
          "text": [
            "    Warning: Batch translation failed. Using original text. Error: 1. Środki ochrony prawnej przysługują wykonawcy, jeżeli ma lub miał interes w uzyskaniu zamówienia oraz poniósł lub może ponieść szkodę w wyniku naruszenia przez zamawiającego przepisów ustawy Pzp. 2. Podstawowym środkiem ochrony prawnej, z którego może skorzystać wykonawca, jest postępowanie odwoławcze, które prowadzone jest w języku polskim. 3. Pisma w postępowaniu odwoławczym wnosi się w formie pisemnej albo w formie elektronicznej albo w postaci elektronicznej, z tym że odwołanie i przystąpienie do postępowania odwoławczego, wniesione w postaci elektronicznej, wymagają opatrzenia podpisem zaufanym. 4. Zgodnie z art. 513 ustawy Pzp odwołanie przysługuje na: 1) niezgodną z przepisami ustawy czynność zamawiającego, podjętą w postępowaniu o udzielenie zamówienia, o zawarcie umowy ramowej, dynamicznym systemie zakupów, systemie kwalifikowania wykonawców lub konkursie, w tym na projektowane postanowienie umowy; 2) zaniechanie czynności w postępowaniu o udzielenie zamówienia, o zawarcie umowy ramowej, dynamicznym systemie zakupów, systemie kwalifikowania wykonawców lub konkursie, do której zamawiający był obowiązany na podstawie ustawy; 3) zaniechanie przeprowadzenia postępowania o udzielenie zamówienia lub zorganizowania konkursu na podstawie ustawy, mimo że zamawiający był do tego obowiązany. 5. Odwołanie wnosi się do Prezesa Izby. 6. Odwołanie wnosi się, w przypadku zamówień, których wartość jest równa albo przekracza progi unijne, w terminie: 1) 10 dni od dnia przekazania informacji o czynności zamawiającego stanowiącej podstawę jego wniesienia, jeżeli informacja została przekazana przy użyciu środków komunikacji elektronicznej; 2) 15 dni od dnia przekazania informacji o czynności zamawiającego stanowiącej podstawę jego wniesienia, jeżeli informacja została przekazana w sposób inny niż określony w ppkt 1. 7. Odwołanie wobec treści ogłoszenia wszczynającego postępowanie o udzielenie zamówienia lub wobec treści dokumentów zamówienia wnosi się w terminie 10 dni od dnia publikacji ogłoszenia w Dzienniku Urzędowym Unii Europejskiej lub zamieszczenia dokumentów zamówienia na stronie internetowej, w przypadku zamówień, których wartość jest równa albo przekracza progi unijne. 8. Odwołanie w przypadkach innych niż określone w pkt 6 i 7 wnosi się w terminie 10 dni od dnia, w którym powzięto lub przy zachowaniu należytej staranności można było powziąć wiadomość o okolicznościach stanowiących podstawę jego wniesienia, w przypadku zamówień, których wartość jest równa albo przekracza progi unijne. 9. Odwołujący przekazuje zamawiającemu odwołanie wniesione w formie elektronicznej albo postaci elektronicznej albo kopię tego odwołania, jeżeli zostało ono wniesione w formie pisemnej, przed upływem terminu do wniesienia odwołania w taki sposób, aby mógł on zapoznać się z jego treścią przed upływem tego terminu. 10. Przystąpienie do postępowania odwoławczego: 1) Zamawiający przesyła niezwłocznie, nie później niż w terminie 2 dni od dnia otrzymania, kopię odwołania innym wykonawcom uczestniczącym w postępowaniu o udzielenie zamówienia, a jeżeli odwołanie dotyczy treści ogłoszenia o zamówieniu lub dokumentów zamówienia, zamieszcza ją również na stronie internetowej, na której jest zamieszczone ogłoszenie o zamówieniu lub są udostępniane dokumenty zamówienia, wzywając wykonawców do przystąpienia do postępowania odwoławczego. 2) Wykonawca może zgłosić przystąpienie do postępowania odwoławczego w terminie 3 dni od dnia otrzymania kopii odwołania, wskazując stronę, do której przystępuje, i interes w uzyskaniu rozstrzygnięcia na korzyść strony, do której przystępuje. 3) Zgłoszenie przystąpienia doręcza się Prezesowi Izby, a jego kopię przesyła się zamawiającemu oraz wykonawcy wnoszącemu odwołanie. Do zgłoszenia przystąpienia dołącza się dowód przesłania kopii zgłoszenia przystąpienia zamawiającemu oraz wykonawcy wnoszącemu odwołanie. 11. Izba rozpoznaje odwołanie w terminie 15 dni od dnia jego doręczenia Prezesowi Izby. 12. Postępowanie skargowe: 1) Na orzeczenie Izby oraz postanowienie Prezesa Izby, o którym mowa w art. 519 ust. 1 ustawy Pzp, stronom oraz uczestnikom postępowania odwoławczego przysługuje skarga do sądu. 2) Skargę wnosi się do Sądu Okręgowego w Warszawie – sądu zamówień publicznych, zwanego dalej „sądem zamówień publicznych”. 3) Skargę wnosi się za pośrednictwem Prezesa Izby, w terminie 14 dni od dnia doręczenia orzeczenia Izby lub postanowienia Prezesa Izby, o którym mowa w art. 519 ust. 1 ustawy Pzp, przesyłając jednocześnie jej odpis przeciwnikowi skargi. Złożenie skargi w placówce pocztowej operatora wyznaczonego w rozumieniu ustawy z dnia 23 listopada 2012 r. – Prawo pocztowe jest równoznaczne z jej wniesieniem. 4) Prezes Izby przekazuje skargę wraz z aktami postępowania odwoławczego do sądu zamówień publicznych w terminie 7 dni od dnia jej otrzymania. 5) Sąd rozpoznaje sprawę niezwłocznie, nie później jednak niż w terminie miesiąca od dnia wpływu skargi do sądu. 6) Od wyroku sądu lub postanowienia kończącego postępowanie w sprawie przysługuje skarga kasacyjna do Sądu Najwyższego. 13. Prawa i obowiązki wykonawcy korzystającego z przysługujących mu środków ochrony prawnej, w sposób szczegółowy regulują odpowiednie przepisy DZIAŁU IX ustawy Pzp. --> Text length need to be between 0 and 5000 characters\n",
            "\n",
            "Processing file: /content/med_webscraper/ted_html_pages/279611-2022.html\n"
          ]
        },
        {
          "output_type": "stream",
          "name": "stderr",
          "text": [
            "Processing files:  63%|██████▎   | 604/961 [26:20<16:37,  2.80s/file]"
          ]
        },
        {
          "output_type": "stream",
          "name": "stdout",
          "text": [
            "  Keyword not found in any section. Skipping file.\n",
            "\n",
            "Processing file: /content/med_webscraper/ted_html_pages/368592-2024.html\n"
          ]
        },
        {
          "output_type": "stream",
          "name": "stderr",
          "text": [
            "Processing files:  63%|██████▎   | 604/961 [26:21<16:37,  2.80s/file]"
          ]
        },
        {
          "output_type": "stream",
          "name": "stdout",
          "text": [
            "  Keyword found in section. Extracting data...\n",
            "    Making batch translation request for 63 unique strings...\n"
          ]
        },
        {
          "output_type": "stream",
          "name": "stderr",
          "text": [
            "Processing files:  63%|██████▎   | 604/961 [26:24<16:37,  2.80s/file]"
          ]
        },
        {
          "output_type": "stream",
          "name": "stdout",
          "text": [
            "    Warning: Batch translation failed. Using original text. Error: Zum Beschaffungsbedarf zählen sämtliche Arzneimittel mit den in Anlage 3 zu den Teilnahmebedingungen mit Stand vom 4.4.2024 (sog. Wirkstoffliste und Fristen) benannten und im Folgenden aufgezählten Wirkstoffen: 1.Adalimumab(Lfd.-Nr. 1 der Anlage 3 zu den Teilnahmebedingungen), 2. Etanercept (Lfd.-­Nr. 2 der Anlage 3 zu den Teilnahmebedingungen), 3. Filgrastim (Lfd.-­Nr. 3 der Anlage 3 zu den Teilnahmebedingungen), 4. Infliximab (Lfd.-­Nr. 4 der Anlage 3 zu den Teilnahmebedingungen), 5. Interferon beta-1a (Lfd.-Nr. 5 der Anlage 3 zu den Teilnahmebedingungen), 6. Interferon beta-1b (Lfd.-Nr. 6 der Anlage 3 zu den Teilnahmebedingungen), 7. Leuprorelin (Lfd.-­Nr. 7 der Anlage 3 zu den Teilnahmebedingungen), 8. Octreotid (Depot)* (Lfd.-­Nr. 8 der Anlage 3 zu den Teilnahmebedingungen), 9. Pegfilgrastim (Lfd.-Nr. 9 der Anlage 3 zu den Teilnahmebedingungen), 10. Beclometason dipropionat + Formoterol hemifumarat-1-Wasser (Lfd.-­Nr. 10 der Anlage 3 zu den Teilnahmebedingungen), 11. Rotigotin (Lfd.-­Nr. 11 der Anlage 3 zu den Teilnahmebedingungen), 12. Abatacept (Lfd.-­Nr. 12 der Anlage 3 zu den Teilnahmebedingungen), 13. Denosumab (Lfd.-­Nr. 13 der Anlage 3 zu den Teilnahmebedingungen), 14. Dornase alfa (Lfd.-­Nr. 14 der Anlage 3 zu den Teilnahmebedingungen), 15. Natalizumab (Lfd.-­Nr. 15 der Anlage 3 zu den Teilnahmebedingungen), 16. Tocilizumab (Lfd.-­Nr. 16 der Anlage 3 zu den Teilnahmebedingungen). *Vom Beschaffungsbedarf umfasst sind insoweit nur Arzneimittel mit retardierten (langwirkenden) Monatsdepot-­Formen. Der Beschaffungsbedarf wurde dabei nicht in Lose eingeteilt. Es handelt sich um ein Open-­House-­Verfahren. Soweit im Rahmen dieser Bekanntmachung daher Formulierungen verwendet werden, welche auf die Einteilung des Beschaffungsbedarfs in ein oder mehrere Los(e) hindeuten, ist dies allein den Vorgaben dieses Bekanntmachungsformulars geschuldet. In diesem Zusammenhang wird auf die eingangs unter Ziffer 2.1 beschriebene Nichtgeltung vergaberechtlicher Regelungen verwiesen. Die AOK startete das Open-House-Verfahren mit den erstbekanntgemachten Wirkstoffen der lfd.-Nr. 1 bis 9 der Anlage 3 zu den Teilnahmebedingungen (sog. Startwirkstoffe) und erweiterte den Beschaffungsbedarf mit den Folgebekanntmachungen um die Wirkstoffkombination und Wirkstoffe der lfd.-Nr. 10 bis 16 der Anlage 3 zu den Teilnahmebedingungen. Die AOK behält sich weiterhin vor, den Beschaffungsbedarf dieses Open-­House-­Verfahrens im Laufe des Verfahrens zu erweitern, d. h. die Anlage 3 zu den Teilnahmebedingungen, um weitere Wirkstoffe zu ergänzen. Nähere Informationen zu einer möglichen Erweiterung des Beschaffungsbedarfs enthalten die Teilnahmebedingungen (Abschnitt A.I.4.1). Verträge zu Arzneimitteln mit den Startwirkstoffen konnten bereits mit Wirkung zum 1.7.2023 geschlossen werden (sog. frühestmöglicher Vertragsstart). Verträge zu Arzneimitteln mit der laufenden Nummer 10 der Anlage 3 zu den Teilnahmebedingungen konnten frühestens mit Wirkung zum 1.8.2023 geschlossen werden, Verträge mit der laufenden Nummer 11 der Anlage 3 zu den Teilnahmebedingungen konnten frühestens mit Wirkung zum 1.4.2024 geschlossen werden, Verträge mit der laufenden Nummer 12 bis 16 der Anlage 3 zu den Teilnahmebedingungen können frühestens mit Wirkung zum 1.7.2024 geschlossen werden. Alle im Rahmen dieses Open­-House-­Verfahrens geschlossenen Rabattverträge enden einheitlich am 30.6.2025 (sog. Vertragsende). Der Abschluss eines Rabattvertrags zu Arzneimitteln mit den o. g. Wirkstoffen zu einem späteren Zeitpunkt als dem 1.7.2023 bzw. dem 1.8.2023 bzw. dem 1.4.2024 bzw. dem 1.7.2024 ist jeweils zu einem Monatsersten möglich. Die Angebote sind dazu spätestens 6 Wochen vor dem beabsichtigten Vertragsstart nach Maßgabe der Teilnahmeunterlagen vollständig ausschließlich in elektronischer Form über den Kommunikationsbereich der Vergabeplattform einzureichen. Die jeweiligen Angebotsfristen sind dabei bezogen auf den vom interessierten pharmazeutischen Unternehmer beabsichtigten Vertragsstart der Anlage 3 zu den Teilnahmebedingungen zu entnehmen. Vor dem 31.5.2023 sind keine Verträge zu dem Arzneimittel mit den Startwirkstoffen, vor dem 3.7.2023 keine Verträge zu Arzneimitteln mit der Wirkstoffkombination (lfd.-­Nr. 10 der Anlage 3 zu den Teilnahmebedingungen) und vor dem 1.3.2024 keine Verträge zu Arzneimitteln mit dem Wirkstoff (lfd.-­Nr. 11 der Anlage 3 zu den Teilnahmebedingungen) geschlossen worden (Warte-­ und Stillhaltefrist). Vor dem 28.5.2024 werden keine Verträge zu Arzneimitteln mit den Wirkstoffen (lfd.-­Nr. 12 bis 16 der Anlage 3 zu den Teilnahmebedingungen) geschlossen. Für alle im Rahmen dieses Open-House-Verfahrens abzuschließenden Verträge ist der letztmögliche Vertragsstart der 1.6.2025. Angebote für diesen Vertragsstart müssen spätestens am 17.4.2025 eingehen. Die AOK gibt den Inhalt des Rabattvertrags für alle potenziellen Vertragspartner verbindlich vor. Verhandlungen über Vertragsinhalte werden nicht geführt. Die AOK sichert den Vertragspartnern keine Exklusivität zu. Im Fall eines Vertragsschlusses gewährt der pharmazeutische Unternehmer der AOK einen Rabatt auf die vertragsgegenständlichen Arzneimittel, die nach näherer Maßgabe der Teilnahmebedingungen und des Rabattvertrags zu Lasten der AOK abgegeben werden (zur vorgegebenen Rabatthöhe und Rabattberechnung wird insbesondere auf die Abschnitte A.I.4.3, A.I.5 und A.I.7 der Teilnahmebedingungen sowie § 2 Abs. (2) und § 4 Abs. (3) des Rabattvertrags verwiesen. --> Text length need to be between 0 and 5000 characters\n",
            "  Keyword found in section. Extracting data...\n",
            "    Making batch translation request for 31 unique strings...\n"
          ]
        },
        {
          "output_type": "stream",
          "name": "stderr",
          "text": [
            "Processing files:  63%|██████▎   | 604/961 [26:29<16:37,  2.80s/file]"
          ]
        },
        {
          "output_type": "stream",
          "name": "stdout",
          "text": [
            "    Translation complete.\n",
            "  Keyword found in section. Extracting data...\n",
            "    Making batch translation request for 31 unique strings...\n"
          ]
        },
        {
          "output_type": "stream",
          "name": "stderr",
          "text": [
            "Processing files:  63%|██████▎   | 606/961 [26:31<21:35,  3.65s/file]"
          ]
        },
        {
          "output_type": "stream",
          "name": "stdout",
          "text": [
            "    Translation complete.\n",
            "\n",
            "Processing file: /content/med_webscraper/ted_html_pages/451170-2021.html\n",
            "  Keyword not found in any section. Skipping file.\n",
            "\n",
            "Processing file: /content/med_webscraper/ted_html_pages/595032-2022.html\n"
          ]
        },
        {
          "output_type": "stream",
          "name": "stderr",
          "text": [
            "Processing files:  63%|██████▎   | 608/961 [26:32<11:10,  1.90s/file]"
          ]
        },
        {
          "output_type": "stream",
          "name": "stdout",
          "text": [
            "  Keyword not found in any section. Skipping file.\n",
            "\n",
            "Processing file: /content/med_webscraper/ted_html_pages/8430-2020.html\n",
            "  Keyword not found in any section. Skipping file.\n",
            "\n",
            "Processing file: /content/med_webscraper/ted_html_pages/315898-2020.html\n"
          ]
        },
        {
          "output_type": "stream",
          "name": "stderr",
          "text": [
            "Processing files:  63%|██████▎   | 609/961 [26:32<08:23,  1.43s/file]"
          ]
        },
        {
          "output_type": "stream",
          "name": "stdout",
          "text": [
            "  Keyword not found in any section. Skipping file.\n",
            "\n",
            "Processing file: /content/med_webscraper/ted_html_pages/204255-2020.html\n"
          ]
        },
        {
          "output_type": "stream",
          "name": "stderr",
          "text": [
            "Processing files:  63%|██████▎   | 610/961 [26:32<06:28,  1.11s/file]"
          ]
        },
        {
          "output_type": "stream",
          "name": "stdout",
          "text": [
            "  Keyword not found in any section. Skipping file.\n",
            "\n",
            "Processing file: /content/med_webscraper/ted_html_pages/11415-2019.html\n"
          ]
        },
        {
          "output_type": "stream",
          "name": "stderr",
          "text": [
            "Processing files:  64%|██████▎   | 612/961 [26:33<03:43,  1.56file/s]"
          ]
        },
        {
          "output_type": "stream",
          "name": "stdout",
          "text": [
            "  Keyword not found in any section. Skipping file.\n",
            "\n",
            "Processing file: /content/med_webscraper/ted_html_pages/75019-2018.html\n",
            "  Keyword not found in any section. Skipping file.\n",
            "\n",
            "Processing file: /content/med_webscraper/ted_html_pages/205930-2019.html\n"
          ]
        },
        {
          "output_type": "stream",
          "name": "stderr",
          "text": [
            "Processing files:  64%|██████▍   | 613/961 [26:33<02:55,  1.99file/s]"
          ]
        },
        {
          "output_type": "stream",
          "name": "stdout",
          "text": [
            "  Keyword not found in any section. Skipping file.\n",
            "\n",
            "Processing file: /content/med_webscraper/ted_html_pages/313707-2021.html\n"
          ]
        },
        {
          "output_type": "stream",
          "name": "stderr",
          "text": [
            "Processing files:  64%|██████▍   | 614/961 [26:33<02:46,  2.09file/s]"
          ]
        },
        {
          "output_type": "stream",
          "name": "stdout",
          "text": [
            "  Keyword not found in any section. Skipping file.\n",
            "\n",
            "Processing file: /content/med_webscraper/ted_html_pages/732076-2022.html\n"
          ]
        },
        {
          "output_type": "stream",
          "name": "stderr",
          "text": [
            "Processing files:  64%|██████▍   | 616/961 [26:34<02:06,  2.72file/s]"
          ]
        },
        {
          "output_type": "stream",
          "name": "stdout",
          "text": [
            "  Keyword not found in any section. Skipping file.\n",
            "\n",
            "Processing file: /content/med_webscraper/ted_html_pages/422646-2016.html\n",
            "  Keyword not found in any section. Skipping file.\n",
            "\n",
            "Processing file: /content/med_webscraper/ted_html_pages/623999-2021.html\n"
          ]
        },
        {
          "output_type": "stream",
          "name": "stderr",
          "text": [
            "Processing files:  64%|██████▍   | 617/961 [26:34<01:53,  3.04file/s]"
          ]
        },
        {
          "output_type": "stream",
          "name": "stdout",
          "text": [
            "  Keyword not found in any section. Skipping file.\n",
            "\n",
            "Processing file: /content/med_webscraper/ted_html_pages/724230-2023.html\n"
          ]
        },
        {
          "output_type": "stream",
          "name": "stderr",
          "text": [
            "Processing files:  64%|██████▍   | 618/961 [26:35<02:33,  2.23file/s]"
          ]
        },
        {
          "output_type": "stream",
          "name": "stdout",
          "text": [
            "  Keyword not found in any section. Skipping file.\n",
            "\n",
            "Processing file: /content/med_webscraper/ted_html_pages/382029-2019.html\n"
          ]
        },
        {
          "output_type": "stream",
          "name": "stderr",
          "text": [
            "Processing files:  64%|██████▍   | 619/961 [26:35<02:32,  2.24file/s]"
          ]
        },
        {
          "output_type": "stream",
          "name": "stdout",
          "text": [
            "  Keyword not found in any section. Skipping file.\n",
            "\n",
            "Processing file: /content/med_webscraper/ted_html_pages/208332-2023.html\n"
          ]
        },
        {
          "output_type": "stream",
          "name": "stderr",
          "text": [
            "Processing files:  65%|██████▍   | 620/961 [26:36<02:38,  2.16file/s]"
          ]
        },
        {
          "output_type": "stream",
          "name": "stdout",
          "text": [
            "  Keyword not found in any section. Skipping file.\n",
            "\n",
            "Processing file: /content/med_webscraper/ted_html_pages/468051-2024.html\n",
            "  Keyword found in section. Extracting data...\n",
            "    Making batch translation request for 34 unique strings...\n"
          ]
        },
        {
          "output_type": "stream",
          "name": "stderr",
          "text": [
            "Processing files:  65%|██████▍   | 621/961 [26:41<09:46,  1.72s/file]"
          ]
        },
        {
          "output_type": "stream",
          "name": "stdout",
          "text": [
            "    Translation complete.\n",
            "\n",
            "Processing file: /content/med_webscraper/ted_html_pages/171445-2018.html\n"
          ]
        },
        {
          "output_type": "stream",
          "name": "stderr",
          "text": [
            "Processing files:  65%|██████▍   | 622/961 [26:41<07:21,  1.30s/file]"
          ]
        },
        {
          "output_type": "stream",
          "name": "stdout",
          "text": [
            "  Keyword not found in any section. Skipping file.\n",
            "\n",
            "Processing file: /content/med_webscraper/ted_html_pages/157059-2021.html\n"
          ]
        },
        {
          "output_type": "stream",
          "name": "stderr",
          "text": [
            "Processing files:  65%|██████▍   | 623/961 [26:42<06:16,  1.11s/file]"
          ]
        },
        {
          "output_type": "stream",
          "name": "stdout",
          "text": [
            "  Keyword not found in any section. Skipping file.\n",
            "\n",
            "Processing file: /content/med_webscraper/ted_html_pages/195039-2022.html\n"
          ]
        },
        {
          "output_type": "stream",
          "name": "stderr",
          "text": [
            "Processing files:  65%|██████▌   | 625/961 [26:43<05:15,  1.06file/s]"
          ]
        },
        {
          "output_type": "stream",
          "name": "stdout",
          "text": [
            "  Keyword not found in any section. Skipping file.\n",
            "\n",
            "Processing file: /content/med_webscraper/ted_html_pages/66484-2021.html\n",
            "  Keyword not found in any section. Skipping file.\n",
            "\n",
            "Processing file: /content/med_webscraper/ted_html_pages/295900-2016.html\n"
          ]
        },
        {
          "output_type": "stream",
          "name": "stderr",
          "text": [
            "Processing files:  65%|██████▌   | 626/961 [26:45<06:04,  1.09s/file]"
          ]
        },
        {
          "output_type": "stream",
          "name": "stdout",
          "text": [
            "  Keyword not found in any section. Skipping file.\n",
            "\n",
            "Processing file: /content/med_webscraper/ted_html_pages/322138-2024.html\n",
            "  Keyword found in section. Extracting data...\n",
            "    Making batch translation request for 36 unique strings...\n"
          ]
        },
        {
          "output_type": "stream",
          "name": "stderr",
          "text": [
            "Processing files:  65%|██████▌   | 626/961 [26:50<06:04,  1.09s/file]"
          ]
        },
        {
          "output_type": "stream",
          "name": "stdout",
          "text": [
            "    Translation complete.\n",
            "  Keyword found in section. Extracting data...\n",
            "    Making batch translation request for 59 unique strings...\n"
          ]
        },
        {
          "output_type": "stream",
          "name": "stderr",
          "text": [
            "Processing files:  65%|██████▌   | 627/961 [26:55<21:24,  3.85s/file]"
          ]
        },
        {
          "output_type": "stream",
          "name": "stdout",
          "text": [
            "    Translation complete.\n",
            "\n",
            "Processing file: /content/med_webscraper/ted_html_pages/204262-2020.html\n"
          ]
        },
        {
          "output_type": "stream",
          "name": "stderr",
          "text": [
            "Processing files:  65%|██████▌   | 628/961 [26:56<15:47,  2.85s/file]"
          ]
        },
        {
          "output_type": "stream",
          "name": "stdout",
          "text": [
            "  Keyword not found in any section. Skipping file.\n",
            "\n",
            "Processing file: /content/med_webscraper/ted_html_pages/177421-2016.html\n"
          ]
        },
        {
          "output_type": "stream",
          "name": "stderr",
          "text": [
            "Processing files:  65%|██████▌   | 629/961 [26:56<11:43,  2.12s/file]"
          ]
        },
        {
          "output_type": "stream",
          "name": "stdout",
          "text": [
            "  Keyword not found in any section. Skipping file.\n",
            "\n",
            "Processing file: /content/med_webscraper/ted_html_pages/170214-2019.html\n"
          ]
        },
        {
          "output_type": "stream",
          "name": "stderr",
          "text": [
            "Processing files:  66%|██████▌   | 631/961 [26:56<06:17,  1.14s/file]"
          ]
        },
        {
          "output_type": "stream",
          "name": "stdout",
          "text": [
            "  Keyword not found in any section. Skipping file.\n",
            "\n",
            "Processing file: /content/med_webscraper/ted_html_pages/443709-2017.html\n",
            "  Keyword not found in any section. Skipping file.\n",
            "\n",
            "Processing file: /content/med_webscraper/ted_html_pages/321393-2016.html\n"
          ]
        },
        {
          "output_type": "stream",
          "name": "stderr",
          "text": [
            "Processing files:  66%|██████▌   | 633/961 [26:57<03:27,  1.58file/s]"
          ]
        },
        {
          "output_type": "stream",
          "name": "stdout",
          "text": [
            "  Keyword not found in any section. Skipping file.\n",
            "\n",
            "Processing file: /content/med_webscraper/ted_html_pages/344382-2019.html\n",
            "  Keyword not found in any section. Skipping file.\n",
            "\n",
            "Processing file: /content/med_webscraper/ted_html_pages/120201-2016.html\n"
          ]
        },
        {
          "output_type": "stream",
          "name": "stderr",
          "text": [
            "Processing files:  66%|██████▌   | 634/961 [26:57<02:53,  1.89file/s]"
          ]
        },
        {
          "output_type": "stream",
          "name": "stdout",
          "text": [
            "  Keyword not found in any section. Skipping file.\n",
            "\n",
            "Processing file: /content/med_webscraper/ted_html_pages/642566-2023.html\n"
          ]
        },
        {
          "output_type": "stream",
          "name": "stderr",
          "text": [
            "Processing files:  66%|██████▌   | 636/961 [26:58<02:05,  2.60file/s]"
          ]
        },
        {
          "output_type": "stream",
          "name": "stdout",
          "text": [
            "  Keyword not found in any section. Skipping file.\n",
            "\n",
            "Processing file: /content/med_webscraper/ted_html_pages/47496-2017.html\n",
            "  Keyword not found in any section. Skipping file.\n",
            "\n",
            "Processing file: /content/med_webscraper/ted_html_pages/482231-2018.html\n"
          ]
        },
        {
          "output_type": "stream",
          "name": "stderr",
          "text": [
            "Processing files:  66%|██████▋   | 637/961 [26:58<01:50,  2.92file/s]"
          ]
        },
        {
          "output_type": "stream",
          "name": "stdout",
          "text": [
            "  Keyword not found in any section. Skipping file.\n",
            "\n",
            "Processing file: /content/med_webscraper/ted_html_pages/53886-2025.html\n"
          ]
        },
        {
          "output_type": "stream",
          "name": "stderr",
          "text": [
            "Processing files:  66%|██████▋   | 637/961 [26:58<01:50,  2.92file/s]"
          ]
        },
        {
          "output_type": "stream",
          "name": "stdout",
          "text": [
            "  Keyword found in section. Extracting data...\n",
            "    Making batch translation request for 36 unique strings...\n"
          ]
        },
        {
          "output_type": "stream",
          "name": "stderr",
          "text": [
            "Processing files:  66%|██████▋   | 637/961 [27:03<01:50,  2.92file/s]"
          ]
        },
        {
          "output_type": "stream",
          "name": "stdout",
          "text": [
            "    Translation complete.\n",
            "  Keyword found in section. Extracting data...\n",
            "    Making batch translation request for 42 unique strings...\n"
          ]
        },
        {
          "output_type": "stream",
          "name": "stderr",
          "text": [
            "Processing files:  66%|██████▋   | 638/961 [27:07<16:38,  3.09s/file]"
          ]
        },
        {
          "output_type": "stream",
          "name": "stdout",
          "text": [
            "    Translation complete.\n",
            "\n",
            "Processing file: /content/med_webscraper/ted_html_pages/163147-2017.html\n"
          ]
        },
        {
          "output_type": "stream",
          "name": "stderr",
          "text": [
            "Processing files:  66%|██████▋   | 639/961 [27:16<24:56,  4.65s/file]"
          ]
        },
        {
          "output_type": "stream",
          "name": "stdout",
          "text": [
            "  Keyword not found in any section. Skipping file.\n",
            "\n",
            "Processing file: /content/med_webscraper/ted_html_pages/558879-2024.html\n"
          ]
        },
        {
          "output_type": "stream",
          "name": "stderr",
          "text": [
            "Processing files:  66%|██████▋   | 639/961 [27:16<24:56,  4.65s/file]"
          ]
        },
        {
          "output_type": "stream",
          "name": "stdout",
          "text": [
            "  Keyword found in section. Extracting data...\n",
            "    Making batch translation request for 59 unique strings...\n"
          ]
        },
        {
          "output_type": "stream",
          "name": "stderr",
          "text": [
            "Processing files:  67%|██████▋   | 641/961 [27:23<20:08,  3.78s/file]"
          ]
        },
        {
          "output_type": "stream",
          "name": "stdout",
          "text": [
            "    Translation complete.\n",
            "\n",
            "Processing file: /content/med_webscraper/ted_html_pages/640849-2023.html\n",
            "  Keyword not found in any section. Skipping file.\n",
            "\n",
            "Processing file: /content/med_webscraper/ted_html_pages/495830-2020.html\n"
          ]
        },
        {
          "output_type": "stream",
          "name": "stderr",
          "text": [
            "Processing files:  67%|██████▋   | 642/961 [27:23<14:23,  2.71s/file]"
          ]
        },
        {
          "output_type": "stream",
          "name": "stdout",
          "text": [
            "  Keyword not found in any section. Skipping file.\n",
            "\n",
            "Processing file: /content/med_webscraper/ted_html_pages/478450-2019.html\n"
          ]
        },
        {
          "output_type": "stream",
          "name": "stderr",
          "text": [
            "Processing files:  67%|██████▋   | 643/961 [27:24<11:29,  2.17s/file]"
          ]
        },
        {
          "output_type": "stream",
          "name": "stdout",
          "text": [
            "  Keyword not found in any section. Skipping file.\n",
            "\n",
            "Processing file: /content/med_webscraper/ted_html_pages/132598-2024.html\n"
          ]
        },
        {
          "output_type": "stream",
          "name": "stderr",
          "text": [
            "Processing files:  67%|██████▋   | 643/961 [27:25<11:29,  2.17s/file]"
          ]
        },
        {
          "output_type": "stream",
          "name": "stdout",
          "text": [
            "  Keyword found in section. Extracting data...\n",
            "    Making batch translation request for 51 unique strings...\n"
          ]
        },
        {
          "output_type": "stream",
          "name": "stderr",
          "text": [
            "Processing files:  67%|██████▋   | 643/961 [27:33<11:29,  2.17s/file]"
          ]
        },
        {
          "output_type": "stream",
          "name": "stdout",
          "text": [
            "    Translation complete.\n",
            "  Keyword found in section. Extracting data...\n",
            "    Making batch translation request for 51 unique strings...\n"
          ]
        },
        {
          "output_type": "stream",
          "name": "stderr",
          "text": [
            "Processing files:  67%|██████▋   | 643/961 [27:40<11:29,  2.17s/file]"
          ]
        },
        {
          "output_type": "stream",
          "name": "stdout",
          "text": [
            "    Translation complete.\n",
            "  Keyword found in section. Extracting data...\n",
            "    Making batch translation request for 27 unique strings...\n"
          ]
        },
        {
          "output_type": "stream",
          "name": "stderr",
          "text": [
            "Processing files:  67%|██████▋   | 643/961 [27:44<11:29,  2.17s/file]"
          ]
        },
        {
          "output_type": "stream",
          "name": "stdout",
          "text": [
            "    Translation complete.\n",
            "  Keyword found in section. Extracting data...\n",
            "    Making batch translation request for 27 unique strings...\n"
          ]
        },
        {
          "output_type": "stream",
          "name": "stderr",
          "text": [
            "Processing files:  67%|██████▋   | 644/961 [27:48<46:49,  8.86s/file]"
          ]
        },
        {
          "output_type": "stream",
          "name": "stdout",
          "text": [
            "    Translation complete.\n",
            "\n",
            "Processing file: /content/med_webscraper/ted_html_pages/482202-2020.html\n"
          ]
        },
        {
          "output_type": "stream",
          "name": "stderr",
          "text": [
            "Processing files:  67%|██████▋   | 645/961 [27:49<33:03,  6.28s/file]"
          ]
        },
        {
          "output_type": "stream",
          "name": "stdout",
          "text": [
            "  Keyword not found in any section. Skipping file.\n",
            "\n",
            "Processing file: /content/med_webscraper/ted_html_pages/405045-2025.html\n",
            "  Keyword found in section. Extracting data...\n",
            "    Making batch translation request for 39 unique strings...\n"
          ]
        },
        {
          "output_type": "stream",
          "name": "stderr",
          "text": [
            "Processing files:  67%|██████▋   | 645/961 [27:55<33:03,  6.28s/file]"
          ]
        },
        {
          "output_type": "stream",
          "name": "stdout",
          "text": [
            "    Translation complete.\n",
            "  Keyword found in section. Extracting data...\n",
            "    Making batch translation request for 63 unique strings...\n"
          ]
        },
        {
          "output_type": "stream",
          "name": "stderr",
          "text": [
            "Processing files:  67%|██████▋   | 647/961 [28:01<30:15,  5.78s/file]"
          ]
        },
        {
          "output_type": "stream",
          "name": "stdout",
          "text": [
            "    Translation complete.\n",
            "\n",
            "Processing file: /content/med_webscraper/ted_html_pages/213020-2019.html\n",
            "  Keyword not found in any section. Skipping file.\n",
            "\n",
            "Processing file: /content/med_webscraper/ted_html_pages/613096-2019.html\n"
          ]
        },
        {
          "output_type": "stream",
          "name": "stderr",
          "text": [
            "Processing files:  67%|██████▋   | 648/961 [28:04<25:18,  4.85s/file]"
          ]
        },
        {
          "output_type": "stream",
          "name": "stdout",
          "text": [
            "  Keyword not found in any section. Skipping file.\n",
            "\n",
            "Processing file: /content/med_webscraper/ted_html_pages/419356-2019.html\n"
          ]
        },
        {
          "output_type": "stream",
          "name": "stderr",
          "text": [
            "Processing files:  68%|██████▊   | 649/961 [28:04<18:05,  3.48s/file]"
          ]
        },
        {
          "output_type": "stream",
          "name": "stdout",
          "text": [
            "  Keyword not found in any section. Skipping file.\n",
            "\n",
            "Processing file: /content/med_webscraper/ted_html_pages/90166-2019.html\n"
          ]
        },
        {
          "output_type": "stream",
          "name": "stderr",
          "text": [
            "Processing files:  68%|██████▊   | 650/961 [28:06<15:39,  3.02s/file]"
          ]
        },
        {
          "output_type": "stream",
          "name": "stdout",
          "text": [
            "  Keyword not found in any section. Skipping file.\n",
            "\n",
            "Processing file: /content/med_webscraper/ted_html_pages/575559-2019.html\n"
          ]
        },
        {
          "output_type": "stream",
          "name": "stderr",
          "text": [
            "Processing files:  68%|██████▊   | 651/961 [28:07<11:21,  2.20s/file]"
          ]
        },
        {
          "output_type": "stream",
          "name": "stdout",
          "text": [
            "  Keyword not found in any section. Skipping file.\n",
            "\n",
            "Processing file: /content/med_webscraper/ted_html_pages/371829-2016.html\n"
          ]
        },
        {
          "output_type": "stream",
          "name": "stderr",
          "text": [
            "Processing files:  68%|██████▊   | 652/961 [28:07<09:06,  1.77s/file]"
          ]
        },
        {
          "output_type": "stream",
          "name": "stdout",
          "text": [
            "  Keyword not found in any section. Skipping file.\n",
            "\n",
            "Processing file: /content/med_webscraper/ted_html_pages/282469-2023.html\n"
          ]
        },
        {
          "output_type": "stream",
          "name": "stderr",
          "text": [
            "Processing files:  68%|██████▊   | 653/961 [28:08<08:01,  1.56s/file]"
          ]
        },
        {
          "output_type": "stream",
          "name": "stdout",
          "text": [
            "  Keyword not found in any section. Skipping file.\n",
            "\n",
            "Processing file: /content/med_webscraper/ted_html_pages/177663-2019.html\n"
          ]
        },
        {
          "output_type": "stream",
          "name": "stderr",
          "text": [
            "Processing files:  68%|██████▊   | 654/961 [28:09<06:14,  1.22s/file]"
          ]
        },
        {
          "output_type": "stream",
          "name": "stdout",
          "text": [
            "  Keyword not found in any section. Skipping file.\n",
            "\n",
            "Processing file: /content/med_webscraper/ted_html_pages/68095-2024.html\n",
            "  Keyword found in section. Extracting data...\n",
            "    Making batch translation request for 63 unique strings...\n"
          ]
        },
        {
          "output_type": "stream",
          "name": "stderr",
          "text": [
            "Processing files:  68%|██████▊   | 654/961 [28:14<06:14,  1.22s/file]"
          ]
        },
        {
          "output_type": "stream",
          "name": "stdout",
          "text": [
            "    Translation complete.\n",
            "  Keyword found in section. Extracting data...\n",
            "    Making batch translation request for 31 unique strings...\n"
          ]
        },
        {
          "output_type": "stream",
          "name": "stderr",
          "text": [
            "Processing files:  68%|██████▊   | 655/961 [28:18<18:25,  3.61s/file]"
          ]
        },
        {
          "output_type": "stream",
          "name": "stdout",
          "text": [
            "    Translation complete.\n",
            "\n",
            "Processing file: /content/med_webscraper/ted_html_pages/71577-2019.html\n",
            "  Keyword not found in any section. Skipping file.\n"
          ]
        },
        {
          "output_type": "stream",
          "name": "stderr",
          "text": [
            "Processing files:  68%|██████▊   | 656/961 [28:18<13:09,  2.59s/file]"
          ]
        },
        {
          "output_type": "stream",
          "name": "stdout",
          "text": [
            "\n",
            "Processing file: /content/med_webscraper/ted_html_pages/281077-2023.html\n"
          ]
        },
        {
          "output_type": "stream",
          "name": "stderr",
          "text": [
            "Processing files:  68%|██████▊   | 657/961 [28:19<09:54,  1.96s/file]"
          ]
        },
        {
          "output_type": "stream",
          "name": "stdout",
          "text": [
            "  Keyword not found in any section. Skipping file.\n",
            "\n",
            "Processing file: /content/med_webscraper/ted_html_pages/617216-2022.html\n"
          ]
        },
        {
          "output_type": "stream",
          "name": "stderr",
          "text": [
            "Processing files:  68%|██████▊   | 658/961 [28:19<07:33,  1.50s/file]"
          ]
        },
        {
          "output_type": "stream",
          "name": "stdout",
          "text": [
            "  Keyword not found in any section. Skipping file.\n",
            "\n",
            "Processing file: /content/med_webscraper/ted_html_pages/182703-2025.html\n"
          ]
        },
        {
          "output_type": "stream",
          "name": "stderr",
          "text": [
            "Processing files:  68%|██████▊   | 658/961 [28:20<07:33,  1.50s/file]"
          ]
        },
        {
          "output_type": "stream",
          "name": "stdout",
          "text": [
            "  Keyword found in section. Extracting data...\n",
            "    Making batch translation request for 57 unique strings...\n"
          ]
        },
        {
          "output_type": "stream",
          "name": "stderr",
          "text": [
            "Processing files:  69%|██████▊   | 659/961 [28:29<20:28,  4.07s/file]"
          ]
        },
        {
          "output_type": "stream",
          "name": "stdout",
          "text": [
            "    Translation complete.\n",
            "\n",
            "Processing file: /content/med_webscraper/ted_html_pages/326530-2018.html\n"
          ]
        },
        {
          "output_type": "stream",
          "name": "stderr",
          "text": [
            "Processing files:  69%|██████▊   | 660/961 [28:29<14:41,  2.93s/file]"
          ]
        },
        {
          "output_type": "stream",
          "name": "stdout",
          "text": [
            "  Keyword not found in any section. Skipping file.\n",
            "\n",
            "Processing file: /content/med_webscraper/ted_html_pages/316383-2025.html\n"
          ]
        },
        {
          "output_type": "stream",
          "name": "stderr",
          "text": [
            "Processing files:  69%|██████▊   | 660/961 [28:30<14:41,  2.93s/file]"
          ]
        },
        {
          "output_type": "stream",
          "name": "stdout",
          "text": [
            "  Keyword found in section. Extracting data...\n",
            "    Making batch translation request for 59 unique strings...\n"
          ]
        },
        {
          "output_type": "stream",
          "name": "stderr",
          "text": [
            "Processing files:  69%|██████▉   | 661/961 [28:40<25:24,  5.08s/file]"
          ]
        },
        {
          "output_type": "stream",
          "name": "stdout",
          "text": [
            "    Translation complete.\n",
            "\n",
            "Processing file: /content/med_webscraper/ted_html_pages/720834-2024.html\n"
          ]
        },
        {
          "output_type": "stream",
          "name": "stderr",
          "text": [
            "Processing files:  69%|██████▉   | 661/961 [28:40<25:24,  5.08s/file]"
          ]
        },
        {
          "output_type": "stream",
          "name": "stdout",
          "text": [
            "  Keyword found in section. Extracting data...\n",
            "    Making batch translation request for 52 unique strings...\n"
          ]
        },
        {
          "output_type": "stream",
          "name": "stderr",
          "text": [
            "Processing files:  69%|██████▉   | 663/961 [28:48<20:55,  4.21s/file]"
          ]
        },
        {
          "output_type": "stream",
          "name": "stdout",
          "text": [
            "    Translation complete.\n",
            "\n",
            "Processing file: /content/med_webscraper/ted_html_pages/61263-2020.html\n",
            "  Keyword not found in any section. Skipping file.\n",
            "\n",
            "Processing file: /content/med_webscraper/ted_html_pages/78378-2017.html\n"
          ]
        },
        {
          "output_type": "stream",
          "name": "stderr",
          "text": [
            "Processing files:  69%|██████▉   | 664/961 [28:48<15:34,  3.15s/file]"
          ]
        },
        {
          "output_type": "stream",
          "name": "stdout",
          "text": [
            "  Keyword not found in any section. Skipping file.\n",
            "\n",
            "Processing file: /content/med_webscraper/ted_html_pages/743810-2023.html\n"
          ]
        },
        {
          "output_type": "stream",
          "name": "stderr",
          "text": [
            "Processing files:  69%|██████▉   | 666/961 [28:49<08:28,  1.72s/file]"
          ]
        },
        {
          "output_type": "stream",
          "name": "stdout",
          "text": [
            "  Keyword not found in any section. Skipping file.\n",
            "\n",
            "Processing file: /content/med_webscraper/ted_html_pages/532424-2023.html\n",
            "  Keyword not found in any section. Skipping file.\n",
            "\n",
            "Processing file: /content/med_webscraper/ted_html_pages/383967-2022.html\n"
          ]
        },
        {
          "output_type": "stream",
          "name": "stderr",
          "text": [
            "Processing files:  69%|██████▉   | 667/961 [28:49<06:09,  1.26s/file]"
          ]
        },
        {
          "output_type": "stream",
          "name": "stdout",
          "text": [
            "  Keyword not found in any section. Skipping file.\n",
            "\n",
            "Processing file: /content/med_webscraper/ted_html_pages/518476-2017.html\n"
          ]
        },
        {
          "output_type": "stream",
          "name": "stderr",
          "text": [
            "Processing files:  70%|██████▉   | 668/961 [28:50<04:48,  1.02file/s]"
          ]
        },
        {
          "output_type": "stream",
          "name": "stdout",
          "text": [
            "  Keyword not found in any section. Skipping file.\n",
            "\n",
            "Processing file: /content/med_webscraper/ted_html_pages/81579-2022.html\n"
          ]
        },
        {
          "output_type": "stream",
          "name": "stderr",
          "text": [
            "Processing files:  70%|██████▉   | 670/961 [28:50<03:12,  1.51file/s]"
          ]
        },
        {
          "output_type": "stream",
          "name": "stdout",
          "text": [
            "  Keyword not found in any section. Skipping file.\n",
            "\n",
            "Processing file: /content/med_webscraper/ted_html_pages/353758-2022.html\n",
            "  Keyword not found in any section. Skipping file.\n",
            "\n",
            "Processing file: /content/med_webscraper/ted_html_pages/502331-2021.html\n"
          ]
        },
        {
          "output_type": "stream",
          "name": "stderr",
          "text": [
            "Processing files:  70%|██████▉   | 671/961 [28:51<02:31,  1.92file/s]"
          ]
        },
        {
          "output_type": "stream",
          "name": "stdout",
          "text": [
            "  Keyword not found in any section. Skipping file.\n",
            "\n",
            "Processing file: /content/med_webscraper/ted_html_pages/584395-2022.html\n"
          ]
        },
        {
          "output_type": "stream",
          "name": "stderr",
          "text": [
            "Processing files:  70%|██████▉   | 672/961 [28:51<02:14,  2.14file/s]"
          ]
        },
        {
          "output_type": "stream",
          "name": "stdout",
          "text": [
            "  Keyword not found in any section. Skipping file.\n",
            "\n",
            "Processing file: /content/med_webscraper/ted_html_pages/491896-2018.html\n"
          ]
        },
        {
          "output_type": "stream",
          "name": "stderr",
          "text": [
            "Processing files:  70%|███████   | 673/961 [28:52<02:54,  1.65file/s]"
          ]
        },
        {
          "output_type": "stream",
          "name": "stdout",
          "text": [
            "  Keyword not found in any section. Skipping file.\n",
            "\n",
            "Processing file: /content/med_webscraper/ted_html_pages/53509-2025.html\n"
          ]
        },
        {
          "output_type": "stream",
          "name": "stderr",
          "text": [
            "Processing files:  70%|███████   | 673/961 [28:52<02:54,  1.65file/s]"
          ]
        },
        {
          "output_type": "stream",
          "name": "stdout",
          "text": [
            "  Keyword found in section. Extracting data...\n",
            "    Making batch translation request for 40 unique strings...\n"
          ]
        },
        {
          "output_type": "stream",
          "name": "stderr",
          "text": [
            "Processing files:  70%|███████   | 674/961 [28:57<08:48,  1.84s/file]"
          ]
        },
        {
          "output_type": "stream",
          "name": "stdout",
          "text": [
            "    Translation complete.\n",
            "\n",
            "Processing file: /content/med_webscraper/ted_html_pages/136801-2021.html\n"
          ]
        },
        {
          "output_type": "stream",
          "name": "stderr",
          "text": [
            "Processing files:  70%|███████   | 676/961 [28:57<05:03,  1.07s/file]"
          ]
        },
        {
          "output_type": "stream",
          "name": "stdout",
          "text": [
            "  Keyword not found in any section. Skipping file.\n",
            "\n",
            "Processing file: /content/med_webscraper/ted_html_pages/50569-2018.html\n",
            "  Keyword not found in any section. Skipping file.\n",
            "\n",
            "Processing file: /content/med_webscraper/ted_html_pages/9980-2023.html\n"
          ]
        },
        {
          "output_type": "stream",
          "name": "stderr",
          "text": [
            "Processing files:  70%|███████   | 677/961 [28:58<03:49,  1.24file/s]"
          ]
        },
        {
          "output_type": "stream",
          "name": "stdout",
          "text": [
            "  Keyword not found in any section. Skipping file.\n",
            "\n",
            "Processing file: /content/med_webscraper/ted_html_pages/69890-2024.html\n"
          ]
        },
        {
          "output_type": "stream",
          "name": "stderr",
          "text": [
            "Processing files:  71%|███████   | 679/961 [29:00<03:54,  1.20file/s]"
          ]
        },
        {
          "output_type": "stream",
          "name": "stdout",
          "text": [
            "  Keyword not found in any section. Skipping file.\n",
            "\n",
            "Processing file: /content/med_webscraper/ted_html_pages/559176-2019.html\n",
            "  Keyword not found in any section. Skipping file.\n",
            "\n",
            "Processing file: /content/med_webscraper/ted_html_pages/358902-2020.html\n"
          ]
        },
        {
          "output_type": "stream",
          "name": "stderr",
          "text": [
            "Processing files:  71%|███████   | 680/961 [29:00<03:36,  1.30file/s]"
          ]
        },
        {
          "output_type": "stream",
          "name": "stdout",
          "text": [
            "  Keyword not found in any section. Skipping file.\n",
            "\n",
            "Processing file: /content/med_webscraper/ted_html_pages/481633-2022.html\n"
          ]
        },
        {
          "output_type": "stream",
          "name": "stderr",
          "text": [
            "Processing files:  71%|███████   | 682/961 [29:02<03:36,  1.29file/s]"
          ]
        },
        {
          "output_type": "stream",
          "name": "stdout",
          "text": [
            "  Keyword not found in any section. Skipping file.\n",
            "\n",
            "Processing file: /content/med_webscraper/ted_html_pages/67213-2016.html\n",
            "  Keyword not found in any section. Skipping file.\n",
            "\n",
            "Processing file: /content/med_webscraper/ted_html_pages/429560-2020.html\n"
          ]
        },
        {
          "output_type": "stream",
          "name": "stderr",
          "text": [
            "Processing files:  71%|███████   | 683/961 [29:02<02:43,  1.70file/s]"
          ]
        },
        {
          "output_type": "stream",
          "name": "stdout",
          "text": [
            "  Keyword not found in any section. Skipping file.\n",
            "\n",
            "Processing file: /content/med_webscraper/ted_html_pages/458532-2024.html\n"
          ]
        },
        {
          "output_type": "stream",
          "name": "stderr",
          "text": [
            "Processing files:  71%|███████   | 683/961 [29:03<02:43,  1.70file/s]"
          ]
        },
        {
          "output_type": "stream",
          "name": "stdout",
          "text": [
            "  Keyword found in section. Extracting data...\n",
            "    Making batch translation request for 58 unique strings...\n"
          ]
        },
        {
          "output_type": "stream",
          "name": "stderr",
          "text": [
            "Processing files:  71%|███████   | 683/961 [29:10<02:43,  1.70file/s]"
          ]
        },
        {
          "output_type": "stream",
          "name": "stdout",
          "text": [
            "    Translation complete.\n",
            "  Keyword found in section. Extracting data...\n",
            "    Making batch translation request for 58 unique strings...\n"
          ]
        },
        {
          "output_type": "stream",
          "name": "stderr",
          "text": [
            "Processing files:  71%|███████   | 683/961 [29:17<02:43,  1.70file/s]"
          ]
        },
        {
          "output_type": "stream",
          "name": "stdout",
          "text": [
            "    Translation complete.\n",
            "  Keyword found in section. Extracting data...\n",
            "    Making batch translation request for 58 unique strings...\n"
          ]
        },
        {
          "output_type": "stream",
          "name": "stderr",
          "text": [
            "Processing files:  71%|███████▏  | 685/961 [29:25<23:09,  5.04s/file]"
          ]
        },
        {
          "output_type": "stream",
          "name": "stdout",
          "text": [
            "    Translation complete.\n",
            "\n",
            "Processing file: /content/med_webscraper/ted_html_pages/315272-2023.html\n",
            "  Keyword not found in any section. Skipping file.\n",
            "\n",
            "Processing file: /content/med_webscraper/ted_html_pages/451022-2017.html\n"
          ]
        },
        {
          "output_type": "stream",
          "name": "stderr",
          "text": [
            "Processing files:  71%|███████▏  | 686/961 [29:25<16:21,  3.57s/file]"
          ]
        },
        {
          "output_type": "stream",
          "name": "stdout",
          "text": [
            "  Keyword not found in any section. Skipping file.\n",
            "\n",
            "Processing file: /content/med_webscraper/ted_html_pages/220134-2025.html\n"
          ]
        },
        {
          "output_type": "stream",
          "name": "stderr",
          "text": [
            "Processing files:  71%|███████▏  | 686/961 [29:26<16:21,  3.57s/file]"
          ]
        },
        {
          "output_type": "stream",
          "name": "stdout",
          "text": [
            "  Keyword found in section. Extracting data...\n",
            "    Making batch translation request for 55 unique strings...\n"
          ]
        },
        {
          "output_type": "stream",
          "name": "stderr",
          "text": [
            "Processing files:  71%|███████▏  | 687/961 [29:33<21:54,  4.80s/file]"
          ]
        },
        {
          "output_type": "stream",
          "name": "stdout",
          "text": [
            "    Translation complete.\n",
            "\n",
            "Processing file: /content/med_webscraper/ted_html_pages/69580-2018.html\n"
          ]
        },
        {
          "output_type": "stream",
          "name": "stderr",
          "text": [
            "Processing files:  72%|███████▏  | 688/961 [29:34<17:05,  3.76s/file]"
          ]
        },
        {
          "output_type": "stream",
          "name": "stdout",
          "text": [
            "  Keyword not found in any section. Skipping file.\n",
            "\n",
            "Processing file: /content/med_webscraper/ted_html_pages/435116-2023.html\n"
          ]
        },
        {
          "output_type": "stream",
          "name": "stderr",
          "text": [
            "Processing files:  72%|███████▏  | 689/961 [29:34<12:31,  2.76s/file]"
          ]
        },
        {
          "output_type": "stream",
          "name": "stdout",
          "text": [
            "  Keyword not found in any section. Skipping file.\n",
            "\n",
            "Processing file: /content/med_webscraper/ted_html_pages/451334-2024.html\n"
          ]
        },
        {
          "output_type": "stream",
          "name": "stderr",
          "text": [
            "Processing files:  72%|███████▏  | 689/961 [29:35<12:31,  2.76s/file]"
          ]
        },
        {
          "output_type": "stream",
          "name": "stdout",
          "text": [
            "  Keyword found in section. Extracting data...\n",
            "    Making batch translation request for 48 unique strings...\n"
          ]
        },
        {
          "output_type": "stream",
          "name": "stderr",
          "text": [
            "Processing files:  72%|███████▏  | 690/961 [29:44<21:55,  4.85s/file]"
          ]
        },
        {
          "output_type": "stream",
          "name": "stdout",
          "text": [
            "    Translation complete.\n",
            "\n",
            "Processing file: /content/med_webscraper/ted_html_pages/426493-2025.html\n"
          ]
        },
        {
          "output_type": "stream",
          "name": "stderr",
          "text": [
            "Processing files:  72%|███████▏  | 690/961 [29:44<21:55,  4.85s/file]"
          ]
        },
        {
          "output_type": "stream",
          "name": "stdout",
          "text": [
            "  Keyword found in section. Extracting data...\n",
            "    Making batch translation request for 63 unique strings...\n"
          ]
        },
        {
          "output_type": "stream",
          "name": "stderr",
          "text": [
            "Processing files:  72%|███████▏  | 692/961 [29:50<16:26,  3.67s/file]"
          ]
        },
        {
          "output_type": "stream",
          "name": "stdout",
          "text": [
            "    Translation complete.\n",
            "\n",
            "Processing file: /content/med_webscraper/ted_html_pages/305283-2021.html\n",
            "  Keyword not found in any section. Skipping file.\n",
            "\n",
            "Processing file: /content/med_webscraper/ted_html_pages/54345-2023.html\n"
          ]
        },
        {
          "output_type": "stream",
          "name": "stderr",
          "text": [
            "Processing files:  72%|███████▏  | 693/961 [29:50<11:42,  2.62s/file]"
          ]
        },
        {
          "output_type": "stream",
          "name": "stdout",
          "text": [
            "  Keyword not found in any section. Skipping file.\n",
            "\n",
            "Processing file: /content/med_webscraper/ted_html_pages/196831-2021.html\n"
          ]
        },
        {
          "output_type": "stream",
          "name": "stderr",
          "text": [
            "Processing files:  72%|███████▏  | 694/961 [29:51<08:55,  2.01s/file]"
          ]
        },
        {
          "output_type": "stream",
          "name": "stdout",
          "text": [
            "  Keyword not found in any section. Skipping file.\n",
            "\n",
            "Processing file: /content/med_webscraper/ted_html_pages/259145-2020.html\n"
          ]
        },
        {
          "output_type": "stream",
          "name": "stderr",
          "text": [
            "Processing files:  72%|███████▏  | 696/961 [29:51<04:55,  1.12s/file]"
          ]
        },
        {
          "output_type": "stream",
          "name": "stdout",
          "text": [
            "  Keyword not found in any section. Skipping file.\n",
            "\n",
            "Processing file: /content/med_webscraper/ted_html_pages/496419-2019.html\n",
            "  Keyword not found in any section. Skipping file.\n",
            "\n",
            "Processing file: /content/med_webscraper/ted_html_pages/133207-2021.html\n"
          ]
        },
        {
          "output_type": "stream",
          "name": "stderr",
          "text": [
            "Processing files:  73%|███████▎  | 697/961 [29:52<03:38,  1.21file/s]"
          ]
        },
        {
          "output_type": "stream",
          "name": "stdout",
          "text": [
            "  Keyword not found in any section. Skipping file.\n",
            "\n",
            "Processing file: /content/med_webscraper/ted_html_pages/661441-2021.html\n"
          ]
        },
        {
          "output_type": "stream",
          "name": "stderr",
          "text": [
            "Processing files:  73%|███████▎  | 699/961 [29:52<02:18,  1.89file/s]"
          ]
        },
        {
          "output_type": "stream",
          "name": "stdout",
          "text": [
            "  Keyword not found in any section. Skipping file.\n",
            "\n",
            "Processing file: /content/med_webscraper/ted_html_pages/154352-2021.html\n",
            "  Keyword not found in any section. Skipping file.\n",
            "\n",
            "Processing file: /content/med_webscraper/ted_html_pages/247904-2018.html\n"
          ]
        },
        {
          "output_type": "stream",
          "name": "stderr",
          "text": [
            "Processing files:  73%|███████▎  | 700/961 [29:53<02:12,  1.96file/s]"
          ]
        },
        {
          "output_type": "stream",
          "name": "stdout",
          "text": [
            "  Keyword not found in any section. Skipping file.\n",
            "\n",
            "Processing file: /content/med_webscraper/ted_html_pages/375792-2023.html\n"
          ]
        },
        {
          "output_type": "stream",
          "name": "stderr",
          "text": [
            "Processing files:  73%|███████▎  | 701/961 [29:53<02:33,  1.70file/s]"
          ]
        },
        {
          "output_type": "stream",
          "name": "stdout",
          "text": [
            "  Keyword not found in any section. Skipping file.\n",
            "\n",
            "Processing file: /content/med_webscraper/ted_html_pages/517297-2020.html\n"
          ]
        },
        {
          "output_type": "stream",
          "name": "stderr",
          "text": [
            "Processing files:  73%|███████▎  | 702/961 [29:54<03:03,  1.41file/s]"
          ]
        },
        {
          "output_type": "stream",
          "name": "stdout",
          "text": [
            "  Keyword not found in any section. Skipping file.\n",
            "\n",
            "Processing file: /content/med_webscraper/ted_html_pages/2991-2019.html\n"
          ]
        },
        {
          "output_type": "stream",
          "name": "stderr",
          "text": [
            "Processing files:  73%|███████▎  | 703/961 [29:55<03:25,  1.26file/s]"
          ]
        },
        {
          "output_type": "stream",
          "name": "stdout",
          "text": [
            "  Keyword not found in any section. Skipping file.\n",
            "\n",
            "Processing file: /content/med_webscraper/ted_html_pages/307582-2022.html\n"
          ]
        },
        {
          "output_type": "stream",
          "name": "stderr",
          "text": [
            "Processing files:  73%|███████▎  | 704/961 [29:56<03:52,  1.10file/s]"
          ]
        },
        {
          "output_type": "stream",
          "name": "stdout",
          "text": [
            "  Keyword not found in any section. Skipping file.\n",
            "\n",
            "Processing file: /content/med_webscraper/ted_html_pages/146747-2023.html\n"
          ]
        },
        {
          "output_type": "stream",
          "name": "stderr",
          "text": [
            "Processing files:  73%|███████▎  | 706/961 [29:59<04:34,  1.08s/file]"
          ]
        },
        {
          "output_type": "stream",
          "name": "stdout",
          "text": [
            "  Keyword not found in any section. Skipping file.\n",
            "\n",
            "Processing file: /content/med_webscraper/ted_html_pages/458968-2018.html\n",
            "  Keyword not found in any section. Skipping file.\n",
            "\n",
            "Processing file: /content/med_webscraper/ted_html_pages/194996-2022.html\n"
          ]
        },
        {
          "output_type": "stream",
          "name": "stderr",
          "text": [
            "Processing files:  74%|███████▎  | 707/961 [30:00<03:34,  1.18file/s]"
          ]
        },
        {
          "output_type": "stream",
          "name": "stdout",
          "text": [
            "  Keyword not found in any section. Skipping file.\n",
            "\n",
            "Processing file: /content/med_webscraper/ted_html_pages/214122-2023.html\n"
          ]
        },
        {
          "output_type": "stream",
          "name": "stderr",
          "text": [
            "Processing files:  74%|███████▍  | 709/961 [30:00<02:08,  1.96file/s]"
          ]
        },
        {
          "output_type": "stream",
          "name": "stdout",
          "text": [
            "  Keyword not found in any section. Skipping file.\n",
            "\n",
            "Processing file: /content/med_webscraper/ted_html_pages/200000-2019.html\n",
            "  Keyword not found in any section. Skipping file.\n",
            "\n",
            "Processing file: /content/med_webscraper/ted_html_pages/640842-2023.html\n"
          ]
        },
        {
          "output_type": "stream",
          "name": "stderr",
          "text": [
            "Processing files:  74%|███████▍  | 710/961 [30:00<01:39,  2.52file/s]"
          ]
        },
        {
          "output_type": "stream",
          "name": "stdout",
          "text": [
            "  Keyword not found in any section. Skipping file.\n",
            "\n",
            "Processing file: /content/med_webscraper/ted_html_pages/324167-2024.html\n"
          ]
        },
        {
          "output_type": "stream",
          "name": "stderr",
          "text": [
            "Processing files:  74%|███████▍  | 710/961 [30:01<01:39,  2.52file/s]"
          ]
        },
        {
          "output_type": "stream",
          "name": "stdout",
          "text": [
            "  Keyword found in section. Extracting data...\n",
            "    Making batch translation request for 36 unique strings...\n"
          ]
        },
        {
          "output_type": "stream",
          "name": "stderr",
          "text": [
            "Processing files:  74%|███████▍  | 710/961 [30:07<01:39,  2.52file/s]"
          ]
        },
        {
          "output_type": "stream",
          "name": "stdout",
          "text": [
            "    Translation complete.\n",
            "  Keyword found in section. Extracting data...\n",
            "    Making batch translation request for 59 unique strings...\n"
          ]
        },
        {
          "output_type": "stream",
          "name": "stderr",
          "text": [
            "Processing files:  74%|███████▍  | 711/961 [30:12<15:53,  3.81s/file]"
          ]
        },
        {
          "output_type": "stream",
          "name": "stdout",
          "text": [
            "    Translation complete.\n",
            "\n",
            "Processing file: /content/med_webscraper/ted_html_pages/225149-2023.html\n"
          ]
        },
        {
          "output_type": "stream",
          "name": "stderr",
          "text": [
            "Processing files:  74%|███████▍  | 712/961 [30:12<11:20,  2.73s/file]"
          ]
        },
        {
          "output_type": "stream",
          "name": "stdout",
          "text": [
            "  Keyword not found in any section. Skipping file.\n",
            "\n",
            "Processing file: /content/med_webscraper/ted_html_pages/14372-2025.html\n",
            "  Keyword found in section. Extracting data...\n",
            "    Making batch translation request for 33 unique strings...\n"
          ]
        },
        {
          "output_type": "stream",
          "name": "stderr",
          "text": [
            "Processing files:  74%|███████▍  | 712/961 [30:20<11:20,  2.73s/file]"
          ]
        },
        {
          "output_type": "stream",
          "name": "stdout",
          "text": [
            "    Translation complete.\n",
            "  Keyword found in section. Extracting data...\n",
            "    Making batch translation request for 35 unique strings...\n"
          ]
        },
        {
          "output_type": "stream",
          "name": "stderr",
          "text": [
            "Processing files:  74%|███████▍  | 713/961 [30:23<21:36,  5.23s/file]"
          ]
        },
        {
          "output_type": "stream",
          "name": "stdout",
          "text": [
            "    Translation complete.\n",
            "\n",
            "Processing file: /content/med_webscraper/ted_html_pages/374511-2018.html\n"
          ]
        },
        {
          "output_type": "stream",
          "name": "stderr",
          "text": [
            "Processing files:  74%|███████▍  | 714/961 [30:25<16:51,  4.09s/file]"
          ]
        },
        {
          "output_type": "stream",
          "name": "stdout",
          "text": [
            "  Keyword not found in any section. Skipping file.\n",
            "\n",
            "Processing file: /content/med_webscraper/ted_html_pages/72472-2016.html\n"
          ]
        },
        {
          "output_type": "stream",
          "name": "stderr",
          "text": [
            "Processing files:  74%|███████▍  | 715/961 [30:25<12:11,  2.98s/file]"
          ]
        },
        {
          "output_type": "stream",
          "name": "stdout",
          "text": [
            "  Keyword not found in any section. Skipping file.\n",
            "\n",
            "Processing file: /content/med_webscraper/ted_html_pages/320312-2025.html\n"
          ]
        },
        {
          "output_type": "stream",
          "name": "stderr",
          "text": [
            "Processing files:  74%|███████▍  | 715/961 [30:25<12:11,  2.98s/file]"
          ]
        },
        {
          "output_type": "stream",
          "name": "stdout",
          "text": [
            "  Keyword found in section. Extracting data...\n",
            "    Making batch translation request for 32 unique strings...\n"
          ]
        },
        {
          "output_type": "stream",
          "name": "stderr",
          "text": [
            "Processing files:  75%|███████▍  | 717/961 [30:30<10:17,  2.53s/file]"
          ]
        },
        {
          "output_type": "stream",
          "name": "stdout",
          "text": [
            "    Translation complete.\n",
            "\n",
            "Processing file: /content/med_webscraper/ted_html_pages/515728-2019.html\n",
            "  Keyword not found in any section. Skipping file.\n",
            "\n",
            "Processing file: /content/med_webscraper/ted_html_pages/480772-2025.html\n"
          ]
        },
        {
          "output_type": "stream",
          "name": "stderr",
          "text": [
            "Processing files:  75%|███████▍  | 717/961 [30:31<10:17,  2.53s/file]"
          ]
        },
        {
          "output_type": "stream",
          "name": "stdout",
          "text": [
            "  Keyword found in section. Extracting data...\n",
            "    Making batch translation request for 42 unique strings...\n"
          ]
        },
        {
          "output_type": "stream",
          "name": "stderr",
          "text": [
            "Processing files:  75%|███████▍  | 717/961 [30:40<10:17,  2.53s/file]"
          ]
        },
        {
          "output_type": "stream",
          "name": "stdout",
          "text": [
            "    Translation complete.\n",
            "  Keyword found in section. Extracting data...\n",
            "    Making batch translation request for 56 unique strings...\n"
          ]
        },
        {
          "output_type": "stream",
          "name": "stderr",
          "text": [
            "Processing files:  75%|███████▍  | 717/961 [30:50<10:17,  2.53s/file]"
          ]
        },
        {
          "output_type": "stream",
          "name": "stdout",
          "text": [
            "    Translation complete.\n",
            "  Keyword found in section. Extracting data...\n",
            "    Making batch translation request for 29 unique strings...\n"
          ]
        },
        {
          "output_type": "stream",
          "name": "stderr",
          "text": [
            "Processing files:  75%|███████▍  | 718/961 [30:56<37:56,  9.37s/file]"
          ]
        },
        {
          "output_type": "stream",
          "name": "stdout",
          "text": [
            "    Translation complete.\n",
            "\n",
            "Processing file: /content/med_webscraper/ted_html_pages/9092-2019.html\n"
          ]
        },
        {
          "output_type": "stream",
          "name": "stderr",
          "text": [
            "Processing files:  75%|███████▍  | 720/961 [30:56<18:59,  4.73s/file]"
          ]
        },
        {
          "output_type": "stream",
          "name": "stdout",
          "text": [
            "  Keyword not found in any section. Skipping file.\n",
            "\n",
            "Processing file: /content/med_webscraper/ted_html_pages/282216-2019.html\n",
            "  Keyword not found in any section. Skipping file.\n",
            "\n",
            "Processing file: /content/med_webscraper/ted_html_pages/624215-2020.html\n"
          ]
        },
        {
          "output_type": "stream",
          "name": "stderr",
          "text": [
            "Processing files:  75%|███████▌  | 722/961 [30:56<09:35,  2.41s/file]"
          ]
        },
        {
          "output_type": "stream",
          "name": "stdout",
          "text": [
            "  Keyword not found in any section. Skipping file.\n",
            "\n",
            "Processing file: /content/med_webscraper/ted_html_pages/492070-2020.html\n",
            "  Keyword not found in any section. Skipping file.\n",
            "\n",
            "Processing file: /content/med_webscraper/ted_html_pages/343502-2025.html\n"
          ]
        },
        {
          "output_type": "stream",
          "name": "stderr",
          "text": [
            "Processing files:  75%|███████▌  | 722/961 [30:57<09:35,  2.41s/file]"
          ]
        },
        {
          "output_type": "stream",
          "name": "stdout",
          "text": [
            "  Keyword found in section. Extracting data...\n",
            "    Making batch translation request for 56 unique strings...\n"
          ]
        },
        {
          "output_type": "stream",
          "name": "stderr",
          "text": [
            "Processing files:  75%|███████▌  | 722/961 [31:04<09:35,  2.41s/file]"
          ]
        },
        {
          "output_type": "stream",
          "name": "stdout",
          "text": [
            "    Translation complete.\n",
            "  Keyword found in section. Extracting data...\n",
            "    Making batch translation request for 36 unique strings...\n"
          ]
        },
        {
          "output_type": "stream",
          "name": "stderr",
          "text": [
            "Processing files:  75%|███████▌  | 724/961 [31:09<15:21,  3.89s/file]"
          ]
        },
        {
          "output_type": "stream",
          "name": "stdout",
          "text": [
            "    Translation complete.\n",
            "\n",
            "Processing file: /content/med_webscraper/ted_html_pages/111820-2018.html\n",
            "  Keyword not found in any section. Skipping file.\n",
            "\n",
            "Processing file: /content/med_webscraper/ted_html_pages/483915-2023.html\n"
          ]
        },
        {
          "output_type": "stream",
          "name": "stderr",
          "text": [
            "Processing files:  76%|███████▌  | 726/961 [31:23<18:28,  4.72s/file]"
          ]
        },
        {
          "output_type": "stream",
          "name": "stdout",
          "text": [
            "  Keyword not found in any section. Skipping file.\n",
            "\n",
            "Processing file: /content/med_webscraper/ted_html_pages/159107-2020.html\n",
            "  Keyword not found in any section. Skipping file.\n",
            "\n",
            "Processing file: /content/med_webscraper/ted_html_pages/89719-2024.html\n"
          ]
        },
        {
          "output_type": "stream",
          "name": "stderr",
          "text": [
            "Processing files:  76%|███████▌  | 726/961 [31:23<18:28,  4.72s/file]"
          ]
        },
        {
          "output_type": "stream",
          "name": "stdout",
          "text": [
            "  Keyword found in section. Extracting data...\n",
            "    Making batch translation request for 61 unique strings...\n"
          ]
        },
        {
          "output_type": "stream",
          "name": "stderr",
          "text": [
            "Processing files:  76%|███████▌  | 728/961 [31:35<18:54,  4.87s/file]"
          ]
        },
        {
          "output_type": "stream",
          "name": "stdout",
          "text": [
            "    Translation complete.\n",
            "\n",
            "Processing file: /content/med_webscraper/ted_html_pages/585242-2023.html\n",
            "  Keyword not found in any section. Skipping file.\n"
          ]
        },
        {
          "output_type": "stream",
          "name": "stderr",
          "text": [
            "Processing files:  76%|███████▌  | 728/961 [31:35<18:54,  4.87s/file]"
          ]
        },
        {
          "output_type": "stream",
          "name": "stdout",
          "text": [
            "\n",
            "Processing file: /content/med_webscraper/ted_html_pages/237182-2023.html\n"
          ]
        },
        {
          "output_type": "stream",
          "name": "stderr",
          "text": [
            "Processing files:  76%|███████▌  | 729/961 [31:37<16:25,  4.25s/file]"
          ]
        },
        {
          "output_type": "stream",
          "name": "stdout",
          "text": [
            "  Keyword not found in any section. Skipping file.\n",
            "\n",
            "Processing file: /content/med_webscraper/ted_html_pages/252584-2024.html\n"
          ]
        },
        {
          "output_type": "stream",
          "name": "stderr",
          "text": [
            "Processing files:  76%|███████▌  | 729/961 [31:38<16:25,  4.25s/file]"
          ]
        },
        {
          "output_type": "stream",
          "name": "stdout",
          "text": [
            "  Keyword found in section. Extracting data...\n",
            "    Making batch translation request for 43 unique strings...\n"
          ]
        },
        {
          "output_type": "stream",
          "name": "stderr",
          "text": [
            "Processing files:  76%|███████▌  | 730/961 [31:45<20:09,  5.24s/file]"
          ]
        },
        {
          "output_type": "stream",
          "name": "stdout",
          "text": [
            "    Translation complete.\n",
            "\n",
            "Processing file: /content/med_webscraper/ted_html_pages/259206-2022.html\n"
          ]
        },
        {
          "output_type": "stream",
          "name": "stderr",
          "text": [
            "Processing files:  76%|███████▌  | 731/961 [31:45<14:19,  3.74s/file]"
          ]
        },
        {
          "output_type": "stream",
          "name": "stdout",
          "text": [
            "  Keyword not found in any section. Skipping file.\n",
            "\n",
            "Processing file: /content/med_webscraper/ted_html_pages/334627-2020.html\n"
          ]
        },
        {
          "output_type": "stream",
          "name": "stderr",
          "text": [
            "Processing files:  76%|███████▌  | 732/961 [31:47<12:05,  3.17s/file]"
          ]
        },
        {
          "output_type": "stream",
          "name": "stdout",
          "text": [
            "  Keyword not found in any section. Skipping file.\n",
            "\n",
            "Processing file: /content/med_webscraper/ted_html_pages/205823-2019.html\n"
          ]
        },
        {
          "output_type": "stream",
          "name": "stderr",
          "text": [
            "Processing files:  76%|███████▋  | 734/961 [31:48<06:32,  1.73s/file]"
          ]
        },
        {
          "output_type": "stream",
          "name": "stdout",
          "text": [
            "  Keyword not found in any section. Skipping file.\n",
            "\n",
            "Processing file: /content/med_webscraper/ted_html_pages/274792-2019.html\n",
            "  Keyword not found in any section. Skipping file.\n",
            "\n",
            "Processing file: /content/med_webscraper/ted_html_pages/115236-2021.html\n"
          ]
        },
        {
          "output_type": "stream",
          "name": "stderr",
          "text": [
            "Processing files:  77%|███████▋  | 736/961 [31:50<04:33,  1.21s/file]"
          ]
        },
        {
          "output_type": "stream",
          "name": "stdout",
          "text": [
            "  Keyword not found in any section. Skipping file.\n",
            "\n",
            "Processing file: /content/med_webscraper/ted_html_pages/165097-2021.html\n",
            "  Keyword not found in any section. Skipping file.\n",
            "\n",
            "Processing file: /content/med_webscraper/ted_html_pages/132389-2020.html\n"
          ]
        },
        {
          "output_type": "stream",
          "name": "stderr",
          "text": [
            "Processing files:  77%|███████▋  | 737/961 [31:50<03:22,  1.10file/s]"
          ]
        },
        {
          "output_type": "stream",
          "name": "stdout",
          "text": [
            "  Keyword not found in any section. Skipping file.\n",
            "\n",
            "Processing file: /content/med_webscraper/ted_html_pages/200401-2022.html\n"
          ]
        },
        {
          "output_type": "stream",
          "name": "stderr",
          "text": [
            "Processing files:  77%|███████▋  | 739/961 [31:54<05:21,  1.45s/file]"
          ]
        },
        {
          "output_type": "stream",
          "name": "stdout",
          "text": [
            "  Keyword not found in any section. Skipping file.\n",
            "\n",
            "Processing file: /content/med_webscraper/ted_html_pages/240914-2022.html\n",
            "  Keyword not found in any section. Skipping file.\n",
            "\n",
            "Processing file: /content/med_webscraper/ted_html_pages/77596-2017.html\n"
          ]
        },
        {
          "output_type": "stream",
          "name": "stderr",
          "text": [
            "Processing files:  77%|███████▋  | 740/961 [31:55<03:56,  1.07s/file]"
          ]
        },
        {
          "output_type": "stream",
          "name": "stdout",
          "text": [
            "  Keyword not found in any section. Skipping file.\n",
            "\n",
            "Processing file: /content/med_webscraper/ted_html_pages/527591-2023.html\n"
          ]
        },
        {
          "output_type": "stream",
          "name": "stderr",
          "text": [
            "Processing files:  77%|███████▋  | 742/961 [31:55<02:29,  1.46file/s]"
          ]
        },
        {
          "output_type": "stream",
          "name": "stdout",
          "text": [
            "  Keyword not found in any section. Skipping file.\n",
            "\n",
            "Processing file: /content/med_webscraper/ted_html_pages/224874-2021.html\n",
            "  Keyword not found in any section. Skipping file.\n",
            "\n",
            "Processing file: /content/med_webscraper/ted_html_pages/250107-2018.html\n"
          ]
        },
        {
          "output_type": "stream",
          "name": "stderr",
          "text": [
            "Processing files:  77%|███████▋  | 743/961 [31:57<03:07,  1.16file/s]"
          ]
        },
        {
          "output_type": "stream",
          "name": "stdout",
          "text": [
            "  Keyword not found in any section. Skipping file.\n",
            "\n",
            "Processing file: /content/med_webscraper/ted_html_pages/372126-2019.html\n"
          ]
        },
        {
          "output_type": "stream",
          "name": "stderr",
          "text": [
            "Processing files:  77%|███████▋  | 744/961 [31:57<02:26,  1.48file/s]"
          ]
        },
        {
          "output_type": "stream",
          "name": "stdout",
          "text": [
            "  Keyword not found in any section. Skipping file.\n",
            "\n",
            "Processing file: /content/med_webscraper/ted_html_pages/134602-2018.html\n"
          ]
        },
        {
          "output_type": "stream",
          "name": "stderr",
          "text": [
            "Processing files:  78%|███████▊  | 746/961 [31:58<02:14,  1.59file/s]"
          ]
        },
        {
          "output_type": "stream",
          "name": "stdout",
          "text": [
            "  Keyword not found in any section. Skipping file.\n",
            "\n",
            "Processing file: /content/med_webscraper/ted_html_pages/150631-2016.html\n",
            "  Keyword not found in any section. Skipping file.\n",
            "\n",
            "Processing file: /content/med_webscraper/ted_html_pages/69761-2018.html\n"
          ]
        },
        {
          "output_type": "stream",
          "name": "stderr",
          "text": [
            "Processing files:  78%|███████▊  | 747/961 [32:02<05:46,  1.62s/file]"
          ]
        },
        {
          "output_type": "stream",
          "name": "stdout",
          "text": [
            "  Keyword not found in any section. Skipping file.\n",
            "\n",
            "Processing file: /content/med_webscraper/ted_html_pages/175190-2019.html\n"
          ]
        },
        {
          "output_type": "stream",
          "name": "stderr",
          "text": [
            "Processing files:  78%|███████▊  | 749/961 [32:03<03:17,  1.07file/s]"
          ]
        },
        {
          "output_type": "stream",
          "name": "stdout",
          "text": [
            "  Keyword not found in any section. Skipping file.\n",
            "\n",
            "Processing file: /content/med_webscraper/ted_html_pages/279192-2018.html\n",
            "  Keyword not found in any section. Skipping file.\n",
            "\n",
            "Processing file: /content/med_webscraper/ted_html_pages/393297-2017.html\n"
          ]
        },
        {
          "output_type": "stream",
          "name": "stderr",
          "text": [
            "Processing files:  78%|███████▊  | 750/961 [32:03<02:26,  1.44file/s]"
          ]
        },
        {
          "output_type": "stream",
          "name": "stdout",
          "text": [
            "  Keyword not found in any section. Skipping file.\n",
            "\n",
            "Processing file: /content/med_webscraper/ted_html_pages/316978-2025.html\n"
          ]
        },
        {
          "output_type": "stream",
          "name": "stderr",
          "text": [
            "Processing files:  78%|███████▊  | 750/961 [32:03<02:26,  1.44file/s]"
          ]
        },
        {
          "output_type": "stream",
          "name": "stdout",
          "text": [
            "  Keyword found in section. Extracting data...\n",
            "    Making batch translation request for 59 unique strings...\n"
          ]
        },
        {
          "output_type": "stream",
          "name": "stderr",
          "text": [
            "Processing files:  78%|███████▊  | 751/961 [32:10<09:08,  2.61s/file]"
          ]
        },
        {
          "output_type": "stream",
          "name": "stdout",
          "text": [
            "    Translation complete.\n",
            "\n",
            "Processing file: /content/med_webscraper/ted_html_pages/339102-2022.html\n"
          ]
        },
        {
          "output_type": "stream",
          "name": "stderr",
          "text": [
            "Processing files:  78%|███████▊  | 752/961 [32:10<06:36,  1.90s/file]"
          ]
        },
        {
          "output_type": "stream",
          "name": "stdout",
          "text": [
            "  Keyword not found in any section. Skipping file.\n",
            "\n",
            "Processing file: /content/med_webscraper/ted_html_pages/621554-2021.html\n"
          ]
        },
        {
          "output_type": "stream",
          "name": "stderr",
          "text": [
            "Processing files:  78%|███████▊  | 753/961 [32:23<18:18,  5.28s/file]"
          ]
        },
        {
          "output_type": "stream",
          "name": "stdout",
          "text": [
            "  Keyword not found in any section. Skipping file.\n",
            "\n",
            "Processing file: /content/med_webscraper/ted_html_pages/54085-2025.html\n"
          ]
        },
        {
          "output_type": "stream",
          "name": "stderr",
          "text": [
            "Processing files:  78%|███████▊  | 753/961 [32:24<18:18,  5.28s/file]"
          ]
        },
        {
          "output_type": "stream",
          "name": "stdout",
          "text": [
            "  Keyword found in section. Extracting data...\n",
            "    Making batch translation request for 39 unique strings...\n"
          ]
        },
        {
          "output_type": "stream",
          "name": "stderr",
          "text": [
            "Processing files:  78%|███████▊  | 753/961 [32:29<18:18,  5.28s/file]"
          ]
        },
        {
          "output_type": "stream",
          "name": "stdout",
          "text": [
            "    Translation complete.\n",
            "  Keyword found in section. Extracting data...\n",
            "    Making batch translation request for 43 unique strings...\n"
          ]
        },
        {
          "output_type": "stream",
          "name": "stderr",
          "text": [
            "Processing files:  78%|███████▊  | 754/961 [32:33<22:53,  6.63s/file]"
          ]
        },
        {
          "output_type": "stream",
          "name": "stdout",
          "text": [
            "    Translation complete.\n",
            "\n",
            "Processing file: /content/med_webscraper/ted_html_pages/396674-2016.html\n"
          ]
        },
        {
          "output_type": "stream",
          "name": "stderr",
          "text": [
            "Processing files:  79%|███████▊  | 755/961 [32:33<16:16,  4.74s/file]"
          ]
        },
        {
          "output_type": "stream",
          "name": "stdout",
          "text": [
            "  Keyword not found in any section. Skipping file.\n",
            "\n",
            "Processing file: /content/med_webscraper/ted_html_pages/624210-2020.html\n"
          ]
        },
        {
          "output_type": "stream",
          "name": "stderr",
          "text": [
            "Processing files:  79%|███████▉  | 757/961 [32:34<08:15,  2.43s/file]"
          ]
        },
        {
          "output_type": "stream",
          "name": "stdout",
          "text": [
            "  Keyword not found in any section. Skipping file.\n",
            "\n",
            "Processing file: /content/med_webscraper/ted_html_pages/24346-2024.html\n",
            "  Keyword not found in any section. Skipping file.\n",
            "\n",
            "Processing file: /content/med_webscraper/ted_html_pages/88183-2022.html\n"
          ]
        },
        {
          "output_type": "stream",
          "name": "stderr",
          "text": [
            "Processing files:  79%|███████▉  | 758/961 [32:34<06:01,  1.78s/file]"
          ]
        },
        {
          "output_type": "stream",
          "name": "stdout",
          "text": [
            "  Keyword not found in any section. Skipping file.\n",
            "\n",
            "Processing file: /content/med_webscraper/ted_html_pages/177661-2019.html\n"
          ]
        },
        {
          "output_type": "stream",
          "name": "stderr",
          "text": [
            "Processing files:  79%|███████▉  | 759/961 [32:35<04:43,  1.40s/file]"
          ]
        },
        {
          "output_type": "stream",
          "name": "stdout",
          "text": [
            "  Keyword not found in any section. Skipping file.\n",
            "\n",
            "Processing file: /content/med_webscraper/ted_html_pages/257041-2018.html\n"
          ]
        },
        {
          "output_type": "stream",
          "name": "stderr",
          "text": [
            "Processing files:  79%|███████▉  | 760/961 [32:38<06:20,  1.89s/file]"
          ]
        },
        {
          "output_type": "stream",
          "name": "stdout",
          "text": [
            "  Keyword not found in any section. Skipping file.\n",
            "\n",
            "Processing file: /content/med_webscraper/ted_html_pages/90070-2019.html\n"
          ]
        },
        {
          "output_type": "stream",
          "name": "stderr",
          "text": [
            "Processing files:  79%|███████▉  | 761/961 [32:38<05:01,  1.51s/file]"
          ]
        },
        {
          "output_type": "stream",
          "name": "stdout",
          "text": [
            "  Keyword not found in any section. Skipping file.\n",
            "\n",
            "Processing file: /content/med_webscraper/ted_html_pages/456837-2017.html\n"
          ]
        },
        {
          "output_type": "stream",
          "name": "stderr",
          "text": [
            "Processing files:  79%|███████▉  | 762/961 [32:39<03:55,  1.19s/file]"
          ]
        },
        {
          "output_type": "stream",
          "name": "stdout",
          "text": [
            "  Keyword not found in any section. Skipping file.\n",
            "\n",
            "Processing file: /content/med_webscraper/ted_html_pages/74743-2020.html\n"
          ]
        },
        {
          "output_type": "stream",
          "name": "stderr",
          "text": [
            "Processing files:  79%|███████▉  | 763/961 [32:39<03:14,  1.02file/s]"
          ]
        },
        {
          "output_type": "stream",
          "name": "stdout",
          "text": [
            "  Keyword not found in any section. Skipping file.\n",
            "\n",
            "Processing file: /content/med_webscraper/ted_html_pages/660900-2022.html\n"
          ]
        },
        {
          "output_type": "stream",
          "name": "stderr",
          "text": [
            "Processing files:  80%|███████▉  | 765/961 [32:40<01:52,  1.74file/s]"
          ]
        },
        {
          "output_type": "stream",
          "name": "stdout",
          "text": [
            "  Keyword not found in any section. Skipping file.\n",
            "\n",
            "Processing file: /content/med_webscraper/ted_html_pages/106728-2017.html\n",
            "  Keyword not found in any section. Skipping file.\n",
            "\n",
            "Processing file: /content/med_webscraper/ted_html_pages/403852-2017.html\n"
          ]
        },
        {
          "output_type": "stream",
          "name": "stderr",
          "text": [
            "Processing files:  80%|███████▉  | 767/961 [32:40<01:12,  2.68file/s]"
          ]
        },
        {
          "output_type": "stream",
          "name": "stdout",
          "text": [
            "  Keyword not found in any section. Skipping file.\n",
            "\n",
            "Processing file: /content/med_webscraper/ted_html_pages/539476-2019.html\n",
            "  Keyword not found in any section. Skipping file.\n",
            "\n",
            "Processing file: /content/med_webscraper/ted_html_pages/306357-2017.html\n"
          ]
        },
        {
          "output_type": "stream",
          "name": "stderr",
          "text": [
            "Processing files:  80%|███████▉  | 768/961 [32:40<00:59,  3.25file/s]"
          ]
        },
        {
          "output_type": "stream",
          "name": "stdout",
          "text": [
            "  Keyword not found in any section. Skipping file.\n",
            "\n",
            "Processing file: /content/med_webscraper/ted_html_pages/232496-2017.html\n"
          ]
        },
        {
          "output_type": "stream",
          "name": "stderr",
          "text": [
            "Processing files:  80%|████████  | 769/961 [32:41<01:08,  2.80file/s]"
          ]
        },
        {
          "output_type": "stream",
          "name": "stdout",
          "text": [
            "  Keyword not found in any section. Skipping file.\n",
            "\n",
            "Processing file: /content/med_webscraper/ted_html_pages/409317-2015.html\n"
          ]
        },
        {
          "output_type": "stream",
          "name": "stderr",
          "text": [
            "Processing files:  80%|████████  | 770/961 [32:41<01:10,  2.70file/s]"
          ]
        },
        {
          "output_type": "stream",
          "name": "stdout",
          "text": [
            "  Keyword not found in any section. Skipping file.\n",
            "\n",
            "Processing file: /content/med_webscraper/ted_html_pages/252101-2021.html\n"
          ]
        },
        {
          "output_type": "stream",
          "name": "stderr",
          "text": [
            "Processing files:  80%|████████  | 772/961 [32:51<07:02,  2.24s/file]"
          ]
        },
        {
          "output_type": "stream",
          "name": "stdout",
          "text": [
            "  Keyword not found in any section. Skipping file.\n",
            "\n",
            "Processing file: /content/med_webscraper/ted_html_pages/205412-2017.html\n",
            "  Keyword not found in any section. Skipping file.\n",
            "\n",
            "Processing file: /content/med_webscraper/ted_html_pages/311872-2018.html\n"
          ]
        },
        {
          "output_type": "stream",
          "name": "stderr",
          "text": [
            "Processing files:  80%|████████  | 773/961 [32:51<05:01,  1.60s/file]"
          ]
        },
        {
          "output_type": "stream",
          "name": "stdout",
          "text": [
            "  Keyword not found in any section. Skipping file.\n",
            "\n",
            "Processing file: /content/med_webscraper/ted_html_pages/569636-2023.html\n"
          ]
        },
        {
          "output_type": "stream",
          "name": "stderr",
          "text": [
            "Processing files:  81%|████████  | 774/961 [32:51<03:56,  1.26s/file]"
          ]
        },
        {
          "output_type": "stream",
          "name": "stdout",
          "text": [
            "  Keyword not found in any section. Skipping file.\n",
            "\n",
            "Processing file: /content/med_webscraper/ted_html_pages/271537-2020.html\n"
          ]
        },
        {
          "output_type": "stream",
          "name": "stderr",
          "text": [
            "Processing files:  81%|████████  | 775/961 [32:52<03:04,  1.01file/s]"
          ]
        },
        {
          "output_type": "stream",
          "name": "stdout",
          "text": [
            "  Keyword not found in any section. Skipping file.\n",
            "\n",
            "Processing file: /content/med_webscraper/ted_html_pages/616277-2023.html\n"
          ]
        },
        {
          "output_type": "stream",
          "name": "stderr",
          "text": [
            "Processing files:  81%|████████  | 776/961 [32:53<02:49,  1.09file/s]"
          ]
        },
        {
          "output_type": "stream",
          "name": "stdout",
          "text": [
            "  Keyword not found in any section. Skipping file.\n",
            "\n",
            "Processing file: /content/med_webscraper/ted_html_pages/69418-2024.html\n"
          ]
        },
        {
          "output_type": "stream",
          "name": "stderr",
          "text": [
            "Processing files:  81%|████████  | 777/961 [32:54<03:37,  1.18s/file]"
          ]
        },
        {
          "output_type": "stream",
          "name": "stdout",
          "text": [
            "  Keyword not found in any section. Skipping file.\n",
            "\n",
            "Processing file: /content/med_webscraper/ted_html_pages/145447-2020.html\n"
          ]
        },
        {
          "output_type": "stream",
          "name": "stderr",
          "text": [
            "Processing files:  81%|████████  | 778/961 [32:55<02:42,  1.12file/s]"
          ]
        },
        {
          "output_type": "stream",
          "name": "stdout",
          "text": [
            "  Keyword not found in any section. Skipping file.\n",
            "\n",
            "Processing file: /content/med_webscraper/ted_html_pages/66519-2021.html\n"
          ]
        },
        {
          "output_type": "stream",
          "name": "stderr",
          "text": [
            "Processing files:  81%|████████  | 779/961 [32:56<03:05,  1.02s/file]"
          ]
        },
        {
          "output_type": "stream",
          "name": "stdout",
          "text": [
            "  Keyword not found in any section. Skipping file.\n",
            "\n",
            "Processing file: /content/med_webscraper/ted_html_pages/589360-2023.html\n"
          ]
        },
        {
          "output_type": "stream",
          "name": "stderr",
          "text": [
            "Processing files:  81%|████████  | 780/961 [32:56<02:24,  1.25file/s]"
          ]
        },
        {
          "output_type": "stream",
          "name": "stdout",
          "text": [
            "  Keyword not found in any section. Skipping file.\n",
            "\n",
            "Processing file: /content/med_webscraper/ted_html_pages/656474-2024.html\n"
          ]
        },
        {
          "output_type": "stream",
          "name": "stderr",
          "text": [
            "Processing files:  81%|████████  | 780/961 [32:57<02:24,  1.25file/s]"
          ]
        },
        {
          "output_type": "stream",
          "name": "stdout",
          "text": [
            "  Keyword found in section. Extracting data...\n",
            "    Making batch translation request for 53 unique strings...\n"
          ]
        },
        {
          "output_type": "stream",
          "name": "stderr",
          "text": [
            "Processing files:  81%|████████▏ | 781/961 [33:03<07:31,  2.51s/file]"
          ]
        },
        {
          "output_type": "stream",
          "name": "stdout",
          "text": [
            "    Translation complete.\n",
            "\n",
            "Processing file: /content/med_webscraper/ted_html_pages/463491-2017.html\n"
          ]
        },
        {
          "output_type": "stream",
          "name": "stderr",
          "text": [
            "Processing files:  81%|████████▏ | 782/961 [33:03<05:28,  1.84s/file]"
          ]
        },
        {
          "output_type": "stream",
          "name": "stdout",
          "text": [
            "  Keyword not found in any section. Skipping file.\n",
            "\n",
            "Processing file: /content/med_webscraper/ted_html_pages/43080-2019.html\n"
          ]
        },
        {
          "output_type": "stream",
          "name": "stderr",
          "text": [
            "Processing files:  81%|████████▏ | 783/961 [33:03<04:16,  1.44s/file]"
          ]
        },
        {
          "output_type": "stream",
          "name": "stdout",
          "text": [
            "  Keyword not found in any section. Skipping file.\n",
            "\n",
            "Processing file: /content/med_webscraper/ted_html_pages/532189-2018.html\n"
          ]
        },
        {
          "output_type": "stream",
          "name": "stderr",
          "text": [
            "Processing files:  82%|████████▏ | 784/961 [33:04<03:13,  1.09s/file]"
          ]
        },
        {
          "output_type": "stream",
          "name": "stdout",
          "text": [
            "  Keyword not found in any section. Skipping file.\n",
            "\n",
            "Processing file: /content/med_webscraper/ted_html_pages/394337-2018.html\n"
          ]
        },
        {
          "output_type": "stream",
          "name": "stderr",
          "text": [
            "Processing files:  82%|████████▏ | 785/961 [33:04<02:30,  1.17file/s]"
          ]
        },
        {
          "output_type": "stream",
          "name": "stdout",
          "text": [
            "  Keyword not found in any section. Skipping file.\n",
            "\n",
            "Processing file: /content/med_webscraper/ted_html_pages/77949-2016.html\n"
          ]
        },
        {
          "output_type": "stream",
          "name": "stderr",
          "text": [
            "Processing files:  82%|████████▏ | 786/961 [33:04<02:04,  1.41file/s]"
          ]
        },
        {
          "output_type": "stream",
          "name": "stdout",
          "text": [
            "  Keyword not found in any section. Skipping file.\n",
            "\n",
            "Processing file: /content/med_webscraper/ted_html_pages/9129-2019.html\n"
          ]
        },
        {
          "output_type": "stream",
          "name": "stderr",
          "text": [
            "Processing files:  82%|████████▏ | 787/961 [33:05<01:38,  1.77file/s]"
          ]
        },
        {
          "output_type": "stream",
          "name": "stdout",
          "text": [
            "  Keyword not found in any section. Skipping file.\n",
            "\n",
            "Processing file: /content/med_webscraper/ted_html_pages/611976-2023.html\n"
          ]
        },
        {
          "output_type": "stream",
          "name": "stderr",
          "text": [
            "Processing files:  82%|████████▏ | 788/961 [33:05<01:56,  1.49file/s]"
          ]
        },
        {
          "output_type": "stream",
          "name": "stdout",
          "text": [
            "  Keyword not found in any section. Skipping file.\n",
            "\n",
            "Processing file: /content/med_webscraper/ted_html_pages/265191-2019.html\n"
          ]
        },
        {
          "output_type": "stream",
          "name": "stderr",
          "text": [
            "Processing files:  82%|████████▏ | 790/961 [33:07<02:04,  1.37file/s]"
          ]
        },
        {
          "output_type": "stream",
          "name": "stdout",
          "text": [
            "  Keyword not found in any section. Skipping file.\n",
            "\n",
            "Processing file: /content/med_webscraper/ted_html_pages/309851-2021.html\n",
            "  Keyword not found in any section. Skipping file.\n",
            "\n",
            "Processing file: /content/med_webscraper/ted_html_pages/239560-2017.html\n"
          ]
        },
        {
          "output_type": "stream",
          "name": "stderr",
          "text": [
            "Processing files:  82%|████████▏ | 791/961 [33:08<01:39,  1.70file/s]"
          ]
        },
        {
          "output_type": "stream",
          "name": "stdout",
          "text": [
            "  Keyword not found in any section. Skipping file.\n",
            "\n",
            "Processing file: /content/med_webscraper/ted_html_pages/128168-2021.html\n"
          ]
        },
        {
          "output_type": "stream",
          "name": "stderr",
          "text": [
            "Processing files:  82%|████████▏ | 792/961 [33:11<03:36,  1.28s/file]"
          ]
        },
        {
          "output_type": "stream",
          "name": "stdout",
          "text": [
            "  Keyword not found in any section. Skipping file.\n",
            "\n",
            "Processing file: /content/med_webscraper/ted_html_pages/44614-2021.html\n"
          ]
        },
        {
          "output_type": "stream",
          "name": "stderr",
          "text": [
            "Processing files:  83%|████████▎ | 794/961 [33:11<02:11,  1.27file/s]"
          ]
        },
        {
          "output_type": "stream",
          "name": "stdout",
          "text": [
            "  Keyword not found in any section. Skipping file.\n",
            "\n",
            "Processing file: /content/med_webscraper/ted_html_pages/373604-2016.html\n",
            "  Keyword not found in any section. Skipping file.\n",
            "\n",
            "Processing file: /content/med_webscraper/ted_html_pages/488644-2020.html\n"
          ]
        },
        {
          "output_type": "stream",
          "name": "stderr",
          "text": [
            "Processing files:  83%|████████▎ | 796/961 [33:12<01:23,  1.98file/s]"
          ]
        },
        {
          "output_type": "stream",
          "name": "stdout",
          "text": [
            "  Keyword not found in any section. Skipping file.\n",
            "\n",
            "Processing file: /content/med_webscraper/ted_html_pages/201488-2020.html\n",
            "  Keyword not found in any section. Skipping file.\n",
            "\n",
            "Processing file: /content/med_webscraper/ted_html_pages/435768-2019.html\n"
          ]
        },
        {
          "output_type": "stream",
          "name": "stderr",
          "text": [
            "Processing files:  83%|████████▎ | 797/961 [33:12<01:05,  2.50file/s]"
          ]
        },
        {
          "output_type": "stream",
          "name": "stdout",
          "text": [
            "  Keyword not found in any section. Skipping file.\n",
            "\n",
            "Processing file: /content/med_webscraper/ted_html_pages/496594-2019.html\n"
          ]
        },
        {
          "output_type": "stream",
          "name": "stderr",
          "text": [
            "Processing files:  83%|████████▎ | 799/961 [33:13<01:10,  2.31file/s]"
          ]
        },
        {
          "output_type": "stream",
          "name": "stdout",
          "text": [
            "  Keyword not found in any section. Skipping file.\n",
            "\n",
            "Processing file: /content/med_webscraper/ted_html_pages/141133-2020.html\n",
            "  Keyword not found in any section. Skipping file.\n",
            "\n",
            "Processing file: /content/med_webscraper/ted_html_pages/739736-2023.html\n"
          ]
        },
        {
          "output_type": "stream",
          "name": "stderr",
          "text": [
            "Processing files:  83%|████████▎ | 801/961 [33:13<00:47,  3.40file/s]"
          ]
        },
        {
          "output_type": "stream",
          "name": "stdout",
          "text": [
            "  Keyword not found in any section. Skipping file.\n",
            "\n",
            "Processing file: /content/med_webscraper/ted_html_pages/411104-2020.html\n",
            "  Keyword not found in any section. Skipping file.\n",
            "\n",
            "Processing file: /content/med_webscraper/ted_html_pages/93145-2025.html\n"
          ]
        },
        {
          "output_type": "stream",
          "name": "stderr",
          "text": [
            "Processing files:  83%|████████▎ | 801/961 [33:14<00:47,  3.40file/s]"
          ]
        },
        {
          "output_type": "stream",
          "name": "stdout",
          "text": [
            "  Keyword found in section. Extracting data...\n",
            "    Making batch translation request for 63 unique strings...\n"
          ]
        },
        {
          "output_type": "stream",
          "name": "stderr",
          "text": [
            "Processing files:  83%|████████▎ | 802/961 [33:15<02:10,  1.22file/s]"
          ]
        },
        {
          "output_type": "stream",
          "name": "stdout",
          "text": [
            "    Warning: Batch translation failed. Using original text. Error: Zum Beschaffungsbedarf zählen sämtliche Arzneimittel mit den in Anlage 3 zu den Teilnahmebedingungen mit Stand vom 23.1.2025 (sog. Wirkstoffliste und Fristen) benannten und im Folgenden aufgezählten Wirkstoffen: 1.Adalimumab(Lfd.-Nr. 1 der Anlage 3 zu den Teilnahmebedingungen), 2. Etanercept (Lfd.-­Nr. 2), 3. Filgrastim (Lfd.-­Nr. 3), 4. Infliximab (Lfd.-­Nr. 4), 5. Interferon beta-1a (Lfd.-Nr. 5), 6. Interferon beta-1b (Lfd.-Nr. 6), 7. Leuprorelin (Lfd.-­Nr. 7), 8. Octreotid (Depot)* (Lfd.-­Nr. 8), 9. Pegfilgrastim (Lfd.-Nr. 9), 10. Beclometason dipropionat + Formoterol hemifumarat-1-Wasser (Lfd.-­Nr. 10), 11. Rotigotin (Lfd.-­Nr. 11), 12. Abatacept (Lfd.-­Nr. 12), 13. Denosumab (Lfd.-­Nr. 13), 14. Dornase alfa (Lfd.-­Nr. 14), 15. Natalizumab (Lfd.-­Nr. 15), 16. Tocilizumab (Lfd.-­Nr. 16), 17. Dimethyl fumarat (Lfd.-Nr. 17), 18. Rivaroxaban 2,5 mg (Lfd.-­Nr. 18), 19. Omalizumab (Lfd.-Nr. 19), 20. Ustekinumab (Lfd.-Nr. 20), 21. Tiotropium bromid-1-Wasser + Olodaterol hydrochlorid (Lfd.-Nr. 21), 22. Follitropin alfa (Lfd.-Nr. 22), 23. Beclometason dipropionat + Formoterol hemifumarat-1-Wasser + Glycopyrronium bromid (Lfd.-Nr. 23). *Vom Beschaffungsbedarf umfasst sind insoweit nur Arzneimittel mit retardierten (langwirkenden) Monatsdepot-­Formen. Der Beschaffungsbedarf wurde dabei nicht in Lose eingeteilt. Es handelt sich um ein Open-­House-­Verfahren. Soweit im Rahmen dieser Bekanntmachung daher Formulierungen verwendet werden, welche auf die Einteilung des Beschaffungsbedarfs in ein oder mehrere Los(e) hindeuten, ist dies allein den Vorgaben dieses Bekanntmachungsformulars geschuldet. In diesem Zusammenhang wird auf die eingangs unter Ziffer 2.1 beschriebene Nichtgeltung vergaberechtlicher Regelungen verwiesen. Die AOK startete das Open-House-Verfahren mit den erstbekanntgemachten Wirkstoffen der lfd.-Nr. 1 bis 9 der Anlage 3 zu den Teilnahmebedingungen (sog. Startwirkstoffe) und erweiterte den Beschaffungsbedarf mit den Folgebekanntmachungen um die Wirkstoffkombination und Wirkstoffe der lfd.-Nr. 10 bis 23 der Anlage 3 zu den Teilnahmebedingungen. Die AOK behält sich weiterhin vor, den Beschaffungsbedarf dieses Open-­House-­Verfahrens im Laufe des Verfahrens zu erweitern, d. h. die Anlage 3 zu den Teilnahmebedingungen, um weitere Wirkstoffe zu ergänzen. Nähere Informationen zu einer möglichen Erweiterung des Beschaffungsbedarfs enthalten die Teilnahmebedingungen (Abschnitt A.I.4.1). Verträge zu Arzneimitteln mit den Startwirkstoffen konnten bereits mit Wirkung zum 1.7.2023 geschlossen werden (sog. frühestmöglicher Vertragsstart). Verträge zu Arzneimitteln mit der laufenden Nummer 10 der Anlage 3 zu den Teilnahmebedingungen konnten frühestens mit Wirkung zum 1.8.2023 geschlossen werden, Verträge mit der laufenden Nummer 11 konnten frühestens mit Wirkung zum 1.4.2024 geschlossen werden, Verträge mit der laufenden Nummer 12 bis 16 konnten frühestens mit Wirkung zum 1.7.2024 geschlossen werden, Verträge mit der laufenden Nummer 17 konnten frühestens mit Wirkung zum 1.9.2024 geschlossen werden, Verträge mit der laufenden Nummer 18 konnten frühestens mit Wirkung zum 1.11.2024 geschlossen werden, Verträge mit der laufenden Nummer 19 konnten frühestens mit Wirkung zum 1.12.2024 geschlossen werden, Verträge mit der laufenden Nummer 20+21 konnten frühestens mit Wirkung zum 1.1.2025 geschlossen werden und Verträge mit der laufenden Nummer 22 konnten frühestens mit Wirkung zum 1.2.2025 geschlossen werden. Verträge mit der laufenden Nummer 23 können frühestens mit Wirkung zum 1.4.2025 geschlossen werden. Alle im Rahmen dieses Open­-House-­Verfahrens geschlossenen Rabattverträge enden einheitlich am 30.6.2025 (sog. Vertragsende). Der Abschluss eines Rabattvertrags zu Arzneimitteln mit den o. g. Wirkstoffen zu einem späteren Zeitpunkt als dem 1.7.2023 bzw. dem 1.8.2023 bzw. dem 1.4.2024 bzw. dem 1.7.2024 bzw. dem 1.9.2024 bzw. dem 1.11.2024 bzw. dem 1.12.2024 bzw. dem 1.1.2025 bzw. dem 1.2.2025 bzw. dem 1.4.2025 ist jeweils zu einem Monatsersten möglich. Die Angebote sind dazu spätestens 6 Wochen vor dem beabsichtigten Vertragsstart nach Maßgabe der Teilnahmeunterlagen vollständig ausschließlich in elektronischer Form über den Kommunikationsbereich der Vergabeplattform einzureichen. Die jeweiligen Angebotsfristen sind dabei bezogen auf den vom interessierten pharmazeutischen Unternehmer beabsichtigten Vertragsstart der Anlage 3 zu den Teilnahmebedingungen zu entnehmen. Für alle im Rahmen dieses Open-House-Verfahrens abzuschließenden Verträge ist der letztmögliche Vertragsstart der 1.6.2025. Angebote für diesen Vertragsstart müssen spätestens am 17.4.2025 eingehen. Die AOK gibt den Inhalt des Rabattvertrags für alle potenziellen Vertragspartner verbindlich vor. Verhandlungen über Vertragsinhalte werden nicht geführt. Die AOK sichert den Vertragspartnern keine Exklusivität zu. Im Fall eines Vertragsschlusses gewährt der pharmazeutische Unternehmer der AOK einen Rabatt auf die vertragsgegenständlichen Arzneimittel, die nach näherer Maßgabe der Teilnahmebedingungen und des Rabattvertrags zu Lasten der AOK abgegeben werden (zur vorgegebenen Rabatthöhe und Rabattberechnung wird insbesondere auf die Abschnitte A.I.4.3, A.I.5 und A.I.7 der Teilnahmebedingungen sowie § 2 Abs. (2) und § 4 Abs. (3) des Rabattvertrags verwiesen. --> Text length need to be between 0 and 5000 characters\n",
            "\n",
            "Processing file: /content/med_webscraper/ted_html_pages/204263-2020.html\n"
          ]
        },
        {
          "output_type": "stream",
          "name": "stderr",
          "text": [
            "Processing files:  84%|████████▎ | 804/961 [33:16<01:33,  1.69file/s]"
          ]
        },
        {
          "output_type": "stream",
          "name": "stdout",
          "text": [
            "  Keyword not found in any section. Skipping file.\n",
            "\n",
            "Processing file: /content/med_webscraper/ted_html_pages/421959-2019.html\n",
            "  Keyword not found in any section. Skipping file.\n",
            "\n",
            "Processing file: /content/med_webscraper/ted_html_pages/376921-2019.html\n"
          ]
        },
        {
          "output_type": "stream",
          "name": "stderr",
          "text": [
            "Processing files:  84%|████████▍ | 805/961 [33:17<01:24,  1.86file/s]"
          ]
        },
        {
          "output_type": "stream",
          "name": "stdout",
          "text": [
            "  Keyword not found in any section. Skipping file.\n",
            "\n",
            "Processing file: /content/med_webscraper/ted_html_pages/172345-2016.html\n"
          ]
        },
        {
          "output_type": "stream",
          "name": "stderr",
          "text": [
            "Processing files:  84%|████████▍ | 807/961 [33:17<00:59,  2.59file/s]"
          ]
        },
        {
          "output_type": "stream",
          "name": "stdout",
          "text": [
            "  Keyword not found in any section. Skipping file.\n",
            "\n",
            "Processing file: /content/med_webscraper/ted_html_pages/51696-2023.html\n",
            "  Keyword not found in any section. Skipping file.\n",
            "\n",
            "Processing file: /content/med_webscraper/ted_html_pages/385873-2023.html\n"
          ]
        },
        {
          "output_type": "stream",
          "name": "stderr",
          "text": [
            "Processing files:  84%|████████▍ | 808/961 [33:17<00:48,  3.18file/s]"
          ]
        },
        {
          "output_type": "stream",
          "name": "stdout",
          "text": [
            "  Keyword not found in any section. Skipping file.\n",
            "\n",
            "Processing file: /content/med_webscraper/ted_html_pages/234042-2023.html\n"
          ]
        },
        {
          "output_type": "stream",
          "name": "stderr",
          "text": [
            "Processing files:  84%|████████▍ | 810/961 [33:18<00:52,  2.87file/s]"
          ]
        },
        {
          "output_type": "stream",
          "name": "stdout",
          "text": [
            "  Keyword not found in any section. Skipping file.\n",
            "\n",
            "Processing file: /content/med_webscraper/ted_html_pages/678844-2022.html\n",
            "  Keyword not found in any section. Skipping file.\n",
            "\n",
            "Processing file: /content/med_webscraper/ted_html_pages/84058-2024.html\n"
          ]
        },
        {
          "output_type": "stream",
          "name": "stderr",
          "text": [
            "Processing files:  84%|████████▍ | 810/961 [33:18<00:52,  2.87file/s]"
          ]
        },
        {
          "output_type": "stream",
          "name": "stdout",
          "text": [
            "  Keyword found in section. Extracting data...\n",
            "    Making batch translation request for 60 unique strings...\n"
          ]
        },
        {
          "output_type": "stream",
          "name": "stderr",
          "text": [
            "Processing files:  84%|████████▍ | 811/961 [33:29<09:02,  3.62s/file]"
          ]
        },
        {
          "output_type": "stream",
          "name": "stdout",
          "text": [
            "    Translation complete.\n",
            "\n",
            "Processing file: /content/med_webscraper/ted_html_pages/114900-2018.html\n"
          ]
        },
        {
          "output_type": "stream",
          "name": "stderr",
          "text": [
            "Processing files:  84%|████████▍ | 812/961 [33:30<06:38,  2.68s/file]"
          ]
        },
        {
          "output_type": "stream",
          "name": "stdout",
          "text": [
            "  Keyword not found in any section. Skipping file.\n",
            "\n",
            "Processing file: /content/med_webscraper/ted_html_pages/672793-2025.html\n",
            "  Keyword found in section. Extracting data...\n",
            "    Making batch translation request for 41 unique strings...\n"
          ]
        },
        {
          "output_type": "stream",
          "name": "stderr",
          "text": [
            "Processing files:  85%|████████▍ | 814/961 [33:32<04:09,  1.70s/file]"
          ]
        },
        {
          "output_type": "stream",
          "name": "stdout",
          "text": [
            "    Warning: Batch translation failed. Using original text. Error: Wymagania dotyczące oferty: 1.Oferta wraz ze stanowiącymi jej integralną część załącznikami musi być sporządzona i złożona zgodnie z zasadami wynikającymi z ustawy Pzp i określonymi w niniejszej SWZ.2.Wykonawca może złożyć tylko jedną ofertę. Złożenie większej liczby ofert spowoduje odrzucenie ofert. 3.Oferta musi być sporządzona w języku polskim, w postaci elektronicznej i opatrzona kwalifikowanym podpisem elektronicznym przez osobę upoważnioną do reprezentowania Wykonawcy.4.Dopuszcza się używanie w oświadczeniach, ofertach oraz innych dokumentach określeń obcojęzycznych w zakresie określonym w art. 11 ustawy z dnia 7 października 1999 r. o języku polskim .5.Zamawiający wymaga złożenia oferty wraz z załącznikami w postaci elektronicznej, w formantach określonych w przepisach wydanych na podstawie art. 18 ustawy z dnia 17 lutego 2005 r. o informatyzacji działalności podmiotów realizujących zadania publiczne (t.j. Dz. U. z 2024 r. poz. 307).6.Przez ofertę należy rozumieć formularz oferty (formularz ofertowy), którego wzór stanowi załącznik nr 1 do SWZ, formularz asortymentowo-cenowy z zestawieniem parametrów wymaganych, którego wzór stanowi załącznik nr 2 do SWZ. Wraz z ofertą Wykonawca zobowiązany jest złożyć:1)oświadczenie, o którym mowa w art. 125 ust. 1 ustawy Pzp (JEDZ/ESPD), którego wzór stanowi załącznik nr 3 do SWZ. Wykonawca składa oświadczenie na formularzu JEDZ. JEDZ stanowi dowód potwierdzający brak podstaw wykluczenia oraz spełnianie warunków udziału w postępowaniu, na dzień składania ofert oraz stanowi dowód tymczasowo zastępujący wymagane przez zamawiającego podmiotowe środki dowodowe, wskazane w SWZ. Wykonawca składa JEDZ w oryginale w postaci dokumentu elektronicznego podpisanego kwalifikowanym podpisem elektronicznym przez osobę upoważnioną do reprezentowania wykonawcy zgodnie z formą reprezentacji określoną w dokumencie rejestrowym właściwym dla formy organizacyjnej lub innym dokumencie. Wykonawca sporządzi oświadczenie JEDZ poprzez stronę internetowąhttps://espd.uzp.gov.pl/lub za pośrednictwem innych dostępnych narzędzi lub oprogramowania, które umożliwiają wypełnienie JEDZ i utworzenie dokumentu elektronicznego lub w formie załącznika zamieszczonego przez Zamawiającego razem z dokumentami zamówienia. Instrukcja wypełniania formularza JEDZ znajduje się na stronie internetowej Urzędu Zamówień Publicznych. Wykonawca, który zamierza powierzyć wykonanie części zamówienia podwykonawcom, na etapie postępowania o udzielenie zamówienia publicznego jest zobowiązany wypełnić część II sekcja D JEDZ, w tym, jeśli jest to wiadome, podać firmy podwykonawców. JEDZ sporządza odrębnie: wykonawca/każdy spośród wykonawców wspólnie ubiegających się o udzielenie zamówienia. W takim przypadku JEDZ potwierdza brak podstaw wykluczenia wykonawcy oraz spełnianie warunków udziału w postępowaniu w zakresie, w jakim każdy z wykonawców wykazuje spełnianie warunków udziału w postępowaniu. Wykonawca może ograniczyć się do wypełnienia sekcji „” części „IV” formularza (JEDZa). W takim przypadku Wykonawca nie musi wypełniać żadnej z pozostałych sekcji części „IV” formularza (JEDZa), zaś właściwej (dowodowej) weryfikacji spełniania konkretnych, określonych przez Zamawiającego warunków udziału w postępowaniu Zamawiający dokona co do zasady na zakończenie postępowania w oparciu o stosowne dokumenty składane przez Wykonawcę, którego oferta została oceniona najwyżej, na wezwanie Zamawiającego; 2)2) oświadczenie Wykonawcy dotyczące przesłanek wykluczenia z art. 7 ust. 1 ustawy z dnia 13 kwietnia 2022 r. o szczególnych rozwiązaniach w zakresie przeciwdziałania wspieraniu agresji na Ukrainę oraz służących ochronie bezpieczeństwa narodowego oraz art. 5k rozporządzenia (UE) nr 833/2014 z dnia 31 lipca 2014 r. dotyczącego środków ograniczających w związku z działaniami Rosji destabilizującymi sytuację na Ukrainie, składane na podstawie art. 125 ust. 1 ustawy Pzp – zgodnie ze wzorem stanowiącym załącznik numer 7 do SWZ. Oświadczenie to Wykonawca przekazuje w postaci elektronicznej i opatruje kwalifikowanym podpisem elektronicznym. Oświadczenie sporządza odrębnie: wykonawca/każdy spośród wykonawców wspólnie ubiegających się o udzielenie zamówienia. 3) dokument potwierdzający zasady reprezentacji wykonawcy tj. odpis lub informacja z Krajowego Rejestru Sądowego, Centralnej Ewidencji i Informacji o Działalności Gospodarczej lub innego właściwego rejestru o ile nie jest on dostępny w bezpłatnych i ogólnodostępnych elektronicznych bazach danych, których adres internetowy wykonawca wskazał w formularzu ofertowym lub JEDZ. W przypadku wskazania bazy danych, w której dokumenty są dostępne w innym języku niż polski, Zamawiający może po ich pobraniu wezwać Wykonawcę do przedstawienia tłumaczenia dokumentu na język polski - zgodnie z § 14 Rozporządzenia Ministra Rozwoju, Pracy i Technologii z dnia 23 grudnia 2020 r. w sprawie podmiotowych środków dowodowych oraz innych dokumentów lub oświadczeń, jakich może żądać Zamawiający od Wykonawcy);4)pełnomocnictwo – jeżeli dotyczy: a)gdy umocowanie osoby składającej ofertę nie wynika z dokumentów rejestrowych, wykonawca, który składa ofertę za pośrednictwem pełnomocnika, powinien dołączyć do oferty dokument pełnomocnictwa obejmujący swym zakresem umocowanie do złożenia oferty lub do złożenia oferty i podpisania umowy, b)w przypadku wykonawców ubiegających się wspólnie o udzielenie zamówienia Wykonawcy zobowiązani są do ustanowienia pełnomocnika. Dokument pełnomocnictwa, z treści którego będzie wynikało umocowanie do reprezentowania w postępowaniu o udzielenie zamówienia tych wykonawców należy załączyć do oferty;5)oświadczenie wykonawców wspólnie ubiegających się o udzielenie zamówienia - jeżeli dotyczy, zastrzeżenie tajemnicy przedsiębiorstwa - jeżeli dotyczy, 7)przedmiotowe środki dowodowe wskazane w Rozdziale VI ust.2,8)wykaz rozwiązań równoważnych - jeżeli dotyczy. --> Text length need to be between 0 and 5000 characters\n",
            "\n",
            "Processing file: /content/med_webscraper/ted_html_pages/354224-2017.html\n",
            "  Keyword not found in any section. Skipping file.\n",
            "\n",
            "Processing file: /content/med_webscraper/ted_html_pages/496080-2018.html\n"
          ]
        },
        {
          "output_type": "stream",
          "name": "stderr",
          "text": [
            "Processing files:  85%|████████▍ | 816/961 [33:33<02:37,  1.09s/file]"
          ]
        },
        {
          "output_type": "stream",
          "name": "stdout",
          "text": [
            "  Keyword not found in any section. Skipping file.\n",
            "\n",
            "Processing file: /content/med_webscraper/ted_html_pages/414409-2020.html\n",
            "  Keyword not found in any section. Skipping file.\n",
            "\n",
            "Processing file: /content/med_webscraper/ted_html_pages/332708-2016.html\n"
          ]
        },
        {
          "output_type": "stream",
          "name": "stderr",
          "text": [
            "Processing files:  85%|████████▌ | 817/961 [33:33<02:04,  1.15file/s]"
          ]
        },
        {
          "output_type": "stream",
          "name": "stdout",
          "text": [
            "  Keyword not found in any section. Skipping file.\n",
            "\n",
            "Processing file: /content/med_webscraper/ted_html_pages/384814-2019.html\n"
          ]
        },
        {
          "output_type": "stream",
          "name": "stderr",
          "text": [
            "Processing files:  85%|████████▌ | 818/961 [33:33<01:35,  1.49file/s]"
          ]
        },
        {
          "output_type": "stream",
          "name": "stdout",
          "text": [
            "  Keyword not found in any section. Skipping file.\n",
            "\n",
            "Processing file: /content/med_webscraper/ted_html_pages/474525-2024.html\n",
            "  Keyword found in section. Extracting data...\n",
            "    Making batch translation request for 39 unique strings...\n"
          ]
        },
        {
          "output_type": "stream",
          "name": "stderr",
          "text": [
            "Processing files:  85%|████████▌ | 818/961 [33:41<01:35,  1.49file/s]"
          ]
        },
        {
          "output_type": "stream",
          "name": "stdout",
          "text": [
            "    Translation complete.\n",
            "  Keyword found in section. Extracting data...\n",
            "    Making batch translation request for 63 unique strings...\n"
          ]
        },
        {
          "output_type": "stream",
          "name": "stderr",
          "text": [
            "Processing files:  85%|████████▌ | 819/961 [33:46<10:00,  4.23s/file]"
          ]
        },
        {
          "output_type": "stream",
          "name": "stdout",
          "text": [
            "    Translation complete.\n",
            "\n",
            "Processing file: /content/med_webscraper/ted_html_pages/64180-2023.html\n"
          ]
        },
        {
          "output_type": "stream",
          "name": "stderr",
          "text": [
            "Processing files:  85%|████████▌ | 820/961 [33:46<07:09,  3.05s/file]"
          ]
        },
        {
          "output_type": "stream",
          "name": "stdout",
          "text": [
            "  Keyword not found in any section. Skipping file.\n",
            "\n",
            "Processing file: /content/med_webscraper/ted_html_pages/379540-2016.html\n"
          ]
        },
        {
          "output_type": "stream",
          "name": "stderr",
          "text": [
            "Processing files:  85%|████████▌ | 821/961 [33:46<05:12,  2.24s/file]"
          ]
        },
        {
          "output_type": "stream",
          "name": "stdout",
          "text": [
            "  Keyword not found in any section. Skipping file.\n",
            "\n",
            "Processing file: /content/med_webscraper/ted_html_pages/781149-2023.html\n"
          ]
        },
        {
          "output_type": "stream",
          "name": "stderr",
          "text": [
            "Processing files:  86%|████████▌ | 822/961 [33:47<03:55,  1.69s/file]"
          ]
        },
        {
          "output_type": "stream",
          "name": "stdout",
          "text": [
            "  Keyword not found in any section. Skipping file.\n",
            "\n",
            "Processing file: /content/med_webscraper/ted_html_pages/40511-2022.html\n"
          ]
        },
        {
          "output_type": "stream",
          "name": "stderr",
          "text": [
            "Processing files:  86%|████████▌ | 823/961 [33:47<02:52,  1.25s/file]"
          ]
        },
        {
          "output_type": "stream",
          "name": "stdout",
          "text": [
            "  Keyword not found in any section. Skipping file.\n",
            "\n",
            "Processing file: /content/med_webscraper/ted_html_pages/281635-2020.html\n"
          ]
        },
        {
          "output_type": "stream",
          "name": "stderr",
          "text": [
            "Processing files:  86%|████████▌ | 824/961 [33:48<02:17,  1.00s/file]"
          ]
        },
        {
          "output_type": "stream",
          "name": "stdout",
          "text": [
            "  Keyword not found in any section. Skipping file.\n",
            "\n",
            "Processing file: /content/med_webscraper/ted_html_pages/372263-2018.html\n"
          ]
        },
        {
          "output_type": "stream",
          "name": "stderr",
          "text": [
            "Processing files:  86%|████████▌ | 825/961 [33:54<06:13,  2.75s/file]"
          ]
        },
        {
          "output_type": "stream",
          "name": "stdout",
          "text": [
            "  Keyword not found in any section. Skipping file.\n",
            "\n",
            "Processing file: /content/med_webscraper/ted_html_pages/63988-2025.html\n",
            "  Keyword found in section. Extracting data...\n",
            "    Making batch translation request for 32 unique strings...\n"
          ]
        },
        {
          "output_type": "stream",
          "name": "stderr",
          "text": [
            "Processing files:  86%|████████▌ | 825/961 [33:58<06:13,  2.75s/file]"
          ]
        },
        {
          "output_type": "stream",
          "name": "stdout",
          "text": [
            "    Translation complete.\n",
            "  Keyword found in section. Extracting data...\n",
            "    Making batch translation request for 49 unique strings...\n"
          ]
        },
        {
          "output_type": "stream",
          "name": "stderr",
          "text": [
            "Processing files:  86%|████████▌ | 827/961 [34:04<07:43,  3.46s/file]"
          ]
        },
        {
          "output_type": "stream",
          "name": "stdout",
          "text": [
            "    Translation complete.\n",
            "\n",
            "Processing file: /content/med_webscraper/ted_html_pages/33262-2020.html\n",
            "  Keyword not found in any section. Skipping file.\n",
            "\n",
            "Processing file: /content/med_webscraper/ted_html_pages/200611-2022.html\n"
          ]
        },
        {
          "output_type": "stream",
          "name": "stderr",
          "text": [
            "Processing files:  86%|████████▌ | 828/961 [34:05<05:34,  2.52s/file]"
          ]
        },
        {
          "output_type": "stream",
          "name": "stdout",
          "text": [
            "  Keyword not found in any section. Skipping file.\n",
            "\n",
            "Processing file: /content/med_webscraper/ted_html_pages/516625-2020.html\n"
          ]
        },
        {
          "output_type": "stream",
          "name": "stderr",
          "text": [
            "Processing files:  86%|████████▋ | 829/961 [34:05<04:02,  1.84s/file]"
          ]
        },
        {
          "output_type": "stream",
          "name": "stdout",
          "text": [
            "  Keyword not found in any section. Skipping file.\n",
            "\n",
            "Processing file: /content/med_webscraper/ted_html_pages/486378-2023.html\n"
          ]
        },
        {
          "output_type": "stream",
          "name": "stderr",
          "text": [
            "Processing files:  86%|████████▋ | 831/961 [34:06<02:15,  1.04s/file]"
          ]
        },
        {
          "output_type": "stream",
          "name": "stdout",
          "text": [
            "  Keyword not found in any section. Skipping file.\n",
            "\n",
            "Processing file: /content/med_webscraper/ted_html_pages/259365-2022.html\n",
            "  Keyword not found in any section. Skipping file.\n",
            "\n",
            "Processing file: /content/med_webscraper/ted_html_pages/614211-2022.html\n"
          ]
        },
        {
          "output_type": "stream",
          "name": "stderr",
          "text": [
            "Processing files:  87%|████████▋ | 832/961 [34:06<02:00,  1.07file/s]"
          ]
        },
        {
          "output_type": "stream",
          "name": "stdout",
          "text": [
            "  Keyword not found in any section. Skipping file.\n",
            "\n",
            "Processing file: /content/med_webscraper/ted_html_pages/116980-2019.html\n"
          ]
        },
        {
          "output_type": "stream",
          "name": "stderr",
          "text": [
            "Processing files:  87%|████████▋ | 833/961 [34:06<01:32,  1.38file/s]"
          ]
        },
        {
          "output_type": "stream",
          "name": "stdout",
          "text": [
            "  Keyword not found in any section. Skipping file.\n",
            "\n",
            "Processing file: /content/med_webscraper/ted_html_pages/213902-2017.html\n"
          ]
        },
        {
          "output_type": "stream",
          "name": "stderr",
          "text": [
            "Processing files:  87%|████████▋ | 835/961 [34:07<00:56,  2.23file/s]"
          ]
        },
        {
          "output_type": "stream",
          "name": "stdout",
          "text": [
            "  Keyword not found in any section. Skipping file.\n",
            "\n",
            "Processing file: /content/med_webscraper/ted_html_pages/326065-2020.html\n",
            "  Keyword not found in any section. Skipping file.\n",
            "\n",
            "Processing file: /content/med_webscraper/ted_html_pages/454337-2019.html\n"
          ]
        },
        {
          "output_type": "stream",
          "name": "stderr",
          "text": [
            "Processing files:  87%|████████▋ | 836/961 [34:07<00:46,  2.69file/s]"
          ]
        },
        {
          "output_type": "stream",
          "name": "stdout",
          "text": [
            "  Keyword not found in any section. Skipping file.\n",
            "\n",
            "Processing file: /content/med_webscraper/ted_html_pages/350372-2017.html\n"
          ]
        },
        {
          "output_type": "stream",
          "name": "stderr",
          "text": [
            "Processing files:  87%|████████▋ | 837/961 [34:07<00:47,  2.64file/s]"
          ]
        },
        {
          "output_type": "stream",
          "name": "stdout",
          "text": [
            "  Keyword not found in any section. Skipping file.\n",
            "\n",
            "Processing file: /content/med_webscraper/ted_html_pages/53919-2025.html\n"
          ]
        },
        {
          "output_type": "stream",
          "name": "stderr",
          "text": [
            "Processing files:  87%|████████▋ | 837/961 [34:08<00:47,  2.64file/s]"
          ]
        },
        {
          "output_type": "stream",
          "name": "stdout",
          "text": [
            "  Keyword found in section. Extracting data...\n",
            "    Making batch translation request for 41 unique strings...\n"
          ]
        },
        {
          "output_type": "stream",
          "name": "stderr",
          "text": [
            "Processing files:  87%|████████▋ | 838/961 [34:13<03:41,  1.80s/file]"
          ]
        },
        {
          "output_type": "stream",
          "name": "stdout",
          "text": [
            "    Translation complete.\n",
            "\n",
            "Processing file: /content/med_webscraper/ted_html_pages/482230-2018.html\n"
          ]
        },
        {
          "output_type": "stream",
          "name": "stderr",
          "text": [
            "Processing files:  87%|████████▋ | 839/961 [34:13<02:43,  1.34s/file]"
          ]
        },
        {
          "output_type": "stream",
          "name": "stdout",
          "text": [
            "  Keyword not found in any section. Skipping file.\n",
            "\n",
            "Processing file: /content/med_webscraper/ted_html_pages/284899-2025.html\n"
          ]
        },
        {
          "output_type": "stream",
          "name": "stderr",
          "text": [
            "Processing files:  87%|████████▋ | 839/961 [34:14<02:43,  1.34s/file]"
          ]
        },
        {
          "output_type": "stream",
          "name": "stdout",
          "text": [
            "  Keyword found in section. Extracting data...\n",
            "    Making batch translation request for 39 unique strings...\n"
          ]
        },
        {
          "output_type": "stream",
          "name": "stderr",
          "text": [
            "Processing files:  87%|████████▋ | 839/961 [34:20<02:43,  1.34s/file]"
          ]
        },
        {
          "output_type": "stream",
          "name": "stdout",
          "text": [
            "    Translation complete.\n",
            "  Keyword found in section. Extracting data...\n",
            "    Making batch translation request for 39 unique strings...\n"
          ]
        },
        {
          "output_type": "stream",
          "name": "stderr",
          "text": [
            "Processing files:  87%|████████▋ | 840/961 [34:23<07:57,  3.95s/file]"
          ]
        },
        {
          "output_type": "stream",
          "name": "stdout",
          "text": [
            "    Translation complete.\n",
            "\n",
            "Processing file: /content/med_webscraper/ted_html_pages/229508-2023.html\n"
          ]
        },
        {
          "output_type": "stream",
          "name": "stderr",
          "text": [
            "Processing files:  88%|████████▊ | 841/961 [34:23<05:47,  2.89s/file]"
          ]
        },
        {
          "output_type": "stream",
          "name": "stdout",
          "text": [
            "  Keyword not found in any section. Skipping file.\n",
            "\n",
            "Processing file: /content/med_webscraper/ted_html_pages/208516-2018.html\n"
          ]
        },
        {
          "output_type": "stream",
          "name": "stderr",
          "text": [
            "Processing files:  88%|████████▊ | 842/961 [34:23<04:08,  2.09s/file]"
          ]
        },
        {
          "output_type": "stream",
          "name": "stdout",
          "text": [
            "  Keyword not found in any section. Skipping file.\n",
            "\n",
            "Processing file: /content/med_webscraper/ted_html_pages/522615-2025.html\n"
          ]
        },
        {
          "output_type": "stream",
          "name": "stderr",
          "text": [
            "Processing files:  88%|████████▊ | 842/961 [34:24<04:08,  2.09s/file]"
          ]
        },
        {
          "output_type": "stream",
          "name": "stdout",
          "text": [
            "  Keyword found in section. Extracting data...\n",
            "    Making batch translation request for 62 unique strings...\n"
          ]
        },
        {
          "output_type": "stream",
          "name": "stderr",
          "text": [
            "Processing files:  88%|████████▊ | 843/961 [34:29<06:03,  3.08s/file]"
          ]
        },
        {
          "output_type": "stream",
          "name": "stdout",
          "text": [
            "    Translation complete.\n",
            "\n",
            "Processing file: /content/med_webscraper/ted_html_pages/54030-2025.html\n"
          ]
        },
        {
          "output_type": "stream",
          "name": "stderr",
          "text": [
            "Processing files:  88%|████████▊ | 843/961 [34:30<06:03,  3.08s/file]"
          ]
        },
        {
          "output_type": "stream",
          "name": "stdout",
          "text": [
            "  Keyword found in section. Extracting data...\n",
            "    Making batch translation request for 40 unique strings...\n"
          ]
        },
        {
          "output_type": "stream",
          "name": "stderr",
          "text": [
            "Processing files:  88%|████████▊ | 845/961 [34:34<04:50,  2.51s/file]"
          ]
        },
        {
          "output_type": "stream",
          "name": "stdout",
          "text": [
            "    Translation complete.\n",
            "\n",
            "Processing file: /content/med_webscraper/ted_html_pages/98072-2022.html\n",
            "  Keyword not found in any section. Skipping file.\n",
            "\n",
            "Processing file: /content/med_webscraper/ted_html_pages/607184-2023.html\n"
          ]
        },
        {
          "output_type": "stream",
          "name": "stderr",
          "text": [
            "Processing files:  88%|████████▊ | 847/961 [34:34<02:29,  1.31s/file]"
          ]
        },
        {
          "output_type": "stream",
          "name": "stdout",
          "text": [
            "  Keyword not found in any section. Skipping file.\n",
            "\n",
            "Processing file: /content/med_webscraper/ted_html_pages/403415-2022.html\n",
            "  Keyword not found in any section. Skipping file.\n",
            "\n",
            "Processing file: /content/med_webscraper/ted_html_pages/91708-2018.html\n"
          ]
        },
        {
          "output_type": "stream",
          "name": "stderr",
          "text": [
            "Processing files:  88%|████████▊ | 848/961 [34:34<01:57,  1.04s/file]"
          ]
        },
        {
          "output_type": "stream",
          "name": "stdout",
          "text": [
            "  Keyword not found in any section. Skipping file.\n",
            "\n",
            "Processing file: /content/med_webscraper/ted_html_pages/58935-2025.html\n"
          ]
        },
        {
          "output_type": "stream",
          "name": "stderr",
          "text": [
            "Processing files:  88%|████████▊ | 848/961 [34:35<01:57,  1.04s/file]"
          ]
        },
        {
          "output_type": "stream",
          "name": "stdout",
          "text": [
            "  Keyword found in section. Extracting data...\n",
            "    Making batch translation request for 28 unique strings...\n"
          ]
        },
        {
          "output_type": "stream",
          "name": "stderr",
          "text": [
            "Processing files:  88%|████████▊ | 848/961 [34:38<01:57,  1.04s/file]"
          ]
        },
        {
          "output_type": "stream",
          "name": "stdout",
          "text": [
            "    Translation complete.\n",
            "  Keyword found in section. Extracting data...\n",
            "    Making batch translation request for 34 unique strings...\n"
          ]
        },
        {
          "output_type": "stream",
          "name": "stderr",
          "text": [
            "Processing files:  88%|████████▊ | 850/961 [34:40<03:22,  1.82s/file]"
          ]
        },
        {
          "output_type": "stream",
          "name": "stdout",
          "text": [
            "    Translation complete.\n",
            "\n",
            "Processing file: /content/med_webscraper/ted_html_pages/331954-2021.html\n",
            "  Keyword not found in any section. Skipping file.\n",
            "\n",
            "Processing file: /content/med_webscraper/ted_html_pages/286298-2020.html\n"
          ]
        },
        {
          "output_type": "stream",
          "name": "stderr",
          "text": [
            "Processing files:  89%|████████▊ | 851/961 [34:41<02:26,  1.33s/file]"
          ]
        },
        {
          "output_type": "stream",
          "name": "stdout",
          "text": [
            "  Keyword not found in any section. Skipping file.\n",
            "\n",
            "Processing file: /content/med_webscraper/ted_html_pages/533984-2023.html\n"
          ]
        },
        {
          "output_type": "stream",
          "name": "stderr",
          "text": [
            "Processing files:  89%|████████▊ | 852/961 [34:41<01:48,  1.00file/s]"
          ]
        },
        {
          "output_type": "stream",
          "name": "stdout",
          "text": [
            "  Keyword not found in any section. Skipping file.\n",
            "\n",
            "Processing file: /content/med_webscraper/ted_html_pages/431568-2016.html\n"
          ]
        },
        {
          "output_type": "stream",
          "name": "stderr",
          "text": []
        },
        {
          "output_type": "stream",
          "name": "stdout",
          "text": [
            "  Keyword not found in any section. Skipping file.\n",
            "\n",
            "Processing file: /content/med_webscraper/ted_html_pages/176264-2020.html\n",
            "  Keyword not found in any section. Skipping file.\n"
          ]
        },
        {
          "output_type": "stream",
          "name": "stderr",
          "text": [
            "\rProcessing files:  89%|████████▉ | 854/961 [34:42<01:08,  1.56file/s]"
          ]
        },
        {
          "output_type": "stream",
          "name": "stdout",
          "text": [
            "\n",
            "Processing file: /content/med_webscraper/ted_html_pages/461093-2021.html\n"
          ]
        },
        {
          "output_type": "stream",
          "name": "stderr",
          "text": [
            "Processing files:  89%|████████▉ | 855/961 [34:42<00:54,  1.93file/s]"
          ]
        },
        {
          "output_type": "stream",
          "name": "stdout",
          "text": [
            "  Keyword not found in any section. Skipping file.\n",
            "\n",
            "Processing file: /content/med_webscraper/ted_html_pages/475230-2020.html\n"
          ]
        },
        {
          "output_type": "stream",
          "name": "stderr",
          "text": [
            "Processing files:  89%|████████▉ | 856/961 [34:42<00:45,  2.30file/s]"
          ]
        },
        {
          "output_type": "stream",
          "name": "stdout",
          "text": [
            "  Keyword not found in any section. Skipping file.\n",
            "\n",
            "Processing file: /content/med_webscraper/ted_html_pages/778268-2023.html\n"
          ]
        },
        {
          "output_type": "stream",
          "name": "stderr",
          "text": [
            "Processing files:  89%|████████▉ | 858/961 [34:43<00:35,  2.92file/s]"
          ]
        },
        {
          "output_type": "stream",
          "name": "stdout",
          "text": [
            "  Keyword not found in any section. Skipping file.\n",
            "\n",
            "Processing file: /content/med_webscraper/ted_html_pages/437688-2018.html\n",
            "  Keyword not found in any section. Skipping file.\n",
            "\n",
            "Processing file: /content/med_webscraper/ted_html_pages/468753-2022.html\n"
          ]
        },
        {
          "output_type": "stream",
          "name": "stderr",
          "text": [
            "Processing files:  89%|████████▉ | 860/961 [34:43<00:24,  4.13file/s]"
          ]
        },
        {
          "output_type": "stream",
          "name": "stdout",
          "text": [
            "  Keyword not found in any section. Skipping file.\n",
            "\n",
            "Processing file: /content/med_webscraper/ted_html_pages/605490-2019.html\n",
            "  Keyword not found in any section. Skipping file.\n",
            "\n",
            "Processing file: /content/med_webscraper/ted_html_pages/126745-2019.html\n"
          ]
        },
        {
          "output_type": "stream",
          "name": "stderr",
          "text": [
            "Processing files:  90%|████████▉ | 861/961 [34:43<00:32,  3.10file/s]"
          ]
        },
        {
          "output_type": "stream",
          "name": "stdout",
          "text": [
            "  Keyword not found in any section. Skipping file.\n",
            "\n",
            "Processing file: /content/med_webscraper/ted_html_pages/541279-2021.html\n"
          ]
        },
        {
          "output_type": "stream",
          "name": "stderr",
          "text": [
            "Processing files:  90%|████████▉ | 862/961 [34:44<00:31,  3.10file/s]"
          ]
        },
        {
          "output_type": "stream",
          "name": "stdout",
          "text": [
            "  Keyword not found in any section. Skipping file.\n",
            "\n",
            "Processing file: /content/med_webscraper/ted_html_pages/655717-2025.html\n"
          ]
        },
        {
          "output_type": "stream",
          "name": "stderr",
          "text": [
            "Processing files:  90%|████████▉ | 862/961 [34:44<00:31,  3.10file/s]"
          ]
        },
        {
          "output_type": "stream",
          "name": "stdout",
          "text": [
            "  Keyword found in section. Extracting data...\n",
            "    Making batch translation request for 49 unique strings...\n"
          ]
        },
        {
          "output_type": "stream",
          "name": "stderr",
          "text": [
            "Processing files:  90%|████████▉ | 863/961 [34:53<04:47,  2.93s/file]"
          ]
        },
        {
          "output_type": "stream",
          "name": "stdout",
          "text": [
            "    Translation complete.\n",
            "\n",
            "Processing file: /content/med_webscraper/ted_html_pages/630653-2022.html\n"
          ]
        },
        {
          "output_type": "stream",
          "name": "stderr",
          "text": [
            "Processing files:  90%|████████▉ | 864/961 [34:53<03:24,  2.10s/file]"
          ]
        },
        {
          "output_type": "stream",
          "name": "stdout",
          "text": [
            "  Keyword not found in any section. Skipping file.\n",
            "\n",
            "Processing file: /content/med_webscraper/ted_html_pages/613835-2022.html\n"
          ]
        },
        {
          "output_type": "stream",
          "name": "stderr",
          "text": [
            "Processing files:  90%|█████████ | 865/961 [34:53<02:28,  1.55s/file]"
          ]
        },
        {
          "output_type": "stream",
          "name": "stdout",
          "text": [
            "  Keyword not found in any section. Skipping file.\n",
            "\n",
            "Processing file: /content/med_webscraper/ted_html_pages/293186-2022.html\n"
          ]
        },
        {
          "output_type": "stream",
          "name": "stderr",
          "text": [
            "Processing files:  90%|█████████ | 866/961 [35:00<04:58,  3.14s/file]"
          ]
        },
        {
          "output_type": "stream",
          "name": "stdout",
          "text": [
            "  Keyword not found in any section. Skipping file.\n",
            "\n",
            "Processing file: /content/med_webscraper/ted_html_pages/11456-2023.html\n"
          ]
        },
        {
          "output_type": "stream",
          "name": "stderr",
          "text": [
            "Processing files:  90%|█████████ | 867/961 [35:01<03:56,  2.52s/file]"
          ]
        },
        {
          "output_type": "stream",
          "name": "stdout",
          "text": [
            "  Keyword not found in any section. Skipping file.\n",
            "\n",
            "Processing file: /content/med_webscraper/ted_html_pages/249741-2025.html\n",
            "  Keyword found in section. Extracting data...\n"
          ]
        },
        {
          "output_type": "stream",
          "name": "stderr",
          "text": [
            "Processing files:  90%|█████████ | 868/961 [35:01<02:52,  1.86s/file]"
          ]
        },
        {
          "output_type": "stream",
          "name": "stdout",
          "text": [
            "    Making batch translation request for 55 unique strings...\n",
            "    Warning: Batch translation failed. Using original text. Error: Mit folgenden Unternehmen wurden Verträge in den jeweils genannten Verfahren mit einem Rabattbeginn zum in der Kurzbezeichnung genannten Datum geschlossen: 1. Open-House-Biologika-2023-16Adalimumab: axicorp Pharma GmbH, Friedrichsdorf 2. Open-House-Biologika-2023-21 Teriparatid: Aaragon Pharma s.r.o., Hostivice, Tschechische Republik (CZ) 3. Open-House-Originale-2023-23 Aclidiniumbromid: Orifarm GmbH, Leverkusen 4. Open-House-Biologika-2023-33 Natalizumab (Darreichungsform zur subkutanen Injektion): Abacus Medicine A/S, Kopenhagen, Dänemark (DK) 5. Open-House-Biologika-2024-05 Ustekinumab: Biocon Biologics Germany GmbH, Frankfurt am Main 6. Open-House-Biologika-2024-12 Dornase alfa: kohlpharma GmbH, Merzig 7. Open-House-Biologika-2025-01 Los 1: Infliximab (Darreichungsform zur subkutanen Injektion): 101 Carefarm GmbH, Leverkusen; 1 4 U Pharma GmbH, Densborn; Aaragon Pharma s.r.o., Leverkusen; ACA Müller Pharma GmbH, Gottmardingen; axicorp Pharma B.V., Den Haag, Niederlande (NL); CC Pharma, Densborn; Celltrion Healthcare Deutschland GmbH, Bad Homburg vor der Höhe; EMRA-MED, Trittau; EurimPharm Arzneimittel GmbH, Saaldorf-Surheim; kohlpharma GmbH, Merzig; Orifarm GmbH, Leverkusen 8. Open-House-Biologika-2025-01 Los 2: Infliximab (Darreichungsform zur intravenösen Anwendung): 101 Carefarm GmbH, Leverkusen; 1 4 U Pharma GmbH, Densborn; 2care4 ApS, Esbjerg, Dänemark (DK); Aaragon Pharma s.r.o., Leverkusen; ACA Müller Pharma GmbH, Gottmardingen; allomedic GmbH, Köln; axicorp Pharma B.V., Den Haag, Niederlande (NL); CC Pharma, Densborn; Celltrion Healthcare Deutschland GmbH, Bad Homburg vor der Höhe; EurimPharm Arzneimittel GmbH, Saaldorf-Surheim; kohlpharma GmbH, Merzig; Orifarm GmbH, Leverkusen 9. Open-House-Originale-2023-15 Beclomethason/Formoterol/Glycopyrroniumbromid (Wirkstoffkombination): CC Pharma GmbH, Densborn 10. Open-House-Originale-2024-15 Pazopanib (Wirkstärke: 200mg): Orifarm GmbH, Leverkusen 11. Open-House-Originale-2025-06 Dolutegravir: Abacus Medicine A/S, Kopenhagen, Dänemark (DK) 12. Open-House-Originale-2025-08 Roxadustat: EMRA-MED, Trittau 13. Open-House-Originale-2025-09 Los 2: Dronabinol: ADREXpharma GmbH, Koblenz 14. Open-House-Originale-2025-09 Los 1: Cannabisextrakte (zur oralen Anwendung): ADREXpharma GmbH, Koblenz; Cannamedical Pharma GmbH, Köln; STADAPHARM GmbH, Bad Vilbel 15. Open-House-Rabattverträge-2024-01 Leuprorelin_TK, HEK, hkk: ratiopharm GmbH, Ulm 16. Open-House-Rabattverträge-2024-02 Clindamycin/Benzoylperoxid_TK, HEK, hkk: Dermapharm AG, Grünwald 17. Open-House-Rabattverträge-2024-02 Etravirin_TK, HEK, hkk: 2care4 ApS, Esbjerg, Dänemark (DK) 18. Open-House-Rabattverträge-2024-05 Clostridium botulinum (Onabotulinum) Toxin Typ A_TK, HEK, hkk: 1 4 U Pharma GmbH, Densborn 19. Open-House-Rabattverträge-2024-05 Epinephrin (PEN, zus. ILO in einem Autoinjektor)_TK, HEK, hkk: Abacus Medicine A/S, Kopenhagen, Dänemark (DK); Originalis B.V., Amsterdam, Niederlande (NL) 20. Open-House-Rabattverträge-2024-08 Chinin_TK, HEK, hkk: axunio Pharma GmbH, Hamburg 21. Open-House-Rabattverträge-2024-10 Nitisinon (feste orale DRF)_TK, HEK, hkk: Abacus Medicine A/S, Kopenhagen, Dänemark (DK) 22. Open-House-Rabattverträge-2024-10 Pyridostigmin (unretardierte feste orale DRF)_TK, HEK, hkk: Viatris Healthcare GmbH Zweigniederlassung Bad Homburg, Bad Homburg 23. Open-House-Rabattverträge-2024-12 Budesonid (HVW)_TK, HEK, hkk: Abacus Medicine A/S, Kopenhagen, Dänemark (DK) 24. Open-House-Rabattverträge-2024-14 Trientin_TK, HEK, hkk: Tillomed Pharma GmbH, Schönefeld 25. Open-House-Rabattverträge-2024-15 Nilotinib (ausgenommen orale Verabreichung dispergiert in Apfelmus)_TK, HEK, hkk: Viatris Healthcare GmbH Zweigniederlassung Bad Homburg, Bad Homburg 26. Open-House-Rabattverträge-2025-01 Minoxidil (ATC: C02DC01)_TK, HEK, hkk: Aristo Pharma GmbH, Berlin 27. Open-House-Rabattverträge-2025-02 Dabigatran (HKP: 10 St., N3)_TK, HEK: 1 A Pharma GmbH, Holzkirchen 28. Open-House-Rabattverträge-2025-02 Enalapril (TAB, ausgenommen 1,91 mg, 3,82 mg)_TK, HEK, hkk: 1 A Pharma GmbH, Holzkirchen 29. Open-House-Rabattverträge-2025-02 Maraviroc (ausgenommen LSE)_TK, HEK, hkk: CC Pharma GmbH, Densborn; EurimPharm Arzneimittel GmbH, Saaldorf-Surheim; kohlpharma GmbH, Merzig; Orifarm GmbH, Leverkusen; ViiV Healthcare GmbH, München; Waymade B.V., Amsterdam, Niederlande (NL) 30. Open-House-Rabattverträge-2025-02 Octreotid (ausgenommen Depot-Darreichungsformen)_TK, HEK, hkk: EMRA-MED Arzneimittel GmbH, Trittau 31. Open-House-Rabattverträge-2025-02 Paliperidon (parenterale Depot-Darreichungsformen; 1 x dreimonatliche Anwendung)_TK, HEK, hkk: axicorp Pharma GmbH, Friedrichsdorf; CC Pharma GmbH, Densborn 32. Open-House-Rabattverträge-2025-02 Sapropterin (PLE)_TK, HEK, hkk: Dipharma Arzneimittel GmbH, Limburg an der Lahn 33. Open-House-Rabattverträge-2025-02 Sulfasalazin (ausgenommen 500 mg N3 (ATC: M01CX02))_TK, HEK, hkk: Pfizer Pharma GmbH, Berlin 34. Open-House-Rabattverträge-2025-04 Salbutamol (DOS)_TK, HEK, hkk: actrevo GmbH, Hamburg; InfectoPharm Arzneimittel und Consilium GmbH, Heppenheim ratiopharm GmbH, Ulm 35. Open-House-Rabattverträge-2024-07 Tolvaptan (ATC: C03XA01; 7,5 mg)_TK, HEK, hkk: Otsuka Pharma GmbH, Frankfurt am Main --> Text length need to be between 0 and 5000 characters\n",
            "\n",
            "Processing file: /content/med_webscraper/ted_html_pages/504781-2023.html\n"
          ]
        },
        {
          "output_type": "stream",
          "name": "stderr",
          "text": [
            "                                                                     "
          ]
        },
        {
          "output_type": "stream",
          "name": "stdout",
          "text": [
            "  Keyword not found in any section. Skipping file.\n",
            "\n",
            "Processing file: /content/med_webscraper/ted_html_pages/267157-2024.html\n",
            "  Keyword found in section. Extracting data...\n"
          ]
        },
        {
          "output_type": "stream",
          "name": "stderr",
          "text": [
            "Processing files:  90%|█████████ | 869/961 [35:02<02:18,  1.51s/file]"
          ]
        },
        {
          "output_type": "stream",
          "name": "stdout",
          "text": [
            "    Making batch translation request for 63 unique strings...\n"
          ]
        },
        {
          "output_type": "stream",
          "name": "stderr",
          "text": [
            "Processing files:  91%|█████████ | 871/961 [35:06<02:19,  1.55s/file]"
          ]
        },
        {
          "output_type": "stream",
          "name": "stdout",
          "text": [
            "    Warning: Batch translation failed. Using original text. Error: Zum Beschaffungsbedarf zählen sämtliche Arzneimittel mit den in Anlage 3 zu den Teilnahmebedingungen mit Stand vom 4.4.2024 (sog. Wirkstoffliste und Fristen) benannten und im Folgenden aufgezählten Wirkstoffen: 1.Adalimumab(Lfd.-Nr. 1 der Anlage 3 zu den Teilnahmebedingungen), 2. Etanercept (Lfd.-­Nr. 2 der Anlage 3 zu den Teilnahmebedingungen), 3. Filgrastim (Lfd.-­Nr. 3 der Anlage 3 zu den Teilnahmebedingungen), 4. Infliximab (Lfd.-­Nr. 4 der Anlage 3 zu den Teilnahmebedingungen), 5. Interferon beta-1a (Lfd.-Nr. 5 der Anlage 3 zu den Teilnahmebedingungen), 6. Interferon beta-1b (Lfd.-Nr. 6 der Anlage 3 zu den Teilnahmebedingungen), 7. Leuprorelin (Lfd.-­Nr. 7 der Anlage 3 zu den Teilnahmebedingungen), 8. Octreotid (Depot)* (Lfd.-­Nr. 8 der Anlage 3 zu den Teilnahmebedingungen), 9. Pegfilgrastim (Lfd.-Nr. 9 der Anlage 3 zu den Teilnahmebedingungen), 10. Beclometason dipropionat + Formoterol hemifumarat-1-Wasser (Lfd.-­Nr. 10 der Anlage 3 zu den Teilnahmebedingungen), 11. Rotigotin (Lfd.-­Nr. 11 der Anlage 3 zu den Teilnahmebedingungen), 12. Abatacept (Lfd.-­Nr. 12 der Anlage 3 zu den Teilnahmebedingungen), 13. Denosumab (Lfd.-­Nr. 13 der Anlage 3 zu den Teilnahmebedingungen), 14. Dornase alfa (Lfd.-­Nr. 14 der Anlage 3 zu den Teilnahmebedingungen), 15. Natalizumab (Lfd.-­Nr. 15 der Anlage 3 zu den Teilnahmebedingungen), 16. Tocilizumab (Lfd.-­Nr. 16 der Anlage 3 zu den Teilnahmebedingungen). *Vom Beschaffungsbedarf umfasst sind insoweit nur Arzneimittel mit retardierten (langwirkenden) Monatsdepot-­Formen. Der Beschaffungsbedarf wurde dabei nicht in Lose eingeteilt. Es handelt sich um ein Open-­House-­Verfahren. Soweit im Rahmen dieser Bekanntmachung daher Formulierungen verwendet werden, welche auf die Einteilung des Beschaffungsbedarfs in ein oder mehrere Los(e) hindeuten, ist dies allein den Vorgaben dieses Bekanntmachungsformulars geschuldet. In diesem Zusammenhang wird auf die eingangs unter Ziffer 2.1 beschriebene Nichtgeltung vergaberechtlicher Regelungen verwiesen. Die AOK startete das Open-House-Verfahren mit den erstbekanntgemachten Wirkstoffen der lfd.-Nr. 1 bis 9 der Anlage 3 zu den Teilnahmebedingungen (sog. Startwirkstoffe) und erweiterte den Beschaffungsbedarf mit den Folgebekanntmachungen um die Wirkstoffkombination und Wirkstoffe der lfd.-Nr. 10 bis 16 der Anlage 3 zu den Teilnahmebedingungen. Die AOK behält sich weiterhin vor, den Beschaffungsbedarf dieses Open-­House-­Verfahrens im Laufe des Verfahrens zu erweitern, d. h. die Anlage 3 zu den Teilnahmebedingungen, um weitere Wirkstoffe zu ergänzen. Nähere Informationen zu einer möglichen Erweiterung des Beschaffungsbedarfs enthalten die Teilnahmebedingungen (Abschnitt A.I.4.1). Verträge zu Arzneimitteln mit den Startwirkstoffen konnten bereits mit Wirkung zum 1.7.2023 geschlossen werden (sog. frühestmöglicher Vertragsstart). Verträge zu Arzneimitteln mit der laufenden Nummer 10 der Anlage 3 zu den Teilnahmebedingungen konnten frühestens mit Wirkung zum 1.8.2023 geschlossen werden, Verträge mit der laufenden Nummer 11 der Anlage 3 zu den Teilnahmebedingungen konnten frühestens mit Wirkung zum 1.4.2024 geschlossen werden, Verträge mit der laufenden Nummer 12 bis 16 der Anlage 3 zu den Teilnahmebedingungen können frühestens mit Wirkung zum 1.7.2024 geschlossen werden. Alle im Rahmen dieses Open­-House-­Verfahrens geschlossenen Rabattverträge enden einheitlich am 30.6.2025 (sog. Vertragsende). Der Abschluss eines Rabattvertrags zu Arzneimitteln mit den o. g. Wirkstoffen zu einem späteren Zeitpunkt als dem 1.7.2023 bzw. dem 1.8.2023 bzw. dem 1.4.2024 bzw. dem 1.7.2024 ist jeweils zu einem Monatsersten möglich. Die Angebote sind dazu spätestens 6 Wochen vor dem beabsichtigten Vertragsstart nach Maßgabe der Teilnahmeunterlagen vollständig ausschließlich in elektronischer Form über den Kommunikationsbereich der Vergabeplattform einzureichen. Die jeweiligen Angebotsfristen sind dabei bezogen auf den vom interessierten pharmazeutischen Unternehmer beabsichtigten Vertragsstart der Anlage 3 zu den Teilnahmebedingungen zu entnehmen. Vor dem 31.5.2023 sind keine Verträge zu dem Arzneimittel mit den Startwirkstoffen, vor dem 3.7.2023 keine Verträge zu Arzneimitteln mit der Wirkstoffkombination (lfd.-­Nr. 10 der Anlage 3 zu den Teilnahmebedingungen) und vor dem 1.3.2024 keine Verträge zu Arzneimitteln mit dem Wirkstoff (lfd.-­Nr. 11 der Anlage 3 zu den Teilnahmebedingungen) geschlossen worden (Warte-­ und Stillhaltefrist). Vor dem 28.5.2024 werden keine Verträge zu Arzneimitteln mit den Wirkstoffen (lfd.-­Nr. 12 bis 16 der Anlage 3 zu den Teilnahmebedingungen) geschlossen. Für alle im Rahmen dieses Open-House-Verfahrens abzuschließenden Verträge ist der letztmögliche Vertragsstart der 1.6.2025. Angebote für diesen Vertragsstart müssen spätestens am 17.4.2025 eingehen. Die AOK gibt den Inhalt des Rabattvertrags für alle potenziellen Vertragspartner verbindlich vor. Verhandlungen über Vertragsinhalte werden nicht geführt. Die AOK sichert den Vertragspartnern keine Exklusivität zu. Im Fall eines Vertragsschlusses gewährt der pharmazeutische Unternehmer der AOK einen Rabatt auf die vertragsgegenständlichen Arzneimittel, die nach näherer Maßgabe der Teilnahmebedingungen und des Rabattvertrags zu Lasten der AOK abgegeben werden (zur vorgegebenen Rabatthöhe und Rabattberechnung wird insbesondere auf die Abschnitte A.I.4.3, A.I.5 und A.I.7 der Teilnahmebedingungen sowie § 2 Abs. (2) und § 4 Abs. (3) des Rabattvertrags verwiesen. --> Text length need to be between 0 and 5000 characters\n",
            "\n",
            "Processing file: /content/med_webscraper/ted_html_pages/212703-2023.html\n",
            "  Keyword not found in any section. Skipping file.\n",
            "\n",
            "Processing file: /content/med_webscraper/ted_html_pages/417200-2024.html\n"
          ]
        },
        {
          "output_type": "stream",
          "name": "stderr",
          "text": [
            "Processing files:  91%|█████████ | 871/961 [35:06<02:19,  1.55s/file]"
          ]
        },
        {
          "output_type": "stream",
          "name": "stdout",
          "text": [
            "  Keyword found in section. Extracting data...\n",
            "    Making batch translation request for 36 unique strings...\n"
          ]
        },
        {
          "output_type": "stream",
          "name": "stderr",
          "text": [
            "Processing files:  91%|█████████ | 871/961 [35:12<02:19,  1.55s/file]"
          ]
        },
        {
          "output_type": "stream",
          "name": "stdout",
          "text": [
            "    Translation complete.\n",
            "  Keyword found in section. Extracting data...\n",
            "    Making batch translation request for 66 unique strings...\n"
          ]
        },
        {
          "output_type": "stream",
          "name": "stderr",
          "text": [
            "Processing files:  91%|█████████ | 871/961 [35:19<02:19,  1.55s/file]"
          ]
        },
        {
          "output_type": "stream",
          "name": "stdout",
          "text": [
            "    Translation complete.\n",
            "  Keyword found in section. Extracting data...\n",
            "    Making batch translation request for 66 unique strings...\n"
          ]
        },
        {
          "output_type": "stream",
          "name": "stderr",
          "text": [
            "Processing files:  91%|█████████ | 872/961 [35:30<12:29,  8.42s/file]"
          ]
        },
        {
          "output_type": "stream",
          "name": "stdout",
          "text": [
            "    Translation complete.\n",
            "\n",
            "Processing file: /content/med_webscraper/ted_html_pages/359064-2020.html\n"
          ]
        },
        {
          "output_type": "stream",
          "name": "stderr",
          "text": [
            "Processing files:  91%|█████████ | 874/961 [35:32<06:29,  4.48s/file]"
          ]
        },
        {
          "output_type": "stream",
          "name": "stdout",
          "text": [
            "  Keyword not found in any section. Skipping file.\n",
            "\n",
            "Processing file: /content/med_webscraper/ted_html_pages/276065-2023.html\n",
            "  Keyword not found in any section. Skipping file.\n",
            "\n",
            "Processing file: /content/med_webscraper/ted_html_pages/571385-2019.html\n"
          ]
        },
        {
          "output_type": "stream",
          "name": "stderr",
          "text": [
            "Processing files:  91%|█████████ | 876/961 [35:33<03:21,  2.37s/file]"
          ]
        },
        {
          "output_type": "stream",
          "name": "stdout",
          "text": [
            "  Keyword not found in any section. Skipping file.\n",
            "\n",
            "Processing file: /content/med_webscraper/ted_html_pages/533500-2022.html\n",
            "  Keyword not found in any section. Skipping file.\n",
            "\n",
            "Processing file: /content/med_webscraper/ted_html_pages/194988-2022.html\n"
          ]
        },
        {
          "output_type": "stream",
          "name": "stderr",
          "text": [
            "Processing files:  91%|█████████▏| 877/961 [35:33<02:25,  1.73s/file]"
          ]
        },
        {
          "output_type": "stream",
          "name": "stdout",
          "text": [
            "  Keyword not found in any section. Skipping file.\n",
            "\n",
            "Processing file: /content/med_webscraper/ted_html_pages/54197-2025.html\n"
          ]
        },
        {
          "output_type": "stream",
          "name": "stderr",
          "text": [
            "Processing files:  91%|█████████▏| 877/961 [35:33<02:25,  1.73s/file]"
          ]
        },
        {
          "output_type": "stream",
          "name": "stdout",
          "text": [
            "  Keyword found in section. Extracting data...\n",
            "    Making batch translation request for 41 unique strings...\n"
          ]
        },
        {
          "output_type": "stream",
          "name": "stderr",
          "text": [
            "Processing files:  91%|█████████▏| 877/961 [35:37<02:25,  1.73s/file]"
          ]
        },
        {
          "output_type": "stream",
          "name": "stdout",
          "text": [
            "    Translation complete.\n",
            "  Keyword found in section. Extracting data...\n",
            "    Making batch translation request for 42 unique strings...\n"
          ]
        },
        {
          "output_type": "stream",
          "name": "stderr",
          "text": [
            "Processing files:  91%|█████████▏| 878/961 [35:41<05:07,  3.71s/file]"
          ]
        },
        {
          "output_type": "stream",
          "name": "stdout",
          "text": [
            "    Translation complete.\n",
            "\n",
            "Processing file: /content/med_webscraper/ted_html_pages/566485-2018.html\n"
          ]
        },
        {
          "output_type": "stream",
          "name": "stderr",
          "text": [
            "Processing files:  92%|█████████▏| 880/961 [35:42<02:35,  1.92s/file]"
          ]
        },
        {
          "output_type": "stream",
          "name": "stdout",
          "text": [
            "  Keyword not found in any section. Skipping file.\n",
            "\n",
            "Processing file: /content/med_webscraper/ted_html_pages/98076-2022.html\n",
            "  Keyword not found in any section. Skipping file.\n",
            "\n",
            "Processing file: /content/med_webscraper/ted_html_pages/54041-2025.html\n"
          ]
        },
        {
          "output_type": "stream",
          "name": "stderr",
          "text": [
            "Processing files:  92%|█████████▏| 880/961 [35:42<02:35,  1.92s/file]"
          ]
        },
        {
          "output_type": "stream",
          "name": "stdout",
          "text": [
            "  Keyword found in section. Extracting data...\n",
            "    Making batch translation request for 41 unique strings...\n"
          ]
        },
        {
          "output_type": "stream",
          "name": "stderr",
          "text": [
            "Processing files:  92%|█████████▏| 881/961 [35:47<03:48,  2.86s/file]"
          ]
        },
        {
          "output_type": "stream",
          "name": "stdout",
          "text": [
            "    Translation complete.\n",
            "\n",
            "Processing file: /content/med_webscraper/ted_html_pages/504941-2022.html\n"
          ]
        },
        {
          "output_type": "stream",
          "name": "stderr",
          "text": [
            "Processing files:  92%|█████████▏| 882/961 [35:47<02:47,  2.12s/file]"
          ]
        },
        {
          "output_type": "stream",
          "name": "stdout",
          "text": [
            "  Keyword not found in any section. Skipping file.\n",
            "\n",
            "Processing file: /content/med_webscraper/ted_html_pages/109997-2019.html\n"
          ]
        },
        {
          "output_type": "stream",
          "name": "stderr",
          "text": [
            "Processing files:  92%|█████████▏| 884/961 [35:48<01:29,  1.16s/file]"
          ]
        },
        {
          "output_type": "stream",
          "name": "stdout",
          "text": [
            "  Keyword not found in any section. Skipping file.\n",
            "\n",
            "Processing file: /content/med_webscraper/ted_html_pages/603712-2021.html\n",
            "  Keyword not found in any section. Skipping file.\n",
            "\n",
            "Processing file: /content/med_webscraper/ted_html_pages/253479-2020.html\n"
          ]
        },
        {
          "output_type": "stream",
          "name": "stderr",
          "text": [
            "Processing files:  92%|█████████▏| 885/961 [35:48<01:16,  1.00s/file]"
          ]
        },
        {
          "output_type": "stream",
          "name": "stdout",
          "text": [
            "  Keyword not found in any section. Skipping file.\n",
            "\n",
            "Processing file: /content/med_webscraper/ted_html_pages/336784-2020.html\n"
          ]
        },
        {
          "output_type": "stream",
          "name": "stderr",
          "text": [
            "Processing files:  92%|█████████▏| 886/961 [35:50<01:25,  1.13s/file]"
          ]
        },
        {
          "output_type": "stream",
          "name": "stdout",
          "text": [
            "  Keyword not found in any section. Skipping file.\n",
            "\n",
            "Processing file: /content/med_webscraper/ted_html_pages/387488-2019.html\n"
          ]
        },
        {
          "output_type": "stream",
          "name": "stderr",
          "text": [
            "Processing files:  92%|█████████▏| 887/961 [35:50<01:15,  1.02s/file]"
          ]
        },
        {
          "output_type": "stream",
          "name": "stdout",
          "text": [
            "  Keyword not found in any section. Skipping file.\n",
            "\n",
            "Processing file: /content/med_webscraper/ted_html_pages/376904-2020.html\n"
          ]
        },
        {
          "output_type": "stream",
          "name": "stderr",
          "text": [
            "Processing files:  92%|█████████▏| 888/961 [35:51<00:58,  1.25file/s]"
          ]
        },
        {
          "output_type": "stream",
          "name": "stdout",
          "text": [
            "  Keyword not found in any section. Skipping file.\n",
            "\n",
            "Processing file: /content/med_webscraper/ted_html_pages/187709-2016.html\n"
          ]
        },
        {
          "output_type": "stream",
          "name": "stderr",
          "text": [
            "Processing files:  93%|█████████▎| 889/961 [35:51<00:53,  1.34file/s]"
          ]
        },
        {
          "output_type": "stream",
          "name": "stdout",
          "text": [
            "  Keyword not found in any section. Skipping file.\n",
            "\n",
            "Processing file: /content/med_webscraper/ted_html_pages/463523-2021.html\n"
          ]
        },
        {
          "output_type": "stream",
          "name": "stderr",
          "text": [
            "Processing files:  93%|█████████▎| 890/961 [35:52<00:44,  1.60file/s]"
          ]
        },
        {
          "output_type": "stream",
          "name": "stdout",
          "text": [
            "  Keyword not found in any section. Skipping file.\n",
            "\n",
            "Processing file: /content/med_webscraper/ted_html_pages/438046-2017.html\n"
          ]
        },
        {
          "output_type": "stream",
          "name": "stderr",
          "text": [
            "Processing files:  93%|█████████▎| 891/961 [35:52<00:38,  1.84file/s]"
          ]
        },
        {
          "output_type": "stream",
          "name": "stdout",
          "text": [
            "  Keyword not found in any section. Skipping file.\n",
            "\n",
            "Processing file: /content/med_webscraper/ted_html_pages/485946-2017.html\n"
          ]
        },
        {
          "output_type": "stream",
          "name": "stderr",
          "text": [
            "Processing files:  93%|█████████▎| 893/961 [35:53<00:31,  2.15file/s]"
          ]
        },
        {
          "output_type": "stream",
          "name": "stdout",
          "text": [
            "  Keyword not found in any section. Skipping file.\n",
            "\n",
            "Processing file: /content/med_webscraper/ted_html_pages/116878-2016.html\n",
            "  Keyword not found in any section. Skipping file.\n",
            "\n",
            "Processing file: /content/med_webscraper/ted_html_pages/557301-2020.html\n"
          ]
        },
        {
          "output_type": "stream",
          "name": "stderr",
          "text": [
            "Processing files:  93%|█████████▎| 894/961 [35:53<00:33,  1.99file/s]"
          ]
        },
        {
          "output_type": "stream",
          "name": "stdout",
          "text": [
            "  Keyword not found in any section. Skipping file.\n",
            "\n",
            "Processing file: /content/med_webscraper/ted_html_pages/47841-2019.html\n"
          ]
        },
        {
          "output_type": "stream",
          "name": "stderr",
          "text": [
            "Processing files:  93%|█████████▎| 895/961 [35:54<00:28,  2.34file/s]"
          ]
        },
        {
          "output_type": "stream",
          "name": "stdout",
          "text": [
            "  Keyword not found in any section. Skipping file.\n",
            "\n",
            "Processing file: /content/med_webscraper/ted_html_pages/396432-2021.html\n"
          ]
        },
        {
          "output_type": "stream",
          "name": "stderr",
          "text": [
            "Processing files:  93%|█████████▎| 896/961 [35:58<01:48,  1.67s/file]"
          ]
        },
        {
          "output_type": "stream",
          "name": "stdout",
          "text": [
            "  Keyword not found in any section. Skipping file.\n",
            "\n",
            "Processing file: /content/med_webscraper/ted_html_pages/245829-2020.html\n"
          ]
        },
        {
          "output_type": "stream",
          "name": "stderr",
          "text": [
            "Processing files:  93%|█████████▎| 897/961 [36:01<02:10,  2.04s/file]"
          ]
        },
        {
          "output_type": "stream",
          "name": "stdout",
          "text": [
            "  Keyword not found in any section. Skipping file.\n",
            "\n",
            "Processing file: /content/med_webscraper/ted_html_pages/427141-2022.html\n"
          ]
        },
        {
          "output_type": "stream",
          "name": "stderr",
          "text": [
            "Processing files:  93%|█████████▎| 898/961 [36:02<01:46,  1.68s/file]"
          ]
        },
        {
          "output_type": "stream",
          "name": "stdout",
          "text": [
            "  Keyword not found in any section. Skipping file.\n",
            "\n",
            "Processing file: /content/med_webscraper/ted_html_pages/314072-2023.html\n"
          ]
        },
        {
          "output_type": "stream",
          "name": "stderr",
          "text": [
            "Processing files:  94%|█████████▎| 899/961 [36:02<01:16,  1.24s/file]"
          ]
        },
        {
          "output_type": "stream",
          "name": "stdout",
          "text": [
            "  Keyword not found in any section. Skipping file.\n",
            "\n",
            "Processing file: /content/med_webscraper/ted_html_pages/170099-2019.html\n"
          ]
        },
        {
          "output_type": "stream",
          "name": "stderr",
          "text": [
            "Processing files:  94%|█████████▍| 901/961 [36:03<00:42,  1.43file/s]"
          ]
        },
        {
          "output_type": "stream",
          "name": "stdout",
          "text": [
            "  Keyword not found in any section. Skipping file.\n",
            "\n",
            "Processing file: /content/med_webscraper/ted_html_pages/578520-2019.html\n",
            "  Keyword not found in any section. Skipping file.\n",
            "\n",
            "Processing file: /content/med_webscraper/ted_html_pages/4491-2020.html\n"
          ]
        },
        {
          "output_type": "stream",
          "name": "stderr",
          "text": [
            "Processing files:  94%|█████████▍| 903/961 [36:03<00:24,  2.37file/s]"
          ]
        },
        {
          "output_type": "stream",
          "name": "stdout",
          "text": [
            "  Keyword not found in any section. Skipping file.\n",
            "\n",
            "Processing file: /content/med_webscraper/ted_html_pages/667570-2022.html\n",
            "  Keyword not found in any section. Skipping file.\n",
            "\n",
            "Processing file: /content/med_webscraper/ted_html_pages/216110-2017.html\n"
          ]
        },
        {
          "output_type": "stream",
          "name": "stderr",
          "text": [
            "Processing files:  94%|█████████▍| 904/961 [36:03<00:19,  2.97file/s]"
          ]
        },
        {
          "output_type": "stream",
          "name": "stdout",
          "text": [
            "  Keyword not found in any section. Skipping file.\n",
            "\n",
            "Processing file: /content/med_webscraper/ted_html_pages/235818-2022.html\n"
          ]
        },
        {
          "output_type": "stream",
          "name": "stderr",
          "text": [
            "Processing files:  94%|█████████▍| 905/961 [36:05<00:44,  1.26file/s]"
          ]
        },
        {
          "output_type": "stream",
          "name": "stdout",
          "text": [
            "  Keyword not found in any section. Skipping file.\n",
            "\n",
            "Processing file: /content/med_webscraper/ted_html_pages/508663-2023.html\n"
          ]
        },
        {
          "output_type": "stream",
          "name": "stderr",
          "text": [
            "Processing files:  94%|█████████▍| 906/961 [36:05<00:34,  1.60file/s]"
          ]
        },
        {
          "output_type": "stream",
          "name": "stdout",
          "text": [
            "  Keyword not found in any section. Skipping file.\n",
            "\n",
            "Processing file: /content/med_webscraper/ted_html_pages/364346-2018.html\n"
          ]
        },
        {
          "output_type": "stream",
          "name": "stderr",
          "text": [
            "Processing files:  94%|█████████▍| 907/961 [36:05<00:28,  1.89file/s]"
          ]
        },
        {
          "output_type": "stream",
          "name": "stdout",
          "text": [
            "  Keyword not found in any section. Skipping file.\n",
            "\n",
            "Processing file: /content/med_webscraper/ted_html_pages/431927-2020.html\n"
          ]
        },
        {
          "output_type": "stream",
          "name": "stderr",
          "text": [
            "Processing files:  95%|█████████▍| 909/961 [36:06<00:24,  2.09file/s]"
          ]
        },
        {
          "output_type": "stream",
          "name": "stdout",
          "text": [
            "  Keyword not found in any section. Skipping file.\n",
            "\n",
            "Processing file: /content/med_webscraper/ted_html_pages/511844-2017.html\n",
            "  Keyword not found in any section. Skipping file.\n"
          ]
        },
        {
          "output_type": "stream",
          "name": "stderr",
          "text": [
            "Processing files:  95%|█████████▍| 909/961 [36:06<00:24,  2.09file/s]"
          ]
        },
        {
          "output_type": "stream",
          "name": "stdout",
          "text": [
            "\n",
            "Processing file: /content/med_webscraper/ted_html_pages/267216-2021.html\n"
          ]
        },
        {
          "output_type": "stream",
          "name": "stderr",
          "text": [
            "Processing files:  95%|█████████▍| 910/961 [36:08<00:38,  1.31file/s]"
          ]
        },
        {
          "output_type": "stream",
          "name": "stdout",
          "text": [
            "  Keyword not found in any section. Skipping file.\n",
            "\n",
            "Processing file: /content/med_webscraper/ted_html_pages/668833-2022.html\n"
          ]
        },
        {
          "output_type": "stream",
          "name": "stderr",
          "text": [
            "Processing files:  95%|█████████▍| 911/961 [36:09<00:34,  1.44file/s]"
          ]
        },
        {
          "output_type": "stream",
          "name": "stdout",
          "text": [
            "  Keyword not found in any section. Skipping file.\n",
            "\n",
            "Processing file: /content/med_webscraper/ted_html_pages/177425-2024.html\n",
            "  Keyword found in section. Extracting data...\n",
            "    Making batch translation request for 38 unique strings...\n"
          ]
        },
        {
          "output_type": "stream",
          "name": "stderr",
          "text": [
            "Processing files:  95%|█████████▍| 912/961 [36:12<01:15,  1.53s/file]"
          ]
        },
        {
          "output_type": "stream",
          "name": "stdout",
          "text": [
            "    Translation complete.\n",
            "\n",
            "Processing file: /content/med_webscraper/ted_html_pages/316097-2025.html\n",
            "  Keyword found in section. Extracting data...\n"
          ]
        },
        {
          "output_type": "stream",
          "name": "stderr",
          "text": [
            "Processing files:  95%|█████████▍| 912/961 [36:12<01:15,  1.53s/file]"
          ]
        },
        {
          "output_type": "stream",
          "name": "stdout",
          "text": [
            "    Making batch translation request for 42 unique strings...\n"
          ]
        },
        {
          "output_type": "stream",
          "name": "stderr",
          "text": [
            "Processing files:  95%|█████████▌| 913/961 [36:17<02:08,  2.68s/file]"
          ]
        },
        {
          "output_type": "stream",
          "name": "stdout",
          "text": [
            "    Translation complete.\n",
            "\n",
            "Processing file: /content/med_webscraper/ted_html_pages/118464-2016.html\n"
          ]
        },
        {
          "output_type": "stream",
          "name": "stderr",
          "text": [
            "Processing files:  95%|█████████▌| 914/961 [36:18<01:31,  1.95s/file]"
          ]
        },
        {
          "output_type": "stream",
          "name": "stdout",
          "text": [
            "  Keyword not found in any section. Skipping file.\n",
            "\n",
            "Processing file: /content/med_webscraper/ted_html_pages/624290-2023.html\n"
          ]
        },
        {
          "output_type": "stream",
          "name": "stderr",
          "text": [
            "Processing files:  95%|█████████▌| 916/961 [36:19<00:56,  1.25s/file]"
          ]
        },
        {
          "output_type": "stream",
          "name": "stdout",
          "text": [
            "  Keyword not found in any section. Skipping file.\n",
            "\n",
            "Processing file: /content/med_webscraper/ted_html_pages/348044-2023.html\n",
            "  Keyword not found in any section. Skipping file.\n",
            "\n",
            "Processing file: /content/med_webscraper/ted_html_pages/339281-2020.html\n"
          ]
        },
        {
          "output_type": "stream",
          "name": "stderr",
          "text": [
            "Processing files:  95%|█████████▌| 917/961 [36:19<00:44,  1.01s/file]"
          ]
        },
        {
          "output_type": "stream",
          "name": "stdout",
          "text": [
            "  Keyword not found in any section. Skipping file.\n",
            "\n",
            "Processing file: /content/med_webscraper/ted_html_pages/110507-2025.html\n"
          ]
        },
        {
          "output_type": "stream",
          "name": "stderr",
          "text": [
            "Processing files:  95%|█████████▌| 917/961 [36:20<00:44,  1.01s/file]"
          ]
        },
        {
          "output_type": "stream",
          "name": "stdout",
          "text": [
            "  Keyword found in section. Extracting data...\n",
            "    Making batch translation request for 36 unique strings...\n"
          ]
        },
        {
          "output_type": "stream",
          "name": "stderr",
          "text": [
            "Processing files:  95%|█████████▌| 917/961 [36:27<00:44,  1.01s/file]"
          ]
        },
        {
          "output_type": "stream",
          "name": "stdout",
          "text": [
            "    Translation complete.\n",
            "  Keyword found in section. Extracting data...\n",
            "    Making batch translation request for 52 unique strings...\n"
          ]
        },
        {
          "output_type": "stream",
          "name": "stderr",
          "text": [
            "Processing files:  95%|█████████▌| 917/961 [36:33<00:44,  1.01s/file]"
          ]
        },
        {
          "output_type": "stream",
          "name": "stdout",
          "text": [
            "    Translation complete.\n",
            "  Keyword found in section. Extracting data...\n",
            "    Making batch translation request for 51 unique strings...\n"
          ]
        },
        {
          "output_type": "stream",
          "name": "stderr",
          "text": [
            "Processing files:  96%|█████████▌| 919/961 [36:38<03:04,  4.39s/file]"
          ]
        },
        {
          "output_type": "stream",
          "name": "stdout",
          "text": [
            "    Translation complete.\n",
            "\n",
            "Processing file: /content/med_webscraper/ted_html_pages/368212-2022.html\n",
            "  Keyword not found in any section. Skipping file.\n",
            "\n",
            "Processing file: /content/med_webscraper/ted_html_pages/245885-2018.html\n"
          ]
        },
        {
          "output_type": "stream",
          "name": "stderr",
          "text": [
            "Processing files:  96%|█████████▌| 920/961 [36:38<02:09,  3.17s/file]"
          ]
        },
        {
          "output_type": "stream",
          "name": "stdout",
          "text": [
            "  Keyword not found in any section. Skipping file.\n",
            "\n",
            "Processing file: /content/med_webscraper/ted_html_pages/707393-2025.html\n"
          ]
        },
        {
          "output_type": "stream",
          "name": "stderr",
          "text": [
            "Processing files:  96%|█████████▌| 920/961 [36:38<02:09,  3.17s/file]"
          ]
        },
        {
          "output_type": "stream",
          "name": "stdout",
          "text": [
            "  Keyword found in section. Extracting data...\n",
            "    Making batch translation request for 57 unique strings...\n"
          ]
        },
        {
          "output_type": "stream",
          "name": "stderr",
          "text": [
            "Processing files:  96%|█████████▌| 921/961 [36:48<03:30,  5.27s/file]"
          ]
        },
        {
          "output_type": "stream",
          "name": "stdout",
          "text": [
            "    Translation complete.\n",
            "\n",
            "Processing file: /content/med_webscraper/ted_html_pages/37126-2023.html\n"
          ]
        },
        {
          "output_type": "stream",
          "name": "stderr",
          "text": [
            "Processing files:  96%|█████████▌| 923/961 [36:49<01:42,  2.69s/file]"
          ]
        },
        {
          "output_type": "stream",
          "name": "stdout",
          "text": [
            "  Keyword not found in any section. Skipping file.\n",
            "\n",
            "Processing file: /content/med_webscraper/ted_html_pages/386527-2021.html\n",
            "  Keyword not found in any section. Skipping file.\n",
            "\n",
            "Processing file: /content/med_webscraper/ted_html_pages/178390-2023.html\n"
          ]
        },
        {
          "output_type": "stream",
          "name": "stderr",
          "text": [
            "Processing files:  96%|█████████▌| 924/961 [36:49<01:14,  2.01s/file]"
          ]
        },
        {
          "output_type": "stream",
          "name": "stdout",
          "text": [
            "  Keyword not found in any section. Skipping file.\n",
            "\n",
            "Processing file: /content/med_webscraper/ted_html_pages/498999-2019.html\n"
          ]
        },
        {
          "output_type": "stream",
          "name": "stderr",
          "text": [
            "Processing files:  96%|█████████▋| 925/961 [36:49<00:53,  1.50s/file]"
          ]
        },
        {
          "output_type": "stream",
          "name": "stdout",
          "text": [
            "  Keyword not found in any section. Skipping file.\n",
            "\n",
            "Processing file: /content/med_webscraper/ted_html_pages/540482-2022.html\n"
          ]
        },
        {
          "output_type": "stream",
          "name": "stderr",
          "text": [
            "Processing files:  96%|█████████▋| 927/961 [36:50<00:28,  1.20file/s]"
          ]
        },
        {
          "output_type": "stream",
          "name": "stdout",
          "text": [
            "  Keyword not found in any section. Skipping file.\n",
            "\n",
            "Processing file: /content/med_webscraper/ted_html_pages/199973-2022.html\n",
            "  Keyword not found in any section. Skipping file.\n",
            "\n",
            "Processing file: /content/med_webscraper/ted_html_pages/5020-2021.html\n"
          ]
        },
        {
          "output_type": "stream",
          "name": "stderr",
          "text": [
            "Processing files:  97%|█████████▋| 929/961 [36:50<00:15,  2.00file/s]"
          ]
        },
        {
          "output_type": "stream",
          "name": "stdout",
          "text": [
            "  Keyword not found in any section. Skipping file.\n",
            "\n",
            "Processing file: /content/med_webscraper/ted_html_pages/712401-2022.html\n",
            "  Keyword not found in any section. Skipping file.\n",
            "\n",
            "Processing file: /content/med_webscraper/ted_html_pages/78656-2025.html\n"
          ]
        },
        {
          "output_type": "stream",
          "name": "stderr",
          "text": [
            "Processing files:  97%|█████████▋| 929/961 [36:50<00:15,  2.00file/s]"
          ]
        },
        {
          "output_type": "stream",
          "name": "stdout",
          "text": [
            "  Keyword found in section. Extracting data...\n",
            "    Making batch translation request for 34 unique strings...\n"
          ]
        },
        {
          "output_type": "stream",
          "name": "stderr",
          "text": [
            "Processing files:  97%|█████████▋| 929/961 [36:58<00:15,  2.00file/s]"
          ]
        },
        {
          "output_type": "stream",
          "name": "stdout",
          "text": [
            "    Translation complete.\n",
            "  Keyword found in section. Extracting data...\n",
            "    Making batch translation request for 66 unique strings...\n"
          ]
        },
        {
          "output_type": "stream",
          "name": "stderr",
          "text": [
            "Processing files:  97%|█████████▋| 931/961 [37:05<01:38,  3.28s/file]"
          ]
        },
        {
          "output_type": "stream",
          "name": "stdout",
          "text": [
            "    Translation complete.\n",
            "\n",
            "Processing file: /content/med_webscraper/ted_html_pages/101666-2023.html\n",
            "  Keyword not found in any section. Skipping file.\n",
            "\n",
            "Processing file: /content/med_webscraper/ted_html_pages/438958-2025.html\n"
          ]
        },
        {
          "output_type": "stream",
          "name": "stderr",
          "text": [
            "Processing files:  97%|█████████▋| 931/961 [37:06<01:38,  3.28s/file]"
          ]
        },
        {
          "output_type": "stream",
          "name": "stdout",
          "text": [
            "  Keyword found in section. Extracting data...\n",
            "    Making batch translation request for 59 unique strings...\n"
          ]
        },
        {
          "output_type": "stream",
          "name": "stderr",
          "text": [
            "Processing files:  97%|█████████▋| 931/961 [37:14<01:38,  3.28s/file]"
          ]
        },
        {
          "output_type": "stream",
          "name": "stdout",
          "text": [
            "    Translation complete.\n",
            "  Keyword found in section. Extracting data...\n",
            "    Making batch translation request for 39 unique strings...\n"
          ]
        },
        {
          "output_type": "stream",
          "name": "stderr",
          "text": [
            "Processing files:  97%|█████████▋| 931/961 [37:19<01:38,  3.28s/file]"
          ]
        },
        {
          "output_type": "stream",
          "name": "stdout",
          "text": [
            "    Translation complete.\n",
            "  Keyword found in section. Extracting data...\n",
            "    Making batch translation request for 39 unique strings...\n"
          ]
        },
        {
          "output_type": "stream",
          "name": "stderr",
          "text": [
            "Processing files:  97%|█████████▋| 933/961 [37:24<02:38,  5.65s/file]"
          ]
        },
        {
          "output_type": "stream",
          "name": "stdout",
          "text": [
            "    Translation complete.\n",
            "\n",
            "Processing file: /content/med_webscraper/ted_html_pages/318557-2021.html\n",
            "  Keyword not found in any section. Skipping file.\n",
            "\n",
            "Processing file: /content/med_webscraper/ted_html_pages/89839-2021.html\n"
          ]
        },
        {
          "output_type": "stream",
          "name": "stderr",
          "text": [
            "Processing files:  97%|█████████▋| 935/961 [37:24<01:15,  2.89s/file]"
          ]
        },
        {
          "output_type": "stream",
          "name": "stdout",
          "text": [
            "  Keyword not found in any section. Skipping file.\n",
            "\n",
            "Processing file: /content/med_webscraper/ted_html_pages/329739-2023.html\n",
            "  Keyword not found in any section. Skipping file.\n",
            "\n",
            "Processing file: /content/med_webscraper/ted_html_pages/379807-2019.html\n"
          ]
        },
        {
          "output_type": "stream",
          "name": "stderr",
          "text": [
            "Processing files:  97%|█████████▋| 936/961 [37:25<00:53,  2.16s/file]"
          ]
        },
        {
          "output_type": "stream",
          "name": "stdout",
          "text": [
            "  Keyword not found in any section. Skipping file.\n",
            "\n",
            "Processing file: /content/med_webscraper/ted_html_pages/13180-2016.html\n"
          ]
        },
        {
          "output_type": "stream",
          "name": "stderr",
          "text": [
            "Processing files:  98%|█████████▊| 938/961 [37:26<00:31,  1.39s/file]"
          ]
        },
        {
          "output_type": "stream",
          "name": "stdout",
          "text": [
            "  Keyword not found in any section. Skipping file.\n",
            "\n",
            "Processing file: /content/med_webscraper/ted_html_pages/191771-2019.html\n",
            "  Keyword not found in any section. Skipping file.\n",
            "\n",
            "Processing file: /content/med_webscraper/ted_html_pages/44226-2020.html\n"
          ]
        },
        {
          "output_type": "stream",
          "name": "stderr",
          "text": [
            "Processing files:  98%|█████████▊| 939/961 [37:26<00:22,  1.01s/file]"
          ]
        },
        {
          "output_type": "stream",
          "name": "stdout",
          "text": [
            "  Keyword not found in any section. Skipping file.\n",
            "\n",
            "Processing file: /content/med_webscraper/ted_html_pages/596830-2020.html\n"
          ]
        },
        {
          "output_type": "stream",
          "name": "stderr",
          "text": [
            "Processing files:  98%|█████████▊| 940/961 [37:27<00:20,  1.04file/s]"
          ]
        },
        {
          "output_type": "stream",
          "name": "stdout",
          "text": [
            "  Keyword not found in any section. Skipping file.\n",
            "\n",
            "Processing file: /content/med_webscraper/ted_html_pages/522969-2021.html\n"
          ]
        },
        {
          "output_type": "stream",
          "name": "stderr",
          "text": [
            "Processing files:  98%|█████████▊| 942/961 [37:28<00:10,  1.75file/s]"
          ]
        },
        {
          "output_type": "stream",
          "name": "stdout",
          "text": [
            "  Keyword not found in any section. Skipping file.\n",
            "\n",
            "Processing file: /content/med_webscraper/ted_html_pages/235463-2021.html\n",
            "  Keyword not found in any section. Skipping file.\n",
            "\n",
            "Processing file: /content/med_webscraper/ted_html_pages/447442-2022.html\n"
          ]
        },
        {
          "output_type": "stream",
          "name": "stderr",
          "text": [
            "Processing files:  98%|█████████▊| 943/961 [37:28<00:08,  2.19file/s]"
          ]
        },
        {
          "output_type": "stream",
          "name": "stdout",
          "text": [
            "  Keyword not found in any section. Skipping file.\n",
            "\n",
            "Processing file: /content/med_webscraper/ted_html_pages/487742-2017.html\n"
          ]
        },
        {
          "output_type": "stream",
          "name": "stderr",
          "text": [
            "Processing files:  98%|█████████▊| 944/961 [37:31<00:22,  1.30s/file]"
          ]
        },
        {
          "output_type": "stream",
          "name": "stdout",
          "text": [
            "  Keyword not found in any section. Skipping file.\n",
            "\n",
            "Processing file: /content/med_webscraper/ted_html_pages/35691-2019.html\n"
          ]
        },
        {
          "output_type": "stream",
          "name": "stderr",
          "text": [
            "Processing files:  98%|█████████▊| 945/961 [37:32<00:19,  1.22s/file]"
          ]
        },
        {
          "output_type": "stream",
          "name": "stdout",
          "text": [
            "  Keyword not found in any section. Skipping file.\n",
            "\n",
            "Processing file: /content/med_webscraper/ted_html_pages/376901-2019.html\n"
          ]
        },
        {
          "output_type": "stream",
          "name": "stderr",
          "text": [
            "                                                                     "
          ]
        },
        {
          "output_type": "stream",
          "name": "stdout",
          "text": [
            "  Keyword not found in any section. Skipping file.\n",
            "\n",
            "Processing file: /content/med_webscraper/ted_html_pages/21335-2019.html\n",
            "  Keyword not found in any section. Skipping file.\n"
          ]
        },
        {
          "output_type": "stream",
          "name": "stderr",
          "text": [
            "Processing files:  99%|█████████▊| 948/961 [37:33<00:08,  1.62file/s]"
          ]
        },
        {
          "output_type": "stream",
          "name": "stdout",
          "text": [
            "\n",
            "Processing file: /content/med_webscraper/ted_html_pages/250517-2016.html\n",
            "  Keyword not found in any section. Skipping file.\n",
            "\n",
            "Processing file: /content/med_webscraper/ted_html_pages/412253-2021.html\n"
          ]
        },
        {
          "output_type": "stream",
          "name": "stderr",
          "text": [
            "Processing files:  99%|█████████▉| 950/961 [37:33<00:04,  2.59file/s]"
          ]
        },
        {
          "output_type": "stream",
          "name": "stdout",
          "text": [
            "  Keyword not found in any section. Skipping file.\n",
            "\n",
            "Processing file: /content/med_webscraper/ted_html_pages/331502-2023.html\n",
            "  Keyword not found in any section. Skipping file.\n",
            "\n",
            "Processing file: /content/med_webscraper/ted_html_pages/369481-2025.html\n"
          ]
        },
        {
          "output_type": "stream",
          "name": "stderr",
          "text": [
            "Processing files:  99%|█████████▉| 950/961 [37:34<00:04,  2.59file/s]"
          ]
        },
        {
          "output_type": "stream",
          "name": "stdout",
          "text": [
            "  Keyword found in section. Extracting data...\n",
            "    Making batch translation request for 58 unique strings...\n"
          ]
        },
        {
          "output_type": "stream",
          "name": "stderr",
          "text": [
            "Processing files:  99%|█████████▉| 950/961 [37:41<00:04,  2.59file/s]"
          ]
        },
        {
          "output_type": "stream",
          "name": "stdout",
          "text": [
            "    Translation complete.\n",
            "  Keyword found in section. Extracting data...\n",
            "    Making batch translation request for 34 unique strings...\n"
          ]
        },
        {
          "output_type": "stream",
          "name": "stderr",
          "text": [
            "Processing files:  99%|█████████▉| 951/961 [37:44<00:34,  3.46s/file]"
          ]
        },
        {
          "output_type": "stream",
          "name": "stdout",
          "text": [
            "    Translation complete.\n",
            "\n",
            "Processing file: /content/med_webscraper/ted_html_pages/431740-2017.html\n"
          ]
        },
        {
          "output_type": "stream",
          "name": "stderr",
          "text": [
            "Processing files:  99%|█████████▉| 952/961 [37:46<00:26,  2.93s/file]"
          ]
        },
        {
          "output_type": "stream",
          "name": "stdout",
          "text": [
            "  Keyword not found in any section. Skipping file.\n",
            "\n",
            "Processing file: /content/med_webscraper/ted_html_pages/541048-2018.html\n"
          ]
        },
        {
          "output_type": "stream",
          "name": "stderr",
          "text": [
            "Processing files:  99%|█████████▉| 953/961 [37:46<00:17,  2.23s/file]"
          ]
        },
        {
          "output_type": "stream",
          "name": "stdout",
          "text": [
            "  Keyword not found in any section. Skipping file.\n",
            "\n",
            "Processing file: /content/med_webscraper/ted_html_pages/215579-2025.html\n"
          ]
        },
        {
          "output_type": "stream",
          "name": "stderr",
          "text": [
            "Processing files:  99%|█████████▉| 953/961 [37:47<00:17,  2.23s/file]"
          ]
        },
        {
          "output_type": "stream",
          "name": "stdout",
          "text": [
            "  Keyword found in section. Extracting data...\n",
            "    Making batch translation request for 44 unique strings...\n"
          ]
        },
        {
          "output_type": "stream",
          "name": "stderr",
          "text": [
            "Processing files:  99%|█████████▉| 953/961 [37:52<00:17,  2.23s/file]"
          ]
        },
        {
          "output_type": "stream",
          "name": "stdout",
          "text": [
            "    Translation complete.\n",
            "  Keyword found in section. Extracting data...\n",
            "    Making batch translation request for 44 unique strings...\n"
          ]
        },
        {
          "output_type": "stream",
          "name": "stderr",
          "text": [
            "Processing files:  99%|█████████▉| 953/961 [37:57<00:17,  2.23s/file]"
          ]
        },
        {
          "output_type": "stream",
          "name": "stdout",
          "text": [
            "    Translation complete.\n",
            "  Keyword found in section. Extracting data...\n",
            "    Making batch translation request for 44 unique strings...\n"
          ]
        },
        {
          "output_type": "stream",
          "name": "stderr",
          "text": [
            "Processing files:  99%|█████████▉| 954/961 [38:01<00:40,  5.85s/file]"
          ]
        },
        {
          "output_type": "stream",
          "name": "stdout",
          "text": [
            "    Translation complete.\n",
            "\n",
            "Processing file: /content/med_webscraper/ted_html_pages/504572-2019.html\n"
          ]
        },
        {
          "output_type": "stream",
          "name": "stderr",
          "text": [
            "Processing files:  99%|█████████▉| 955/961 [38:01<00:25,  4.32s/file]"
          ]
        },
        {
          "output_type": "stream",
          "name": "stdout",
          "text": [
            "  Keyword not found in any section. Skipping file.\n",
            "\n",
            "Processing file: /content/med_webscraper/ted_html_pages/624208-2020.html\n"
          ]
        },
        {
          "output_type": "stream",
          "name": "stderr",
          "text": []
        },
        {
          "output_type": "stream",
          "name": "stdout",
          "text": [
            "  Keyword not found in any section. Skipping file.\n",
            "\n",
            "Processing file: /content/med_webscraper/ted_html_pages/527674-2018.html\n",
            "  Keyword not found in any section. Skipping file.\n"
          ]
        },
        {
          "output_type": "stream",
          "name": "stderr",
          "text": [
            "\rProcessing files: 100%|█████████▉| 957/961 [38:02<00:08,  2.22s/file]"
          ]
        },
        {
          "output_type": "stream",
          "name": "stdout",
          "text": [
            "\n",
            "Processing file: /content/med_webscraper/ted_html_pages/37894-2022.html\n"
          ]
        },
        {
          "output_type": "stream",
          "name": "stderr",
          "text": [
            "Processing files: 100%|█████████▉| 958/961 [38:03<00:05,  1.83s/file]"
          ]
        },
        {
          "output_type": "stream",
          "name": "stdout",
          "text": [
            "  Keyword not found in any section. Skipping file.\n",
            "\n",
            "Processing file: /content/med_webscraper/ted_html_pages/602590-2025.html\n",
            "  Keyword found in section. Extracting data...\n",
            "    Making batch translation request for 32 unique strings...\n"
          ]
        },
        {
          "output_type": "stream",
          "name": "stderr",
          "text": [
            "Processing files: 100%|█████████▉| 959/961 [38:09<00:06,  3.16s/file]"
          ]
        },
        {
          "output_type": "stream",
          "name": "stdout",
          "text": [
            "    Translation complete.\n",
            "\n",
            "Processing file: /content/med_webscraper/ted_html_pages/459714-2024.html\n"
          ]
        },
        {
          "output_type": "stream",
          "name": "stderr",
          "text": [
            "Processing files: 100%|█████████▉| 959/961 [38:11<00:06,  3.16s/file]"
          ]
        },
        {
          "output_type": "stream",
          "name": "stdout",
          "text": [
            "  Keyword found in section. Extracting data...\n",
            "    Making batch translation request for 66 unique strings...\n"
          ]
        },
        {
          "output_type": "stream",
          "name": "stderr",
          "text": [
            "Processing files: 100%|█████████▉| 960/961 [38:22<00:06,  6.14s/file]"
          ]
        },
        {
          "output_type": "stream",
          "name": "stdout",
          "text": [
            "    Translation complete.\n",
            "\n",
            "Processing file: /content/med_webscraper/ted_html_pages/235133-2018.html\n"
          ]
        },
        {
          "output_type": "stream",
          "name": "stderr",
          "text": [
            "Processing files: 100%|██████████| 961/961 [38:22<00:00,  2.40s/file]"
          ]
        },
        {
          "output_type": "stream",
          "name": "stdout",
          "text": [
            "  Keyword not found in any section. Skipping file.\n",
            "\n",
            "All files processed. Writing to 'tender_output.csv'...\n",
            "Extraction complete. Processed 961 files.\n",
            "Found 267 relevant sections and saved data to 'tender_output.csv'.\n"
          ]
        },
        {
          "output_type": "stream",
          "name": "stderr",
          "text": [
            "\n"
          ]
        }
      ],
      "execution_count": 6,
      "metadata": {
        "colab": {
          "base_uri": "https://localhost:8080/"
        },
        "id": "qh4I91OZsSrc",
        "outputId": "6fd85f9c-a5f9-4c9f-ef51-d8718497d9ad"
      }
    },
    {
      "cell_type": "markdown",
      "source": [
        "**Cleaning**"
      ],
      "metadata": {
        "id": "TK_mAR5yHfCj"
      }
    },
    {
      "cell_type": "code",
      "source": [],
      "metadata": {
        "id": "MfkhtkaAHjv3"
      },
      "execution_count": null,
      "outputs": []
    },
    {
      "cell_type": "code",
      "metadata": {
        "colab": {
          "base_uri": "https://localhost:8080/",
          "height": 553
        },
        "id": "19b6adc8",
        "outputId": "8d6a761f-74f7-4dfd-95c6-a997f2564c0d"
      },
      "source": [
        "import pandas as pd\n",
        "import re\n",
        "\n",
        "# Load the CSV file\n",
        "try:\n",
        "    df = pd.read_csv('tender_output.csv')\n",
        "except FileNotFoundError:\n",
        "    print(\"Error: 'tender_output.csv' not found. Please run the previous steps to generate the file.\")\n",
        "    exit()\n",
        "\n",
        "# Define the columns to keep\n",
        "columns_to_keep = [\n",
        "    'file_name', # Add 'file_name' to columns to keep\n",
        "    'Country',\n",
        "    'Date of the conclusion of the contract',\n",
        "    'Description',\n",
        "    'Duration',\n",
        "    'Estimated value excluding VAT',\n",
        "    'Lot',\n",
        "    'Non-winning tenderers',\n",
        "    'Official name', # Keep 'Official name' temporarily for renaming\n",
        "    'Review organisation',\n",
        "    'Start date',\n",
        "    'Title',\n",
        "    'Value of the tender',\n",
        "    'Main classification', # Keep 'Main classification' temporarily for CPV processing\n",
        "    'Winner selection status' # Keep 'Winner selection status' temporarily for filtering\n",
        "]\n",
        "\n",
        "# Filter the DataFrame to keep only the specified columns\n",
        "# Ensure all columns_to_keep exist in the DataFrame\n",
        "existing_columns = [col for col in columns_to_keep if col in df.columns]\n",
        "df_filtered = df[existing_columns].copy()\n",
        "\n",
        "# Clean the 'Main classification' column to only keep numerical code\n",
        "if 'Main classification' in df_filtered.columns:\n",
        "    df_filtered['Main classification'] = df_filtered['Main classification'].apply(lambda x: re.search(r'\\d+', str(x)).group(0) if re.search(r'\\d+', str(x)) else '')\n",
        "    # Rename the cleaned column to 'CPV'\n",
        "    df_filtered.rename(columns={'Main classification': 'CPV'}, inplace=True)\n",
        "    # Add 'CPV' to the list of columns to display if it wasn't already there\n",
        "    if 'CPV' not in columns_to_keep:\n",
        "        columns_to_keep.append('CPV') # Add 'CPV' to the display list\n",
        "\n",
        "# Rename 'Official name' to 'Winner'\n",
        "if 'Official name' in df_filtered.columns:\n",
        "    df_filtered.rename(columns={'Official name': 'Winner'}, inplace=True)\n",
        "    # Update columns_to_keep to reflect the renaming for the final output\n",
        "    if 'Official name' in columns_to_keep:\n",
        "        columns_to_keep.remove('Official name')\n",
        "    if 'Winner' not in columns_to_keep:\n",
        "        columns_to_keep.append('Winner')\n",
        "\n",
        "\n",
        "# Fill empty 'Value of the tender' with 'Estimated value excluding VAT' and mark with '*'\n",
        "if 'Value of the tender' in df_filtered.columns and 'Estimated value excluding VAT' in df_filtered.columns:\n",
        "    mask = df_filtered['Value of the tender'].isna() | (df_filtered['Value of the tender'] == '')\n",
        "    df_filtered.loc[mask, 'Value of the tender'] = '*' + df_filtered.loc[mask, 'Estimated value excluding VAT'].astype(str)\n",
        "\n",
        "# Function to convert currency string to float and keep currency code\n",
        "def convert_currency_to_float(currency_str):\n",
        "    if pd.isna(currency_str) or currency_str == '':\n",
        "        return None\n",
        "    # Remove the '*' if present\n",
        "    currency_str = str(currency_str).lstrip('*').strip()\n",
        "    if not currency_str:\n",
        "        return None\n",
        "\n",
        "    # Use regex to find the currency code and the numerical part\n",
        "    # This regex handles currency codes before or after the number\n",
        "    match = re.search(r'([A-Z]{3})?\\s*([\\d\\s,.]*)?\\s*([A-Z]{3})?', currency_str)\n",
        "    if match:\n",
        "        currency_code_before = match.group(1)\n",
        "        number_part = match.group(2)\n",
        "        currency_code_after = match.group(3)\n",
        "\n",
        "        currency_code = currency_code_before if currency_code_before else (currency_code_after if currency_code_after else '')\n",
        "\n",
        "        if not number_part:\n",
        "          return currency_str # Return original if no number part found\n",
        "\n",
        "\n",
        "        # Clean the number part: remove spaces and identify decimal separator\n",
        "        cleaned_number_str = number_part.replace(' ', '')\n",
        "\n",
        "        # Determine decimal separator: if there's a comma AND a dot, it's ambiguous.\n",
        "        # Assuming last separator is decimal if both exist, otherwise use the single one.\n",
        "        if ',' in cleaned_number_str and '.' in cleaned_number_str:\n",
        "            if cleaned_number_str.rfind(',') > cleaned_number_str.rfind('.'):\n",
        "                # Comma is the decimal separator, dot is thousand separator\n",
        "                cleaned_number_str = cleaned_number_str.replace('.', '').replace(',', '.')\n",
        "            else:\n",
        "                # Dot is the decimal separator, comma is thousand separator\n",
        "                cleaned_number_str = cleaned_number_str.replace(',', '')\n",
        "        elif ',' in cleaned_number_str:\n",
        "            # Only comma present, assume it's the decimal separator\n",
        "            cleaned_number_str = cleaned_number_str.replace(',', '.')\n",
        "        # If only dot is present, assume it's the decimal separator (no change needed)\n",
        "        # If no separator is present, it's an integer (no change needed)\n",
        "\n",
        "\n",
        "        try:\n",
        "            float_value = float(cleaned_number_str)\n",
        "            return f\"{float_value} {currency_code}\".strip()\n",
        "        except ValueError:\n",
        "            # If conversion still fails, return the original cleaned string for inspection\n",
        "            return f\"ERROR: {cleaned_number_str} {currency_code}\".strip() # Return original if conversion fails\n",
        "    return currency_str # Return original if no match\n",
        "\n",
        "# Apply the conversion function to create the new 'final_value' column\n",
        "if 'Value of the tender' in df_filtered.columns:\n",
        "    df_filtered['final_value'] = df_filtered['Value of the tender'].apply(convert_currency_to_float)\n",
        "    # Add 'final_value' to the list of columns to display\n",
        "    if 'final_value' not in columns_to_keep:\n",
        "        columns_to_keep.append('final_value')\n",
        "\n",
        "\n",
        "# Filter rows based on \"Winner selection status\" or \"Estimated value excluding VAT\"\n",
        "# Remove the temporary columns after filtering if they were added just for filtering\n",
        "final_columns = [col for col in columns_to_keep if col in df_filtered.columns and col not in ['Winner selection status', 'Official name', 'Main classification']]\n",
        "\n",
        "\n",
        "df_final = df_filtered[\n",
        "    (df_filtered['Winner selection status'].notna() & (df_filtered['Winner selection status'] != '')) |\n",
        "    (df_filtered['Estimated value excluding VAT'].notna() & (df_filtered['Estimated value excluding VAT'] != ''))\n",
        "][final_columns]\n",
        "\n",
        "\n",
        "# Display the first few rows of the processed DataFrame\n",
        "display(df_final.head())\n",
        "\n",
        "# Optionally, save the processed DataFrame to a new CSV file\n",
        "df_final.to_csv('processed_tender_output.csv', index=False)\n",
        "print(\"\\nProcessed data saved to 'processed_tender_output.csv'\")"
      ],
      "execution_count": 14,
      "outputs": [
        {
          "output_type": "display_data",
          "data": {
            "text/plain": [
              "          file_name  Country Date of the conclusion of the contract  \\\n",
              "2  111063-2025.html    Spain                                    NaN   \n",
              "4   15498-2025.html  Germany                                    NaN   \n",
              "6  357325-2024.html    Spain                                    NaN   \n",
              "7  357325-2024.html    Spain                                    NaN   \n",
              "8  357325-2024.html    Spain                                    NaN   \n",
              "\n",
              "                                         Description Duration  \\\n",
              "2  Award of the Contract Based on the Health Corp...      NaN   \n",
              "4  Reference is made to the respective order anno...      NaN   \n",
              "6       Adalimumab20 MG - Vial/Prefilled Syringe/Pen      NaN   \n",
              "7      Adalimumab40 mg - Vial/Pre-filled syringe/Pen      NaN   \n",
              "8       Adalimumab80 mg - Vial/Prefilled Syringe/Pen      NaN   \n",
              "\n",
              "  Estimated value excluding VAT       Lot Non-winning tenderers  \\\n",
              "2                973 236,00 EUR       NaN                   NaN   \n",
              "4                      1,00 EUR  LOT-0001                   NaN   \n",
              "6                121 888,80 EUR  LOT-0001                   NaN   \n",
              "7             37 830 672,00 EUR  LOT-0002                   NaN   \n",
              "8              1 390 435,20 EUR  LOT-0003                   NaN   \n",
              "\n",
              "                                 Review organisation Start date  \\\n",
              "2                                                NaN        NaN   \n",
              "4  Federal Public Procurement Chambers at the Fed...        NaN   \n",
              "6  General Directorate of Economic Resources of t...        NaN   \n",
              "7  General Directorate of Economic Resources of t...        NaN   \n",
              "8  General Directorate of Economic Resources of t...        NaN   \n",
              "\n",
              "                                               Title Value of the tender  \\\n",
              "2  Award of the Contract Based on the Framework A...     *973 236,00 EUR   \n",
              "4                See the “General Information” field           *1,00 EUR   \n",
              "6                                    Adalimumab20 MG     *121 888,80 EUR   \n",
              "7                                    Adalimumab40 mg  *37 830 672,00 EUR   \n",
              "8                                   Adalimumab 80 mg   *1 390 435,20 EUR   \n",
              "\n",
              "        CPV Winner     final_value  \n",
              "2  33690000    NaN    973236.0 EUR  \n",
              "4  33600000    NaN         1.0 EUR  \n",
              "6  33690000    NaN    121888.8 EUR  \n",
              "7  33690000    NaN  37830672.0 EUR  \n",
              "8  33690000    NaN   1390435.2 EUR  "
            ],
            "text/html": [
              "\n",
              "  <div id=\"df-ef0f6d58-466f-4635-bb95-81d5348bc470\" class=\"colab-df-container\">\n",
              "    <div>\n",
              "<style scoped>\n",
              "    .dataframe tbody tr th:only-of-type {\n",
              "        vertical-align: middle;\n",
              "    }\n",
              "\n",
              "    .dataframe tbody tr th {\n",
              "        vertical-align: top;\n",
              "    }\n",
              "\n",
              "    .dataframe thead th {\n",
              "        text-align: right;\n",
              "    }\n",
              "</style>\n",
              "<table border=\"1\" class=\"dataframe\">\n",
              "  <thead>\n",
              "    <tr style=\"text-align: right;\">\n",
              "      <th></th>\n",
              "      <th>file_name</th>\n",
              "      <th>Country</th>\n",
              "      <th>Date of the conclusion of the contract</th>\n",
              "      <th>Description</th>\n",
              "      <th>Duration</th>\n",
              "      <th>Estimated value excluding VAT</th>\n",
              "      <th>Lot</th>\n",
              "      <th>Non-winning tenderers</th>\n",
              "      <th>Review organisation</th>\n",
              "      <th>Start date</th>\n",
              "      <th>Title</th>\n",
              "      <th>Value of the tender</th>\n",
              "      <th>CPV</th>\n",
              "      <th>Winner</th>\n",
              "      <th>final_value</th>\n",
              "    </tr>\n",
              "  </thead>\n",
              "  <tbody>\n",
              "    <tr>\n",
              "      <th>2</th>\n",
              "      <td>111063-2025.html</td>\n",
              "      <td>Spain</td>\n",
              "      <td>NaN</td>\n",
              "      <td>Award of the Contract Based on the Health Corp...</td>\n",
              "      <td>NaN</td>\n",
              "      <td>973 236,00 EUR</td>\n",
              "      <td>NaN</td>\n",
              "      <td>NaN</td>\n",
              "      <td>NaN</td>\n",
              "      <td>NaN</td>\n",
              "      <td>Award of the Contract Based on the Framework A...</td>\n",
              "      <td>*973 236,00 EUR</td>\n",
              "      <td>33690000</td>\n",
              "      <td>NaN</td>\n",
              "      <td>973236.0 EUR</td>\n",
              "    </tr>\n",
              "    <tr>\n",
              "      <th>4</th>\n",
              "      <td>15498-2025.html</td>\n",
              "      <td>Germany</td>\n",
              "      <td>NaN</td>\n",
              "      <td>Reference is made to the respective order anno...</td>\n",
              "      <td>NaN</td>\n",
              "      <td>1,00 EUR</td>\n",
              "      <td>LOT-0001</td>\n",
              "      <td>NaN</td>\n",
              "      <td>Federal Public Procurement Chambers at the Fed...</td>\n",
              "      <td>NaN</td>\n",
              "      <td>See the “General Information” field</td>\n",
              "      <td>*1,00 EUR</td>\n",
              "      <td>33600000</td>\n",
              "      <td>NaN</td>\n",
              "      <td>1.0 EUR</td>\n",
              "    </tr>\n",
              "    <tr>\n",
              "      <th>6</th>\n",
              "      <td>357325-2024.html</td>\n",
              "      <td>Spain</td>\n",
              "      <td>NaN</td>\n",
              "      <td>Adalimumab20 MG - Vial/Prefilled Syringe/Pen</td>\n",
              "      <td>NaN</td>\n",
              "      <td>121 888,80 EUR</td>\n",
              "      <td>LOT-0001</td>\n",
              "      <td>NaN</td>\n",
              "      <td>General Directorate of Economic Resources of t...</td>\n",
              "      <td>NaN</td>\n",
              "      <td>Adalimumab20 MG</td>\n",
              "      <td>*121 888,80 EUR</td>\n",
              "      <td>33690000</td>\n",
              "      <td>NaN</td>\n",
              "      <td>121888.8 EUR</td>\n",
              "    </tr>\n",
              "    <tr>\n",
              "      <th>7</th>\n",
              "      <td>357325-2024.html</td>\n",
              "      <td>Spain</td>\n",
              "      <td>NaN</td>\n",
              "      <td>Adalimumab40 mg - Vial/Pre-filled syringe/Pen</td>\n",
              "      <td>NaN</td>\n",
              "      <td>37 830 672,00 EUR</td>\n",
              "      <td>LOT-0002</td>\n",
              "      <td>NaN</td>\n",
              "      <td>General Directorate of Economic Resources of t...</td>\n",
              "      <td>NaN</td>\n",
              "      <td>Adalimumab40 mg</td>\n",
              "      <td>*37 830 672,00 EUR</td>\n",
              "      <td>33690000</td>\n",
              "      <td>NaN</td>\n",
              "      <td>37830672.0 EUR</td>\n",
              "    </tr>\n",
              "    <tr>\n",
              "      <th>8</th>\n",
              "      <td>357325-2024.html</td>\n",
              "      <td>Spain</td>\n",
              "      <td>NaN</td>\n",
              "      <td>Adalimumab80 mg - Vial/Prefilled Syringe/Pen</td>\n",
              "      <td>NaN</td>\n",
              "      <td>1 390 435,20 EUR</td>\n",
              "      <td>LOT-0003</td>\n",
              "      <td>NaN</td>\n",
              "      <td>General Directorate of Economic Resources of t...</td>\n",
              "      <td>NaN</td>\n",
              "      <td>Adalimumab 80 mg</td>\n",
              "      <td>*1 390 435,20 EUR</td>\n",
              "      <td>33690000</td>\n",
              "      <td>NaN</td>\n",
              "      <td>1390435.2 EUR</td>\n",
              "    </tr>\n",
              "  </tbody>\n",
              "</table>\n",
              "</div>\n",
              "    <div class=\"colab-df-buttons\">\n",
              "\n",
              "  <div class=\"colab-df-container\">\n",
              "    <button class=\"colab-df-convert\" onclick=\"convertToInteractive('df-ef0f6d58-466f-4635-bb95-81d5348bc470')\"\n",
              "            title=\"Convert this dataframe to an interactive table.\"\n",
              "            style=\"display:none;\">\n",
              "\n",
              "  <svg xmlns=\"http://www.w3.org/2000/svg\" height=\"24px\" viewBox=\"0 -960 960 960\">\n",
              "    <path d=\"M120-120v-720h720v720H120Zm60-500h600v-160H180v160Zm220 220h160v-160H400v160Zm0 220h160v-160H400v160ZM180-400h160v-160H180v160Zm440 0h160v-160H620v160ZM180-180h160v-160H180v160Zm440 0h160v-160H620v160Z\"/>\n",
              "  </svg>\n",
              "    </button>\n",
              "\n",
              "  <style>\n",
              "    .colab-df-container {\n",
              "      display:flex;\n",
              "      gap: 12px;\n",
              "    }\n",
              "\n",
              "    .colab-df-convert {\n",
              "      background-color: #E8F0FE;\n",
              "      border: none;\n",
              "      border-radius: 50%;\n",
              "      cursor: pointer;\n",
              "      display: none;\n",
              "      fill: #1967D2;\n",
              "      height: 32px;\n",
              "      padding: 0 0 0 0;\n",
              "      width: 32px;\n",
              "    }\n",
              "\n",
              "    .colab-df-convert:hover {\n",
              "      background-color: #E2EBFA;\n",
              "      box-shadow: 0px 1px 2px rgba(60, 64, 67, 0.3), 0px 1px 3px 1px rgba(60, 64, 67, 0.15);\n",
              "      fill: #174EA6;\n",
              "    }\n",
              "\n",
              "    .colab-df-buttons div {\n",
              "      margin-bottom: 4px;\n",
              "    }\n",
              "\n",
              "    [theme=dark] .colab-df-convert {\n",
              "      background-color: #3B4455;\n",
              "      fill: #D2E3FC;\n",
              "    }\n",
              "\n",
              "    [theme=dark] .colab-df-convert:hover {\n",
              "      background-color: #434B5C;\n",
              "      box-shadow: 0px 1px 3px 1px rgba(0, 0, 0, 0.15);\n",
              "      filter: drop-shadow(0px 1px 2px rgba(0, 0, 0, 0.3));\n",
              "      fill: #FFFFFF;\n",
              "    }\n",
              "  </style>\n",
              "\n",
              "    <script>\n",
              "      const buttonEl =\n",
              "        document.querySelector('#df-ef0f6d58-466f-4635-bb95-81d5348bc470 button.colab-df-convert');\n",
              "      buttonEl.style.display =\n",
              "        google.colab.kernel.accessAllowed ? 'block' : 'none';\n",
              "\n",
              "      async function convertToInteractive(key) {\n",
              "        const element = document.querySelector('#df-ef0f6d58-466f-4635-bb95-81d5348bc470');\n",
              "        const dataTable =\n",
              "          await google.colab.kernel.invokeFunction('convertToInteractive',\n",
              "                                                    [key], {});\n",
              "        if (!dataTable) return;\n",
              "\n",
              "        const docLinkHtml = 'Like what you see? Visit the ' +\n",
              "          '<a target=\"_blank\" href=https://colab.research.google.com/notebooks/data_table.ipynb>data table notebook</a>'\n",
              "          + ' to learn more about interactive tables.';\n",
              "        element.innerHTML = '';\n",
              "        dataTable['output_type'] = 'display_data';\n",
              "        await google.colab.output.renderOutput(dataTable, element);\n",
              "        const docLink = document.createElement('div');\n",
              "        docLink.innerHTML = docLinkHtml;\n",
              "        element.appendChild(docLink);\n",
              "      }\n",
              "    </script>\n",
              "  </div>\n",
              "\n",
              "\n",
              "    <div id=\"df-810b9a1f-02f1-47d5-a814-3ba37cfd193d\">\n",
              "      <button class=\"colab-df-quickchart\" onclick=\"quickchart('df-810b9a1f-02f1-47d5-a814-3ba37cfd193d')\"\n",
              "                title=\"Suggest charts\"\n",
              "                style=\"display:none;\">\n",
              "\n",
              "<svg xmlns=\"http://www.w3.org/2000/svg\" height=\"24px\"viewBox=\"0 0 24 24\"\n",
              "     width=\"24px\">\n",
              "    <g>\n",
              "        <path d=\"M19 3H5c-1.1 0-2 .9-2 2v14c0 1.1.9 2 2 2h14c1.1 0 2-.9 2-2V5c0-1.1-.9-2-2-2zM9 17H7v-7h2v7zm4 0h-2V7h2v10zm4 0h-2v-4h2v4z\"/>\n",
              "    </g>\n",
              "</svg>\n",
              "      </button>\n",
              "\n",
              "<style>\n",
              "  .colab-df-quickchart {\n",
              "      --bg-color: #E8F0FE;\n",
              "      --fill-color: #1967D2;\n",
              "      --hover-bg-color: #E2EBFA;\n",
              "      --hover-fill-color: #174EA6;\n",
              "      --disabled-fill-color: #AAA;\n",
              "      --disabled-bg-color: #DDD;\n",
              "  }\n",
              "\n",
              "  [theme=dark] .colab-df-quickchart {\n",
              "      --bg-color: #3B4455;\n",
              "      --fill-color: #D2E3FC;\n",
              "      --hover-bg-color: #434B5C;\n",
              "      --hover-fill-color: #FFFFFF;\n",
              "      --disabled-bg-color: #3B4455;\n",
              "      --disabled-fill-color: #666;\n",
              "  }\n",
              "\n",
              "  .colab-df-quickchart {\n",
              "    background-color: var(--bg-color);\n",
              "    border: none;\n",
              "    border-radius: 50%;\n",
              "    cursor: pointer;\n",
              "    display: none;\n",
              "    fill: var(--fill-color);\n",
              "    height: 32px;\n",
              "    padding: 0;\n",
              "    width: 32px;\n",
              "  }\n",
              "\n",
              "  .colab-df-quickchart:hover {\n",
              "    background-color: var(--hover-bg-color);\n",
              "    box-shadow: 0 1px 2px rgba(60, 64, 67, 0.3), 0 1px 3px 1px rgba(60, 64, 67, 0.15);\n",
              "    fill: var(--button-hover-fill-color);\n",
              "  }\n",
              "\n",
              "  .colab-df-quickchart-complete:disabled,\n",
              "  .colab-df-quickchart-complete:disabled:hover {\n",
              "    background-color: var(--disabled-bg-color);\n",
              "    fill: var(--disabled-fill-color);\n",
              "    box-shadow: none;\n",
              "  }\n",
              "\n",
              "  .colab-df-spinner {\n",
              "    border: 2px solid var(--fill-color);\n",
              "    border-color: transparent;\n",
              "    border-bottom-color: var(--fill-color);\n",
              "    animation:\n",
              "      spin 1s steps(1) infinite;\n",
              "  }\n",
              "\n",
              "  @keyframes spin {\n",
              "    0% {\n",
              "      border-color: transparent;\n",
              "      border-bottom-color: var(--fill-color);\n",
              "      border-left-color: var(--fill-color);\n",
              "    }\n",
              "    20% {\n",
              "      border-color: transparent;\n",
              "      border-left-color: var(--fill-color);\n",
              "      border-top-color: var(--fill-color);\n",
              "    }\n",
              "    30% {\n",
              "      border-color: transparent;\n",
              "      border-left-color: var(--fill-color);\n",
              "      border-top-color: var(--fill-color);\n",
              "      border-right-color: var(--fill-color);\n",
              "    }\n",
              "    40% {\n",
              "      border-color: transparent;\n",
              "      border-right-color: var(--fill-color);\n",
              "      border-top-color: var(--fill-color);\n",
              "    }\n",
              "    60% {\n",
              "      border-color: transparent;\n",
              "      border-right-color: var(--fill-color);\n",
              "    }\n",
              "    80% {\n",
              "      border-color: transparent;\n",
              "      border-right-color: var(--fill-color);\n",
              "      border-bottom-color: var(--fill-color);\n",
              "    }\n",
              "    90% {\n",
              "      border-color: transparent;\n",
              "      border-bottom-color: var(--fill-color);\n",
              "    }\n",
              "  }\n",
              "</style>\n",
              "\n",
              "      <script>\n",
              "        async function quickchart(key) {\n",
              "          const quickchartButtonEl =\n",
              "            document.querySelector('#' + key + ' button');\n",
              "          quickchartButtonEl.disabled = true;  // To prevent multiple clicks.\n",
              "          quickchartButtonEl.classList.add('colab-df-spinner');\n",
              "          try {\n",
              "            const charts = await google.colab.kernel.invokeFunction(\n",
              "                'suggestCharts', [key], {});\n",
              "          } catch (error) {\n",
              "            console.error('Error during call to suggestCharts:', error);\n",
              "          }\n",
              "          quickchartButtonEl.classList.remove('colab-df-spinner');\n",
              "          quickchartButtonEl.classList.add('colab-df-quickchart-complete');\n",
              "        }\n",
              "        (() => {\n",
              "          let quickchartButtonEl =\n",
              "            document.querySelector('#df-810b9a1f-02f1-47d5-a814-3ba37cfd193d button');\n",
              "          quickchartButtonEl.style.display =\n",
              "            google.colab.kernel.accessAllowed ? 'block' : 'none';\n",
              "        })();\n",
              "      </script>\n",
              "    </div>\n",
              "\n",
              "    </div>\n",
              "  </div>\n"
            ],
            "application/vnd.google.colaboratory.intrinsic+json": {
              "type": "dataframe",
              "repr_error": "0"
            }
          },
          "metadata": {}
        },
        {
          "output_type": "stream",
          "name": "stdout",
          "text": [
            "\n",
            "Processed data saved to 'processed_tender_output.csv'\n"
          ]
        }
      ]
    }
  ],
  "metadata": {
    "colab": {
      "provenance": []
    },
    "kernelspec": {
      "display_name": "Python 3",
      "name": "python3"
    }
  },
  "nbformat": 4,
  "nbformat_minor": 0
}